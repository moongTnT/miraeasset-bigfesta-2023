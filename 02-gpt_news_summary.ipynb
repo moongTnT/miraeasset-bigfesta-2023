{
 "cells": [
  {
   "cell_type": "markdown",
   "metadata": {
    "pycharm": {
     "name": "#%% md\n"
    }
   },
   "source": [
    "### 00 OpenAI API KEY 환경변수 등록"
   ]
  },
  {
   "cell_type": "code",
   "execution_count": 9,
   "metadata": {
    "pycharm": {
     "name": "#%%\n"
    }
   },
   "outputs": [],
   "source": [
    "import os, json\n",
    "\n",
    "with open('conf.json', 'r') as f:\n",
    "        json_data = json.load(f)\n",
    "    \n",
    "os.environ['OPENAI_API_KEY'] = json_data['openai_config'][\"API_KEY\"]"
   ]
  },
  {
   "cell_type": "markdown",
   "metadata": {
    "pycharm": {
     "name": "#%% md\n"
    }
   },
   "source": [
    "### 01 설정"
   ]
  },
  {
   "cell_type": "code",
   "execution_count": 10,
   "metadata": {
    "pycharm": {
     "name": "#%%\n"
    }
   },
   "outputs": [],
   "source": [
    "class CONFIG:\n",
    "    etf_tkr=\"AIQ\""
   ]
  },
  {
   "cell_type": "code",
   "execution_count": 11,
   "metadata": {
    "pycharm": {
     "name": "#%%\n"
    }
   },
   "outputs": [],
   "source": [
    "from data.get_data import get_pdf_df\n",
    "\n",
    "pdf_df = get_pdf_df(etf_tkr=CONFIG.etf_tkr)\n",
    "\n",
    "tkr_list = pdf_df.child_stk_tkr.to_list()"
   ]
  },
  {
   "cell_type": "markdown",
   "metadata": {
    "pycharm": {
     "name": "#%% md\n"
    }
   },
   "source": [
    "### 02 영향도 상위 5개 기업 추출"
   ]
  },
  {
   "cell_type": "markdown",
   "metadata": {
    "pycharm": {
     "name": "#%% md\n"
    }
   },
   "source": [
    "#### 02-1 2분기 가격데이터 로드"
   ]
  },
  {
   "cell_type": "code",
   "execution_count": 12,
   "metadata": {
    "pycharm": {
     "name": "#%%\n"
    }
   },
   "outputs": [],
   "source": [
    "from data.get_data import get_prices_df\n",
    "from data.fetch_data import fetch_data_from_db\n",
    "\n",
    "prices_df = get_prices_df(tickers=tkr_list, start_date=\"2023-03-01\")"
   ]
  },
  {
   "cell_type": "markdown",
   "metadata": {
    "pycharm": {
     "name": "#%% md\n"
    }
   },
   "source": [
    "#### 02-2 유동주식수 로드"
   ]
  },
  {
   "cell_type": "code",
   "execution_count": 13,
   "metadata": {
    "pycharm": {
     "name": "#%%\n"
    }
   },
   "outputs": [],
   "source": [
    "import pandas as pd\n",
    "\n",
    "sql = \"\"\"\n",
    "    SELECT * FROM os_stk_info;\n",
    "\"\"\"\n",
    "\n",
    "stk_info_df = pd.DataFrame(fetch_data_from_db(query=sql)).dropna()\n",
    "\n",
    "stk_info_df = stk_info_df[stk_info_df[\"stk_tkr\"].isin(prices_df.columns.str.upper().to_list())].reset_index(drop=True)\n",
    "\n",
    "stk_info_df.index = stk_info_df['stk_tkr'].str.lower()\n",
    "\n",
    "stk_info_df = stk_info_df[['float_shares']]"
   ]
  },
  {
   "cell_type": "markdown",
   "metadata": {
    "pycharm": {
     "name": "#%% md\n"
    }
   },
   "source": [
    "#### 02-3 영향도 상위 5개 기업 산출"
   ]
  },
  {
   "cell_type": "code",
   "execution_count": 14,
   "metadata": {
    "pycharm": {
     "name": "#%%\n"
    }
   },
   "outputs": [
    {
     "data": {
      "text/plain": "['AAPL', 'MSFT', 'NVDA', 'GOOGL', 'AMZN']"
     },
     "execution_count": 14,
     "metadata": {},
     "output_type": "execute_result"
    }
   ],
   "source": [
    "시작_영향도 = stk_info_df['float_shares'] * prices_df.iloc[0]\n",
    "\n",
    "끝_영향도 = stk_info_df['float_shares'] * prices_df.iloc[-1]\n",
    "\n",
    "영향도 = abs(끝_영향도 - 시작_영향도)\n",
    "\n",
    "영향도_top5_종목들_리스트 = 영향도.sort_values(ascending=False).head().index.str.upper().to_list()\n",
    "\n",
    "영향도_top5_종목들_리스트"
   ]
  },
  {
   "cell_type": "markdown",
   "metadata": {
    "pycharm": {
     "name": "#%% md\n"
    }
   },
   "source": [
    "### 03 뉴스데이터 로드"
   ]
  },
  {
   "cell_type": "code",
   "execution_count": 15,
   "metadata": {
    "pycharm": {
     "name": "#%%\n"
    }
   },
   "outputs": [
    {
     "data": {
      "text/plain": "'AAPL'"
     },
     "metadata": {},
     "output_type": "display_data"
    },
    {
     "data": {
      "text/plain": "  0%|          | 0/5 [00:00<?, ?it/s]",
      "application/vnd.jupyter.widget-view+json": {
       "version_major": 2,
       "version_minor": 0,
       "model_id": "4f97f79c981c42b189e6a8c201c05b46"
      }
     },
     "metadata": {},
     "output_type": "display_data"
    },
    {
     "name": "stdout",
     "output_type": "stream",
     "text": [
      "{'AIQ news': [{'stock': 'AAPL', 'news_titles': ['Apple Set to Unveil Latest iPhone: 5 Things to Watch', 'Dow Jones Futures Fall: Tesla Stock Breaks Out; Key Inflation Reports, Apple iPhone 15 Event Next', 'Asian Equities Fall on Fragile China Sentiment: Markets Wrap', 'Qualcomm Inks Deal With Apple to Supply iPhone Chips Through 2026', 'Apple’s iPhone launch is in less than 24 hours. Here’s what to expect as CEO Tim Cook tries to reverse three painful quarters of sales shrinkage', 'Time to Buy Apple or Qualcomm Stock for Their Renewed Partnership', 'Apple launch event, Google vs. DOJ: What to watch', 'Google Goes to Federal Court. The Future of Internet Search Is at Stake.']}, {'stock': 'MSFT', 'news_titles': ['Microsoft (MSFT) Outpaces Stock Market Gains: What You Should Know', 'More writers sue OpenAI for copyright infringement over AI training', \"ChatGPT's development nearly cost this small Midwestern city its drinking water\", 'Top Stock Reports for Microsoft, Novo Nordisk & Booking Holdings', 'Microsoft Stock Has Catalysts, Say Analysts. It’s Not Just AI.', 'Xbox to Launch the Xbox Mastercard, Its First-Ever Credit Card in the US, Issued by Barclays', 'DocuSign Defies Macroeconomic Pressures And Continues In the Right Direction', \"Google's search engine dominance is at the center of the biggest US antitrust trial in decades\"]}, {'stock': 'NVDA', 'news_titles': ['New benchmark tests speed of running AI models', 'Nvidia Stock, Uber Lead Resilient Stocks In Pressure-Cooker Market', 'Top 20 Most Desirable Jobs in the World', 'Nvidia, Tesla, Meta And More Reveal Rules For Agonizing Market', 'One Company Is Expected To Grow Even Faster Than Nvidia', \"Nvidia Is The 'Michael Jordan' Of Stocks, According To This Money Manager. Here's Why.\", \"You Can't Control the Hottest Stocks, but You Can Control What You Do About Them\", 'AI Looks Set for Long-Term Growth: ETFs in Focus']}, {'stock': 'GOOGL', 'news_titles': ['U.S. v. Google: What to Know About the Biggest Antitrust Trial in 20 Years', 'Alphabet Inc. (GOOG) Gains But Lags Market: What You Should Know', 'Alphabet (GOOGL) Gains But Lags Market: What You Should Know', 'Apple launch event, Google vs. DOJ: What to watch', \"Monopolies expert explains why Google's antitrust trial is unnecessary\", 'Google Goes to Federal Court. The Future of Internet Search Is at Stake.', 'These Stocks Moved the Most Today: Tesla, Qualcomm, Disney, Hostess Brands, RTX, Meta, and More', 'These Are The Best Robinhood Stocks To Buy Or Watch Now']}, {'stock': 'AMZN', 'news_titles': ['S&P 500 Giants Amazon, Netflix Headline 5 Real Market Leaders Near Buy Points', \"Dow Jones Leader Caterpillar, Tesla Stock In Or Near Buy Zones In Today's Stock Market\", \"You Can't Control the Hottest Stocks, but You Can Control What You Do About Them\", 'Jeff Bezos Believed Amazon Only Had A 30% Chance of Succeeding And Warned His Parents They May Lose Their Investment', 'Why Tesla Stock Is Accelerating Today', 'Is Chinese Upstart Temu an Amazon Killer?', 'Amazon Stock: Buy, Sell, or Hold?', \"Tech stocks: Don't buy them, but don't sell them either, strategist says\"]}]}\n"
     ]
    }
   ],
   "source": [
    "import yfinance as yf\n",
    "from tqdm.auto import tqdm\n",
    "\n",
    "stk_infos = yf.Tickers(영향도_top5_종목들_리스트)\n",
    "\n",
    "display(tkr_list[0])\n",
    "\n",
    "text = {\n",
    "    f\"{CONFIG.etf_tkr} news\": []\n",
    "}\n",
    "\n",
    "for tkr in tqdm(영향도_top5_종목들_리스트):\n",
    "    \n",
    "    tmp = {}\n",
    "    tmp[\"stock\"] = tkr\n",
    "    tmp[\"news_titles\"] = []\n",
    "    \n",
    "    news_infos = stk_infos.tickers[tkr].news\n",
    "    \n",
    "    for news in news_infos:\n",
    "        tmp['news_titles'].append(news[\"title\"])\n",
    "        \n",
    "    text[f\"{CONFIG.etf_tkr} news\"].append(tmp)\n",
    "    \n",
    "text = str(text)\n",
    "\n",
    "print(text)"
   ]
  },
  {
   "cell_type": "markdown",
   "metadata": {
    "pycharm": {
     "name": "#%% md\n"
    }
   },
   "source": [
    "### 03 프롬프트 엔지니어링"
   ]
  },
  {
   "cell_type": "code",
   "execution_count": 16,
   "metadata": {
    "pycharm": {
     "name": "#%%\n"
    }
   },
   "outputs": [
    {
     "name": "stdout",
     "output_type": "stream",
     "text": [
      "AIQ에서 가장 영향력 있는 구성 요소인 5개 주식에 관한 뉴스 헤드라인을 기반으로 일반적인 문제들을 요약하면 다음과 같습니다.\n",
      "\n",
      "1. Apple (AAPL):\n",
      "   - 최신 iPhone 공개를 앞두고 관심을 받고 있음\n",
      "   - 중국 심리에 민감하여 아시아 지수 하락\n",
      "   - Qualcomm과의 파트너십 갱신으로 인한 주식 매수 기회 제시\n",
      "\n",
      "2. Microsoft (MSFT):\n",
      "   - 주식 시장 성장률을 앞섬\n",
      "   - OpenAI에 대한 저작권 침해 소송 발생\n",
      "   - AI 개발로 인한 문제로 인해 도시의 음수 수돗물 위기\n",
      "\n",
      "3. NVIDIA (NVDA):\n",
      "   - AI 모델 실행 속도에 대한 새로운 벤치마크 테스트 결과 발표\n",
      "   - 주식 시장 압력에도 불구하고 NVDA 주식은 강하게 유지됨\n",
      "   - 장기적인 성장이 예상되는 AI 산업에 초점을 맞춘 ETF\n",
      "\n",
      "4. Alphabet (GOOGL/GOOG):\n",
      "   - Google의 대규모 반독점 소송에 대한 관심\n",
      "   - 주식 시장에 비해 시장 점유율이 낮음\n",
      "   - Apple의 이벤트 및 DOJ 소송에 주목\n",
      "\n",
      "5. Amazon (AMZN):\n",
      "   - 시장의 실적을 이끄는 기업 중 하나로 주목\n",
      "   - 주식의 가격 변동을 제어할 수 없지만 대응 방안에 대해서는 제어 가능\n",
      "   - 중국의 새로운 기업 Temu가 Amazon을 견제할 가능성\n",
      "\n",
      "이러한 주요 이슈들을 주목하며 AIQ의 영향력 있는 주식들에 대한 투자 결정을 내리는 것이 중요합니다.\n"
     ]
    }
   ],
   "source": [
    "from langchain.prompts import ChatPromptTemplate\n",
    "from langchain.prompts.chat import SystemMessage, HumanMessagePromptTemplate\n",
    "from langchain.chat_models import ChatOpenAI\n",
    "\n",
    "\n",
    "template = ChatPromptTemplate.from_messages(\n",
    "    [\n",
    "        SystemMessage(\n",
    "            content=(\n",
    "                f\"\"\"\n",
    "                Summarize the common issues based on the news headlines of stocks which are best 5 influential components of {CONFIG.etf_tkr} in Korean.\n",
    "                \n",
    "                - Tone : Humble\n",
    "                - Style : MECE, accurate\n",
    "                - Reader level : college student\n",
    "                - Length : within 500 characters\n",
    "                - Perspective : Mckinsey&Company senior consultant\n",
    "                - Format : markdown\n",
    "                \n",
    "                You MUST answer in Korean. \n",
    "                \"\"\"\n",
    "            )\n",
    "        ),\n",
    "        HumanMessagePromptTemplate.from_template(\"{text}\"),\n",
    "    ]\n",
    ")\n",
    "\n",
    "llm = ChatOpenAI(model=\"gpt-3.5-turbo-16k\")\n",
    "\n",
    "answer = llm(template.format_messages(text=text)).content\n",
    "\n",
    "print(answer)"
   ]
  }
 ],
 "metadata": {
  "kernelspec": {
   "display_name": "bt",
   "language": "python",
   "name": "python3"
  },
  "language_info": {
   "codemirror_mode": {
    "name": "ipython",
    "version": 3
   },
   "file_extension": ".py",
   "mimetype": "text/x-python",
   "name": "python",
   "nbconvert_exporter": "python",
   "pygments_lexer": "ipython3",
   "version": "3.10.12"
  },
  "orig_nbformat": 4
 },
 "nbformat": 4,
 "nbformat_minor": 2
}