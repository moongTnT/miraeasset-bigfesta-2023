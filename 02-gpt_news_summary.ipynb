{
 "cells": [
  {
   "cell_type": "markdown",
   "metadata": {},
   "source": [
    "### 00 OpenAI API KEY 환경변수 등록"
   ]
  },
  {
   "cell_type": "code",
   "execution_count": 1,
   "metadata": {},
   "outputs": [],
   "source": [
    "import os, json\n",
    "\n",
    "with open('conf.json', 'r') as f:\n",
    "        json_data = json.load(f)\n",
    "    \n",
    "os.environ['OPENAI_API_KEY'] = json_data['openai_config'][\"API_KEY\"]"
   ]
  },
  {
   "cell_type": "markdown",
   "metadata": {},
   "source": [
    "### 01 설정"
   ]
  },
  {
   "cell_type": "code",
   "execution_count": 2,
   "metadata": {},
   "outputs": [],
   "source": [
    "class CONFIG:\n",
    "    etf_tkr=\"AIQ\""
   ]
  },
  {
   "cell_type": "code",
   "execution_count": null,
   "metadata": {},
   "outputs": [],
   "source": [
    "from data.get_data import get_pdf_df\n",
    "\n",
    "pdf_df = get_pdf_df(etf_tkr=CONFIG.etf_tkr)\n",
    "\n",
    "tkr_list = pdf_df.child_stk_tkr.to_list()"
   ]
  },
  {
   "cell_type": "markdown",
   "metadata": {},
   "source": [
    "### 02 영향도 상위 5개 기업 추출"
   ]
  },
  {
   "cell_type": "markdown",
   "metadata": {},
   "source": [
    "#### 02-1 2분기 가격데이터 로드"
   ]
  },
  {
   "cell_type": "code",
   "execution_count": 21,
   "metadata": {},
   "outputs": [],
   "source": [
    "from data.get_data import get_prices_df\n",
    "from data.fetch_data import fetch_data_from_db\n",
    "\n",
    "prices_df = get_prices_df(tickers=tkr_list, start_date=\"2023-03-01\")"
   ]
  },
  {
   "cell_type": "markdown",
   "metadata": {},
   "source": [
    "#### 02-2 유동주식수 로드"
   ]
  },
  {
   "cell_type": "code",
   "execution_count": 64,
   "metadata": {},
   "outputs": [],
   "source": [
    "import pandas as pd\n",
    "\n",
    "sql = \"\"\"\n",
    "    SELECT * FROM os_stk_info;\n",
    "\"\"\"\n",
    "\n",
    "stk_info_df = pd.DataFrame(fetch_data_from_db(query=sql)).dropna()\n",
    "\n",
    "stk_info_df = stk_info_df[stk_info_df[\"stk_tkr\"].isin(prices_df.columns.str.upper().to_list())].reset_index(drop=True)\n",
    "\n",
    "stk_info_df.index = stk_info_df['stk_tkr'].str.lower()\n",
    "\n",
    "stk_info_df = stk_info_df[['float_shares']]"
   ]
  },
  {
   "cell_type": "markdown",
   "metadata": {},
   "source": [
    "#### 02-3 영향도 상위 5개 기업 산출"
   ]
  },
  {
   "cell_type": "code",
   "execution_count": 63,
   "metadata": {},
   "outputs": [
    {
     "data": {
      "text/plain": [
       "['AAPL', 'MSFT', 'NVDA', 'GOOGL', 'AMZN']"
      ]
     },
     "execution_count": 63,
     "metadata": {},
     "output_type": "execute_result"
    }
   ],
   "source": [
    "시작_영향도 = stk_info_df['float_shares'] * prices_df.iloc[0]\n",
    "\n",
    "끝_영향도 = stk_info_df['float_shares'] * prices_df.iloc[-1]\n",
    "\n",
    "영향도 = abs(끝_영향도 - 시작_영향도)\n",
    "\n",
    "영향도_top5_종목들_리스트 = 영향도.sort_values(ascending=False).head().index.str.upper().to_list()\n",
    "\n",
    "영향도_top5_종목들_리스트"
   ]
  },
  {
   "cell_type": "markdown",
   "metadata": {},
   "source": [
    "### 03 뉴스데이터 로드"
   ]
  },
  {
   "cell_type": "code",
   "execution_count": 69,
   "metadata": {},
   "outputs": [
    {
     "data": {
      "text/plain": [
       "'AAPL'"
      ]
     },
     "metadata": {},
     "output_type": "display_data"
    },
    {
     "data": {
      "application/vnd.jupyter.widget-view+json": {
       "model_id": "730a174393ef4be1864953c9d4f9c1a6",
       "version_major": 2,
       "version_minor": 0
      },
      "text/plain": [
       "  0%|          | 0/5 [00:00<?, ?it/s]"
      ]
     },
     "metadata": {},
     "output_type": "display_data"
    },
    {
     "name": "stdout",
     "output_type": "stream",
     "text": [
      "{'AIQ news': [{'stock': 'AAPL', 'news_titles': ['Dow Jones Futures Rise For Ailing Market Rally; Tesla Stock Gets Huge Price Target Hike', 'SK Hynix’s $24 Billion Rally Unraveling on US-China Tech War', 'iPhone 15 launch: Release date, price and new features', 'Goldman Sachs China Stocks: Top 10 Stock Picks', 'Apple Stock, Adobe, Oracle, Moderna, Lennar, Inflation Data, and More to Watch This Week', 'A testing week for Apple and ECB rate-setters', 'Where Will Apple Stock Be in 3 Years?', 'Steamy Weather and a Too-Hot Economy: Your US Sunday Briefing']}, {'stock': 'MSFT', 'news_titles': ['2 Artificial Intelligence (AI) Stocks to Buy in September 2023 That Could Soar Like Nvidia', '13 Best Stocks To Invest In According to AI', 'Why Companies From Microsoft to Shopify Are Investing Millions in Carbon Removal', 'Why We Like The Returns At Microsoft (NASDAQ:MSFT)', 'Beleaguered Google faces day in court as Biden cracks down on monopolies', 'Artificial intelligence technology behind ChatGPT was built in Iowa — with a lot of water', 'Will ChatGPT Ever Actually Be the \"Google Killer\" Everyone Thought It Would Be? (Answer -- not yet!)', 'Google’s Defense in Landmark Antitrust Case Hinges on Lawyers Who Took on Microsoft']}, {'stock': 'NVDA', 'news_titles': ['2 Artificial Intelligence (AI) Stocks to Buy in September 2023 That Could Soar Like Nvidia', '3 Things About AMD That Smart Investors Know', '3 Artificial Intelligence (AI) Winners to Buy Before the Next Bull Run Starts', \"Nvidia's Failed Attempt to Acquire This Semiconductor Powerhouse Could Lead to the Biggest IPO of 2023\", \"Cathie Wood's Ark Invest Is Selling Nvidia Stock and Buying 1 Unique Artificial Intelligence (AI) Growth Stock\", 'Dell Stock Surges on AI Optimism -- Is Dell a Best Buy Now?', '2 Stock-Split Artificial Intelligence (AI) Stocks to Buy Hand Over First in September', 'Nvidia: Another Reason Why Buying This Artificial Intelligence (AI) Stock Is a No-Brainer Now']}, {'stock': 'GOOGL', 'news_titles': ['The Risks and Rewards of Investing in Startups', 'Steamy Weather and a Too-Hot Economy: Your US Sunday Briefing', '3 Artificial Intelligence (AI) Winners to Buy Before the Next Bull Run Starts', 'Is Alphabet Stock a Buy Now?', 'Beleaguered Google faces day in court as Biden cracks down on monopolies', '1 Top Growth Stock Transforming Into an AI Software Platform', \"Cathie Wood's Ark Invest Is Selling Nvidia Stock and Buying 1 Unique Artificial Intelligence (AI) Growth Stock\", 'Cathie Wood Says Artificial Intelligence (AI) Software May Be a $14 Trillion Market: 2 Superb Growth Stocks to Buy Now and Hold Through the Boom']}, {'stock': 'AMZN', 'news_titles': ['Amazon Leads 5 Stocks Near Buy Points With A Handle On This Market', '2 Artificial Intelligence (AI) Stocks to Buy in September 2023 That Could Soar Like Nvidia', 'Walmart and Amazon both make customer-friendly changes', \"Should Investors Buy Shopify Stock Now That It's Reached a Landmark Deal With Amazon?\", 'A Bull Market Is (Still) Coming: Here Are 3 Spectacular Stocks to Buy Sooner Rather Than Later', \"Amazon's Free Shipping Minimum Is Now $35 for Some Non-Prime Shoppers. Should You Join Prime?\", '2 Stock-Split Artificial Intelligence (AI) Stocks to Buy Hand Over First in September', \"I Love Amazon, but Not Subscribe & Save. Here's Why\"]}]}\n"
     ]
    }
   ],
   "source": [
    "import yfinance as yf\n",
    "from tqdm.auto import tqdm\n",
    "\n",
    "stk_infos = yf.Tickers(영향도_top5_종목들_리스트)\n",
    "\n",
    "display(tkr_list[0])\n",
    "\n",
    "text = {\n",
    "    f\"{CONFIG.etf_tkr} news\": []\n",
    "}\n",
    "\n",
    "for tkr in tqdm(영향도_top5_종목들_리스트):\n",
    "    \n",
    "    tmp = {}\n",
    "    tmp[\"stock\"] = tkr\n",
    "    tmp[\"news_titles\"] = []\n",
    "    \n",
    "    news_infos = stk_infos.tickers[tkr].news\n",
    "    \n",
    "    for news in news_infos:\n",
    "        tmp['news_titles'].append(news[\"title\"])\n",
    "        \n",
    "    text[f\"{CONFIG.etf_tkr} news\"].append(tmp)\n",
    "    \n",
    "text = str(text)\n",
    "\n",
    "print(text)"
   ]
  },
  {
   "cell_type": "markdown",
   "metadata": {},
   "source": [
    "### 03 프롬프트 엔지니어링"
   ]
  },
  {
   "cell_type": "code",
   "execution_count": 70,
   "metadata": {},
   "outputs": [
    {
     "name": "stdout",
     "output_type": "stream",
     "text": [
      "AIQ의 5개 핵심 구성 요소인 AAPL, MSFT, NVDA, GOOGL, AMZN 주식에 대한 뉴스 헤드라인을 분석한 결과, 공통적으로 다음과 같은 문제점이 나타났습니다.\n",
      "\n",
      "1. 기술 전쟁과 관련된 불확실성: 미국과 중국의 기술 전쟁으로 인해 SK Hynix와 같은 기업의 주가가 하락하고 있습니다.\n",
      "2. 인플레이션과 경기 둔화의 영향: Apple 주식과 같은 기업은 기후 변화와 경기 둔화로 인해 테스트 주간을 맞이하고 있습니다.\n",
      "3. 인공지능 기업의 투자: Microsoft와 Shopify 등 기업들이 수백만 달러를 탄소 제거 등에 투자하고 있습니다.\n",
      "4. 법적 문제와 관련된 위험: Google과 같은 기업은 바이든 대통령의 독점 조사로 법적 문제에 직면하고 있습니다.\n",
      "5. 인공지능 기술의 성장과 관련된 기대: 인공지능 기술의 성장에 따라 Nvidia와 같은 기업의 주가 상승이 예상되고 있습니다.\n",
      "\n",
      "이러한 문제점을 해결하고 기회를 포착하기 위해서는 기업들은 기술 전쟁에 대비하고, 경기 변동성에 대한 대비책을 마련해야 합니다. 또한 법적 조치와 관련된 위험을 경계하고, 인공지능 기술에 대한 투자를 지속적으로 추구해야 합니다.\n"
     ]
    }
   ],
   "source": [
    "from langchain.prompts import ChatPromptTemplate\n",
    "from langchain.prompts.chat import SystemMessage, HumanMessagePromptTemplate\n",
    "from langchain.chat_models import ChatOpenAI\n",
    "\n",
    "\n",
    "template = ChatPromptTemplate.from_messages(\n",
    "    [\n",
    "        SystemMessage(\n",
    "            content=(\n",
    "                f\"\"\"\n",
    "                Summarize the common issues based on the news headlines of stocks which are best 5 influential components of {CONFIG.etf_tkr} in Korean.\n",
    "                \n",
    "                - Tone : Humble\n",
    "                - Style : MECE, accurate\n",
    "                - Reader level : college student\n",
    "                - Length : within 500 characters\n",
    "                - Perspective : Mckinsey&Company senior consultant\n",
    "                - Format : markdown\n",
    "                \n",
    "                You MUST answer in Korean. \n",
    "                \"\"\"\n",
    "            )\n",
    "        ),\n",
    "        HumanMessagePromptTemplate.from_template(\"{text}\"),\n",
    "    ]\n",
    ")\n",
    "\n",
    "llm = ChatOpenAI(model=\"gpt-3.5-turbo-16k\")\n",
    "\n",
    "answer = llm(template.format_messages(text=text)).content\n",
    "\n",
    "print(answer)"
   ]
  }
 ],
 "metadata": {
  "kernelspec": {
   "display_name": "bt",
   "language": "python",
   "name": "python3"
  },
  "language_info": {
   "codemirror_mode": {
    "name": "ipython",
    "version": 3
   },
   "file_extension": ".py",
   "mimetype": "text/x-python",
   "name": "python",
   "nbconvert_exporter": "python",
   "pygments_lexer": "ipython3",
   "version": "3.10.12"
  },
  "orig_nbformat": 4
 },
 "nbformat": 4,
 "nbformat_minor": 2
}
