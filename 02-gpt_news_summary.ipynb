{
 "cells": [
  {
   "cell_type": "markdown",
   "metadata": {
    "pycharm": {
     "name": "#%% md\n"
    }
   },
   "source": [
    "### 00 OpenAI API KEY 환경변수 등록"
   ]
  },
  {
   "cell_type": "code",
   "execution_count": 1,
   "metadata": {
    "pycharm": {
     "name": "#%%\n"
    }
   },
   "outputs": [],
   "source": [
    "import os, json\n",
    "\n",
    "with open('conf.json', 'r') as f:\n",
    "        json_data = json.load(f)\n",
    "    \n",
    "os.environ['OPENAI_API_KEY'] = json_data['openai_config'][\"API_KEY\"]"
   ]
  },
  {
   "cell_type": "markdown",
   "metadata": {
    "pycharm": {
     "name": "#%% md\n"
    }
   },
   "source": [
    "### 01 설정"
   ]
  },
  {
   "cell_type": "code",
   "execution_count": 2,
   "metadata": {
    "pycharm": {
     "name": "#%%\n"
    }
   },
   "outputs": [],
   "source": [
    "class CONFIG:\n",
    "    etf_tkr=\"AIQ\""
   ]
  },
  {
   "cell_type": "code",
   "execution_count": 3,
   "metadata": {
    "pycharm": {
     "name": "#%%\n"
    }
   },
   "outputs": [],
   "source": [
    "from data.get_data import get_pdf_df\n",
    "\n",
    "pdf_df = get_pdf_df(etf_tkr=CONFIG.etf_tkr)\n",
    "\n",
    "tkr_list = pdf_df.child_stk_tkr.to_list()"
   ]
  },
  {
   "cell_type": "markdown",
   "metadata": {
    "pycharm": {
     "name": "#%% md\n"
    }
   },
   "source": [
    "### 02 영향도 상위 5개 기업 추출"
   ]
  },
  {
   "cell_type": "markdown",
   "metadata": {
    "pycharm": {
     "name": "#%% md\n"
    }
   },
   "source": [
    "#### 02-1 2분기 가격데이터 로드"
   ]
  },
  {
   "cell_type": "code",
   "execution_count": 4,
   "metadata": {
    "pycharm": {
     "name": "#%%\n"
    }
   },
   "outputs": [],
   "source": [
    "from data.get_data import get_prices_df\n",
    "from data.fetch_data import fetch_data_from_db\n",
    "\n",
    "prices_df = get_prices_df(tickers=tkr_list, start_date=\"2023-03-01\")"
   ]
  },
  {
   "cell_type": "markdown",
   "metadata": {
    "pycharm": {
     "name": "#%% md\n"
    }
   },
   "source": [
    "#### 02-2 유동주식수 로드"
   ]
  },
  {
   "cell_type": "code",
   "execution_count": 5,
   "metadata": {
    "pycharm": {
     "name": "#%%\n"
    }
   },
   "outputs": [],
   "source": [
    "import pandas as pd\n",
    "\n",
    "sql = \"\"\"\n",
    "    SELECT * FROM os_stk_info;\n",
    "\"\"\"\n",
    "\n",
    "stk_info_df = pd.DataFrame(fetch_data_from_db(query=sql)).dropna()\n",
    "\n",
    "stk_info_df = stk_info_df[stk_info_df[\"stk_tkr\"].isin(prices_df.columns.str.upper().to_list())].reset_index(drop=True)\n",
    "\n",
    "stk_info_df.index = stk_info_df['stk_tkr'].str.lower()\n",
    "\n",
    "stk_info_df = stk_info_df[['float_shares']]"
   ]
  },
  {
   "cell_type": "markdown",
   "metadata": {
    "pycharm": {
     "name": "#%% md\n"
    }
   },
   "source": [
    "#### 02-3 영향도 상위 5개 기업 산출"
   ]
  },
  {
   "cell_type": "code",
   "execution_count": 6,
   "metadata": {
    "pycharm": {
     "name": "#%%\n"
    }
   },
   "outputs": [
    {
     "data": {
      "text/plain": [
       "['AAPL', 'MSFT', 'NVDA', 'GOOGL', 'AMZN']"
      ]
     },
     "execution_count": 6,
     "metadata": {},
     "output_type": "execute_result"
    }
   ],
   "source": [
    "시작_영향도 = stk_info_df['float_shares'] * prices_df.iloc[0]\n",
    "\n",
    "끝_영향도 = stk_info_df['float_shares'] * prices_df.iloc[-1]\n",
    "\n",
    "영향도 = abs(끝_영향도 - 시작_영향도)\n",
    "\n",
    "영향도_top5_종목들_리스트 = 영향도.sort_values(ascending=False).head().index.str.upper().to_list()\n",
    "\n",
    "영향도_top5_종목들_리스트"
   ]
  },
  {
   "cell_type": "markdown",
   "metadata": {
    "pycharm": {
     "name": "#%% md\n"
    }
   },
   "source": [
    "### 03 뉴스데이터 로드"
   ]
  },
  {
   "cell_type": "code",
   "execution_count": 7,
   "metadata": {
    "pycharm": {
     "name": "#%%\n"
    }
   },
   "outputs": [
    {
     "name": "stderr",
     "output_type": "stream",
     "text": [
      "/home/moong/.local/lib/python3.10/site-packages/tqdm/auto.py:21: TqdmWarning: IProgress not found. Please update jupyter and ipywidgets. See https://ipywidgets.readthedocs.io/en/stable/user_install.html\n",
      "  from .autonotebook import tqdm as notebook_tqdm\n"
     ]
    },
    {
     "data": {
      "text/plain": [
       "'AAPL'"
      ]
     },
     "metadata": {},
     "output_type": "display_data"
    },
    {
     "name": "stderr",
     "output_type": "stream",
     "text": [
      "  0%|          | 0/5 [00:00<?, ?it/s]"
     ]
    },
    {
     "name": "stderr",
     "output_type": "stream",
     "text": [
      "100%|██████████| 5/5 [00:02<00:00,  1.93it/s]"
     ]
    },
    {
     "name": "stdout",
     "output_type": "stream",
     "text": [
      "{'AIQ news': [{'stock': 'AAPL', 'news_titles': ['Dow Jones Futures Fall; S&P 500 Struggles At Key Level As Apple Unveils iPhone 15', 'Apple cuts prices for iPhone 14 series in China -website', 'iPhone 15 and 15 Pro First Look: Why a Tiny USB-C Port Is a Huge Deal', 'Apple’s iPhone Price Bump Is Part of Subtle Revenue-Boosting Strategy', 'Tim Cook Surprises Apple Fans With His Acting Debut at the iPhone 15 Reveal', 'Apple Watch Series 9 and Apple Watch Ultra 2 hands-on', 'Get ready to replace all your iPhone charging cables because Apple just officially killed the Lightning connector', 'Apple’s iPhone 15 Pro Max Pushes Up the Price']}, {'stock': 'MSFT', 'news_titles': ['CPI data, AI tech forum: What to watch on Wednesday', \"Google's search engine deals could be 'the heart' of antitrust case: Expert\", 'Microsoft Powers Up with Helion Fusion: A Game-Changer in Clean Energy', 'Top 15 Sports Tech Companies And Startups In The World', 'Hard-Core Gamers Rejoice: New Xbox Mastercard Is Arriving', 'Google paying $10bn a year to maintain monopoly, claims DOJ', 'Citi predicts positive growth for Microsoft after rough August', 'DOJ and Google clash on opening day of high-stakes monopoly trial']}, {'stock': 'NVDA', 'news_titles': ['Dow Jones Futures Fall; S&P 500 Struggles At Key Level As Apple Unveils iPhone 15', 'Top Stock Picks for Week of September 11, 2023', 'Nvidia vs. Lam Research: Which Hot Stock is More Attractive?', 'Insider Sell: NVIDIA Corp President and CEO Jen Huang Sells 29,688 Shares', 'Musk and Zuckerberg Talk AI. Lawmakers Will Be Hanging on Every Word.', 'Expectations Investing Part 1', 'What Intel, TSMC, and Nvidia Stock Investors Should Know About Recent Updates', 'How to Find the Best Top-Ranked Stocks to Buy Now']}, {'stock': 'GOOGL', 'news_titles': ['Dow Jones Futures Fall; S&P 500 Struggles At Key Level As Apple Unveils iPhone 15', 'PRESS DIGEST- Financial Times - Sept 13', 'Justice Dept. is Out to Prove Google Has a Search Monopoly', 'CPI data, AI tech forum: What to watch on Wednesday', 'Google’s Search Domination Began With Plan to Combat Rivals', \"Google's search engine deals could be 'the heart' of antitrust case: Expert\", 'Quotes from first day of US v Google trial', 'AI quietly reshapes Apple iPhones, Watches']}, {'stock': 'AMZN', 'news_titles': ['Amazon plans higher pay for contracted delivery partners', 'Amazon Expands Its Ecosystem With End-to-End Supply Chain Service for Sellers', \"Why Walmart's CEO isn't worried about the economy as the stock hits all-time highs\", 'Meet the plucky firms that are beating big tech', 'Amazon Stock, Carvana, Uber Boast This Key Sign Of Stock Market Leadership', 'Why United Parcel Service Stock Is Falling Today', 'Citi predicts positive growth for Microsoft after rough August', 'Amazon rolls out end-to-end global supply chain service']}]}\n"
     ]
    },
    {
     "name": "stderr",
     "output_type": "stream",
     "text": [
      "\n"
     ]
    }
   ],
   "source": [
    "import yfinance as yf\n",
    "from tqdm.auto import tqdm\n",
    "\n",
    "stk_infos = yf.Tickers(영향도_top5_종목들_리스트)\n",
    "\n",
    "display(tkr_list[0])\n",
    "\n",
    "text = {\n",
    "    f\"{CONFIG.etf_tkr} news\": []\n",
    "}\n",
    "\n",
    "for tkr in tqdm(영향도_top5_종목들_리스트):\n",
    "    \n",
    "    tmp = {}\n",
    "    tmp[\"stock\"] = tkr\n",
    "    tmp[\"news_titles\"] = []\n",
    "    \n",
    "    news_infos = stk_infos.tickers[tkr].news\n",
    "    \n",
    "    for news in news_infos:\n",
    "        tmp['news_titles'].append(news[\"title\"])\n",
    "        \n",
    "    text[f\"{CONFIG.etf_tkr} news\"].append(tmp)\n",
    "    \n",
    "text = str(text)\n",
    "\n",
    "print(text)"
   ]
  },
  {
   "cell_type": "markdown",
   "metadata": {
    "pycharm": {
     "name": "#%% md\n"
    }
   },
   "source": [
    "### 03 프롬프트 엔지니어링"
   ]
  },
  {
   "cell_type": "code",
   "execution_count": 8,
   "metadata": {
    "pycharm": {
     "name": "#%%\n"
    }
   },
   "outputs": [
    {
     "name": "stdout",
     "output_type": "stream",
     "text": [
      "AIQ의 주요 구성요소인 AAPL, MSFT, NVDA, GOOGL, AMZN 주식에 대한 뉴스 헤드라인을 기반으로 일반적인 문제를 요약하면 다음과 같습니다.\n",
      "\n",
      "AAPL:\n",
      "- iPhone 15 시리즈 출시로 인한 가격인하는 중국에서도 이뤄지고 있음\n",
      "- iPhone 15 Pro Max의 가격 상승\n",
      "\n",
      "MSFT:\n",
      "- AI 기술 포럼과 CPI 데이터에 대한 관심\n",
      "- 구글의 검색 엔진 계약이 과징금 사례의 핵심일 수 있음\n",
      "- Helion Fusion을 통한 깨끗한 에너지 발전 기술 도입\n",
      "\n",
      "NVDA:\n",
      "- 주식 추천 및 주식 매매에 대한 정보 제공\n",
      "- NVIDIA의 CEO가 주식을 판매함\n",
      "- Musk와 Zuckerberg의 AI에 대한 대화가 주목받고 있음\n",
      "\n",
      "GOOGL:\n",
      "- 구글의 검색 독점을 입증하기 위해 법무부가 노력 중\n",
      "- 구글의 검색 엔진 계약이 과징금 사례의 핵심일 수 있음\n",
      "- AI 기술이 애플의 iPhone과 워치에 조용히 적용되고 있음\n",
      "\n",
      "AMZN:\n",
      "- 계약된 배송 파트너에게 더 높은 급여 제공 계획\n",
      "- 판매자를 위한 엔드 투 엔드 공급망 서비스 확장\n",
      "- 대형 기업들을 이기는 작은 기업들의 등장\n",
      "\n",
      "이러한 뉴스 헤드라인을 종합해보면, 각 주식에 대한 가격 변동, 기술 도입, 경쟁사와의 관계 등이 주요 문제로 부각되고 있음을 알 수 있습니다.\n"
     ]
    }
   ],
   "source": [
    "from langchain.prompts import ChatPromptTemplate\n",
    "from langchain.prompts.chat import SystemMessage, HumanMessagePromptTemplate\n",
    "from langchain.chat_models import ChatOpenAI\n",
    "\n",
    "\n",
    "template = ChatPromptTemplate.from_messages(\n",
    "    [\n",
    "        SystemMessage(\n",
    "            content=(\n",
    "                f\"\"\"\n",
    "                Summarize the common issues based on the news headlines of stocks which are best 5 influential components of {CONFIG.etf_tkr} in Korean.\n",
    "                \n",
    "                - Tone : Humble\n",
    "                - Style : MECE, accurate\n",
    "                - Reader level : college student\n",
    "                - Length : within 500 characters\n",
    "                - Perspective : Mckinsey&Company senior consultant\n",
    "                - Format : markdown\n",
    "                \n",
    "                You MUST answer in Korean. \n",
    "                \"\"\"\n",
    "            )\n",
    "        ),\n",
    "        HumanMessagePromptTemplate.from_template(\"{text}\"),\n",
    "    ]\n",
    ")\n",
    "\n",
    "llm = ChatOpenAI(model=\"gpt-3.5-turbo-16k\")\n",
    "\n",
    "answer = llm(template.format_messages(text=text)).content\n",
    "\n",
    "print(answer)"
   ]
  }
 ],
 "metadata": {
  "kernelspec": {
   "display_name": "bt",
   "language": "python",
   "name": "python3"
  },
  "language_info": {
   "codemirror_mode": {
    "name": "ipython",
    "version": 3
   },
   "file_extension": ".py",
   "mimetype": "text/x-python",
   "name": "python",
   "nbconvert_exporter": "python",
   "pygments_lexer": "ipython3",
   "version": "3.10.12"
  },
  "orig_nbformat": 4
 },
 "nbformat": 4,
 "nbformat_minor": 2
}
