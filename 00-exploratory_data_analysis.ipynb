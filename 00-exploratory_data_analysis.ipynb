{
 "cells": [
  {
   "cell_type": "code",
   "execution_count": 58,
   "metadata": {},
   "outputs": [],
   "source": [
    "server1_log = open(\"./logs/log_files/access.log\", 'rt')\n",
    "\n",
    "file_lines = server1_log.readlines()\n",
    "\n",
    "click_cnt = 0\n",
    "\n",
    "dates, times, ips, http_reqs = [], [], [], []\n",
    "\n",
    "for i, line in enumerate(file_lines):\n",
    "    \n",
    "    year, month, extra, http_req = line.split(\"-\")\n",
    "    \n",
    "    if \"200\" not in http_req.strip().split(\" \")[-2]:\n",
    "        continue    \n",
    "    \n",
    "    date = year+\"-\"+month+\"-\"+extra.split(\" \")[0]\n",
    "    \n",
    "    time = extra.split(\" \")[1]\n",
    "    \n",
    "    ip = extra.split(\" \")[5].split(\":\")[0]\n",
    "    \n",
    "    http_req = http_req.split(\"\\\"\")[1].split(\" \")[1]\n",
    "    \n",
    "    dates.append(date)\n",
    "    times.append(time)\n",
    "    ips.append(ip)\n",
    "    http_reqs.append(http_req)\n",
    "    \n",
    "    \n",
    "server1_log.close()"
   ]
  },
  {
   "cell_type": "code",
   "execution_count": 59,
   "metadata": {},
   "outputs": [],
   "source": [
    "server2_log = open(\"./logs/server2_log_files/access.log\", 'rt')\n",
    "\n",
    "file_lines = server2_log.readlines()\n",
    "\n",
    "click_cnt = 0\n",
    "\n",
    "for i, line in enumerate(file_lines):\n",
    "    \n",
    "    try: \n",
    "        year, month, extra, http_req = line.split(\"-\")\n",
    "    except:\n",
    "        continue\n",
    "    \n",
    "    if \"200\" not in http_req.strip().split(\" \")[-2]:\n",
    "        continue    \n",
    "    \n",
    "    date = year+\"-\"+month+\"-\"+extra.split(\" \")[0]\n",
    "    \n",
    "    time = extra.split(\" \")[1]\n",
    "    \n",
    "    ip = extra.split(\" \")[5].split(\":\")[0]\n",
    "    \n",
    "    http_req = http_req.split(\"\\\"\")[1].split(\" \")[1]\n",
    "    \n",
    "    dates.append(date)\n",
    "    times.append(time)\n",
    "    ips.append(ip)\n",
    "    http_reqs.append(http_req)\n",
    "    \n",
    "server2_log.close()"
   ]
  },
  {
   "cell_type": "code",
   "execution_count": 60,
   "metadata": {},
   "outputs": [],
   "source": [
    "import pandas as pd\n",
    "\n",
    "log_df = pd.DataFrame()\n",
    "\n",
    "log_df[\"date\"] = dates\n",
    "log_df[\"time\"] = times\n",
    "log_df['ip'] = ips\n",
    "log_df[\"http_req\"] = http_reqs"
   ]
  },
  {
   "cell_type": "markdown",
   "metadata": {},
   "source": [
    "### 01 총 트래픽 중 \"투자하기\" 클릭률"
   ]
  },
  {
   "cell_type": "code",
   "execution_count": 83,
   "metadata": {},
   "outputs": [],
   "source": [
    "log_df['simple_req'] = log_df['http_req'].apply(lambda x: x.split(\"?\")[0])"
   ]
  },
  {
   "cell_type": "code",
   "execution_count": 139,
   "metadata": {},
   "outputs": [
    {
     "data": {
      "text/plain": [
       "<Axes: xlabel='date'>"
      ]
     },
     "execution_count": 139,
     "metadata": {},
     "output_type": "execute_result"
    },
    {
     "data": {
      "image/png": "[encoded data removed]",
      "text/plain": [
       "<Figure size 640x480 with 1 Axes>"
      ]
     },
     "metadata": {},
     "output_type": "display_data"
    }
   ],
   "source": [
    "log_df.date.value_counts().sort_index().plot(color=\"#f58220\")"
   ]
  },
  {
   "cell_type": "code",
   "execution_count": 89,
   "metadata": {},
   "outputs": [
    {
     "data": {
      "application/vnd.plotly.v1+json": {
       "config": {
        "plotlyServerURL": "https://plot.ly"
       },
       "data": [
        {
         "domain": {
          "x": [
           0,
           1
          ],
          "y": [
           0,
           1
          ]
         },
         "hovertemplate": "simple_req=%{label}<extra></extra>",
         "labels": [
          "/dist_methology",
          "/strategy",
          "/strategy",
          "/strategy",
          "/strategy",
          "/strategy",
          "/strategy",
          "/strategy",
          "/strategy",
          "/strategy",
          "/strategy",
          "/strategy",
          "/strategy",
          "/strategy",
          "/dist_methology",
          "/dist_methology",
          "/dist_methology",
          "/dist_methology",
          "/theme_info",
          "/theme_info",
          "/theme_info",
          "/strategy",
          "/docs",
          "/openapi.json",
          "/strategy",
          "/strategy",
          "/pdf_info",
          "/strategy",
          "/pdf_info",
          "/strategy",
          "/pdf_info",
          "/strategy",
          "/strategy",
          "/theme_info",
          "/pdf_info",
          "/dist_methology",
          "/theme_info",
          "/pdf_info",
          "/pdf_info",
          "/theme_info",
          "/pdf_info",
          "/theme_info",
          "/pdf_info",
          "/strategy",
          "/pdf_info",
          "/dist_methology",
          "/theme_info",
          "/pdf_info",
          "/pdf_info",
          "/theme_info",
          "/pdf_info",
          "/strategy",
          "/strategy",
          "/pdf_info",
          "/strategy",
          "/pdf_info",
          "/strategy",
          "/strategy",
          "/pdf_info",
          "/dist_methology",
          "/pdf_info",
          "/theme_info",
          "/pdf_info",
          "/dist_methology",
          "/pdf_info",
          "/dist_methology",
          "/dist_methology",
          "/pdf_info",
          "/dist_methology",
          "/pdf_info",
          "/theme_info",
          "/pdf_info",
          "/dist_methology",
          "/pdf_info",
          "/theme_info",
          "/pdf_info",
          "/dist_methology",
          "/pdf_info",
          "/theme_info",
          "/pdf_info",
          "/pdf_info",
          "/strategy",
          "/strategy",
          "/theme_info",
          "/pdf_info",
          "/pdf_info",
          "/strategy",
          "/pdf_info",
          "/theme_info",
          "/theme_info",
          "/pdf_info",
          "/dist_methology",
          "/dist_methology",
          "/pdf_info",
          "/dist_methology",
          "/dist_methology",
          "/dist_methology",
          "/pdf_info",
          "/dist_methology",
          "/pdf_info",
          "/theme_info",
          "/pdf_info",
          "/dist_methology",
          "/dist_methology",
          "/pdf_info",
          "/dist_methology",
          "/strategy",
          "/strategy",
          "/pdf_info",
          "/dist_methology",
          "/dist_methology",
          "/pdf_info",
          "/dist_methology",
          "/dist_methology",
          "/dist_methology",
          "/pdf_info",
          "/strategy",
          "/pdf_info",
          "/theme_info",
          "/pdf_info",
          "/theme_info",
          "/pdf_info",
          "/dist_methology",
          "/pdf_info",
          "/theme_info",
          "/pdf_info",
          "/strategy",
          "/theme_info",
          "/pdf_info",
          "/pdf_info",
          "/pdf_info",
          "/pdf_info",
          "/pdf_info",
          "/pdf_info",
          "/pdf_info",
          "/pdf_info",
          "/pdf_info",
          "/pdf_info",
          "/pdf_info",
          "/pdf_info",
          "/pdf_info",
          "/pdf_info",
          "/pdf_info",
          "/pdf_info",
          "/pdf_info",
          "/pdf_info",
          "/pdf_info",
          "/pdf_info",
          "/theme_info",
          "/dist_methology",
          "/theme_info",
          "/pdf_info",
          "/pdf_info",
          "/pdf_info",
          "/pdf_info",
          "/pdf_info",
          "/pdf_info",
          "/pdf_info",
          "/pdf_info",
          "/pdf_info",
          "/pdf_info",
          "/pdf_info",
          "/pdf_info",
          "/pdf_info",
          "/pdf_info",
          "/pdf_info",
          "/pdf_info",
          "/pdf_info",
          "/pdf_info",
          "/theme_info",
          "/pdf_info",
          "/dist_methology",
          "/pdf_info",
          "/strategy",
          "/strategy",
          "/pdf_info",
          "/pdf_info",
          "/pdf_info",
          "/pdf_info",
          "/pdf_info",
          "/pdf_info",
          "/pdf_info",
          "/pdf_info",
          "/pdf_info",
          "/pdf_info",
          "/pdf_info",
          "/pdf_info",
          "/theme_info",
          "/pdf_info",
          "/pdf_info",
          "/pdf_info",
          "/pdf_info",
          "/pdf_info",
          "/pdf_info",
          "/pdf_info",
          "/pdf_info",
          "/pdf_info",
          "/pdf_info",
          "/pdf_info",
          "/pdf_info",
          "/pdf_info",
          "/pdf_info",
          "/pdf_info",
          "/pdf_info",
          "/pdf_info",
          "/pdf_info",
          "/pdf_info",
          "/pdf_info",
          "/pdf_info",
          "/pdf_info",
          "/pdf_info",
          "/pdf_info",
          "/pdf_info",
          "/pdf_info",
          "/pdf_info",
          "/pdf_info",
          "/pdf_info",
          "/pdf_info",
          "/pdf_info",
          "/pdf_info",
          "/pdf_info",
          "/pdf_info",
          "/theme_info",
          "/pdf_info",
          "/pdf_info",
          "/pdf_info",
          "/pdf_info",
          "/pdf_info",
          "/pdf_info",
          "/pdf_info",
          "/pdf_info",
          "/pdf_info",
          "/pdf_info",
          "/pdf_info",
          "/pdf_info",
          "/pdf_info",
          "/pdf_info",
          "/pdf_info",
          "/pdf_info",
          "/pdf_info",
          "/pdf_info",
          "/pdf_info",
          "/pdf_info",
          "/pdf_info",
          "/pdf_info",
          "/pdf_info",
          "/theme_info",
          "/pdf_info",
          "/strategy",
          "/strategy",
          "/click_invest",
          "/click_invest",
          "/pdf_info",
          "/strategy",
          "/strategy",
          "/pdf_info",
          "/theme_info",
          "/theme_info",
          "/pdf_info",
          "/dist_methology",
          "/pdf_info",
          "/theme_info",
          "/theme_info",
          "/pdf_info",
          "/dist_methology",
          "/pdf_info",
          "/strategy",
          "/strategy",
          "/pdf_info",
          "/dist_methology",
          "/pdf_info",
          "/dist_methology",
          "/pdf_info",
          "/theme_info",
          "/pdf_info",
          "/dist_methology",
          "/pdf_info",
          "/theme_info",
          "/pdf_info",
          "/theme_info",
          "/pdf_info",
          "/dist_methology",
          "/pdf_info",
          "/theme_info",
          "/pdf_info",
          "/theme_info",
          "/pdf_info",
          "/dist_methology",
          "/pdf_info",
          "/theme_info",
          "/pdf_info",
          "/dist_methology",
          "/pdf_info",
          "/theme_info",
          "/pdf_info",
          "/pdf_info",
          "/dist_methology",
          "/pdf_info",
          "/strategy",
          "/strategy",
          "/pdf_info",
          "/dist_methology",
          "/dist_methology",
          "/theme_info",
          "/pdf_info",
          "/dist_methology",
          "/pdf_info",
          "/theme_info",
          "/pdf_info",
          "/dist_methology",
          "/theme_info",
          "/pdf_info",
          "/theme_info",
          "/pdf_info",
          "/dist_methology",
          "/dist_methology",
          "/theme_info",
          "/pdf_info",
          "/pdf_info",
          "/dist_methology",
          "/pdf_info",
          "/strategy",
          "/strategy",
          "/dist_methology",
          "/pdf_info",
          "/theme_info",
          "/pdf_info",
          "/pdf_info",
          "/strategy",
          "/pdf_info",
          "/theme_info",
          "/dist_methology",
          "/pdf_info",
          "/theme_info",
          "/pdf_info",
          "/theme_info",
          "/pdf_info",
          "/dist_methology",
          "/pdf_info",
          "/theme_info",
          "/pdf_info",
          "/strategy",
          "/strategy",
          "/click_invest",
          "/click_invest",
          "/pdf_info",
          "/theme_info",
          "/pdf_info",
          "/dist_methology",
          "/pdf_info",
          "/strategy",
          "/strategy",
          "/pdf_info",
          "/theme_info",
          "/pdf_info",
          "/strategy",
          "/theme_info",
          "/pdf_info",
          "/pdf_info",
          "/strategy",
          "/pdf_info",
          "/strategy",
          "/theme_info",
          "/pdf_info",
          "/theme_info",
          "/dist_methology",
          "/theme_info",
          "/pdf_info",
          "/theme_info",
          "/theme_info",
          "/pdf_info",
          "/theme_info",
          "/pdf_info",
          "/dist_methology",
          "/theme_info",
          "/pdf_info",
          "/pdf_info",
          "/dist_methology",
          "/theme_info",
          "/pdf_info",
          "/dist_methology",
          "/theme_info",
          "/pdf_info",
          "/dist_methology",
          "/theme_info",
          "/pdf_info",
          "/dist_methology",
          "/pdf_info",
          "/strategy",
          "/strategy",
          "/click_invest",
          "/click_invest",
          "/theme_info",
          "/pdf_info",
          "/theme_info",
          "/pdf_info",
          "/theme_info",
          "/pdf_info",
          "/theme_info",
          "/pdf_info",
          "/theme_info",
          "/pdf_info",
          "/strategy",
          "/strategy",
          "/pdf_info",
          "/pdf_info",
          "/theme_info",
          "/pdf_info",
          "/strategy",
          "/strategy",
          "/pdf_info",
          "/theme_info",
          "/dist_methology",
          "/dist_methology",
          "/pdf_info",
          "/pdf_info",
          "/pdf_info",
          "/pdf_info",
          "/pdf_info",
          "/pdf_info",
          "/pdf_info",
          "/theme_info",
          "/pdf_info",
          "/dist_methology",
          "/pdf_info",
          "/strategy",
          "/strategy",
          "/dist_methology",
          "/pdf_info",
          "/click_invest",
          "/click_invest",
          "/strategy",
          "/pdf_info",
          "/strategy",
          "/strategy",
          "/strategy",
          "/pdf_info",
          "/pdf_info",
          "/theme_info",
          "/pdf_info",
          "/strategy",
          "/pdf_info",
          "/strategy",
          "/click_invest",
          "/click_invest",
          "/pdf_info",
          "/pdf_info",
          "/dist_methology",
          "/theme_info",
          "/pdf_info",
          "/dist_methology",
          "/pdf_info",
          "/pdf_info",
          "/dist_methology",
          "/theme_info",
          "/pdf_info",
          "/strategy",
          "/click_invest",
          "/click_invest",
          "/theme_info",
          "/pdf_info",
          "/theme_info",
          "/pdf_info",
          "/dist_methology",
          "/theme_info",
          "/pdf_info",
          "/pdf_info",
          "/theme_info",
          "/pdf_info",
          "/theme_info",
          "/theme_info",
          "/pdf_info",
          "/pdf_info",
          "/dist_methology",
          "/dist_methology",
          "/pdf_info",
          "/pdf_info",
          "/strategy",
          "/strategy",
          "/strategy",
          "/strategy",
          "/pdf_info",
          "/theme_info",
          "/pdf_info",
          "/theme_info",
          "/dist_methology",
          "/theme_info",
          "/pdf_info",
          "/strategy",
          "/strategy",
          "/theme_info",
          "/theme_info",
          "/pdf_info",
          "/theme_info",
          "/theme_info",
          "/pdf_info",
          "/dist_methology",
          "/theme_info",
          "/pdf_info",
          "/theme_info",
          "/theme_info",
          "/pdf_info",
          "/theme_info",
          "/pdf_info",
          "/theme_info",
          "/pdf_info",
          "/strategy",
          "/strategy",
          "/pdf_info",
          "/theme_info",
          "/pdf_info",
          "/theme_info",
          "/theme_info",
          "/pdf_info",
          "/dist_methology",
          "/pdf_info",
          "/theme_info",
          "/theme_info",
          "/strategy",
          "/click_invest",
          "/click_invest",
          "/pdf_info",
          "/dist_methology",
          "/pdf_info",
          "/strategy",
          "/strategy",
          "/click_invest",
          "/click_invest",
          "/pdf_info",
          "/dist_methology",
          "/pdf_info",
          "/pdf_info",
          "/theme_info",
          "/theme_info",
          "/pdf_info",
          "/theme_info",
          "/pdf_info",
          "/pdf_info",
          "/theme_info",
          "/dist_methology",
          "/strategy",
          "/strategy",
          "/theme_info",
          "/pdf_info",
          "/pdf_info",
          "/pdf_info",
          "/strategy",
          "/strategy",
          "/pdf_info",
          "/pdf_info",
          "/theme_info",
          "/dist_methology",
          "/theme_info",
          "/pdf_info",
          "/click_invest",
          "/click_invest",
          "/pdf_info",
          "/theme_info",
          "/strategy",
          "/pdf_info",
          "/click_invest",
          "/theme_info",
          "/theme_info",
          "/pdf_info",
          "/dist_methology",
          "/pdf_info",
          "/strategy",
          "/click_invest",
          "/theme_info",
          "/pdf_info",
          "/dist_methology",
          "/pdf_info",
          "/pdf_info",
          "/dist_methology",
          "/theme_info",
          "/dist_methology",
          "/theme_info",
          "/pdf_info",
          "/pdf_info",
          "/strategy",
          "/click_invest",
          "/theme_info",
          "/theme_info",
          "/pdf_info",
          "/strategy",
          "/strategy",
          "/theme_info",
          "/theme_info",
          "/click_invest",
          "/click_invest",
          "/pdf_info",
          "/theme_info",
          "/pdf_info",
          "/pdf_info",
          "/strategy",
          "/strategy",
          "/click_invest",
          "/click_invest",
          "/click_invest",
          "/theme_info",
          "/theme_info",
          "/pdf_info",
          "/pdf_info",
          "/dist_methology",
          "/pdf_info",
          "/strategy",
          "/theme_info",
          "/strategy",
          "/pdf_info",
          "/theme_info",
          "/theme_info",
          "/pdf_info",
          "/theme_info",
          "/theme_info",
          "/theme_info",
          "/theme_info",
          "/pdf_info",
          "/theme_info",
          "/pdf_info",
          "/theme_info",
          "/dist_methology",
          "/theme_info",
          "/pdf_info",
          "/theme_info",
          "/pdf_info",
          "/theme_info",
          "/pdf_info",
          "/theme_info",
          "/theme_info",
          "/theme_info",
          "/pdf_info",
          "/theme_info",
          "/pdf_info",
          "/theme_info",
          "/theme_info",
          "/pdf_info",
          "/pdf_info",
          "/pdf_info",
          "/theme_info",
          "/theme_info",
          "/theme_info",
          "/pdf_info",
          "/dist_methology",
          "/theme_info",
          "/theme_info",
          "/pdf_info",
          "/pdf_info",
          "/pdf_info",
          "/strategy",
          "/strategy",
          "/dist_methology",
          "/click_invest",
          "/click_invest",
          "/pdf_info",
          "/theme_info",
          "/pdf_info",
          "/theme_info",
          "/pdf_info",
          "/dist_methology",
          "/pdf_info",
          "/theme_info",
          "/pdf_info",
          "/theme_info",
          "/theme_info",
          "/pdf_info",
          "/dist_methology",
          "/pdf_info",
          "/strategy",
          "/strategy",
          "/click_invest",
          "/click_invest",
          "/theme_info",
          "/pdf_info",
          "/theme_info",
          "/pdf_info",
          "/theme_info",
          "/pdf_info",
          "/theme_info",
          "/theme_info",
          "/pdf_info",
          "/theme_info",
          "/pdf_info",
          "/dist_methology",
          "/theme_info",
          "/pdf_info",
          "/pdf_info",
          "/dist_methology",
          "/dist_methology",
          "/pdf_info",
          "/strategy",
          "/strategy",
          "/pdf_info",
          "/dist_methology",
          "/theme_info",
          "/pdf_info",
          "/strategy",
          "/strategy",
          "/pdf_info",
          "/theme_info",
          "/theme_info",
          "/pdf_info",
          "/theme_info",
          "/theme_info",
          "/theme_info",
          "/theme_info",
          "/pdf_info",
          "/dist_methology",
          "/pdf_info",
          "/theme_info",
          "/theme_info",
          "/dist_methology",
          "/pdf_info",
          "/theme_info",
          "/pdf_info",
          "/theme_info",
          "/theme_info",
          "/pdf_info",
          "/theme_info",
          "/dist_methology",
          "/pdf_info",
          "/strategy",
          "/strategy",
          "/click_invest",
          "/click_invest",
          "/theme_info",
          "/pdf_info",
          "/strategy",
          "/strategy",
          "/click_invest",
          "/click_invest",
          "/theme_info",
          "/theme_info",
          "/theme_info",
          "/theme_info",
          "/pdf_info",
          "/dist_methology",
          "/pdf_info",
          "/strategy",
          "/strategy",
          "/pdf_info",
          "/theme_info",
          "/theme_info",
          "/pdf_info",
          "/theme_info",
          "/theme_info",
          "/pdf_info",
          "/theme_info",
          "/pdf_info",
          "/theme_info",
          "/theme_info",
          "/pdf_info",
          "/dist_methology",
          "/pdf_info",
          "/theme_info",
          "/pdf_info",
          "/dist_methology",
          "/pdf_info",
          "/dist_methology",
          "/pdf_info",
          "/strategy",
          "/strategy",
          "/click_invest",
          "/click_invest",
          "/theme_info",
          "/pdf_info",
          "/strategy",
          "/strategy",
          "/strategy",
          "/click_invest",
          "/click_invest",
          "/theme_info",
          "/theme_info",
          "/pdf_info",
          "/pdf_info",
          "/strategy",
          "/strategy",
          "/theme_info",
          "/click_invest",
          "/click_invest",
          "/pdf_info",
          "/theme_info",
          "/dist_methology",
          "/theme_info",
          "/pdf_info",
          "/theme_info",
          "/pdf_info",
          "/dist_methology",
          "/strategy",
          "/strategy",
          "/click_invest",
          "/click_invest",
          "/theme_info",
          "/theme_info",
          "/theme_info",
          "/pdf_info",
          "/theme_info",
          "/dist_methology",
          "/pdf_info",
          "/strategy",
          "/strategy",
          "/click_invest",
          "/click_invest",
          "/theme_info",
          "/pdf_info",
          "/strategy",
          "/strategy",
          "/strategy",
          "/click_invest",
          "/click_invest",
          "/theme_info",
          "/pdf_info",
          "/pdf_info",
          "/theme_info",
          "/pdf_info",
          "/pdf_info",
          "/theme_info",
          "/pdf_info",
          "/theme_info",
          "/pdf_info",
          "/theme_info",
          "/pdf_info",
          "/theme_info",
          "/pdf_info",
          "/theme_info",
          "/pdf_info",
          "/dist_methology",
          "/pdf_info",
          "/theme_info",
          "/pdf_info",
          "/dist_methology",
          "/theme_info",
          "/theme_info",
          "/pdf_info",
          "/strategy",
          "/strategy",
          "/click_invest",
          "/click_invest",
          "/theme_info",
          "/pdf_info",
          "/theme_info",
          "/theme_info",
          "/pdf_info",
          "/dist_methology",
          "/theme_info",
          "/pdf_info",
          "/theme_info",
          "/pdf_info",
          "/strategy",
          "/strategy",
          "/pdf_info",
          "/theme_info",
          "/theme_info",
          "/theme_info",
          "/pdf_info",
          "/dist_methology",
          "/pdf_info",
          "/theme_info",
          "/pdf_info",
          "/theme_info",
          "/pdf_info",
          "/theme_info",
          "/strategy",
          "/strategy",
          "/click_invest",
          "/click_invest",
          "/pdf_info",
          "/theme_info",
          "/pdf_info",
          "/theme_info",
          "/pdf_info",
          "/dist_methology",
          "/pdf_info",
          "/dist_methology",
          "/pdf_info",
          "/theme_info",
          "/pdf_info",
          "/theme_info",
          "/pdf_info",
          "/theme_info",
          "/pdf_info",
          "/theme_info",
          "/pdf_info",
          "/theme_info",
          "/pdf_info",
          "/theme_info",
          "/pdf_info",
          "/theme_info",
          "/pdf_info",
          "/theme_info",
          "/pdf_info",
          "/dist_methology",
          "/theme_info",
          "/theme_info",
          "/pdf_info",
          "/strategy",
          "/strategy",
          "/click_invest",
          "/click_invest",
          "/pdf_info",
          "/strategy",
          "/click_invest",
          "/theme_info",
          "/pdf_info",
          "/dist_methology",
          "/pdf_info",
          "/dist_methology",
          "/pdf_info",
          "/theme_info",
          "/pdf_info",
          "/theme_info",
          "/pdf_info",
          "/theme_info",
          "/pdf_info",
          "/theme_info",
          "/pdf_info",
          "/dist_methology",
          "/pdf_info",
          "/strategy",
          "/strategy",
          "/theme_info",
          "/theme_info",
          "/pdf_info",
          "/strategy",
          "/strategy",
          "/pdf_info",
          "/pdf_info",
          "/theme_info",
          "/theme_info",
          "/pdf_info",
          "/pdf_info",
          "/dist_methology",
          "/pdf_info",
          "/dist_methology",
          "/theme_info",
          "/pdf_info",
          "/pdf_info",
          "/theme_info",
          "/pdf_info",
          "/dist_methology",
          "/pdf_info",
          "/theme_info",
          "/theme_info",
          "/pdf_info",
          "/theme_info",
          "/pdf_info",
          "/dist_methology",
          "/pdf_info",
          "/dist_methology",
          "/pdf_info",
          "/strategy",
          "/strategy",
          "/click_invest",
          "/click_invest",
          "/theme_info",
          "/pdf_info",
          "/theme_info",
          "/theme_info",
          "/theme_info",
          "/theme_info",
          "/theme_info",
          "/theme_info",
          "/pdf_info",
          "/pdf_info",
          "/strategy",
          "/strategy",
          "/click_invest",
          "/click_invest",
          "/dist_methology",
          "/theme_info",
          "/theme_info",
          "/theme_info",
          "/pdf_info",
          "/strategy",
          "/strategy",
          "/click_invest",
          "/click_invest",
          "/click_invest",
          "/theme_info",
          "/theme_info",
          "/pdf_info",
          "/theme_info",
          "/pdf_info",
          "/theme_info",
          "/pdf_info",
          "/theme_info",
          "/pdf_info",
          "/dist_methology",
          "/strategy",
          "/strategy",
          "/click_invest",
          "/theme_info",
          "/theme_info",
          "/pdf_info",
          "/click_invest",
          "/theme_info",
          "/pdf_info",
          "/theme_info",
          "/dist_methology",
          "/theme_info",
          "/pdf_info",
          "/strategy",
          "/strategy",
          "/pdf_info",
          "/theme_info",
          "/pdf_info",
          "/theme_info",
          "/pdf_info",
          "/theme_info",
          "/pdf_info",
          "/theme_info",
          "/theme_info",
          "/theme_info",
          "/pdf_info",
          "/pdf_info",
          "/theme_info",
          "/strategy",
          "/strategy",
          "/theme_info",
          "/click_invest",
          "/click_invest",
          "/click_invest",
          "/click_invest",
          "/click_invest",
          "/click_invest",
          "/click_invest",
          "/pdf_info",
          "/theme_info",
          "/theme_info",
          "/pdf_info",
          "/theme_info",
          "/dist_methology",
          "/theme_info",
          "/theme_info",
          "/pdf_info",
          "/dist_methology",
          "/pdf_info",
          "/theme_info",
          "/pdf_info",
          "/strategy",
          "/strategy",
          "/theme_info",
          "/pdf_info",
          "/pdf_info",
          "/theme_info",
          "/theme_info",
          "/pdf_info",
          "/theme_info",
          "/pdf_info",
          "/theme_info",
          "/pdf_info",
          "/theme_info",
          "/theme_info",
          "/theme_info",
          "/pdf_info",
          "/dist_methology",
          "/pdf_info",
          "/theme_info",
          "/theme_info",
          "/theme_info",
          "/pdf_info",
          "/theme_info",
          "/dist_methology",
          "/pdf_info",
          "/pdf_info",
          "/strategy",
          "/strategy",
          "/click_invest",
          "/click_invest",
          "/pdf_info",
          "/theme_info",
          "/theme_info",
          "/pdf_info",
          "/dist_methology",
          "/pdf_info",
          "/strategy",
          "/strategy",
          "/click_invest",
          "/click_invest",
          "/theme_info",
          "/theme_info",
          "/theme_info",
          "/pdf_info",
          "/dist_methology",
          "/theme_info",
          "/pdf_info",
          "/strategy",
          "/strategy",
          "/click_invest",
          "/click_invest",
          "/theme_info",
          "/theme_info",
          "/theme_info",
          "/pdf_info",
          "/strategy",
          "/strategy",
          "/theme_info",
          "/theme_info",
          "/pdf_info",
          "/strategy",
          "/strategy",
          "/theme_info",
          "/pdf_info",
          "/theme_info",
          "/pdf_info",
          "/dist_methology",
          "/pdf_info",
          "/theme_info",
          "/theme_info",
          "/theme_info",
          "/pdf_info",
          "/pdf_info",
          "/theme_info",
          "/theme_info",
          "/pdf_info",
          "/strategy",
          "/strategy",
          "/click_invest",
          "/click_invest",
          "/click_invest",
          "/theme_info",
          "/pdf_info",
          "/theme_info",
          "/theme_info",
          "/theme_info",
          "/theme_info",
          "/pdf_info",
          "/theme_info",
          "/pdf_info",
          "/dist_methology",
          "/pdf_info",
          "/theme_info",
          "/pdf_info",
          "/theme_info",
          "/theme_info",
          "/theme_info",
          "/theme_info",
          "/pdf_info",
          "/dist_methology",
          "/theme_info",
          "/pdf_info",
          "/theme_info",
          "/pdf_info",
          "/theme_info",
          "/theme_info",
          "/theme_info",
          "/theme_info",
          "/pdf_info",
          "/pdf_info",
          "/dist_methology",
          "/strategy",
          "/strategy",
          "/theme_info",
          "/pdf_info",
          "/pdf_info",
          "/pdf_info",
          "/theme_info",
          "/pdf_info",
          "/dist_methology",
          "/pdf_info",
          "/dist_methology",
          "/theme_info",
          "/pdf_info",
          "/pdf_info",
          "/theme_info",
          "/theme_info",
          "/pdf_info",
          "/strategy",
          "/strategy",
          "/click_invest",
          "/click_invest",
          "/theme_info",
          "/pdf_info",
          "/dist_methology",
          "/pdf_info",
          "/theme_info",
          "/pdf_info",
          "/dist_methology",
          "/theme_info",
          "/pdf_info",
          "/theme_info",
          "/pdf_info",
          "/theme_info",
          "/dist_methology",
          "/pdf_info",
          "/pdf_info",
          "/theme_info",
          "/dist_methology",
          "/pdf_info",
          "/dist_methology",
          "/pdf_info",
          "/dist_methology",
          "/pdf_info",
          "/theme_info",
          "/theme_info",
          "/pdf_info",
          "/theme_info",
          "/pdf_info",
          "/theme_info",
          "/theme_info",
          "/pdf_info",
          "/strategy",
          "/strategy",
          "/strategy",
          "/dist_methology",
          "/theme_info",
          "/click_invest",
          "/click_invest",
          "/pdf_info",
          "/pdf_info",
          "/theme_info",
          "/pdf_info",
          "/theme_info",
          "/pdf_info",
          "/strategy",
          "/strategy",
          "/pdf_info",
          "/theme_info",
          "/theme_info",
          "/theme_info",
          "/pdf_info",
          "/theme_info",
          "/dist_methology",
          "/pdf_info",
          "/theme_info",
          "/pdf_info",
          "/dist_methology",
          "/pdf_info",
          "/theme_info",
          "/theme_info",
          "/pdf_info",
          "/theme_info",
          "/theme_info",
          "/pdf_info",
          "/dist_methology",
          "/pdf_info",
          "/strategy",
          "/strategy",
          "/pdf_info",
          "/theme_info",
          "/theme_info",
          "/pdf_info",
          "/theme_info",
          "/pdf_info",
          "/theme_info",
          "/theme_info",
          "/pdf_info",
          "/dist_methology",
          "/pdf_info",
          "/theme_info",
          "/pdf_info",
          "/theme_info",
          "/pdf_info",
          "/theme_info",
          "/pdf_info",
          "/theme_info",
          "/theme_info",
          "/theme_info",
          "/theme_info",
          "/pdf_info",
          "/dist_methology",
          "/pdf_info",
          "/dist_methology",
          "/pdf_info",
          "/strategy",
          "/strategy",
          "/strategy",
          "/pdf_info",
          "/pdf_info",
          "/pdf_info",
          "/strategy",
          "/strategy",
          "/theme_info",
          "/dist_methology",
          "/pdf_info",
          "/strategy",
          "/strategy",
          "/click_invest",
          "/click_invest",
          "/theme_info",
          "/theme_info",
          "/pdf_info",
          "/dist_methology",
          "/pdf_info",
          "/strategy",
          "/click_invest",
          "/click_invest",
          "/click_invest",
          "/pdf_info",
          "/strategy",
          "/strategy",
          "/strategy",
          "/click_invest",
          "/click_invest",
          "/theme_info",
          "/theme_info",
          "/pdf_info",
          "/dist_methology",
          "/theme_info",
          "/pdf_info",
          "/pdf_info",
          "/dist_methology",
          "/pdf_info",
          "/dist_methology",
          "/pdf_info",
          "/theme_info",
          "/pdf_info",
          "/theme_info",
          "/theme_info",
          "/pdf_info",
          "/theme_info",
          "/pdf_info",
          "/theme_info",
          "/theme_info",
          "/pdf_info",
          "/dist_methology",
          "/pdf_info",
          "/strategy",
          "/strategy",
          "/pdf_info",
          "/theme_info",
          "/theme_info",
          "/theme_info",
          "/pdf_info",
          "/theme_info",
          "/theme_info",
          "/theme_info",
          "/pdf_info",
          "/dist_methology",
          "/pdf_info",
          "/pdf_info",
          "/strategy",
          "/strategy",
          "/click_invest",
          "/click_invest",
          "/dist_methology",
          "/pdf_info",
          "/theme_info",
          "/theme_info",
          "/pdf_info",
          "/theme_info",
          "/theme_info",
          "/pdf_info",
          "/dist_methology",
          "/theme_info",
          "/pdf_info",
          "/strategy",
          "/strategy",
          "/click_invest",
          "/click_invest",
          "/theme_info",
          "/theme_info",
          "/pdf_info",
          "/theme_info",
          "/pdf_info",
          "/dist_methology",
          "/pdf_info",
          "/strategy",
          "/strategy",
          "/click_invest",
          "/click_invest",
          "/theme_info",
          "/pdf_info",
          "/dist_methology",
          "/pdf_info",
          "/strategy",
          "/strategy",
          "/click_invest",
          "/click_invest",
          "/theme_info",
          "/pdf_info",
          "/theme_info",
          "/theme_info",
          "/pdf_info",
          "/strategy",
          "/strategy",
          "/theme_info",
          "/pdf_info",
          "/theme_info",
          "/pdf_info",
          "/theme_info",
          "/theme_info",
          "/pdf_info",
          "/dist_methology",
          "/pdf_info",
          "/theme_info",
          "/pdf_info",
          "/strategy",
          "/strategy",
          "/pdf_info",
          "/theme_info",
          "/theme_info",
          "/pdf_info",
          "/dist_methology",
          "/pdf_info",
          "/pdf_info",
          "/theme_info",
          "/theme_info",
          "/theme_info",
          "/pdf_info",
          "/theme_info",
          "/theme_info",
          "/pdf_info",
          "/strategy",
          "/strategy",
          "/click_invest",
          "/click_invest",
          "/pdf_info",
          "/theme_info",
          "/theme_info",
          "/theme_info",
          "/pdf_info",
          "/theme_info",
          "/pdf_info",
          "/theme_info",
          "/pdf_info",
          "/strategy",
          "/strategy",
          "/click_invest",
          "/click_invest",
          "/theme_info",
          "/theme_info",
          "/pdf_info",
          "/dist_methology",
          "/pdf_info",
          "/dist_methology",
          "/pdf_info",
          "/strategy",
          "/strategy",
          "/click_invest",
          "/click_invest",
          "/theme_info",
          "/pdf_info",
          "/theme_info",
          "/pdf_info",
          "/theme_info",
          "/pdf_info",
          "/theme_info",
          "/pdf_info",
          "/theme_info",
          "/theme_info",
          "/pdf_info",
          "/theme_info",
          "/pdf_info",
          "/theme_info",
          "/theme_info",
          "/pdf_info",
          "/strategy",
          "/strategy",
          "/strategy",
          "/theme_info",
          "/pdf_info",
          "/strategy",
          "/strategy",
          "/pdf_info",
          "/theme_info",
          "/theme_info",
          "/pdf_info",
          "/theme_info",
          "/pdf_info",
          "/strategy",
          "/strategy",
          "/theme_info",
          "/pdf_info",
          "/pdf_info",
          "/dist_methology",
          "/dist_methology",
          "/pdf_info",
          "/pdf_info",
          "/theme_info",
          "/strategy",
          "/strategy",
          "/click_invest",
          "/click_invest",
          "/theme_info",
          "/theme_info",
          "/pdf_info",
          "/theme_info",
          "/theme_info",
          "/theme_info",
          "/theme_info",
          "/pdf_info",
          "/strategy",
          "/strategy",
          "/theme_info",
          "/pdf_info",
          "/theme_info",
          "/pdf_info",
          "/theme_info",
          "/theme_info",
          "/pdf_info",
          "/strategy",
          "/strategy",
          "/theme_info",
          "/pdf_info",
          "/strategy",
          "/strategy",
          "/theme_info",
          "/pdf_info",
          "/dist_methology",
          "/pdf_info",
          "/strategy",
          "/theme_info",
          "/theme_info",
          "/pdf_info",
          "/strategy",
          "/theme_info",
          "/pdf_info",
          "/strategy",
          "/click_invest",
          "/click_invest",
          "/theme_info",
          "/theme_info",
          "/theme_info",
          "/theme_info",
          "/pdf_info",
          "/strategy",
          "/strategy",
          "/click_invest",
          "/click_invest",
          "/theme_info",
          "/pdf_info",
          "/dist_methology",
          "/theme_info",
          "/theme_info",
          "/pdf_info",
          "/dist_methology",
          "/pdf_info",
          "/dist_methology",
          "/pdf_info",
          "/theme_info",
          "/theme_info",
          "/pdf_info",
          "/dist_methology",
          "/pdf_info",
          "/strategy",
          "/strategy",
          "/click_invest",
          "/click_invest",
          "/theme_info",
          "/pdf_info",
          "/strategy",
          "/strategy",
          "/pdf_info",
          "/theme_info",
          "/pdf_info",
          "/theme_info",
          "/pdf_info",
          "/dist_methology",
          "/pdf_info",
          "/theme_info",
          "/theme_info",
          "/pdf_info",
          "/strategy",
          "/strategy",
          "/click_invest",
          "/click_invest",
          "/click_invest",
          "/theme_info",
          "/pdf_info",
          "/strategy",
          "/strategy",
          "/click_invest",
          "/click_invest",
          "/theme_info",
          "/theme_info",
          "/pdf_info",
          "/theme_info",
          "/pdf_info",
          "/theme_info",
          "/pdf_info",
          "/theme_info",
          "/theme_info",
          "/theme_info",
          "/pdf_info",
          "/strategy",
          "/strategy",
          "/click_invest",
          "/click_invest",
          "/theme_info",
          "/pdf_info",
          "/theme_info",
          "/theme_info",
          "/theme_info",
          "/pdf_info",
          "/theme_info",
          "/pdf_info",
          "/theme_info",
          "/theme_info",
          "/theme_info",
          "/pdf_info",
          "/strategy",
          "/strategy",
          "/pdf_info",
          "/theme_info",
          "/theme_info",
          "/pdf_info",
          "/dist_methology",
          "/pdf_info",
          "/theme_info",
          "/theme_info",
          "/pdf_info",
          "/strategy",
          "/strategy",
          "/pdf_info",
          "/theme_info",
          "/theme_info",
          "/theme_info",
          "/pdf_info",
          "/dist_methology",
          "/pdf_info",
          "/theme_info",
          "/theme_info",
          "/pdf_info",
          "/strategy",
          "/strategy",
          "/theme_info",
          "/pdf_info",
          "/theme_info",
          "/theme_info",
          "/pdf_info",
          "/theme_info",
          "/theme_info",
          "/theme_info",
          "/pdf_info",
          "/theme_info",
          "/pdf_info",
          "/strategy",
          "/strategy",
          "/theme_info",
          "/pdf_info",
          "/theme_info",
          "/pdf_info",
          "/theme_info",
          "/pdf_info",
          "/strategy",
          "/strategy",
          "/click_invest",
          "/click_invest",
          "/theme_info",
          "/pdf_info",
          "/strategy",
          "/theme_info",
          "/pdf_info",
          "/dist_methology",
          "/pdf_info",
          "/strategy",
          "/pdf_info",
          "/strategy",
          "/click_invest",
          "/pdf_info",
          "/theme_info",
          "/pdf_info",
          "/dist_methology",
          "/pdf_info",
          "/strategy",
          "/strategy",
          "/pdf_info",
          "/theme_info",
          "/theme_info",
          "/pdf_info",
          "/theme_info",
          "/pdf_info",
          "/pdf_info",
          "/pdf_info",
          "/theme_info",
          "/pdf_info",
          "/theme_info",
          "/pdf_info",
          "/strategy",
          "/theme_info",
          "/pdf_info",
          "/theme_info",
          "/pdf_info",
          "/dist_methology",
          "/pdf_info",
          "/strategy",
          "/strategy",
          "/click_invest",
          "/click_invest",
          "/theme_info",
          "/pdf_info",
          "/theme_info",
          "/pdf_info",
          "/strategy",
          "/strategy",
          "/theme_info",
          "/pdf_info",
          "/dist_methology",
          "/pdf_info",
          "/strategy",
          "/strategy",
          "/pdf_info",
          "/theme_info",
          "/theme_info",
          "/pdf_info",
          "/dist_methology",
          "/pdf_info",
          "/strategy",
          "/strategy",
          "/click_invest",
          "/click_invest",
          "/theme_info",
          "/pdf_info",
          "/dist_methology",
          "/pdf_info",
          "/theme_info",
          "/pdf_info",
          "/strategy",
          "/strategy",
          "/pdf_info",
          "/theme_info",
          "/pdf_info",
          "/theme_info",
          "/theme_info",
          "/pdf_info",
          "/dist_methology",
          "/pdf_info",
          "/theme_info",
          "/theme_info",
          "/pdf_info",
          "/theme_info",
          "/pdf_info",
          "/theme_info",
          "/pdf_info",
          "/theme_info",
          "/theme_info",
          "/theme_info",
          "/theme_info",
          "/pdf_info",
          "/theme_info",
          "/pdf_info",
          "/dist_methology",
          "/pdf_info",
          "/dist_methology",
          "/pdf_info",
          "/theme_info",
          "/pdf_info",
          "/strategy",
          "/strategy",
          "/click_invest",
          "/click_invest",
          "/pdf_info",
          "/dist_methology",
          "/pdf_info",
          "/strategy",
          "/click_invest",
          "/theme_info",
          "/pdf_info",
          "/dist_methology",
          "/pdf_info",
          "/theme_info",
          "/pdf_info",
          "/dist_methology",
          "/theme_info",
          "/pdf_info",
          "/dist_methology",
          "/pdf_info",
          "/theme_info",
          "/pdf_info",
          "/theme_info",
          "/pdf_info",
          "/theme_info",
          "/pdf_info",
          "/theme_info",
          "/pdf_info",
          "/theme_info",
          "/pdf_info",
          "/theme_info",
          "/theme_info",
          "/theme_info",
          "/pdf_info",
          "/dist_methology",
          "/theme_info",
          "/theme_info",
          "/theme_info",
          "/pdf_info",
          "/pdf_info",
          "/theme_info",
          "/strategy",
          "/strategy",
          "/pdf_info",
          "/theme_info",
          "/pdf_info",
          "/theme_info",
          "/pdf_info",
          "/strategy",
          "/strategy",
          "/click_invest",
          "/click_invest",
          "/click_invest",
          "/theme_info",
          "/pdf_info",
          "/theme_info",
          "/pdf_info",
          "/dist_methology",
          "/pdf_info",
          "/strategy",
          "/strategy",
          "/theme_info",
          "/pdf_info",
          "/dist_methology",
          "/pdf_info",
          "/strategy",
          "/theme_info",
          "/click_invest",
          "/click_invest",
          "/pdf_info",
          "/pdf_info",
          "/theme_info",
          "/pdf_info",
          "/theme_info",
          "/pdf_info",
          "/dist_methology",
          "/pdf_info",
          "/theme_info",
          "/pdf_info",
          "/dist_methology",
          "/pdf_info",
          "/strategy",
          "/pdf_info",
          "/strategy",
          "/click_invest",
          "/click_invest",
          "/theme_info",
          "/pdf_info",
          "/theme_info",
          "/pdf_info",
          "/strategy",
          "/strategy",
          "/pdf_info",
          "/theme_info",
          "/theme_info",
          "/theme_info",
          "/pdf_info",
          "/theme_info",
          "/pdf_info",
          "/strategy",
          "/strategy",
          "/click_invest",
          "/click_invest",
          "/pdf_info",
          "/theme_info",
          "/pdf_info",
          "/theme_info",
          "/theme_info",
          "/pdf_info",
          "/theme_info",
          "/theme_info",
          "/pdf_info",
          "/dist_methology",
          "/pdf_info",
          "/strategy",
          "/strategy",
          "/click_invest",
          "/click_invest",
          "/pdf_info",
          "/theme_info",
          "/theme_info",
          "/theme_info",
          "/pdf_info",
          "/dist_methology",
          "/pdf_info",
          "/theme_info",
          "/theme_info",
          "/pdf_info",
          "/strategy",
          "/strategy",
          "/pdf_info",
          "/dist_methology",
          "/pdf_info",
          "/theme_info",
          "/theme_info",
          "/pdf_info",
          "/dist_methology",
          "/pdf_info",
          "/theme_info",
          "/pdf_info",
          "/theme_info",
          "/pdf_info",
          "/theme_info",
          "/pdf_info",
          "/theme_info",
          "/theme_info",
          "/theme_info",
          "/pdf_info",
          "/theme_info",
          "/pdf_info",
          "/dist_methology",
          "/pdf_info",
          "/theme_info",
          "/pdf_info",
          "/theme_info",
          "/theme_info",
          "/theme_info",
          "/theme_info",
          "/pdf_info",
          "/dist_methology",
          "/pdf_info",
          "/pdf_info",
          "/theme_info",
          "/theme_info",
          "/pdf_info",
          "/strategy",
          "/strategy",
          "/theme_info",
          "/pdf_info",
          "/strategy",
          "/strategy",
          "/click_invest",
          "/click_invest",
          "/click_invest",
          "/theme_info",
          "/pdf_info",
          "/strategy",
          "/strategy",
          "/click_invest",
          "/click_invest",
          "/pdf_info",
          "/theme_info",
          "/theme_info",
          "/pdf_info",
          "/dist_methology",
          "/pdf_info",
          "/theme_info",
          "/theme_info",
          "/pdf_info",
          "/dist_methology",
          "/pdf_info",
          "/theme_info",
          "/theme_info",
          "/pdf_info",
          "/dist_methology",
          "/theme_info",
          "/pdf_info",
          "/theme_info",
          "/pdf_info",
          "/theme_info",
          "/dist_methology",
          "/pdf_info",
          "/theme_info",
          "/theme_info",
          "/theme_info",
          "/pdf_info",
          "/dist_methology",
          "/pdf_info",
          "/theme_info",
          "/pdf_info",
          "/theme_info",
          "/pdf_info",
          "/theme_info",
          "/pdf_info",
          "/theme_info",
          "/pdf_info",
          "/theme_info",
          "/pdf_info",
          "/theme_info",
          "/theme_info",
          "/theme_info",
          "/pdf_info",
          "/dist_methology",
          "/pdf_info",
          "/theme_info",
          "/theme_info",
          "/pdf_info",
          "/theme_info",
          "/theme_info",
          "/pdf_info",
          "/strategy",
          "/strategy",
          "/pdf_info",
          "/theme_info",
          "/theme_info",
          "/theme_info",
          "/pdf_info",
          "/dist_methology",
          "/pdf_info",
          "/theme_info",
          "/pdf_info",
          "/dist_methology",
          "/pdf_info",
          "/dist_methology",
          "/pdf_info",
          "/theme_info",
          "/pdf_info",
          "/strategy",
          "/strategy",
          "/click_invest",
          "/click_invest",
          "/theme_info",
          "/pdf_info",
          "/theme_info",
          "/theme_info",
          "/pdf_info",
          "/theme_info",
          "/theme_info",
          "/theme_info",
          "/pdf_info",
          "/theme_info",
          "/pdf_info",
          "/strategy",
          "/strategy",
          "/theme_info",
          "/theme_info",
          "/pdf_info",
          "/strategy",
          "/strategy",
          "/pdf_info",
          "/theme_info",
          "/pdf_info",
          "/strategy",
          "/pdf_info",
          "/theme_info",
          "/theme_info",
          "/theme_info",
          "/pdf_info",
          "/dist_methology",
          "/pdf_info",
          "/strategy",
          "/strategy",
          "/click_invest",
          "/click_invest",
          "/theme_info",
          "/pdf_info",
          "/theme_info",
          "/pdf_info",
          "/theme_info",
          "/pdf_info",
          "/theme_info",
          "/theme_info",
          "/pdf_info",
          "/dist_methology",
          "/pdf_info",
          "/strategy",
          "/strategy",
          "/pdf_info",
          "/theme_info",
          "/theme_info",
          "/theme_info",
          "/theme_info",
          "/theme_info",
          "/theme_info",
          "/pdf_info",
          "/strategy",
          "/strategy",
          "/click_invest",
          "/click_invest",
          "/theme_info",
          "/pdf_info",
          "/dist_methology",
          "/theme_info",
          "/theme_info",
          "/pdf_info",
          "/strategy",
          "/strategy",
          "/click_invest",
          "/click_invest",
          "/theme_info",
          "/pdf_info",
          "/dist_methology",
          "/theme_info",
          "/pdf_info",
          "/dist_methology",
          "/pdf_info",
          "/dist_methology",
          "/pdf_info",
          "/pdf_info",
          "/dist_methology",
          "/pdf_info",
          "/dist_methology",
          "/pdf_info",
          "/theme_info",
          "/strategy",
          "/click_invest",
          "/theme_info",
          "/pdf_info",
          "/strategy",
          "/strategy",
          "/click_invest",
          "/click_invest",
          "/pdf_info",
          "/pdf_info",
          "/theme_info",
          "/pdf_info",
          "/theme_info",
          "/theme_info",
          "/pdf_info",
          "/dist_methology",
          "/pdf_info",
          "/theme_info",
          "/pdf_info",
          "/dist_methology",
          "/theme_info",
          "/pdf_info",
          "/strategy",
          "/strategy",
          "/click_invest",
          "/click_invest",
          "/click_invest",
          "/click_invest",
          "/theme_info",
          "/theme_info",
          "/pdf_info",
          "/theme_info",
          "/pdf_info",
          "/theme_info",
          "/theme_info",
          "/pdf_info",
          "/theme_info",
          "/pdf_info",
          "/dist_methology",
          "/pdf_info",
          "/strategy",
          "/strategy",
          "/click_invest",
          "/click_invest",
          "/theme_info",
          "/pdf_info",
          "/theme_info",
          "/pdf_info",
          "/strategy",
          "/strategy",
          "/click_invest",
          "/click_invest",
          "/pdf_info",
          "/theme_info",
          "/theme_info",
          "/pdf_info",
          "/dist_methology",
          "/pdf_info",
          "/strategy",
          "/strategy",
          "/click_invest",
          "/click_invest",
          "/theme_info",
          "/pdf_info",
          "/theme_info",
          "/pdf_info",
          "/theme_info",
          "/pdf_info",
          "/theme_info",
          "/pdf_info",
          "/theme_info",
          "/pdf_info",
          "/theme_info",
          "/pdf_info",
          "/theme_info",
          "/pdf_info",
          "/dist_methology",
          "/theme_info",
          "/pdf_info",
          "/pdf_info",
          "/strategy",
          "/strategy",
          "/click_invest",
          "/click_invest",
          "/dist_methology",
          "/click_invest",
          "/theme_info",
          "/pdf_info",
          "/theme_info",
          "/pdf_info",
          "/theme_info",
          "/theme_info",
          "/pdf_info",
          "/strategy",
          "/strategy",
          "/click_invest",
          "/click_invest",
          "/click_invest",
          "/theme_info",
          "/theme_info",
          "/pdf_info",
          "/theme_info",
          "/theme_info",
          "/theme_info",
          "/pdf_info",
          "/strategy",
          "/strategy",
          "/strategy",
          "/click_invest",
          "/click_invest",
          "/theme_info",
          "/pdf_info",
          "/strategy",
          "/strategy",
          "/click_invest",
          "/click_invest",
          "/theme_info",
          "/pdf_info",
          "/theme_info",
          "/pdf_info",
          "/strategy",
          "/strategy",
          "/strategy",
          "/click_invest",
          "/click_invest",
          "/pdf_info",
          "/theme_info",
          "/pdf_info",
          "/strategy",
          "/click_invest",
          "/pdf_info",
          "/theme_info",
          "/pdf_info",
          "/dist_methology",
          "/pdf_info",
          "/strategy",
          "/strategy",
          "/click_invest",
          "/click_invest",
          "/theme_info",
          "/theme_info",
          "/pdf_info",
          "/strategy",
          "/strategy",
          "/click_invest",
          "/click_invest",
          "/theme_info",
          "/pdf_info",
          "/strategy",
          "/click_invest",
          "/theme_info",
          "/theme_info",
          "/pdf_info",
          "/dist_methology",
          "/pdf_info",
          "/dist_methology",
          "/pdf_info",
          "/theme_info",
          "/pdf_info",
          "/dist_methology",
          "/pdf_info",
          "/theme_info",
          "/pdf_info",
          "/dist_methology",
          "/pdf_info",
          "/theme_info",
          "/pdf_info",
          "/theme_info",
          "/theme_info",
          "/pdf_info",
          "/theme_info",
          "/pdf_info",
          "/theme_info",
          "/theme_info",
          "/pdf_info",
          "/dist_methology",
          "/pdf_info",
          "/theme_info",
          "/pdf_info",
          "/dist_methology",
          "/pdf_info",
          "/theme_info",
          "/theme_info",
          "/theme_info",
          "/pdf_info",
          "/theme_info",
          "/theme_info",
          "/pdf_info",
          "/theme_info",
          "/theme_info",
          "/theme_info",
          "/pdf_info",
          "/dist_methology",
          "/theme_info",
          "/pdf_info",
          "/strategy",
          "/strategy",
          "/theme_info",
          "/theme_info",
          "/theme_info",
          "/pdf_info",
          "/pdf_info",
          "/strategy",
          "/click_invest",
          "/click_invest",
          "/strategy",
          "/strategy",
          "/click_invest",
          "/click_invest",
          "/theme_info",
          "/pdf_info",
          "/dist_methology",
          "/pdf_info",
          "/strategy",
          "/strategy",
          "/click_invest",
          "/click_invest",
          "/pdf_info",
          "/theme_info",
          "/theme_info",
          "/pdf_info",
          "/dist_methology",
          "/pdf_info",
          "/strategy",
          "/strategy",
          "/theme_info",
          "/pdf_info",
          "/dist_methology",
          "/pdf_info",
          "/strategy",
          "/strategy",
          "/pdf_info",
          "/theme_info",
          "/theme_info",
          "/theme_info",
          "/pdf_info",
          "/strategy",
          "/strategy",
          "/click_invest",
          "/click_invest",
          "/theme_info",
          "/theme_info",
          "/pdf_info",
          "/strategy",
          "/strategy",
          "/click_invest",
          "/click_invest",
          "/pdf_info",
          "/strategy",
          "/click_invest",
          "/pdf_info",
          "/theme_info",
          "/pdf_info",
          "/strategy",
          "/click_invest",
          "/theme_info",
          "/theme_info",
          "/theme_info",
          "/theme_info",
          "/theme_info",
          "/pdf_info",
          "/theme_info",
          "/theme_info",
          "/pdf_info",
          "/theme_info",
          "/pdf_info",
          "/theme_info",
          "/pdf_info",
          "/theme_info",
          "/pdf_info",
          "/theme_info",
          "/pdf_info",
          "/theme_info",
          "/pdf_info",
          "/theme_info",
          "/pdf_info",
          "/strategy",
          "/strategy",
          "/pdf_info",
          "/theme_info",
          "/pdf_info",
          "/theme_info",
          "/theme_info",
          "/pdf_info",
          "/theme_info",
          "/pdf_info",
          "/theme_info",
          "/pdf_info",
          "/theme_info",
          "/theme_info",
          "/pdf_info",
          "/theme_info",
          "/pdf_info",
          "/theme_info",
          "/pdf_info",
          "/strategy",
          "/strategy",
          "/pdf_info",
          "/theme_info",
          "/theme_info",
          "/pdf_info",
          "/theme_info",
          "/pdf_info",
          "/theme_info",
          "/pdf_info",
          "/theme_info",
          "/pdf_info",
          "/theme_info",
          "/theme_info",
          "/pdf_info",
          "/strategy",
          "/strategy",
          "/click_invest",
          "/click_invest",
          "/theme_info",
          "/theme_info",
          "/pdf_info",
          "/dist_methology",
          "/theme_info",
          "/pdf_info",
          "/dist_methology",
          "/theme_info",
          "/pdf_info",
          "/dist_methology",
          "/theme_info",
          "/pdf_info",
          "/theme_info",
          "/pdf_info",
          "/dist_methology",
          "/pdf_info",
          "/theme_info",
          "/pdf_info",
          "/theme_info",
          "/theme_info",
          "/pdf_info",
          "/theme_info",
          "/pdf_info",
          "/pdf_info",
          "/theme_info",
          "/pdf_info",
          "/dist_methology",
          "/pdf_info",
          "/strategy",
          "/strategy",
          "/click_invest",
          "/click_invest",
          "/theme_info",
          "/pdf_info",
          "/theme_info",
          "/pdf_info",
          "/theme_info",
          "/pdf_info",
          "/theme_info",
          "/theme_info",
          "/pdf_info",
          "/theme_info",
          "/pdf_info",
          "/theme_info",
          "/theme_info",
          "/pdf_info",
          "/theme_info",
          "/pdf_info",
          "/theme_info",
          "/pdf_info",
          "/dist_methology",
          "/pdf_info",
          "/strategy",
          "/strategy",
          "/click_invest",
          "/click_invest",
          "/pdf_info",
          "/theme_info",
          "/pdf_info",
          "/theme_info",
          "/pdf_info",
          "/theme_info",
          "/pdf_info",
          "/theme_info",
          "/theme_info",
          "/pdf_info",
          "/theme_info",
          "/pdf_info",
          "/dist_methology",
          "/pdf_info",
          "/strategy",
          "/strategy",
          "/pdf_info",
          "/theme_info",
          "/theme_info",
          "/pdf_info",
          "/theme_info",
          "/pdf_info",
          "/theme_info",
          "/pdf_info",
          "/dist_methology",
          "/pdf_info",
          "/dist_methology",
          "/pdf_info",
          "/theme_info",
          "/pdf_info",
          "/strategy",
          "/strategy",
          "/click_invest",
          "/click_invest",
          "/theme_info",
          "/theme_info",
          "/pdf_info",
          "/dist_methology",
          "/pdf_info",
          "/theme_info",
          "/pdf_info",
          "/theme_info",
          "/pdf_info",
          "/theme_info",
          "/theme_info",
          "/pdf_info",
          "/dist_methology",
          "/pdf_info",
          "/strategy",
          "/strategy",
          "/click_invest",
          "/click_invest",
          "/theme_info",
          "/pdf_info",
          "/dist_methology",
          "/theme_info",
          "/pdf_info",
          "/theme_info",
          "/theme_info",
          "/pdf_info",
          "/strategy",
          "/strategy",
          "/click_invest",
          "/click_invest",
          "/theme_info",
          "/pdf_info",
          "/dist_methology",
          "/theme_info",
          "/pdf_info",
          "/dist_methology",
          "/pdf_info",
          "/theme_info",
          "/pdf_info",
          "/dist_methology",
          "/pdf_info",
          "/theme_info",
          "/pdf_info",
          "/strategy",
          "/strategy",
          "/pdf_info",
          "/dist_methology",
          "/theme_info",
          "/pdf_info",
          "/dist_methology",
          "/pdf_info",
          "/theme_info",
          "/pdf_info",
          "/theme_info",
          "/pdf_info",
          "/theme_info",
          "/pdf_info",
          "/theme_info",
          "/pdf_info",
          "/theme_info",
          "/pdf_info",
          "/theme_info",
          "/pdf_info",
          "/theme_info",
          "/pdf_info",
          "/theme_info",
          "/pdf_info",
          "/theme_info",
          "/pdf_info",
          "/theme_info",
          "/pdf_info",
          "/theme_info",
          "/pdf_info",
          "/theme_info",
          "/pdf_info",
          "/theme_info",
          "/theme_info",
          "/pdf_info",
          "/theme_info",
          "/pdf_info",
          "/theme_info",
          "/pdf_info",
          "/strategy",
          "/strategy",
          "/theme_info",
          "/pdf_info",
          "/dist_methology",
          "/pdf_info",
          "/dist_methology",
          "/pdf_info",
          "/strategy",
          "/strategy",
          "/theme_info",
          "/pdf_info",
          "/dist_methology",
          "/pdf_info",
          "/dist_methology",
          "/pdf_info",
          "/theme_info",
          "/pdf_info",
          "/dist_methology",
          "/pdf_info",
          "/theme_info",
          "/theme_info",
          "/theme_info",
          "/pdf_info",
          "/strategy",
          "/strategy",
          "/click_invest",
          "/click_invest",
          "/click_invest",
          "/theme_info",
          "/pdf_info",
          "/theme_info",
          "/theme_info",
          "/pdf_info",
          "/theme_info",
          "/theme_info",
          "/theme_info",
          "/pdf_info",
          "/theme_info",
          "/pdf_info",
          "/pdf_info",
          "/pdf_info",
          "/strategy",
          "/strategy",
          "/pdf_info",
          "/dist_methology",
          "/theme_info",
          "/pdf_info",
          "/strategy",
          "/strategy",
          "/pdf_info",
          "/theme_info",
          "/pdf_info",
          "/strategy",
          "/theme_info",
          "/pdf_info",
          "/theme_info",
          "/pdf_info",
          "/dist_methology",
          "/pdf_info",
          "/theme_info",
          "/theme_info",
          "/theme_info",
          "/pdf_info",
          "/theme_info",
          "/pdf_info",
          "/strategy",
          "/strategy",
          "/theme_info",
          "/theme_info",
          "/theme_info",
          "/theme_info",
          "/pdf_info",
          "/strategy",
          "/strategy",
          "/click_invest",
          "/click_invest",
          "/theme_info",
          "/pdf_info",
          "/theme_info",
          "/theme_info",
          "/pdf_info",
          "/pdf_info",
          "/dist_methology",
          "/dist_methology",
          "/pdf_info",
          "/theme_info",
          "/pdf_info",
          "/strategy",
          "/strategy",
          "/click_invest",
          "/click_invest",
          "/pdf_info",
          "/pdf_info",
          "/dist_methology",
          "/strategy",
          "/click_invest",
          "/pdf_info",
          "/dist_methology",
          "/theme_info",
          "/theme_info",
          "/theme_info",
          "/pdf_info",
          "/theme_info",
          "/theme_info",
          "/theme_info",
          "/theme_info",
          "/theme_info",
          "/theme_info",
          "/theme_info",
          "/theme_info",
          "/pdf_info",
          "/pdf_info",
          "/pdf_info",
          "/theme_info",
          "/strategy",
          "/strategy",
          "/pdf_info",
          "/dist_methology",
          "/theme_info",
          "/pdf_info",
          "/theme_info",
          "/pdf_info",
          "/theme_info",
          "/pdf_info",
          "/theme_info",
          "/pdf_info",
          "/theme_info",
          "/theme_info",
          "/pdf_info",
          "/theme_info",
          "/theme_info",
          "/theme_info",
          "/pdf_info",
          "/dist_methology",
          "/pdf_info",
          "/dist_methology",
          "/theme_info",
          "/pdf_info",
          "/dist_methology",
          "/pdf_info",
          "/pdf_info",
          "/theme_info",
          "/strategy",
          "/strategy",
          "/pdf_info",
          "/theme_info",
          "/click_invest",
          "/click_invest",
          "/pdf_info",
          "/dist_methology",
          "/theme_info",
          "/pdf_info",
          "/dist_methology",
          "/pdf_info",
          "/theme_info",
          "/pdf_info",
          "/theme_info",
          "/theme_info",
          "/pdf_info",
          "/theme_info",
          "/pdf_info",
          "/dist_methology",
          "/pdf_info",
          "/dist_methology",
          "/theme_info",
          "/pdf_info",
          "/theme_info",
          "/pdf_info",
          "/dist_methology",
          "/pdf_info",
          "/theme_info",
          "/theme_info",
          "/pdf_info",
          "/theme_info",
          "/pdf_info",
          "/dist_methology",
          "/theme_info",
          "/pdf_info",
          "/pdf_info",
          "/theme_info",
          "/strategy",
          "/strategy",
          "/click_invest",
          "/click_invest",
          "/theme_info",
          "/pdf_info",
          "/strategy",
          "/strategy",
          "/click_invest",
          "/click_invest",
          "/theme_info",
          "/pdf_info",
          "/theme_info",
          "/pdf_info",
          "/strategy",
          "/strategy",
          "/strategy",
          "/click_invest",
          "/click_invest",
          "/theme_info",
          "/pdf_info",
          "/dist_methology",
          "/pdf_info",
          "/theme_info",
          "/pdf_info",
          "/theme_info",
          "/theme_info",
          "/pdf_info",
          "/dist_methology",
          "/pdf_info",
          "/theme_info",
          "/pdf_info",
          "/pdf_info",
          "/dist_methology",
          "/strategy",
          "/strategy",
          "/pdf_info",
          "/pdf_info",
          "/theme_info",
          "/theme_info",
          "/pdf_info",
          "/pdf_info",
          "/strategy",
          "/theme_info",
          "/pdf_info",
          "/theme_info",
          "/theme_info",
          "/theme_info",
          "/pdf_info",
          "/theme_info",
          "/theme_info",
          "/theme_info",
          "/theme_info",
          "/theme_info",
          "/pdf_info",
          "/theme_info",
          "/pdf_info",
          "/strategy",
          "/strategy",
          "/click_invest",
          "/click_invest",
          "/dist_methology",
          "/pdf_info",
          "/strategy",
          "/click_invest",
          "/click_invest",
          "/theme_info",
          "/theme_info",
          "/theme_info",
          "/theme_info",
          "/pdf_info",
          "/theme_info",
          "/pdf_info",
          "/theme_info",
          "/strategy",
          "/strategy",
          "/dist_methology",
          "/pdf_info",
          "/pdf_info",
          "/strategy",
          "/strategy",
          "/click_invest",
          "/click_invest",
          "/theme_info",
          "/pdf_info",
          "/strategy",
          "/pdf_info",
          "/pdf_info",
          "/strategy",
          "/click_invest",
          "/pdf_info",
          "/theme_info",
          "/pdf_info",
          "/dist_methology",
          "/pdf_info",
          "/theme_info",
          "/pdf_info",
          "/pdf_info",
          "/strategy",
          "/strategy",
          "/click_invest",
          "/click_invest",
          "/strategy",
          "/pdf_info",
          "/dist_methology",
          "/strategy",
          "/click_invest",
          "/pdf_info",
          "/theme_info",
          "/pdf_info",
          "/theme_info",
          "/pdf_info",
          "/theme_info",
          "/pdf_info",
          "/dist_methology",
          "/theme_info",
          "/theme_info",
          "/pdf_info",
          "/theme_info",
          "/pdf_info",
          "/strategy",
          "/strategy",
          "/click_invest",
          "/strategy",
          "/click_invest",
          "/pdf_info",
          "/theme_info",
          "/pdf_info",
          "/theme_info",
          "/theme_info",
          "/theme_info",
          "/pdf_info",
          "/strategy",
          "/strategy",
          "/theme_info",
          "/pdf_info",
          "/dist_methology",
          "/pdf_info",
          "/strategy",
          "/strategy",
          "/click_invest",
          "/click_invest",
          "/theme_info",
          "/pdf_info",
          "/theme_info",
          "/theme_info",
          "/theme_info",
          "/pdf_info",
          "/dist_methology",
          "/pdf_info",
          "/dist_methology",
          "/pdf_info",
          "/strategy",
          "/strategy",
          "/click_invest",
          "/click_invest",
          "/theme_info",
          "/pdf_info",
          "/theme_info",
          "/pdf_info",
          "/theme_info",
          "/pdf_info",
          "/theme_info",
          "/pdf_info",
          "/theme_info",
          "/pdf_info",
          "/dist_methology",
          "/pdf_info",
          "/strategy",
          "/strategy",
          "/click_invest",
          "/click_invest",
          "/theme_info",
          "/theme_info",
          "/pdf_info",
          "/dist_methology",
          "/pdf_info",
          "/theme_info",
          "/pdf_info",
          "/dist_methology",
          "/theme_info",
          "/pdf_info",
          "/strategy",
          "/strategy",
          "/theme_info",
          "/theme_info",
          "/pdf_info",
          "/pdf_info",
          "/theme_info",
          "/theme_info",
          "/pdf_info",
          "/dist_methology",
          "/pdf_info",
          "/strategy",
          "/strategy",
          "/click_invest",
          "/click_invest",
          "/theme_info",
          "/pdf_info",
          "/theme_info",
          "/theme_info",
          "/theme_info",
          "/theme_info",
          "/theme_info",
          "/pdf_info",
          "/theme_info",
          "/pdf_info",
          "/theme_info",
          "/theme_info",
          "/pdf_info",
          "/strategy",
          "/strategy",
          "/strategy",
          "/click_invest",
          "/click_invest",
          "/theme_info",
          "/pdf_info",
          "/strategy",
          "/strategy",
          "/theme_info",
          "/theme_info",
          "/theme_info",
          "/pdf_info",
          "/theme_info",
          "/pdf_info",
          "/strategy",
          "/strategy",
          "/click_invest",
          "/click_invest",
          "/theme_info",
          "/theme_info",
          "/pdf_info",
          "/theme_info",
          "/pdf_info",
          "/theme_info",
          "/pdf_info",
          "/strategy",
          "/strategy",
          "/click_invest",
          "/click_invest",
          "/pdf_info",
          "/theme_info",
          "/theme_info",
          "/pdf_info",
          "/strategy",
          "/strategy",
          "/theme_info",
          "/click_invest",
          "/click_invest",
          "/pdf_info",
          "/strategy",
          "/strategy",
          "/pdf_info",
          "/theme_info",
          "/theme_info",
          "/pdf_info",
          "/theme_info",
          "/theme_info",
          "/pdf_info",
          "/strategy",
          "/pdf_info",
          "/theme_info",
          "/theme_info",
          "/pdf_info",
          "/theme_info",
          "/theme_info",
          "/theme_info",
          "/theme_info",
          "/pdf_info",
          "/strategy",
          "/strategy",
          "/click_invest",
          "/click_invest",
          "/theme_info",
          "/theme_info",
          "/pdf_info",
          "/theme_info",
          "/pdf_info",
          "/strategy",
          "/strategy",
          "/click_invest",
          "/click_invest",
          "/theme_info",
          "/pdf_info",
          "/strategy",
          "/strategy",
          "/click_invest",
          "/click_invest",
          "/pdf_info",
          "/dist_methology",
          "/pdf_info",
          "/dist_methology",
          "/pdf_info",
          "/theme_info",
          "/pdf_info",
          "/theme_info",
          "/pdf_info",
          "/strategy",
          "/click_invest",
          "/theme_info",
          "/theme_info",
          "/theme_info",
          "/theme_info",
          "/theme_info",
          "/pdf_info",
          "/strategy",
          "/strategy",
          "/click_invest",
          "/click_invest",
          "/theme_info",
          "/pdf_info",
          "/strategy",
          "/strategy",
          "/click_invest",
          "/click_invest",
          "/pdf_info",
          "/theme_info",
          "/theme_info",
          "/pdf_info",
          "/strategy",
          "/strategy",
          "/click_invest",
          "/click_invest",
          "/pdf_info",
          "/theme_info",
          "/theme_info",
          "/pdf_info",
          "/dist_methology",
          "/pdf_info",
          "/theme_info",
          "/pdf_info",
          "/theme_info",
          "/pdf_info",
          "/theme_info",
          "/pdf_info",
          "/theme_info",
          "/dist_methology",
          "/pdf_info",
          "/theme_info",
          "/theme_info",
          "/theme_info",
          "/pdf_info",
          "/theme_info",
          "/pdf_info",
          "/strategy",
          "/strategy",
          "/click_invest",
          "/click_invest",
          "/pdf_info",
          "/strategy",
          "/click_invest",
          "/theme_info",
          "/pdf_info",
          "/dist_methology",
          "/pdf_info",
          "/theme_info",
          "/theme_info",
          "/pdf_info",
          "/strategy",
          "/strategy",
          "/theme_info",
          "/pdf_info",
          "/strategy",
          "/strategy",
          "/click_invest",
          "/click_invest",
          "/theme_info",
          "/pdf_info",
          "/dist_methology",
          "/pdf_info",
          "/theme_info",
          "/theme_info",
          "/pdf_info",
          "/theme_info",
          "/theme_info",
          "/pdf_info",
          "/dist_methology",
          "/pdf_info",
          "/dist_methology",
          "/pdf_info",
          "/theme_info",
          "/theme_info",
          "/pdf_info",
          "/theme_info",
          "/pdf_info",
          "/theme_info",
          "/pdf_info",
          "/theme_info",
          "/theme_info",
          "/pdf_info",
          "/dist_methology",
          "/pdf_info",
          "/strategy",
          "/strategy",
          "/click_invest",
          "/click_invest",
          "/pdf_info",
          "/dist_methology",
          "/pdf_info",
          "/dist_methology",
          "/theme_info",
          "/pdf_info",
          "/theme_info",
          "/pdf_info",
          "/theme_info",
          "/pdf_info",
          "/strategy",
          "/strategy",
          "/click_invest",
          "/click_invest",
          "/pdf_info",
          "/theme_info",
          "/theme_info",
          "/theme_info",
          "/pdf_info",
          "/theme_info",
          "/pdf_info",
          "/theme_info",
          "/theme_info",
          "/pdf_info",
          "/strategy",
          "/strategy",
          "/click_invest",
          "/click_invest",
          "/theme_info",
          "/pdf_info",
          "/dist_methology",
          "/pdf_info",
          "/strategy",
          "/strategy",
          "/click_invest",
          "/click_invest",
          "/theme_info",
          "/pdf_info",
          "/strategy",
          "/strategy",
          "/click_invest",
          "/click_invest",
          "/theme_info",
          "/pdf_info",
          "/theme_info",
          "/pdf_info",
          "/dist_methology",
          "/pdf_info",
          "/strategy",
          "/strategy",
          "/theme_info",
          "/theme_info",
          "/theme_info",
          "/pdf_info",
          "/theme_info",
          "/theme_info",
          "/pdf_info",
          "/strategy",
          "/strategy",
          "/click_invest",
          "/click_invest",
          "/pdf_info",
          "/theme_info",
          "/theme_info",
          "/theme_info",
          "/pdf_info",
          "/dist_methology",
          "/theme_info",
          "/pdf_info",
          "/strategy",
          "/strategy",
          "/click_invest",
          "/click_invest",
          "/pdf_info",
          "/theme_info",
          "/theme_info",
          "/theme_info",
          "/pdf_info",
          "/strategy",
          "/strategy",
          "/theme_info",
          "/theme_info",
          "/theme_info",
          "/pdf_info",
          "/dist_methology",
          "/pdf_info",
          "/theme_info",
          "/theme_info",
          "/theme_info",
          "/theme_info",
          "/pdf_info",
          "/theme_info",
          "/pdf_info",
          "/theme_info",
          "/pdf_info",
          "/dist_methology",
          "/pdf_info",
          "/strategy",
          "/strategy",
          "/pdf_info",
          "/dist_methology",
          "/pdf_info",
          "/theme_info",
          "/pdf_info",
          "/strategy",
          "/theme_info",
          "/pdf_info",
          "/stk_filtering",
          "/common_issues",
          "/stk_filtering",
          "/common_issues",
          "/stk_filtering",
          "/common_issues",
          "/stk_filtering",
          "/common_issues",
          "/stk_filtering",
          "/common_issues",
          "/stk_filtering",
          "/common_issues",
          "/stk_filtering",
          "/common_issues",
          "/stk_filtering",
          "/common_issues",
          "/stk_filtering",
          "/common_issues",
          "/stk_filtering",
          "/common_issues",
          "/stk_filtering",
          "/common_issues",
          "/stk_filtering",
          "/stk_filtering",
          "/stk_filtering",
          "/common_issues",
          "/stk_filtering",
          "/common_issues",
          "/stk_filtering",
          "/common_issues",
          "/stk_filtering",
          "/common_issues",
          "/stk_filtering",
          "/common_issues",
          "/stk_filtering",
          "/common_issues",
          "/stk_filtering",
          "/common_issues",
          "/stk_filtering",
          "/common_issues",
          "/stk_filtering",
          "/common_issues",
          "/stk_filtering",
          "/common_issues",
          "/stk_filtering",
          "/common_issues",
          "/stk_filtering",
          "/common_issues",
          "/stk_filtering",
          "/common_issues",
          "/stk_filtering",
          "/common_issues",
          "/stk_filtering",
          "/common_issues",
          "/stk_filtering",
          "/common_issues",
          "/stk_filtering",
          "/common_issues",
          "/stk_filtering",
          "/common_issues",
          "/stk_filtering",
          "/common_issues",
          "/stk_filtering",
          "/common_issues",
          "/stk_filtering",
          "/common_issues",
          "/stk_filtering",
          "/common_issues",
          "/stk_filtering",
          "/common_issues",
          "/stk_filtering",
          "/common_issues",
          "/stk_filtering",
          "/common_issues",
          "/stk_filtering",
          "/common_issues",
          "/stk_filtering",
          "/common_issues",
          "/stk_filtering",
          "/common_issues",
          "/stk_filtering",
          "/common_issues",
          "/stk_filtering",
          "/common_issues",
          "/stk_filtering",
          "/common_issues",
          "/stk_filtering",
          "/common_issues",
          "/stk_filtering",
          "/common_issues",
          "/stk_filtering",
          "/stk_filtering",
          "/common_issues",
          "/stk_filtering",
          "/common_issues",
          "/stk_filtering",
          "/common_issues",
          "/stk_filtering",
          "/common_issues",
          "/stk_filtering",
          "/common_issues",
          "/stk_filtering",
          "/common_issues",
          "/stk_filtering",
          "/common_issues",
          "/stk_filtering",
          "/common_issues",
          "/stk_filtering",
          "/common_issues",
          "/stk_filtering",
          "/common_issues",
          "/stk_filtering",
          "/common_issues",
          "/stk_filtering",
          "/common_issues",
          "/stk_filtering",
          "/common_issues",
          "/stk_filtering",
          "/common_issues",
          "/stk_filtering",
          "/common_issues",
          "/stk_filtering",
          "/common_issues",
          "/stk_filtering",
          "/common_issues",
          "/stk_filtering",
          "/common_issues",
          "/stk_filtering",
          "/common_issues",
          "/stk_filtering",
          "/common_issues",
          "/stk_filtering",
          "/common_issues",
          "/stk_filtering",
          "/common_issues",
          "/stk_filtering",
          "/common_issues",
          "/stk_filtering",
          "/common_issues",
          "/stk_filtering",
          "/common_issues",
          "/stk_filtering",
          "/common_issues",
          "/stk_filtering",
          "/common_issues",
          "/stk_filtering",
          "/common_issues",
          "/stk_filtering",
          "/common_issues",
          "/stk_filtering",
          "/common_issues",
          "/stk_filtering",
          "/common_issues",
          "/stk_filtering",
          "/common_issues",
          "/stk_filtering",
          "/common_issues",
          "/stk_filtering",
          "/common_issues",
          "/stk_filtering",
          "/common_issues",
          "/stk_filtering",
          "/common_issues",
          "/stk_filtering",
          "/common_issues",
          "/stk_filtering",
          "/common_issues",
          "/stk_filtering",
          "/common_issues",
          "/stk_filtering",
          "/common_issues",
          "/stk_filtering",
          "/common_issues",
          "/stk_filtering",
          "/common_issues",
          "/stk_filtering",
          "/common_issues",
          "/stk_filtering",
          "/common_issues",
          "/stk_filtering",
          "/common_issues",
          "/docs",
          "/openapi.json",
          "/stk_filtering",
          "/common_issues",
          "/stk_filtering",
          "/common_issues",
          "/stk_filtering",
          "/common_issues",
          "/stk_filtering",
          "/common_issues",
          "/stk_filtering",
          "/common_issues",
          "/stk_filtering",
          "/common_issues",
          "/stk_filtering",
          "/common_issues",
          "/stk_filtering",
          "/common_issues",
          "/stk_filtering",
          "/common_issues",
          "/stk_filtering",
          "/common_issues",
          "/stk_filtering",
          "/common_issues",
          "/stk_filtering",
          "/common_issues",
          "/stk_filtering",
          "/common_issues",
          "/stk_filtering",
          "/common_issues",
          "/stk_filtering",
          "/common_issues",
          "/stk_filtering",
          "/stk_filtering",
          "/common_issues",
          "/stk_filtering",
          "/common_issues",
          "/stk_filtering",
          "/common_issues",
          "/stk_filtering",
          "/common_issues",
          "/stk_filtering",
          "/common_issues",
          "/stk_filtering",
          "/common_issues",
          "/stk_filtering",
          "/common_issues",
          "/stk_filtering",
          "/common_issues",
          "/stk_filtering",
          "/common_issues",
          "/stk_filtering",
          "/common_issues",
          "/stk_filtering",
          "/common_issues",
          "/stk_filtering",
          "/common_issues",
          "/stk_filtering",
          "/common_issues",
          "/stk_filtering",
          "/common_issues",
          "/stk_filtering",
          "/common_issues",
          "/stk_filtering",
          "/common_issues",
          "/stk_filtering",
          "/common_issues",
          "/stk_filtering",
          "/common_issues",
          "/stk_filtering",
          "/common_issues",
          "/stk_filtering",
          "/common_issues",
          "/stk_filtering",
          "/common_issues",
          "/stk_filtering",
          "/common_issues",
          "/stk_filtering",
          "/common_issues",
          "/stk_filtering",
          "/common_issues",
          "/stk_filtering",
          "/common_issues",
          "/stk_filtering",
          "/common_issues",
          "/stk_filtering",
          "/common_issues",
          "/stk_filtering",
          "/common_issues",
          "/stk_filtering",
          "/common_issues",
          "/stk_filtering",
          "/common_issues",
          "/stk_filtering",
          "/common_issues",
          "/stk_filtering",
          "/common_issues",
          "/stk_filtering",
          "/common_issues",
          "/stk_filtering",
          "/common_issues",
          "/stk_filtering",
          "/common_issues",
          "/stk_filtering",
          "/common_issues",
          "/stk_filtering",
          "/common_issues",
          "/stk_filtering",
          "/common_issues",
          "/stk_filtering",
          "/common_issues",
          "/stk_filtering",
          "/common_issues",
          "/stk_filtering",
          "/common_issues",
          "/stk_filtering",
          "/common_issues",
          "/stk_filtering",
          "/common_issues",
          "/stk_filtering",
          "/common_issues",
          "/stk_filtering",
          "/common_issues",
          "/stk_filtering",
          "/common_issues",
          "/stk_filtering",
          "/common_issues",
          "/stk_filtering",
          "/common_issues",
          "/stk_filtering",
          "/common_issues",
          "/stk_filtering",
          "/common_issues",
          "/stk_filtering",
          "/common_issues",
          "/stk_filtering",
          "/common_issues",
          "/stk_filtering",
          "/common_issues",
          "/stk_filtering",
          "/common_issues",
          "/stk_filtering",
          "/common_issues",
          "/stk_filtering",
          "/common_issues",
          "/stk_filtering",
          "/common_issues",
          "/stk_filtering",
          "/common_issues",
          "/stk_filtering",
          "/common_issues",
          "/stk_filtering",
          "/common_issues",
          "/stk_filtering",
          "/common_issues",
          "/stk_filtering",
          "/common_issues",
          "/stk_filtering",
          "/common_issues",
          "/stk_filtering",
          "/common_issues",
          "/stk_filtering",
          "/common_issues",
          "/stk_filtering",
          "/common_issues",
          "/stk_filtering",
          "/common_issues",
          "/stk_filtering",
          "/common_issues",
          "/stk_filtering",
          "/common_issues",
          "/stk_filtering",
          "/common_issues",
          "/stk_filtering",
          "/common_issues",
          "/stk_filtering",
          "/common_issues",
          "/stk_filtering",
          "/common_issues",
          "/stk_filtering",
          "/common_issues",
          "/stk_filtering",
          "/common_issues",
          "/stk_filtering",
          "/common_issues",
          "/stk_filtering",
          "/common_issues",
          "/stk_filtering",
          "/common_issues",
          "/stk_filtering",
          "/common_issues",
          "/stk_filtering",
          "/common_issues",
          "/stk_filtering",
          "/common_issues",
          "/stk_filtering",
          "/common_issues",
          "/stk_filtering",
          "/common_issues",
          "/stk_filtering",
          "/common_issues",
          "/stk_filtering",
          "/common_issues",
          "/stk_filtering",
          "/common_issues",
          "/stk_filtering",
          "/common_issues",
          "/stk_filtering",
          "/common_issues",
          "/stk_filtering",
          "/common_issues",
          "/stk_filtering",
          "/common_issues",
          "/stk_filtering",
          "/common_issues",
          "/stk_filtering",
          "/common_issues",
          "/stk_filtering",
          "/common_issues",
          "/stk_filtering",
          "/common_issues",
          "/stk_filtering",
          "/common_issues",
          "/stk_filtering",
          "/common_issues",
          "/stk_filtering",
          "/common_issues",
          "/stk_filtering",
          "/common_issues",
          "/stk_filtering",
          "/common_issues",
          "/stk_filtering",
          "/stk_filtering",
          "/common_issues",
          "/stk_filtering",
          "/common_issues",
          "/stk_filtering",
          "/common_issues",
          "/stk_filtering",
          "/common_issues",
          "/stk_filtering",
          "/common_issues",
          "/stk_filtering",
          "/common_issues",
          "/stk_filtering",
          "/common_issues",
          "/stk_filtering",
          "/common_issues",
          "/stk_filtering",
          "/common_issues",
          "/stk_filtering",
          "/common_issues",
          "/stk_filtering",
          "/common_issues",
          "/stk_filtering",
          "/common_issues",
          "/stk_filtering",
          "/common_issues",
          "/stk_filtering",
          "/common_issues",
          "/stk_filtering",
          "/common_issues",
          "/stk_filtering",
          "/common_issues",
          "/stk_filtering",
          "/common_issues",
          "/stk_filtering",
          "/common_issues",
          "/stk_filtering",
          "/common_issues",
          "/stk_filtering",
          "/common_issues",
          "/stk_filtering",
          "/common_issues",
          "/stk_filtering",
          "/common_issues",
          "/stk_filtering",
          "/common_issues",
          "/stk_filtering",
          "/common_issues",
          "/stk_filtering",
          "/common_issues",
          "/stk_filtering",
          "/common_issues",
          "/stk_filtering",
          "/common_issues",
          "/stk_filtering",
          "/common_issues",
          "/stk_filtering",
          "/common_issues",
          "/stk_filtering",
          "/common_issues",
          "/stk_filtering",
          "/common_issues",
          "/stk_filtering",
          "/common_issues",
          "/stk_filtering",
          "/common_issues",
          "/stk_filtering",
          "/common_issues",
          "/stk_filtering",
          "/common_issues",
          "/stk_filtering",
          "/common_issues",
          "/stk_filtering",
          "/common_issues",
          "/stk_filtering",
          "/common_issues",
          "/stk_filtering",
          "/common_issues",
          "/stk_filtering",
          "/common_issues",
          "/stk_filtering",
          "/common_issues",
          "/stk_filtering",
          "/common_issues",
          "/stk_filtering",
          "/common_issues",
          "/stk_filtering",
          "/common_issues",
          "/stk_filtering",
          "/common_issues",
          "/stk_filtering",
          "/common_issues",
          "/stk_filtering",
          "/common_issues",
          "/stk_filtering",
          "/common_issues",
          "/stk_filtering",
          "/common_issues",
          "/stk_filtering",
          "/common_issues",
          "/stk_filtering",
          "/common_issues",
          "/stk_filtering",
          "/common_issues",
          "/stk_filtering",
          "/common_issues",
          "/stk_filtering",
          "/common_issues",
          "/stk_filtering",
          "/common_issues",
          "/stk_filtering",
          "/common_issues",
          "/stk_filtering",
          "/common_issues",
          "/stk_filtering",
          "/common_issues",
          "/stk_filtering",
          "/common_issues",
          "/stk_filtering",
          "/common_issues",
          "/stk_filtering",
          "/common_issues",
          "/stk_filtering",
          "/common_issues",
          "/stk_filtering",
          "/common_issues",
          "/stk_filtering",
          "/common_issues",
          "/stk_filtering",
          "/common_issues",
          "/stk_filtering",
          "/common_issues",
          "/stk_filtering",
          "/common_issues",
          "/stk_filtering",
          "/common_issues",
          "/stk_filtering",
          "/common_issues",
          "/stk_filtering",
          "/common_issues",
          "/stk_filtering",
          "/common_issues",
          "/stk_filtering",
          "/common_issues",
          "/stk_filtering",
          "/common_issues",
          "/stk_filtering",
          "/common_issues",
          "/stk_filtering",
          "/common_issues",
          "/stk_filtering",
          "/common_issues",
          "/stk_filtering",
          "/common_issues",
          "/stk_filtering",
          "/common_issues",
          "/stk_filtering",
          "/common_issues",
          "/stk_filtering",
          "/common_issues",
          "/stk_filtering",
          "/common_issues",
          "/stk_filtering",
          "/common_issues",
          "/stk_filtering",
          "/common_issues",
          "/stk_filtering",
          "/common_issues",
          "/stk_filtering",
          "/common_issues",
          "/stk_filtering",
          "/common_issues",
          "/stk_filtering",
          "/common_issues",
          "/stk_filtering",
          "/common_issues",
          "/stk_filtering",
          "/common_issues",
          "/stk_filtering",
          "/common_issues",
          "/stk_filtering",
          "/common_issues",
          "/stk_filtering",
          "/common_issues",
          "/stk_filtering",
          "/common_issues",
          "/stk_filtering",
          "/common_issues",
          "/stk_filtering",
          "/common_issues",
          "/stk_filtering",
          "/common_issues",
          "/stk_filtering",
          "/common_issues",
          "/stk_filtering",
          "/common_issues",
          "/stk_filtering",
          "/common_issues",
          "/stk_filtering",
          "/common_issues",
          "/stk_filtering",
          "/common_issues",
          "/stk_filtering",
          "/common_issues",
          "/stk_filtering",
          "/common_issues",
          "/stk_filtering",
          "/common_issues",
          "/stk_filtering",
          "/common_issues",
          "/stk_filtering",
          "/common_issues",
          "/stk_filtering",
          "/common_issues",
          "/stk_filtering",
          "/common_issues",
          "/stk_filtering",
          "/common_issues",
          "/stk_filtering",
          "/common_issues",
          "/stk_filtering",
          "/common_issues",
          "/stk_filtering",
          "/common_issues",
          "/stk_filtering",
          "/common_issues",
          "/stk_filtering",
          "/common_issues",
          "/stk_filtering",
          "/common_issues",
          "/stk_filtering",
          "/common_issues",
          "/stk_filtering",
          "/common_issues",
          "/stk_filtering",
          "/common_issues",
          "/stk_filtering",
          "/common_issues",
          "/stk_filtering",
          "/common_issues",
          "/stk_filtering",
          "/common_issues",
          "/stk_filtering",
          "/common_issues",
          "/stk_filtering",
          "/common_issues",
          "/stk_filtering",
          "/common_issues",
          "/stk_filtering",
          "/common_issues",
          "/stk_filtering",
          "/common_issues",
          "/stk_filtering",
          "/common_issues",
          "/stk_filtering",
          "/common_issues",
          "/stk_filtering",
          "/common_issues",
          "/stk_filtering",
          "/common_issues",
          "/stk_filtering",
          "/common_issues",
          "/stk_filtering",
          "/common_issues",
          "/stk_filtering",
          "/common_issues",
          "/stk_filtering",
          "/common_issues",
          "/stk_filtering",
          "/common_issues",
          "/stk_filtering",
          "/common_issues",
          "/stk_filtering",
          "/common_issues",
          "/stk_filtering",
          "/common_issues",
          "/stk_filtering",
          "/common_issues",
          "/stk_filtering",
          "/common_issues",
          "/stk_filtering",
          "/common_issues",
          "/stk_filtering",
          "/common_issues",
          "/stk_filtering",
          "/common_issues",
          "/stk_filtering",
          "/common_issues",
          "/stk_filtering",
          "/common_issues",
          "/stk_filtering",
          "/common_issues",
          "/stk_filtering",
          "/common_issues",
          "/stk_filtering",
          "/common_issues",
          "/stk_filtering",
          "/common_issues",
          "/stk_filtering",
          "/common_issues",
          "/stk_filtering",
          "/common_issues",
          "/stk_filtering",
          "/common_issues",
          "/stk_filtering",
          "/common_issues",
          "/stk_filtering",
          "/common_issues",
          "/stk_filtering",
          "/common_issues",
          "/stk_filtering",
          "/common_issues",
          "/stk_filtering",
          "/common_issues",
          "/stk_filtering",
          "/common_issues",
          "/stk_filtering",
          "/common_issues",
          "/stk_filtering",
          "/common_issues",
          "/stk_filtering",
          "/common_issues",
          "/stk_filtering",
          "/common_issues",
          "/stk_filtering",
          "/common_issues",
          "/stk_filtering",
          "/common_issues",
          "/stk_filtering",
          "/common_issues",
          "/stk_filtering",
          "/common_issues",
          "/stk_filtering",
          "/common_issues",
          "/stk_filtering",
          "/common_issues",
          "/stk_filtering",
          "/common_issues",
          "/stk_filtering",
          "/common_issues",
          "/stk_filtering",
          "/common_issues",
          "/stk_filtering",
          "/common_issues",
          "/stk_filtering",
          "/common_issues",
          "/stk_filtering",
          "/common_issues",
          "/stk_filtering",
          "/common_issues",
          "/stk_filtering",
          "/common_issues",
          "/stk_filtering",
          "/common_issues",
          "/stk_filtering",
          "/common_issues",
          "/stk_filtering",
          "/common_issues",
          "/stk_filtering",
          "/common_issues",
          "/stk_filtering",
          "/common_issues",
          "/stk_filtering",
          "/common_issues",
          "/stk_filtering",
          "/common_issues",
          "/stk_filtering",
          "/common_issues",
          "/stk_filtering",
          "/common_issues",
          "/stk_filtering",
          "/common_issues",
          "/stk_filtering",
          "/common_issues",
          "/stk_filtering",
          "/common_issues",
          "/stk_filtering",
          "/common_issues",
          "/stk_filtering",
          "/common_issues",
          "/stk_filtering",
          "/common_issues",
          "/stk_filtering",
          "/common_issues",
          "/stk_filtering",
          "/common_issues",
          "/stk_filtering",
          "/common_issues",
          "/stk_filtering",
          "/common_issues",
          "/stk_filtering",
          "/common_issues",
          "/stk_filtering",
          "/common_issues",
          "/stk_filtering",
          "/common_issues",
          "/stk_filtering",
          "/common_issues",
          "/stk_filtering",
          "/common_issues",
          "/stk_filtering",
          "/common_issues",
          "/stk_filtering",
          "/common_issues",
          "/stk_filtering",
          "/common_issues",
          "/stk_filtering",
          "/common_issues",
          "/stk_filtering",
          "/common_issues"
         ],
         "legendgroup": "",
         "name": "",
         "showlegend": true,
         "type": "pie"
        }
       ],
       "layout": {
        "legend": {
         "tracegroupgap": 0
        },
        "template": {
         "data": {
          "bar": [
           {
            "error_x": {
             "color": "#2a3f5f"
            },
            "error_y": {
             "color": "#2a3f5f"
            },
            "marker": {
             "line": {
              "color": "#E5ECF6",
              "width": 0.5
             },
             "pattern": {
              "fillmode": "overlay",
              "size": 10,
              "solidity": 0.2
             }
            },
            "type": "bar"
           }
          ],
          "barpolar": [
           {
            "marker": {
             "line": {
              "color": "#E5ECF6",
              "width": 0.5
             },
             "pattern": {
              "fillmode": "overlay",
              "size": 10,
              "solidity": 0.2
             }
            },
            "type": "barpolar"
           }
          ],
          "carpet": [
           {
            "aaxis": {
             "endlinecolor": "#2a3f5f",
             "gridcolor": "white",
             "linecolor": "white",
             "minorgridcolor": "white",
             "startlinecolor": "#2a3f5f"
            },
            "baxis": {
             "endlinecolor": "#2a3f5f",
             "gridcolor": "white",
             "linecolor": "white",
             "minorgridcolor": "white",
             "startlinecolor": "#2a3f5f"
            },
            "type": "carpet"
           }
          ],
          "choropleth": [
           {
            "colorbar": {
             "outlinewidth": 0,
             "ticks": ""
            },
            "type": "choropleth"
           }
          ],
          "contour": [
           {
            "colorbar": {
             "outlinewidth": 0,
             "ticks": ""
            },
            "colorscale": [
             [
              0,
              "#0d0887"
             ],
             [
              0.1111111111111111,
              "#46039f"
             ],
             [
              0.2222222222222222,
              "#7201a8"
             ],
             [
              0.3333333333333333,
              "#9c179e"
             ],
             [
              0.4444444444444444,
              "#bd3786"
             ],
             [
              0.5555555555555556,
              "#d8576b"
             ],
             [
              0.6666666666666666,
              "#ed7953"
             ],
             [
              0.7777777777777778,
              "#fb9f3a"
             ],
             [
              0.8888888888888888,
              "#fdca26"
             ],
             [
              1,
              "#f0f921"
             ]
            ],
            "type": "contour"
           }
          ],
          "contourcarpet": [
           {
            "colorbar": {
             "outlinewidth": 0,
             "ticks": ""
            },
            "type": "contourcarpet"
           }
          ],
          "heatmap": [
           {
            "colorbar": {
             "outlinewidth": 0,
             "ticks": ""
            },
            "colorscale": [
             [
              0,
              "#0d0887"
             ],
             [
              0.1111111111111111,
              "#46039f"
             ],
             [
              0.2222222222222222,
              "#7201a8"
             ],
             [
              0.3333333333333333,
              "#9c179e"
             ],
             [
              0.4444444444444444,
              "#bd3786"
             ],
             [
              0.5555555555555556,
              "#d8576b"
             ],
             [
              0.6666666666666666,
              "#ed7953"
             ],
             [
              0.7777777777777778,
              "#fb9f3a"
             ],
             [
              0.8888888888888888,
              "#fdca26"
             ],
             [
              1,
              "#f0f921"
             ]
            ],
            "type": "heatmap"
           }
          ],
          "heatmapgl": [
           {
            "colorbar": {
             "outlinewidth": 0,
             "ticks": ""
            },
            "colorscale": [
             [
              0,
              "#0d0887"
             ],
             [
              0.1111111111111111,
              "#46039f"
             ],
             [
              0.2222222222222222,
              "#7201a8"
             ],
             [
              0.3333333333333333,
              "#9c179e"
             ],
             [
              0.4444444444444444,
              "#bd3786"
             ],
             [
              0.5555555555555556,
              "#d8576b"
             ],
             [
              0.6666666666666666,
              "#ed7953"
             ],
             [
              0.7777777777777778,
              "#fb9f3a"
             ],
             [
              0.8888888888888888,
              "#fdca26"
             ],
             [
              1,
              "#f0f921"
             ]
            ],
            "type": "heatmapgl"
           }
          ],
          "histogram": [
           {
            "marker": {
             "pattern": {
              "fillmode": "overlay",
              "size": 10,
              "solidity": 0.2
             }
            },
            "type": "histogram"
           }
          ],
          "histogram2d": [
           {
            "colorbar": {
             "outlinewidth": 0,
             "ticks": ""
            },
            "colorscale": [
             [
              0,
              "#0d0887"
             ],
             [
              0.1111111111111111,
              "#46039f"
             ],
             [
              0.2222222222222222,
              "#7201a8"
             ],
             [
              0.3333333333333333,
              "#9c179e"
             ],
             [
              0.4444444444444444,
              "#bd3786"
             ],
             [
              0.5555555555555556,
              "#d8576b"
             ],
             [
              0.6666666666666666,
              "#ed7953"
             ],
             [
              0.7777777777777778,
              "#fb9f3a"
             ],
             [
              0.8888888888888888,
              "#fdca26"
             ],
             [
              1,
              "#f0f921"
             ]
            ],
            "type": "histogram2d"
           }
          ],
          "histogram2dcontour": [
           {
            "colorbar": {
             "outlinewidth": 0,
             "ticks": ""
            },
            "colorscale": [
             [
              0,
              "#0d0887"
             ],
             [
              0.1111111111111111,
              "#46039f"
             ],
             [
              0.2222222222222222,
              "#7201a8"
             ],
             [
              0.3333333333333333,
              "#9c179e"
             ],
             [
              0.4444444444444444,
              "#bd3786"
             ],
             [
              0.5555555555555556,
              "#d8576b"
             ],
             [
              0.6666666666666666,
              "#ed7953"
             ],
             [
              0.7777777777777778,
              "#fb9f3a"
             ],
             [
              0.8888888888888888,
              "#fdca26"
             ],
             [
              1,
              "#f0f921"
             ]
            ],
            "type": "histogram2dcontour"
           }
          ],
          "mesh3d": [
           {
            "colorbar": {
             "outlinewidth": 0,
             "ticks": ""
            },
            "type": "mesh3d"
           }
          ],
          "parcoords": [
           {
            "line": {
             "colorbar": {
              "outlinewidth": 0,
              "ticks": ""
             }
            },
            "type": "parcoords"
           }
          ],
          "pie": [
           {
            "automargin": true,
            "type": "pie"
           }
          ],
          "scatter": [
           {
            "fillpattern": {
             "fillmode": "overlay",
             "size": 10,
             "solidity": 0.2
            },
            "type": "scatter"
           }
          ],
          "scatter3d": [
           {
            "line": {
             "colorbar": {
              "outlinewidth": 0,
              "ticks": ""
             }
            },
            "marker": {
             "colorbar": {
              "outlinewidth": 0,
              "ticks": ""
             }
            },
            "type": "scatter3d"
           }
          ],
          "scattercarpet": [
           {
            "marker": {
             "colorbar": {
              "outlinewidth": 0,
              "ticks": ""
             }
            },
            "type": "scattercarpet"
           }
          ],
          "scattergeo": [
           {
            "marker": {
             "colorbar": {
              "outlinewidth": 0,
              "ticks": ""
             }
            },
            "type": "scattergeo"
           }
          ],
          "scattergl": [
           {
            "marker": {
             "colorbar": {
              "outlinewidth": 0,
              "ticks": ""
             }
            },
            "type": "scattergl"
           }
          ],
          "scattermapbox": [
           {
            "marker": {
             "colorbar": {
              "outlinewidth": 0,
              "ticks": ""
             }
            },
            "type": "scattermapbox"
           }
          ],
          "scatterpolar": [
           {
            "marker": {
             "colorbar": {
              "outlinewidth": 0,
              "ticks": ""
             }
            },
            "type": "scatterpolar"
           }
          ],
          "scatterpolargl": [
           {
            "marker": {
             "colorbar": {
              "outlinewidth": 0,
              "ticks": ""
             }
            },
            "type": "scatterpolargl"
           }
          ],
          "scatterternary": [
           {
            "marker": {
             "colorbar": {
              "outlinewidth": 0,
              "ticks": ""
             }
            },
            "type": "scatterternary"
           }
          ],
          "surface": [
           {
            "colorbar": {
             "outlinewidth": 0,
             "ticks": ""
            },
            "colorscale": [
             [
              0,
              "#0d0887"
             ],
             [
              0.1111111111111111,
              "#46039f"
             ],
             [
              0.2222222222222222,
              "#7201a8"
             ],
             [
              0.3333333333333333,
              "#9c179e"
             ],
             [
              0.4444444444444444,
              "#bd3786"
             ],
             [
              0.5555555555555556,
              "#d8576b"
             ],
             [
              0.6666666666666666,
              "#ed7953"
             ],
             [
              0.7777777777777778,
              "#fb9f3a"
             ],
             [
              0.8888888888888888,
              "#fdca26"
             ],
             [
              1,
              "#f0f921"
             ]
            ],
            "type": "surface"
           }
          ],
          "table": [
           {
            "cells": {
             "fill": {
              "color": "#EBF0F8"
             },
             "line": {
              "color": "white"
             }
            },
            "header": {
             "fill": {
              "color": "#C8D4E3"
             },
             "line": {
              "color": "white"
             }
            },
            "type": "table"
           }
          ]
         },
         "layout": {
          "annotationdefaults": {
           "arrowcolor": "#2a3f5f",
           "arrowhead": 0,
           "arrowwidth": 1
          },
          "autotypenumbers": "strict",
          "coloraxis": {
           "colorbar": {
            "outlinewidth": 0,
            "ticks": ""
           }
          },
          "colorscale": {
           "diverging": [
            [
             0,
             "#8e0152"
            ],
            [
             0.1,
             "#c51b7d"
            ],
            [
             0.2,
             "#de77ae"
            ],
            [
             0.3,
             "#f1b6da"
            ],
            [
             0.4,
             "#fde0ef"
            ],
            [
             0.5,
             "#f7f7f7"
            ],
            [
             0.6,
             "#e6f5d0"
            ],
            [
             0.7,
             "#b8e186"
            ],
            [
             0.8,
             "#7fbc41"
            ],
            [
             0.9,
             "#4d9221"
            ],
            [
             1,
             "#276419"
            ]
           ],
           "sequential": [
            [
             0,
             "#0d0887"
            ],
            [
             0.1111111111111111,
             "#46039f"
            ],
            [
             0.2222222222222222,
             "#7201a8"
            ],
            [
             0.3333333333333333,
             "#9c179e"
            ],
            [
             0.4444444444444444,
             "#bd3786"
            ],
            [
             0.5555555555555556,
             "#d8576b"
            ],
            [
             0.6666666666666666,
             "#ed7953"
            ],
            [
             0.7777777777777778,
             "#fb9f3a"
            ],
            [
             0.8888888888888888,
             "#fdca26"
            ],
            [
             1,
             "#f0f921"
            ]
           ],
           "sequentialminus": [
            [
             0,
             "#0d0887"
            ],
            [
             0.1111111111111111,
             "#46039f"
            ],
            [
             0.2222222222222222,
             "#7201a8"
            ],
            [
             0.3333333333333333,
             "#9c179e"
            ],
            [
             0.4444444444444444,
             "#bd3786"
            ],
            [
             0.5555555555555556,
             "#d8576b"
            ],
            [
             0.6666666666666666,
             "#ed7953"
            ],
            [
             0.7777777777777778,
             "#fb9f3a"
            ],
            [
             0.8888888888888888,
             "#fdca26"
            ],
            [
             1,
             "#f0f921"
            ]
           ]
          },
          "colorway": [
           "#636efa",
           "#EF553B",
           "#00cc96",
           "#ab63fa",
           "#FFA15A",
           "#19d3f3",
           "#FF6692",
           "#B6E880",
           "#FF97FF",
           "#FECB52"
          ],
          "font": {
           "color": "#2a3f5f"
          },
          "geo": {
           "bgcolor": "white",
           "lakecolor": "white",
           "landcolor": "#E5ECF6",
           "showlakes": true,
           "showland": true,
           "subunitcolor": "white"
          },
          "hoverlabel": {
           "align": "left"
          },
          "hovermode": "closest",
          "mapbox": {
           "style": "light"
          },
          "paper_bgcolor": "white",
          "plot_bgcolor": "#E5ECF6",
          "polar": {
           "angularaxis": {
            "gridcolor": "white",
            "linecolor": "white",
            "ticks": ""
           },
           "bgcolor": "#E5ECF6",
           "radialaxis": {
            "gridcolor": "white",
            "linecolor": "white",
            "ticks": ""
           }
          },
          "scene": {
           "xaxis": {
            "backgroundcolor": "#E5ECF6",
            "gridcolor": "white",
            "gridwidth": 2,
            "linecolor": "white",
            "showbackground": true,
            "ticks": "",
            "zerolinecolor": "white"
           },
           "yaxis": {
            "backgroundcolor": "#E5ECF6",
            "gridcolor": "white",
            "gridwidth": 2,
            "linecolor": "white",
            "showbackground": true,
            "ticks": "",
            "zerolinecolor": "white"
           },
           "zaxis": {
            "backgroundcolor": "#E5ECF6",
            "gridcolor": "white",
            "gridwidth": 2,
            "linecolor": "white",
            "showbackground": true,
            "ticks": "",
            "zerolinecolor": "white"
           }
          },
          "shapedefaults": {
           "line": {
            "color": "#2a3f5f"
           }
          },
          "ternary": {
           "aaxis": {
            "gridcolor": "white",
            "linecolor": "white",
            "ticks": ""
           },
           "baxis": {
            "gridcolor": "white",
            "linecolor": "white",
            "ticks": ""
           },
           "bgcolor": "#E5ECF6",
           "caxis": {
            "gridcolor": "white",
            "linecolor": "white",
            "ticks": ""
           }
          },
          "title": {
           "x": 0.05
          },
          "xaxis": {
           "automargin": true,
           "gridcolor": "white",
           "linecolor": "white",
           "ticks": "",
           "title": {
            "standoff": 15
           },
           "zerolinecolor": "white",
           "zerolinewidth": 2
          },
          "yaxis": {
           "automargin": true,
           "gridcolor": "white",
           "linecolor": "white",
           "ticks": "",
           "title": {
            "standoff": 15
           },
           "zerolinecolor": "white",
           "zerolinewidth": 2
          }
         }
        },
        "title": {
         "text": "총 클릭수 : 4064, 투자하기 클릭수: 283"
        }
       }
      },
      "text/html": [
       "<div>                            <div id=\"9f846cee-f0e2-4068-b733-af95be8e2dcd\" class=\"plotly-graph-div\" style=\"height:525px; width:100%;\"></div>            <script type=\"text/javascript\">                require([\"plotly\"], function(Plotly) {                    window.PLOTLYENV=window.PLOTLYENV || {};                                    if (document.getElementById(\"9f846cee-f0e2-4068-b733-af95be8e2dcd\")) {                    Plotly.newPlot(                        \"9f846cee-f0e2-4068-b733-af95be8e2dcd\",                        [{\"domain\":{\"x\":[0.0,1.0],\"y\":[0.0,1.0]},\"hovertemplate\":\"simple_req=%{label}\\u003cextra\\u003e\\u003c\\u002fextra\\u003e\",\"labels\":[\"\\u002fdist_methology\",\"\\u002fstrategy\",\"\\u002fstrategy\",\"\\u002fstrategy\",\"\\u002fstrategy\",\"\\u002fstrategy\",\"\\u002fstrategy\",\"\\u002fstrategy\",\"\\u002fstrategy\",\"\\u002fstrategy\",\"\\u002fstrategy\",\"\\u002fstrategy\",\"\\u002fstrategy\",\"\\u002fstrategy\",\"\\u002fdist_methology\",\"\\u002fdist_methology\",\"\\u002fdist_methology\",\"\\u002fdist_methology\",\"\\u002ftheme_info\",\"\\u002ftheme_info\",\"\\u002ftheme_info\",\"\\u002fstrategy\",\"\\u002fdocs\",\"\\u002fopenapi.json\",\"\\u002fstrategy\",\"\\u002fstrategy\",\"\\u002fpdf_info\",\"\\u002fstrategy\",\"\\u002fpdf_info\",\"\\u002fstrategy\",\"\\u002fpdf_info\",\"\\u002fstrategy\",\"\\u002fstrategy\",\"\\u002ftheme_info\",\"\\u002fpdf_info\",\"\\u002fdist_methology\",\"\\u002ftheme_info\",\"\\u002fpdf_info\",\"\\u002fpdf_info\",\"\\u002ftheme_info\",\"\\u002fpdf_info\",\"\\u002ftheme_info\",\"\\u002fpdf_info\",\"\\u002fstrategy\",\"\\u002fpdf_info\",\"\\u002fdist_methology\",\"\\u002ftheme_info\",\"\\u002fpdf_info\",\"\\u002fpdf_info\",\"\\u002ftheme_info\",\"\\u002fpdf_info\",\"\\u002fstrategy\",\"\\u002fstrategy\",\"\\u002fpdf_info\",\"\\u002fstrategy\",\"\\u002fpdf_info\",\"\\u002fstrategy\",\"\\u002fstrategy\",\"\\u002fpdf_info\",\"\\u002fdist_methology\",\"\\u002fpdf_info\",\"\\u002ftheme_info\",\"\\u002fpdf_info\",\"\\u002fdist_methology\",\"\\u002fpdf_info\",\"\\u002fdist_methology\",\"\\u002fdist_methology\",\"\\u002fpdf_info\",\"\\u002fdist_methology\",\"\\u002fpdf_info\",\"\\u002ftheme_info\",\"\\u002fpdf_info\",\"\\u002fdist_methology\",\"\\u002fpdf_info\",\"\\u002ftheme_info\",\"\\u002fpdf_info\",\"\\u002fdist_methology\",\"\\u002fpdf_info\",\"\\u002ftheme_info\",\"\\u002fpdf_info\",\"\\u002fpdf_info\",\"\\u002fstrategy\",\"\\u002fstrategy\",\"\\u002ftheme_info\",\"\\u002fpdf_info\",\"\\u002fpdf_info\",\"\\u002fstrategy\",\"\\u002fpdf_info\",\"\\u002ftheme_info\",\"\\u002ftheme_info\",\"\\u002fpdf_info\",\"\\u002fdist_methology\",\"\\u002fdist_methology\",\"\\u002fpdf_info\",\"\\u002fdist_methology\",\"\\u002fdist_methology\",\"\\u002fdist_methology\",\"\\u002fpdf_info\",\"\\u002fdist_methology\",\"\\u002fpdf_info\",\"\\u002ftheme_info\",\"\\u002fpdf_info\",\"\\u002fdist_methology\",\"\\u002fdist_methology\",\"\\u002fpdf_info\",\"\\u002fdist_methology\",\"\\u002fstrategy\",\"\\u002fstrategy\",\"\\u002fpdf_info\",\"\\u002fdist_methology\",\"\\u002fdist_methology\",\"\\u002fpdf_info\",\"\\u002fdist_methology\",\"\\u002fdist_methology\",\"\\u002fdist_methology\",\"\\u002fpdf_info\",\"\\u002fstrategy\",\"\\u002fpdf_info\",\"\\u002ftheme_info\",\"\\u002fpdf_info\",\"\\u002ftheme_info\",\"\\u002fpdf_info\",\"\\u002fdist_methology\",\"\\u002fpdf_info\",\"\\u002ftheme_info\",\"\\u002fpdf_info\",\"\\u002fstrategy\",\"\\u002ftheme_info\",\"\\u002fpdf_info\",\"\\u002fpdf_info\",\"\\u002fpdf_info\",\"\\u002fpdf_info\",\"\\u002fpdf_info\",\"\\u002fpdf_info\",\"\\u002fpdf_info\",\"\\u002fpdf_info\",\"\\u002fpdf_info\",\"\\u002fpdf_info\",\"\\u002fpdf_info\",\"\\u002fpdf_info\",\"\\u002fpdf_info\",\"\\u002fpdf_info\",\"\\u002fpdf_info\",\"\\u002fpdf_info\",\"\\u002fpdf_info\",\"\\u002fpdf_info\",\"\\u002fpdf_info\",\"\\u002fpdf_info\",\"\\u002ftheme_info\",\"\\u002fdist_methology\",\"\\u002ftheme_info\",\"\\u002fpdf_info\",\"\\u002fpdf_info\",\"\\u002fpdf_info\",\"\\u002fpdf_info\",\"\\u002fpdf_info\",\"\\u002fpdf_info\",\"\\u002fpdf_info\",\"\\u002fpdf_info\",\"\\u002fpdf_info\",\"\\u002fpdf_info\",\"\\u002fpdf_info\",\"\\u002fpdf_info\",\"\\u002fpdf_info\",\"\\u002fpdf_info\",\"\\u002fpdf_info\",\"\\u002fpdf_info\",\"\\u002fpdf_info\",\"\\u002fpdf_info\",\"\\u002ftheme_info\",\"\\u002fpdf_info\",\"\\u002fdist_methology\",\"\\u002fpdf_info\",\"\\u002fstrategy\",\"\\u002fstrategy\",\"\\u002fpdf_info\",\"\\u002fpdf_info\",\"\\u002fpdf_info\",\"\\u002fpdf_info\",\"\\u002fpdf_info\",\"\\u002fpdf_info\",\"\\u002fpdf_info\",\"\\u002fpdf_info\",\"\\u002fpdf_info\",\"\\u002fpdf_info\",\"\\u002fpdf_info\",\"\\u002fpdf_info\",\"\\u002ftheme_info\",\"\\u002fpdf_info\",\"\\u002fpdf_info\",\"\\u002fpdf_info\",\"\\u002fpdf_info\",\"\\u002fpdf_info\",\"\\u002fpdf_info\",\"\\u002fpdf_info\",\"\\u002fpdf_info\",\"\\u002fpdf_info\",\"\\u002fpdf_info\",\"\\u002fpdf_info\",\"\\u002fpdf_info\",\"\\u002fpdf_info\",\"\\u002fpdf_info\",\"\\u002fpdf_info\",\"\\u002fpdf_info\",\"\\u002fpdf_info\",\"\\u002fpdf_info\",\"\\u002fpdf_info\",\"\\u002fpdf_info\",\"\\u002fpdf_info\",\"\\u002fpdf_info\",\"\\u002fpdf_info\",\"\\u002fpdf_info\",\"\\u002fpdf_info\",\"\\u002fpdf_info\",\"\\u002fpdf_info\",\"\\u002fpdf_info\",\"\\u002fpdf_info\",\"\\u002fpdf_info\",\"\\u002fpdf_info\",\"\\u002fpdf_info\",\"\\u002fpdf_info\",\"\\u002fpdf_info\",\"\\u002ftheme_info\",\"\\u002fpdf_info\",\"\\u002fpdf_info\",\"\\u002fpdf_info\",\"\\u002fpdf_info\",\"\\u002fpdf_info\",\"\\u002fpdf_info\",\"\\u002fpdf_info\",\"\\u002fpdf_info\",\"\\u002fpdf_info\",\"\\u002fpdf_info\",\"\\u002fpdf_info\",\"\\u002fpdf_info\",\"\\u002fpdf_info\",\"\\u002fpdf_info\",\"\\u002fpdf_info\",\"\\u002fpdf_info\",\"\\u002fpdf_info\",\"\\u002fpdf_info\",\"\\u002fpdf_info\",\"\\u002fpdf_info\",\"\\u002fpdf_info\",\"\\u002fpdf_info\",\"\\u002fpdf_info\",\"\\u002ftheme_info\",\"\\u002fpdf_info\",\"\\u002fstrategy\",\"\\u002fstrategy\",\"\\u002fclick_invest\",\"\\u002fclick_invest\",\"\\u002fpdf_info\",\"\\u002fstrategy\",\"\\u002fstrategy\",\"\\u002fpdf_info\",\"\\u002ftheme_info\",\"\\u002ftheme_info\",\"\\u002fpdf_info\",\"\\u002fdist_methology\",\"\\u002fpdf_info\",\"\\u002ftheme_info\",\"\\u002ftheme_info\",\"\\u002fpdf_info\",\"\\u002fdist_methology\",\"\\u002fpdf_info\",\"\\u002fstrategy\",\"\\u002fstrategy\",\"\\u002fpdf_info\",\"\\u002fdist_methology\",\"\\u002fpdf_info\",\"\\u002fdist_methology\",\"\\u002fpdf_info\",\"\\u002ftheme_info\",\"\\u002fpdf_info\",\"\\u002fdist_methology\",\"\\u002fpdf_info\",\"\\u002ftheme_info\",\"\\u002fpdf_info\",\"\\u002ftheme_info\",\"\\u002fpdf_info\",\"\\u002fdist_methology\",\"\\u002fpdf_info\",\"\\u002ftheme_info\",\"\\u002fpdf_info\",\"\\u002ftheme_info\",\"\\u002fpdf_info\",\"\\u002fdist_methology\",\"\\u002fpdf_info\",\"\\u002ftheme_info\",\"\\u002fpdf_info\",\"\\u002fdist_methology\",\"\\u002fpdf_info\",\"\\u002ftheme_info\",\"\\u002fpdf_info\",\"\\u002fpdf_info\",\"\\u002fdist_methology\",\"\\u002fpdf_info\",\"\\u002fstrategy\",\"\\u002fstrategy\",\"\\u002fpdf_info\",\"\\u002fdist_methology\",\"\\u002fdist_methology\",\"\\u002ftheme_info\",\"\\u002fpdf_info\",\"\\u002fdist_methology\",\"\\u002fpdf_info\",\"\\u002ftheme_info\",\"\\u002fpdf_info\",\"\\u002fdist_methology\",\"\\u002ftheme_info\",\"\\u002fpdf_info\",\"\\u002ftheme_info\",\"\\u002fpdf_info\",\"\\u002fdist_methology\",\"\\u002fdist_methology\",\"\\u002ftheme_info\",\"\\u002fpdf_info\",\"\\u002fpdf_info\",\"\\u002fdist_methology\",\"\\u002fpdf_info\",\"\\u002fstrategy\",\"\\u002fstrategy\",\"\\u002fdist_methology\",\"\\u002fpdf_info\",\"\\u002ftheme_info\",\"\\u002fpdf_info\",\"\\u002fpdf_info\",\"\\u002fstrategy\",\"\\u002fpdf_info\",\"\\u002ftheme_info\",\"\\u002fdist_methology\",\"\\u002fpdf_info\",\"\\u002ftheme_info\",\"\\u002fpdf_info\",\"\\u002ftheme_info\",\"\\u002fpdf_info\",\"\\u002fdist_methology\",\"\\u002fpdf_info\",\"\\u002ftheme_info\",\"\\u002fpdf_info\",\"\\u002fstrategy\",\"\\u002fstrategy\",\"\\u002fclick_invest\",\"\\u002fclick_invest\",\"\\u002fpdf_info\",\"\\u002ftheme_info\",\"\\u002fpdf_info\",\"\\u002fdist_methology\",\"\\u002fpdf_info\",\"\\u002fstrategy\",\"\\u002fstrategy\",\"\\u002fpdf_info\",\"\\u002ftheme_info\",\"\\u002fpdf_info\",\"\\u002fstrategy\",\"\\u002ftheme_info\",\"\\u002fpdf_info\",\"\\u002fpdf_info\",\"\\u002fstrategy\",\"\\u002fpdf_info\",\"\\u002fstrategy\",\"\\u002ftheme_info\",\"\\u002fpdf_info\",\"\\u002ftheme_info\",\"\\u002fdist_methology\",\"\\u002ftheme_info\",\"\\u002fpdf_info\",\"\\u002ftheme_info\",\"\\u002ftheme_info\",\"\\u002fpdf_info\",\"\\u002ftheme_info\",\"\\u002fpdf_info\",\"\\u002fdist_methology\",\"\\u002ftheme_info\",\"\\u002fpdf_info\",\"\\u002fpdf_info\",\"\\u002fdist_methology\",\"\\u002ftheme_info\",\"\\u002fpdf_info\",\"\\u002fdist_methology\",\"\\u002ftheme_info\",\"\\u002fpdf_info\",\"\\u002fdist_methology\",\"\\u002ftheme_info\",\"\\u002fpdf_info\",\"\\u002fdist_methology\",\"\\u002fpdf_info\",\"\\u002fstrategy\",\"\\u002fstrategy\",\"\\u002fclick_invest\",\"\\u002fclick_invest\",\"\\u002ftheme_info\",\"\\u002fpdf_info\",\"\\u002ftheme_info\",\"\\u002fpdf_info\",\"\\u002ftheme_info\",\"\\u002fpdf_info\",\"\\u002ftheme_info\",\"\\u002fpdf_info\",\"\\u002ftheme_info\",\"\\u002fpdf_info\",\"\\u002fstrategy\",\"\\u002fstrategy\",\"\\u002fpdf_info\",\"\\u002fpdf_info\",\"\\u002ftheme_info\",\"\\u002fpdf_info\",\"\\u002fstrategy\",\"\\u002fstrategy\",\"\\u002fpdf_info\",\"\\u002ftheme_info\",\"\\u002fdist_methology\",\"\\u002fdist_methology\",\"\\u002fpdf_info\",\"\\u002fpdf_info\",\"\\u002fpdf_info\",\"\\u002fpdf_info\",\"\\u002fpdf_info\",\"\\u002fpdf_info\",\"\\u002fpdf_info\",\"\\u002ftheme_info\",\"\\u002fpdf_info\",\"\\u002fdist_methology\",\"\\u002fpdf_info\",\"\\u002fstrategy\",\"\\u002fstrategy\",\"\\u002fdist_methology\",\"\\u002fpdf_info\",\"\\u002fclick_invest\",\"\\u002fclick_invest\",\"\\u002fstrategy\",\"\\u002fpdf_info\",\"\\u002fstrategy\",\"\\u002fstrategy\",\"\\u002fstrategy\",\"\\u002fpdf_info\",\"\\u002fpdf_info\",\"\\u002ftheme_info\",\"\\u002fpdf_info\",\"\\u002fstrategy\",\"\\u002fpdf_info\",\"\\u002fstrategy\",\"\\u002fclick_invest\",\"\\u002fclick_invest\",\"\\u002fpdf_info\",\"\\u002fpdf_info\",\"\\u002fdist_methology\",\"\\u002ftheme_info\",\"\\u002fpdf_info\",\"\\u002fdist_methology\",\"\\u002fpdf_info\",\"\\u002fpdf_info\",\"\\u002fdist_methology\",\"\\u002ftheme_info\",\"\\u002fpdf_info\",\"\\u002fstrategy\",\"\\u002fclick_invest\",\"\\u002fclick_invest\",\"\\u002ftheme_info\",\"\\u002fpdf_info\",\"\\u002ftheme_info\",\"\\u002fpdf_info\",\"\\u002fdist_methology\",\"\\u002ftheme_info\",\"\\u002fpdf_info\",\"\\u002fpdf_info\",\"\\u002ftheme_info\",\"\\u002fpdf_info\",\"\\u002ftheme_info\",\"\\u002ftheme_info\",\"\\u002fpdf_info\",\"\\u002fpdf_info\",\"\\u002fdist_methology\",\"\\u002fdist_methology\",\"\\u002fpdf_info\",\"\\u002fpdf_info\",\"\\u002fstrategy\",\"\\u002fstrategy\",\"\\u002fstrategy\",\"\\u002fstrategy\",\"\\u002fpdf_info\",\"\\u002ftheme_info\",\"\\u002fpdf_info\",\"\\u002ftheme_info\",\"\\u002fdist_methology\",\"\\u002ftheme_info\",\"\\u002fpdf_info\",\"\\u002fstrategy\",\"\\u002fstrategy\",\"\\u002ftheme_info\",\"\\u002ftheme_info\",\"\\u002fpdf_info\",\"\\u002ftheme_info\",\"\\u002ftheme_info\",\"\\u002fpdf_info\",\"\\u002fdist_methology\",\"\\u002ftheme_info\",\"\\u002fpdf_info\",\"\\u002ftheme_info\",\"\\u002ftheme_info\",\"\\u002fpdf_info\",\"\\u002ftheme_info\",\"\\u002fpdf_info\",\"\\u002ftheme_info\",\"\\u002fpdf_info\",\"\\u002fstrategy\",\"\\u002fstrategy\",\"\\u002fpdf_info\",\"\\u002ftheme_info\",\"\\u002fpdf_info\",\"\\u002ftheme_info\",\"\\u002ftheme_info\",\"\\u002fpdf_info\",\"\\u002fdist_methology\",\"\\u002fpdf_info\",\"\\u002ftheme_info\",\"\\u002ftheme_info\",\"\\u002fstrategy\",\"\\u002fclick_invest\",\"\\u002fclick_invest\",\"\\u002fpdf_info\",\"\\u002fdist_methology\",\"\\u002fpdf_info\",\"\\u002fstrategy\",\"\\u002fstrategy\",\"\\u002fclick_invest\",\"\\u002fclick_invest\",\"\\u002fpdf_info\",\"\\u002fdist_methology\",\"\\u002fpdf_info\",\"\\u002fpdf_info\",\"\\u002ftheme_info\",\"\\u002ftheme_info\",\"\\u002fpdf_info\",\"\\u002ftheme_info\",\"\\u002fpdf_info\",\"\\u002fpdf_info\",\"\\u002ftheme_info\",\"\\u002fdist_methology\",\"\\u002fstrategy\",\"\\u002fstrategy\",\"\\u002ftheme_info\",\"\\u002fpdf_info\",\"\\u002fpdf_info\",\"\\u002fpdf_info\",\"\\u002fstrategy\",\"\\u002fstrategy\",\"\\u002fpdf_info\",\"\\u002fpdf_info\",\"\\u002ftheme_info\",\"\\u002fdist_methology\",\"\\u002ftheme_info\",\"\\u002fpdf_info\",\"\\u002fclick_invest\",\"\\u002fclick_invest\",\"\\u002fpdf_info\",\"\\u002ftheme_info\",\"\\u002fstrategy\",\"\\u002fpdf_info\",\"\\u002fclick_invest\",\"\\u002ftheme_info\",\"\\u002ftheme_info\",\"\\u002fpdf_info\",\"\\u002fdist_methology\",\"\\u002fpdf_info\",\"\\u002fstrategy\",\"\\u002fclick_invest\",\"\\u002ftheme_info\",\"\\u002fpdf_info\",\"\\u002fdist_methology\",\"\\u002fpdf_info\",\"\\u002fpdf_info\",\"\\u002fdist_methology\",\"\\u002ftheme_info\",\"\\u002fdist_methology\",\"\\u002ftheme_info\",\"\\u002fpdf_info\",\"\\u002fpdf_info\",\"\\u002fstrategy\",\"\\u002fclick_invest\",\"\\u002ftheme_info\",\"\\u002ftheme_info\",\"\\u002fpdf_info\",\"\\u002fstrategy\",\"\\u002fstrategy\",\"\\u002ftheme_info\",\"\\u002ftheme_info\",\"\\u002fclick_invest\",\"\\u002fclick_invest\",\"\\u002fpdf_info\",\"\\u002ftheme_info\",\"\\u002fpdf_info\",\"\\u002fpdf_info\",\"\\u002fstrategy\",\"\\u002fstrategy\",\"\\u002fclick_invest\",\"\\u002fclick_invest\",\"\\u002fclick_invest\",\"\\u002ftheme_info\",\"\\u002ftheme_info\",\"\\u002fpdf_info\",\"\\u002fpdf_info\",\"\\u002fdist_methology\",\"\\u002fpdf_info\",\"\\u002fstrategy\",\"\\u002ftheme_info\",\"\\u002fstrategy\",\"\\u002fpdf_info\",\"\\u002ftheme_info\",\"\\u002ftheme_info\",\"\\u002fpdf_info\",\"\\u002ftheme_info\",\"\\u002ftheme_info\",\"\\u002ftheme_info\",\"\\u002ftheme_info\",\"\\u002fpdf_info\",\"\\u002ftheme_info\",\"\\u002fpdf_info\",\"\\u002ftheme_info\",\"\\u002fdist_methology\",\"\\u002ftheme_info\",\"\\u002fpdf_info\",\"\\u002ftheme_info\",\"\\u002fpdf_info\",\"\\u002ftheme_info\",\"\\u002fpdf_info\",\"\\u002ftheme_info\",\"\\u002ftheme_info\",\"\\u002ftheme_info\",\"\\u002fpdf_info\",\"\\u002ftheme_info\",\"\\u002fpdf_info\",\"\\u002ftheme_info\",\"\\u002ftheme_info\",\"\\u002fpdf_info\",\"\\u002fpdf_info\",\"\\u002fpdf_info\",\"\\u002ftheme_info\",\"\\u002ftheme_info\",\"\\u002ftheme_info\",\"\\u002fpdf_info\",\"\\u002fdist_methology\",\"\\u002ftheme_info\",\"\\u002ftheme_info\",\"\\u002fpdf_info\",\"\\u002fpdf_info\",\"\\u002fpdf_info\",\"\\u002fstrategy\",\"\\u002fstrategy\",\"\\u002fdist_methology\",\"\\u002fclick_invest\",\"\\u002fclick_invest\",\"\\u002fpdf_info\",\"\\u002ftheme_info\",\"\\u002fpdf_info\",\"\\u002ftheme_info\",\"\\u002fpdf_info\",\"\\u002fdist_methology\",\"\\u002fpdf_info\",\"\\u002ftheme_info\",\"\\u002fpdf_info\",\"\\u002ftheme_info\",\"\\u002ftheme_info\",\"\\u002fpdf_info\",\"\\u002fdist_methology\",\"\\u002fpdf_info\",\"\\u002fstrategy\",\"\\u002fstrategy\",\"\\u002fclick_invest\",\"\\u002fclick_invest\",\"\\u002ftheme_info\",\"\\u002fpdf_info\",\"\\u002ftheme_info\",\"\\u002fpdf_info\",\"\\u002ftheme_info\",\"\\u002fpdf_info\",\"\\u002ftheme_info\",\"\\u002ftheme_info\",\"\\u002fpdf_info\",\"\\u002ftheme_info\",\"\\u002fpdf_info\",\"\\u002fdist_methology\",\"\\u002ftheme_info\",\"\\u002fpdf_info\",\"\\u002fpdf_info\",\"\\u002fdist_methology\",\"\\u002fdist_methology\",\"\\u002fpdf_info\",\"\\u002fstrategy\",\"\\u002fstrategy\",\"\\u002fpdf_info\",\"\\u002fdist_methology\",\"\\u002ftheme_info\",\"\\u002fpdf_info\",\"\\u002fstrategy\",\"\\u002fstrategy\",\"\\u002fpdf_info\",\"\\u002ftheme_info\",\"\\u002ftheme_info\",\"\\u002fpdf_info\",\"\\u002ftheme_info\",\"\\u002ftheme_info\",\"\\u002ftheme_info\",\"\\u002ftheme_info\",\"\\u002fpdf_info\",\"\\u002fdist_methology\",\"\\u002fpdf_info\",\"\\u002ftheme_info\",\"\\u002ftheme_info\",\"\\u002fdist_methology\",\"\\u002fpdf_info\",\"\\u002ftheme_info\",\"\\u002fpdf_info\",\"\\u002ftheme_info\",\"\\u002ftheme_info\",\"\\u002fpdf_info\",\"\\u002ftheme_info\",\"\\u002fdist_methology\",\"\\u002fpdf_info\",\"\\u002fstrategy\",\"\\u002fstrategy\",\"\\u002fclick_invest\",\"\\u002fclick_invest\",\"\\u002ftheme_info\",\"\\u002fpdf_info\",\"\\u002fstrategy\",\"\\u002fstrategy\",\"\\u002fclick_invest\",\"\\u002fclick_invest\",\"\\u002ftheme_info\",\"\\u002ftheme_info\",\"\\u002ftheme_info\",\"\\u002ftheme_info\",\"\\u002fpdf_info\",\"\\u002fdist_methology\",\"\\u002fpdf_info\",\"\\u002fstrategy\",\"\\u002fstrategy\",\"\\u002fpdf_info\",\"\\u002ftheme_info\",\"\\u002ftheme_info\",\"\\u002fpdf_info\",\"\\u002ftheme_info\",\"\\u002ftheme_info\",\"\\u002fpdf_info\",\"\\u002ftheme_info\",\"\\u002fpdf_info\",\"\\u002ftheme_info\",\"\\u002ftheme_info\",\"\\u002fpdf_info\",\"\\u002fdist_methology\",\"\\u002fpdf_info\",\"\\u002ftheme_info\",\"\\u002fpdf_info\",\"\\u002fdist_methology\",\"\\u002fpdf_info\",\"\\u002fdist_methology\",\"\\u002fpdf_info\",\"\\u002fstrategy\",\"\\u002fstrategy\",\"\\u002fclick_invest\",\"\\u002fclick_invest\",\"\\u002ftheme_info\",\"\\u002fpdf_info\",\"\\u002fstrategy\",\"\\u002fstrategy\",\"\\u002fstrategy\",\"\\u002fclick_invest\",\"\\u002fclick_invest\",\"\\u002ftheme_info\",\"\\u002ftheme_info\",\"\\u002fpdf_info\",\"\\u002fpdf_info\",\"\\u002fstrategy\",\"\\u002fstrategy\",\"\\u002ftheme_info\",\"\\u002fclick_invest\",\"\\u002fclick_invest\",\"\\u002fpdf_info\",\"\\u002ftheme_info\",\"\\u002fdist_methology\",\"\\u002ftheme_info\",\"\\u002fpdf_info\",\"\\u002ftheme_info\",\"\\u002fpdf_info\",\"\\u002fdist_methology\",\"\\u002fstrategy\",\"\\u002fstrategy\",\"\\u002fclick_invest\",\"\\u002fclick_invest\",\"\\u002ftheme_info\",\"\\u002ftheme_info\",\"\\u002ftheme_info\",\"\\u002fpdf_info\",\"\\u002ftheme_info\",\"\\u002fdist_methology\",\"\\u002fpdf_info\",\"\\u002fstrategy\",\"\\u002fstrategy\",\"\\u002fclick_invest\",\"\\u002fclick_invest\",\"\\u002ftheme_info\",\"\\u002fpdf_info\",\"\\u002fstrategy\",\"\\u002fstrategy\",\"\\u002fstrategy\",\"\\u002fclick_invest\",\"\\u002fclick_invest\",\"\\u002ftheme_info\",\"\\u002fpdf_info\",\"\\u002fpdf_info\",\"\\u002ftheme_info\",\"\\u002fpdf_info\",\"\\u002fpdf_info\",\"\\u002ftheme_info\",\"\\u002fpdf_info\",\"\\u002ftheme_info\",\"\\u002fpdf_info\",\"\\u002ftheme_info\",\"\\u002fpdf_info\",\"\\u002ftheme_info\",\"\\u002fpdf_info\",\"\\u002ftheme_info\",\"\\u002fpdf_info\",\"\\u002fdist_methology\",\"\\u002fpdf_info\",\"\\u002ftheme_info\",\"\\u002fpdf_info\",\"\\u002fdist_methology\",\"\\u002ftheme_info\",\"\\u002ftheme_info\",\"\\u002fpdf_info\",\"\\u002fstrategy\",\"\\u002fstrategy\",\"\\u002fclick_invest\",\"\\u002fclick_invest\",\"\\u002ftheme_info\",\"\\u002fpdf_info\",\"\\u002ftheme_info\",\"\\u002ftheme_info\",\"\\u002fpdf_info\",\"\\u002fdist_methology\",\"\\u002ftheme_info\",\"\\u002fpdf_info\",\"\\u002ftheme_info\",\"\\u002fpdf_info\",\"\\u002fstrategy\",\"\\u002fstrategy\",\"\\u002fpdf_info\",\"\\u002ftheme_info\",\"\\u002ftheme_info\",\"\\u002ftheme_info\",\"\\u002fpdf_info\",\"\\u002fdist_methology\",\"\\u002fpdf_info\",\"\\u002ftheme_info\",\"\\u002fpdf_info\",\"\\u002ftheme_info\",\"\\u002fpdf_info\",\"\\u002ftheme_info\",\"\\u002fstrategy\",\"\\u002fstrategy\",\"\\u002fclick_invest\",\"\\u002fclick_invest\",\"\\u002fpdf_info\",\"\\u002ftheme_info\",\"\\u002fpdf_info\",\"\\u002ftheme_info\",\"\\u002fpdf_info\",\"\\u002fdist_methology\",\"\\u002fpdf_info\",\"\\u002fdist_methology\",\"\\u002fpdf_info\",\"\\u002ftheme_info\",\"\\u002fpdf_info\",\"\\u002ftheme_info\",\"\\u002fpdf_info\",\"\\u002ftheme_info\",\"\\u002fpdf_info\",\"\\u002ftheme_info\",\"\\u002fpdf_info\",\"\\u002ftheme_info\",\"\\u002fpdf_info\",\"\\u002ftheme_info\",\"\\u002fpdf_info\",\"\\u002ftheme_info\",\"\\u002fpdf_info\",\"\\u002ftheme_info\",\"\\u002fpdf_info\",\"\\u002fdist_methology\",\"\\u002ftheme_info\",\"\\u002ftheme_info\",\"\\u002fpdf_info\",\"\\u002fstrategy\",\"\\u002fstrategy\",\"\\u002fclick_invest\",\"\\u002fclick_invest\",\"\\u002fpdf_info\",\"\\u002fstrategy\",\"\\u002fclick_invest\",\"\\u002ftheme_info\",\"\\u002fpdf_info\",\"\\u002fdist_methology\",\"\\u002fpdf_info\",\"\\u002fdist_methology\",\"\\u002fpdf_info\",\"\\u002ftheme_info\",\"\\u002fpdf_info\",\"\\u002ftheme_info\",\"\\u002fpdf_info\",\"\\u002ftheme_info\",\"\\u002fpdf_info\",\"\\u002ftheme_info\",\"\\u002fpdf_info\",\"\\u002fdist_methology\",\"\\u002fpdf_info\",\"\\u002fstrategy\",\"\\u002fstrategy\",\"\\u002ftheme_info\",\"\\u002ftheme_info\",\"\\u002fpdf_info\",\"\\u002fstrategy\",\"\\u002fstrategy\",\"\\u002fpdf_info\",\"\\u002fpdf_info\",\"\\u002ftheme_info\",\"\\u002ftheme_info\",\"\\u002fpdf_info\",\"\\u002fpdf_info\",\"\\u002fdist_methology\",\"\\u002fpdf_info\",\"\\u002fdist_methology\",\"\\u002ftheme_info\",\"\\u002fpdf_info\",\"\\u002fpdf_info\",\"\\u002ftheme_info\",\"\\u002fpdf_info\",\"\\u002fdist_methology\",\"\\u002fpdf_info\",\"\\u002ftheme_info\",\"\\u002ftheme_info\",\"\\u002fpdf_info\",\"\\u002ftheme_info\",\"\\u002fpdf_info\",\"\\u002fdist_methology\",\"\\u002fpdf_info\",\"\\u002fdist_methology\",\"\\u002fpdf_info\",\"\\u002fstrategy\",\"\\u002fstrategy\",\"\\u002fclick_invest\",\"\\u002fclick_invest\",\"\\u002ftheme_info\",\"\\u002fpdf_info\",\"\\u002ftheme_info\",\"\\u002ftheme_info\",\"\\u002ftheme_info\",\"\\u002ftheme_info\",\"\\u002ftheme_info\",\"\\u002ftheme_info\",\"\\u002fpdf_info\",\"\\u002fpdf_info\",\"\\u002fstrategy\",\"\\u002fstrategy\",\"\\u002fclick_invest\",\"\\u002fclick_invest\",\"\\u002fdist_methology\",\"\\u002ftheme_info\",\"\\u002ftheme_info\",\"\\u002ftheme_info\",\"\\u002fpdf_info\",\"\\u002fstrategy\",\"\\u002fstrategy\",\"\\u002fclick_invest\",\"\\u002fclick_invest\",\"\\u002fclick_invest\",\"\\u002ftheme_info\",\"\\u002ftheme_info\",\"\\u002fpdf_info\",\"\\u002ftheme_info\",\"\\u002fpdf_info\",\"\\u002ftheme_info\",\"\\u002fpdf_info\",\"\\u002ftheme_info\",\"\\u002fpdf_info\",\"\\u002fdist_methology\",\"\\u002fstrategy\",\"\\u002fstrategy\",\"\\u002fclick_invest\",\"\\u002ftheme_info\",\"\\u002ftheme_info\",\"\\u002fpdf_info\",\"\\u002fclick_invest\",\"\\u002ftheme_info\",\"\\u002fpdf_info\",\"\\u002ftheme_info\",\"\\u002fdist_methology\",\"\\u002ftheme_info\",\"\\u002fpdf_info\",\"\\u002fstrategy\",\"\\u002fstrategy\",\"\\u002fpdf_info\",\"\\u002ftheme_info\",\"\\u002fpdf_info\",\"\\u002ftheme_info\",\"\\u002fpdf_info\",\"\\u002ftheme_info\",\"\\u002fpdf_info\",\"\\u002ftheme_info\",\"\\u002ftheme_info\",\"\\u002ftheme_info\",\"\\u002fpdf_info\",\"\\u002fpdf_info\",\"\\u002ftheme_info\",\"\\u002fstrategy\",\"\\u002fstrategy\",\"\\u002ftheme_info\",\"\\u002fclick_invest\",\"\\u002fclick_invest\",\"\\u002fclick_invest\",\"\\u002fclick_invest\",\"\\u002fclick_invest\",\"\\u002fclick_invest\",\"\\u002fclick_invest\",\"\\u002fpdf_info\",\"\\u002ftheme_info\",\"\\u002ftheme_info\",\"\\u002fpdf_info\",\"\\u002ftheme_info\",\"\\u002fdist_methology\",\"\\u002ftheme_info\",\"\\u002ftheme_info\",\"\\u002fpdf_info\",\"\\u002fdist_methology\",\"\\u002fpdf_info\",\"\\u002ftheme_info\",\"\\u002fpdf_info\",\"\\u002fstrategy\",\"\\u002fstrategy\",\"\\u002ftheme_info\",\"\\u002fpdf_info\",\"\\u002fpdf_info\",\"\\u002ftheme_info\",\"\\u002ftheme_info\",\"\\u002fpdf_info\",\"\\u002ftheme_info\",\"\\u002fpdf_info\",\"\\u002ftheme_info\",\"\\u002fpdf_info\",\"\\u002ftheme_info\",\"\\u002ftheme_info\",\"\\u002ftheme_info\",\"\\u002fpdf_info\",\"\\u002fdist_methology\",\"\\u002fpdf_info\",\"\\u002ftheme_info\",\"\\u002ftheme_info\",\"\\u002ftheme_info\",\"\\u002fpdf_info\",\"\\u002ftheme_info\",\"\\u002fdist_methology\",\"\\u002fpdf_info\",\"\\u002fpdf_info\",\"\\u002fstrategy\",\"\\u002fstrategy\",\"\\u002fclick_invest\",\"\\u002fclick_invest\",\"\\u002fpdf_info\",\"\\u002ftheme_info\",\"\\u002ftheme_info\",\"\\u002fpdf_info\",\"\\u002fdist_methology\",\"\\u002fpdf_info\",\"\\u002fstrategy\",\"\\u002fstrategy\",\"\\u002fclick_invest\",\"\\u002fclick_invest\",\"\\u002ftheme_info\",\"\\u002ftheme_info\",\"\\u002ftheme_info\",\"\\u002fpdf_info\",\"\\u002fdist_methology\",\"\\u002ftheme_info\",\"\\u002fpdf_info\",\"\\u002fstrategy\",\"\\u002fstrategy\",\"\\u002fclick_invest\",\"\\u002fclick_invest\",\"\\u002ftheme_info\",\"\\u002ftheme_info\",\"\\u002ftheme_info\",\"\\u002fpdf_info\",\"\\u002fstrategy\",\"\\u002fstrategy\",\"\\u002ftheme_info\",\"\\u002ftheme_info\",\"\\u002fpdf_info\",\"\\u002fstrategy\",\"\\u002fstrategy\",\"\\u002ftheme_info\",\"\\u002fpdf_info\",\"\\u002ftheme_info\",\"\\u002fpdf_info\",\"\\u002fdist_methology\",\"\\u002fpdf_info\",\"\\u002ftheme_info\",\"\\u002ftheme_info\",\"\\u002ftheme_info\",\"\\u002fpdf_info\",\"\\u002fpdf_info\",\"\\u002ftheme_info\",\"\\u002ftheme_info\",\"\\u002fpdf_info\",\"\\u002fstrategy\",\"\\u002fstrategy\",\"\\u002fclick_invest\",\"\\u002fclick_invest\",\"\\u002fclick_invest\",\"\\u002ftheme_info\",\"\\u002fpdf_info\",\"\\u002ftheme_info\",\"\\u002ftheme_info\",\"\\u002ftheme_info\",\"\\u002ftheme_info\",\"\\u002fpdf_info\",\"\\u002ftheme_info\",\"\\u002fpdf_info\",\"\\u002fdist_methology\",\"\\u002fpdf_info\",\"\\u002ftheme_info\",\"\\u002fpdf_info\",\"\\u002ftheme_info\",\"\\u002ftheme_info\",\"\\u002ftheme_info\",\"\\u002ftheme_info\",\"\\u002fpdf_info\",\"\\u002fdist_methology\",\"\\u002ftheme_info\",\"\\u002fpdf_info\",\"\\u002ftheme_info\",\"\\u002fpdf_info\",\"\\u002ftheme_info\",\"\\u002ftheme_info\",\"\\u002ftheme_info\",\"\\u002ftheme_info\",\"\\u002fpdf_info\",\"\\u002fpdf_info\",\"\\u002fdist_methology\",\"\\u002fstrategy\",\"\\u002fstrategy\",\"\\u002ftheme_info\",\"\\u002fpdf_info\",\"\\u002fpdf_info\",\"\\u002fpdf_info\",\"\\u002ftheme_info\",\"\\u002fpdf_info\",\"\\u002fdist_methology\",\"\\u002fpdf_info\",\"\\u002fdist_methology\",\"\\u002ftheme_info\",\"\\u002fpdf_info\",\"\\u002fpdf_info\",\"\\u002ftheme_info\",\"\\u002ftheme_info\",\"\\u002fpdf_info\",\"\\u002fstrategy\",\"\\u002fstrategy\",\"\\u002fclick_invest\",\"\\u002fclick_invest\",\"\\u002ftheme_info\",\"\\u002fpdf_info\",\"\\u002fdist_methology\",\"\\u002fpdf_info\",\"\\u002ftheme_info\",\"\\u002fpdf_info\",\"\\u002fdist_methology\",\"\\u002ftheme_info\",\"\\u002fpdf_info\",\"\\u002ftheme_info\",\"\\u002fpdf_info\",\"\\u002ftheme_info\",\"\\u002fdist_methology\",\"\\u002fpdf_info\",\"\\u002fpdf_info\",\"\\u002ftheme_info\",\"\\u002fdist_methology\",\"\\u002fpdf_info\",\"\\u002fdist_methology\",\"\\u002fpdf_info\",\"\\u002fdist_methology\",\"\\u002fpdf_info\",\"\\u002ftheme_info\",\"\\u002ftheme_info\",\"\\u002fpdf_info\",\"\\u002ftheme_info\",\"\\u002fpdf_info\",\"\\u002ftheme_info\",\"\\u002ftheme_info\",\"\\u002fpdf_info\",\"\\u002fstrategy\",\"\\u002fstrategy\",\"\\u002fstrategy\",\"\\u002fdist_methology\",\"\\u002ftheme_info\",\"\\u002fclick_invest\",\"\\u002fclick_invest\",\"\\u002fpdf_info\",\"\\u002fpdf_info\",\"\\u002ftheme_info\",\"\\u002fpdf_info\",\"\\u002ftheme_info\",\"\\u002fpdf_info\",\"\\u002fstrategy\",\"\\u002fstrategy\",\"\\u002fpdf_info\",\"\\u002ftheme_info\",\"\\u002ftheme_info\",\"\\u002ftheme_info\",\"\\u002fpdf_info\",\"\\u002ftheme_info\",\"\\u002fdist_methology\",\"\\u002fpdf_info\",\"\\u002ftheme_info\",\"\\u002fpdf_info\",\"\\u002fdist_methology\",\"\\u002fpdf_info\",\"\\u002ftheme_info\",\"\\u002ftheme_info\",\"\\u002fpdf_info\",\"\\u002ftheme_info\",\"\\u002ftheme_info\",\"\\u002fpdf_info\",\"\\u002fdist_methology\",\"\\u002fpdf_info\",\"\\u002fstrategy\",\"\\u002fstrategy\",\"\\u002fpdf_info\",\"\\u002ftheme_info\",\"\\u002ftheme_info\",\"\\u002fpdf_info\",\"\\u002ftheme_info\",\"\\u002fpdf_info\",\"\\u002ftheme_info\",\"\\u002ftheme_info\",\"\\u002fpdf_info\",\"\\u002fdist_methology\",\"\\u002fpdf_info\",\"\\u002ftheme_info\",\"\\u002fpdf_info\",\"\\u002ftheme_info\",\"\\u002fpdf_info\",\"\\u002ftheme_info\",\"\\u002fpdf_info\",\"\\u002ftheme_info\",\"\\u002ftheme_info\",\"\\u002ftheme_info\",\"\\u002ftheme_info\",\"\\u002fpdf_info\",\"\\u002fdist_methology\",\"\\u002fpdf_info\",\"\\u002fdist_methology\",\"\\u002fpdf_info\",\"\\u002fstrategy\",\"\\u002fstrategy\",\"\\u002fstrategy\",\"\\u002fpdf_info\",\"\\u002fpdf_info\",\"\\u002fpdf_info\",\"\\u002fstrategy\",\"\\u002fstrategy\",\"\\u002ftheme_info\",\"\\u002fdist_methology\",\"\\u002fpdf_info\",\"\\u002fstrategy\",\"\\u002fstrategy\",\"\\u002fclick_invest\",\"\\u002fclick_invest\",\"\\u002ftheme_info\",\"\\u002ftheme_info\",\"\\u002fpdf_info\",\"\\u002fdist_methology\",\"\\u002fpdf_info\",\"\\u002fstrategy\",\"\\u002fclick_invest\",\"\\u002fclick_invest\",\"\\u002fclick_invest\",\"\\u002fpdf_info\",\"\\u002fstrategy\",\"\\u002fstrategy\",\"\\u002fstrategy\",\"\\u002fclick_invest\",\"\\u002fclick_invest\",\"\\u002ftheme_info\",\"\\u002ftheme_info\",\"\\u002fpdf_info\",\"\\u002fdist_methology\",\"\\u002ftheme_info\",\"\\u002fpdf_info\",\"\\u002fpdf_info\",\"\\u002fdist_methology\",\"\\u002fpdf_info\",\"\\u002fdist_methology\",\"\\u002fpdf_info\",\"\\u002ftheme_info\",\"\\u002fpdf_info\",\"\\u002ftheme_info\",\"\\u002ftheme_info\",\"\\u002fpdf_info\",\"\\u002ftheme_info\",\"\\u002fpdf_info\",\"\\u002ftheme_info\",\"\\u002ftheme_info\",\"\\u002fpdf_info\",\"\\u002fdist_methology\",\"\\u002fpdf_info\",\"\\u002fstrategy\",\"\\u002fstrategy\",\"\\u002fpdf_info\",\"\\u002ftheme_info\",\"\\u002ftheme_info\",\"\\u002ftheme_info\",\"\\u002fpdf_info\",\"\\u002ftheme_info\",\"\\u002ftheme_info\",\"\\u002ftheme_info\",\"\\u002fpdf_info\",\"\\u002fdist_methology\",\"\\u002fpdf_info\",\"\\u002fpdf_info\",\"\\u002fstrategy\",\"\\u002fstrategy\",\"\\u002fclick_invest\",\"\\u002fclick_invest\",\"\\u002fdist_methology\",\"\\u002fpdf_info\",\"\\u002ftheme_info\",\"\\u002ftheme_info\",\"\\u002fpdf_info\",\"\\u002ftheme_info\",\"\\u002ftheme_info\",\"\\u002fpdf_info\",\"\\u002fdist_methology\",\"\\u002ftheme_info\",\"\\u002fpdf_info\",\"\\u002fstrategy\",\"\\u002fstrategy\",\"\\u002fclick_invest\",\"\\u002fclick_invest\",\"\\u002ftheme_info\",\"\\u002ftheme_info\",\"\\u002fpdf_info\",\"\\u002ftheme_info\",\"\\u002fpdf_info\",\"\\u002fdist_methology\",\"\\u002fpdf_info\",\"\\u002fstrategy\",\"\\u002fstrategy\",\"\\u002fclick_invest\",\"\\u002fclick_invest\",\"\\u002ftheme_info\",\"\\u002fpdf_info\",\"\\u002fdist_methology\",\"\\u002fpdf_info\",\"\\u002fstrategy\",\"\\u002fstrategy\",\"\\u002fclick_invest\",\"\\u002fclick_invest\",\"\\u002ftheme_info\",\"\\u002fpdf_info\",\"\\u002ftheme_info\",\"\\u002ftheme_info\",\"\\u002fpdf_info\",\"\\u002fstrategy\",\"\\u002fstrategy\",\"\\u002ftheme_info\",\"\\u002fpdf_info\",\"\\u002ftheme_info\",\"\\u002fpdf_info\",\"\\u002ftheme_info\",\"\\u002ftheme_info\",\"\\u002fpdf_info\",\"\\u002fdist_methology\",\"\\u002fpdf_info\",\"\\u002ftheme_info\",\"\\u002fpdf_info\",\"\\u002fstrategy\",\"\\u002fstrategy\",\"\\u002fpdf_info\",\"\\u002ftheme_info\",\"\\u002ftheme_info\",\"\\u002fpdf_info\",\"\\u002fdist_methology\",\"\\u002fpdf_info\",\"\\u002fpdf_info\",\"\\u002ftheme_info\",\"\\u002ftheme_info\",\"\\u002ftheme_info\",\"\\u002fpdf_info\",\"\\u002ftheme_info\",\"\\u002ftheme_info\",\"\\u002fpdf_info\",\"\\u002fstrategy\",\"\\u002fstrategy\",\"\\u002fclick_invest\",\"\\u002fclick_invest\",\"\\u002fpdf_info\",\"\\u002ftheme_info\",\"\\u002ftheme_info\",\"\\u002ftheme_info\",\"\\u002fpdf_info\",\"\\u002ftheme_info\",\"\\u002fpdf_info\",\"\\u002ftheme_info\",\"\\u002fpdf_info\",\"\\u002fstrategy\",\"\\u002fstrategy\",\"\\u002fclick_invest\",\"\\u002fclick_invest\",\"\\u002ftheme_info\",\"\\u002ftheme_info\",\"\\u002fpdf_info\",\"\\u002fdist_methology\",\"\\u002fpdf_info\",\"\\u002fdist_methology\",\"\\u002fpdf_info\",\"\\u002fstrategy\",\"\\u002fstrategy\",\"\\u002fclick_invest\",\"\\u002fclick_invest\",\"\\u002ftheme_info\",\"\\u002fpdf_info\",\"\\u002ftheme_info\",\"\\u002fpdf_info\",\"\\u002ftheme_info\",\"\\u002fpdf_info\",\"\\u002ftheme_info\",\"\\u002fpdf_info\",\"\\u002ftheme_info\",\"\\u002ftheme_info\",\"\\u002fpdf_info\",\"\\u002ftheme_info\",\"\\u002fpdf_info\",\"\\u002ftheme_info\",\"\\u002ftheme_info\",\"\\u002fpdf_info\",\"\\u002fstrategy\",\"\\u002fstrategy\",\"\\u002fstrategy\",\"\\u002ftheme_info\",\"\\u002fpdf_info\",\"\\u002fstrategy\",\"\\u002fstrategy\",\"\\u002fpdf_info\",\"\\u002ftheme_info\",\"\\u002ftheme_info\",\"\\u002fpdf_info\",\"\\u002ftheme_info\",\"\\u002fpdf_info\",\"\\u002fstrategy\",\"\\u002fstrategy\",\"\\u002ftheme_info\",\"\\u002fpdf_info\",\"\\u002fpdf_info\",\"\\u002fdist_methology\",\"\\u002fdist_methology\",\"\\u002fpdf_info\",\"\\u002fpdf_info\",\"\\u002ftheme_info\",\"\\u002fstrategy\",\"\\u002fstrategy\",\"\\u002fclick_invest\",\"\\u002fclick_invest\",\"\\u002ftheme_info\",\"\\u002ftheme_info\",\"\\u002fpdf_info\",\"\\u002ftheme_info\",\"\\u002ftheme_info\",\"\\u002ftheme_info\",\"\\u002ftheme_info\",\"\\u002fpdf_info\",\"\\u002fstrategy\",\"\\u002fstrategy\",\"\\u002ftheme_info\",\"\\u002fpdf_info\",\"\\u002ftheme_info\",\"\\u002fpdf_info\",\"\\u002ftheme_info\",\"\\u002ftheme_info\",\"\\u002fpdf_info\",\"\\u002fstrategy\",\"\\u002fstrategy\",\"\\u002ftheme_info\",\"\\u002fpdf_info\",\"\\u002fstrategy\",\"\\u002fstrategy\",\"\\u002ftheme_info\",\"\\u002fpdf_info\",\"\\u002fdist_methology\",\"\\u002fpdf_info\",\"\\u002fstrategy\",\"\\u002ftheme_info\",\"\\u002ftheme_info\",\"\\u002fpdf_info\",\"\\u002fstrategy\",\"\\u002ftheme_info\",\"\\u002fpdf_info\",\"\\u002fstrategy\",\"\\u002fclick_invest\",\"\\u002fclick_invest\",\"\\u002ftheme_info\",\"\\u002ftheme_info\",\"\\u002ftheme_info\",\"\\u002ftheme_info\",\"\\u002fpdf_info\",\"\\u002fstrategy\",\"\\u002fstrategy\",\"\\u002fclick_invest\",\"\\u002fclick_invest\",\"\\u002ftheme_info\",\"\\u002fpdf_info\",\"\\u002fdist_methology\",\"\\u002ftheme_info\",\"\\u002ftheme_info\",\"\\u002fpdf_info\",\"\\u002fdist_methology\",\"\\u002fpdf_info\",\"\\u002fdist_methology\",\"\\u002fpdf_info\",\"\\u002ftheme_info\",\"\\u002ftheme_info\",\"\\u002fpdf_info\",\"\\u002fdist_methology\",\"\\u002fpdf_info\",\"\\u002fstrategy\",\"\\u002fstrategy\",\"\\u002fclick_invest\",\"\\u002fclick_invest\",\"\\u002ftheme_info\",\"\\u002fpdf_info\",\"\\u002fstrategy\",\"\\u002fstrategy\",\"\\u002fpdf_info\",\"\\u002ftheme_info\",\"\\u002fpdf_info\",\"\\u002ftheme_info\",\"\\u002fpdf_info\",\"\\u002fdist_methology\",\"\\u002fpdf_info\",\"\\u002ftheme_info\",\"\\u002ftheme_info\",\"\\u002fpdf_info\",\"\\u002fstrategy\",\"\\u002fstrategy\",\"\\u002fclick_invest\",\"\\u002fclick_invest\",\"\\u002fclick_invest\",\"\\u002ftheme_info\",\"\\u002fpdf_info\",\"\\u002fstrategy\",\"\\u002fstrategy\",\"\\u002fclick_invest\",\"\\u002fclick_invest\",\"\\u002ftheme_info\",\"\\u002ftheme_info\",\"\\u002fpdf_info\",\"\\u002ftheme_info\",\"\\u002fpdf_info\",\"\\u002ftheme_info\",\"\\u002fpdf_info\",\"\\u002ftheme_info\",\"\\u002ftheme_info\",\"\\u002ftheme_info\",\"\\u002fpdf_info\",\"\\u002fstrategy\",\"\\u002fstrategy\",\"\\u002fclick_invest\",\"\\u002fclick_invest\",\"\\u002ftheme_info\",\"\\u002fpdf_info\",\"\\u002ftheme_info\",\"\\u002ftheme_info\",\"\\u002ftheme_info\",\"\\u002fpdf_info\",\"\\u002ftheme_info\",\"\\u002fpdf_info\",\"\\u002ftheme_info\",\"\\u002ftheme_info\",\"\\u002ftheme_info\",\"\\u002fpdf_info\",\"\\u002fstrategy\",\"\\u002fstrategy\",\"\\u002fpdf_info\",\"\\u002ftheme_info\",\"\\u002ftheme_info\",\"\\u002fpdf_info\",\"\\u002fdist_methology\",\"\\u002fpdf_info\",\"\\u002ftheme_info\",\"\\u002ftheme_info\",\"\\u002fpdf_info\",\"\\u002fstrategy\",\"\\u002fstrategy\",\"\\u002fpdf_info\",\"\\u002ftheme_info\",\"\\u002ftheme_info\",\"\\u002ftheme_info\",\"\\u002fpdf_info\",\"\\u002fdist_methology\",\"\\u002fpdf_info\",\"\\u002ftheme_info\",\"\\u002ftheme_info\",\"\\u002fpdf_info\",\"\\u002fstrategy\",\"\\u002fstrategy\",\"\\u002ftheme_info\",\"\\u002fpdf_info\",\"\\u002ftheme_info\",\"\\u002ftheme_info\",\"\\u002fpdf_info\",\"\\u002ftheme_info\",\"\\u002ftheme_info\",\"\\u002ftheme_info\",\"\\u002fpdf_info\",\"\\u002ftheme_info\",\"\\u002fpdf_info\",\"\\u002fstrategy\",\"\\u002fstrategy\",\"\\u002ftheme_info\",\"\\u002fpdf_info\",\"\\u002ftheme_info\",\"\\u002fpdf_info\",\"\\u002ftheme_info\",\"\\u002fpdf_info\",\"\\u002fstrategy\",\"\\u002fstrategy\",\"\\u002fclick_invest\",\"\\u002fclick_invest\",\"\\u002ftheme_info\",\"\\u002fpdf_info\",\"\\u002fstrategy\",\"\\u002ftheme_info\",\"\\u002fpdf_info\",\"\\u002fdist_methology\",\"\\u002fpdf_info\",\"\\u002fstrategy\",\"\\u002fpdf_info\",\"\\u002fstrategy\",\"\\u002fclick_invest\",\"\\u002fpdf_info\",\"\\u002ftheme_info\",\"\\u002fpdf_info\",\"\\u002fdist_methology\",\"\\u002fpdf_info\",\"\\u002fstrategy\",\"\\u002fstrategy\",\"\\u002fpdf_info\",\"\\u002ftheme_info\",\"\\u002ftheme_info\",\"\\u002fpdf_info\",\"\\u002ftheme_info\",\"\\u002fpdf_info\",\"\\u002fpdf_info\",\"\\u002fpdf_info\",\"\\u002ftheme_info\",\"\\u002fpdf_info\",\"\\u002ftheme_info\",\"\\u002fpdf_info\",\"\\u002fstrategy\",\"\\u002ftheme_info\",\"\\u002fpdf_info\",\"\\u002ftheme_info\",\"\\u002fpdf_info\",\"\\u002fdist_methology\",\"\\u002fpdf_info\",\"\\u002fstrategy\",\"\\u002fstrategy\",\"\\u002fclick_invest\",\"\\u002fclick_invest\",\"\\u002ftheme_info\",\"\\u002fpdf_info\",\"\\u002ftheme_info\",\"\\u002fpdf_info\",\"\\u002fstrategy\",\"\\u002fstrategy\",\"\\u002ftheme_info\",\"\\u002fpdf_info\",\"\\u002fdist_methology\",\"\\u002fpdf_info\",\"\\u002fstrategy\",\"\\u002fstrategy\",\"\\u002fpdf_info\",\"\\u002ftheme_info\",\"\\u002ftheme_info\",\"\\u002fpdf_info\",\"\\u002fdist_methology\",\"\\u002fpdf_info\",\"\\u002fstrategy\",\"\\u002fstrategy\",\"\\u002fclick_invest\",\"\\u002fclick_invest\",\"\\u002ftheme_info\",\"\\u002fpdf_info\",\"\\u002fdist_methology\",\"\\u002fpdf_info\",\"\\u002ftheme_info\",\"\\u002fpdf_info\",\"\\u002fstrategy\",\"\\u002fstrategy\",\"\\u002fpdf_info\",\"\\u002ftheme_info\",\"\\u002fpdf_info\",\"\\u002ftheme_info\",\"\\u002ftheme_info\",\"\\u002fpdf_info\",\"\\u002fdist_methology\",\"\\u002fpdf_info\",\"\\u002ftheme_info\",\"\\u002ftheme_info\",\"\\u002fpdf_info\",\"\\u002ftheme_info\",\"\\u002fpdf_info\",\"\\u002ftheme_info\",\"\\u002fpdf_info\",\"\\u002ftheme_info\",\"\\u002ftheme_info\",\"\\u002ftheme_info\",\"\\u002ftheme_info\",\"\\u002fpdf_info\",\"\\u002ftheme_info\",\"\\u002fpdf_info\",\"\\u002fdist_methology\",\"\\u002fpdf_info\",\"\\u002fdist_methology\",\"\\u002fpdf_info\",\"\\u002ftheme_info\",\"\\u002fpdf_info\",\"\\u002fstrategy\",\"\\u002fstrategy\",\"\\u002fclick_invest\",\"\\u002fclick_invest\",\"\\u002fpdf_info\",\"\\u002fdist_methology\",\"\\u002fpdf_info\",\"\\u002fstrategy\",\"\\u002fclick_invest\",\"\\u002ftheme_info\",\"\\u002fpdf_info\",\"\\u002fdist_methology\",\"\\u002fpdf_info\",\"\\u002ftheme_info\",\"\\u002fpdf_info\",\"\\u002fdist_methology\",\"\\u002ftheme_info\",\"\\u002fpdf_info\",\"\\u002fdist_methology\",\"\\u002fpdf_info\",\"\\u002ftheme_info\",\"\\u002fpdf_info\",\"\\u002ftheme_info\",\"\\u002fpdf_info\",\"\\u002ftheme_info\",\"\\u002fpdf_info\",\"\\u002ftheme_info\",\"\\u002fpdf_info\",\"\\u002ftheme_info\",\"\\u002fpdf_info\",\"\\u002ftheme_info\",\"\\u002ftheme_info\",\"\\u002ftheme_info\",\"\\u002fpdf_info\",\"\\u002fdist_methology\",\"\\u002ftheme_info\",\"\\u002ftheme_info\",\"\\u002ftheme_info\",\"\\u002fpdf_info\",\"\\u002fpdf_info\",\"\\u002ftheme_info\",\"\\u002fstrategy\",\"\\u002fstrategy\",\"\\u002fpdf_info\",\"\\u002ftheme_info\",\"\\u002fpdf_info\",\"\\u002ftheme_info\",\"\\u002fpdf_info\",\"\\u002fstrategy\",\"\\u002fstrategy\",\"\\u002fclick_invest\",\"\\u002fclick_invest\",\"\\u002fclick_invest\",\"\\u002ftheme_info\",\"\\u002fpdf_info\",\"\\u002ftheme_info\",\"\\u002fpdf_info\",\"\\u002fdist_methology\",\"\\u002fpdf_info\",\"\\u002fstrategy\",\"\\u002fstrategy\",\"\\u002ftheme_info\",\"\\u002fpdf_info\",\"\\u002fdist_methology\",\"\\u002fpdf_info\",\"\\u002fstrategy\",\"\\u002ftheme_info\",\"\\u002fclick_invest\",\"\\u002fclick_invest\",\"\\u002fpdf_info\",\"\\u002fpdf_info\",\"\\u002ftheme_info\",\"\\u002fpdf_info\",\"\\u002ftheme_info\",\"\\u002fpdf_info\",\"\\u002fdist_methology\",\"\\u002fpdf_info\",\"\\u002ftheme_info\",\"\\u002fpdf_info\",\"\\u002fdist_methology\",\"\\u002fpdf_info\",\"\\u002fstrategy\",\"\\u002fpdf_info\",\"\\u002fstrategy\",\"\\u002fclick_invest\",\"\\u002fclick_invest\",\"\\u002ftheme_info\",\"\\u002fpdf_info\",\"\\u002ftheme_info\",\"\\u002fpdf_info\",\"\\u002fstrategy\",\"\\u002fstrategy\",\"\\u002fpdf_info\",\"\\u002ftheme_info\",\"\\u002ftheme_info\",\"\\u002ftheme_info\",\"\\u002fpdf_info\",\"\\u002ftheme_info\",\"\\u002fpdf_info\",\"\\u002fstrategy\",\"\\u002fstrategy\",\"\\u002fclick_invest\",\"\\u002fclick_invest\",\"\\u002fpdf_info\",\"\\u002ftheme_info\",\"\\u002fpdf_info\",\"\\u002ftheme_info\",\"\\u002ftheme_info\",\"\\u002fpdf_info\",\"\\u002ftheme_info\",\"\\u002ftheme_info\",\"\\u002fpdf_info\",\"\\u002fdist_methology\",\"\\u002fpdf_info\",\"\\u002fstrategy\",\"\\u002fstrategy\",\"\\u002fclick_invest\",\"\\u002fclick_invest\",\"\\u002fpdf_info\",\"\\u002ftheme_info\",\"\\u002ftheme_info\",\"\\u002ftheme_info\",\"\\u002fpdf_info\",\"\\u002fdist_methology\",\"\\u002fpdf_info\",\"\\u002ftheme_info\",\"\\u002ftheme_info\",\"\\u002fpdf_info\",\"\\u002fstrategy\",\"\\u002fstrategy\",\"\\u002fpdf_info\",\"\\u002fdist_methology\",\"\\u002fpdf_info\",\"\\u002ftheme_info\",\"\\u002ftheme_info\",\"\\u002fpdf_info\",\"\\u002fdist_methology\",\"\\u002fpdf_info\",\"\\u002ftheme_info\",\"\\u002fpdf_info\",\"\\u002ftheme_info\",\"\\u002fpdf_info\",\"\\u002ftheme_info\",\"\\u002fpdf_info\",\"\\u002ftheme_info\",\"\\u002ftheme_info\",\"\\u002ftheme_info\",\"\\u002fpdf_info\",\"\\u002ftheme_info\",\"\\u002fpdf_info\",\"\\u002fdist_methology\",\"\\u002fpdf_info\",\"\\u002ftheme_info\",\"\\u002fpdf_info\",\"\\u002ftheme_info\",\"\\u002ftheme_info\",\"\\u002ftheme_info\",\"\\u002ftheme_info\",\"\\u002fpdf_info\",\"\\u002fdist_methology\",\"\\u002fpdf_info\",\"\\u002fpdf_info\",\"\\u002ftheme_info\",\"\\u002ftheme_info\",\"\\u002fpdf_info\",\"\\u002fstrategy\",\"\\u002fstrategy\",\"\\u002ftheme_info\",\"\\u002fpdf_info\",\"\\u002fstrategy\",\"\\u002fstrategy\",\"\\u002fclick_invest\",\"\\u002fclick_invest\",\"\\u002fclick_invest\",\"\\u002ftheme_info\",\"\\u002fpdf_info\",\"\\u002fstrategy\",\"\\u002fstrategy\",\"\\u002fclick_invest\",\"\\u002fclick_invest\",\"\\u002fpdf_info\",\"\\u002ftheme_info\",\"\\u002ftheme_info\",\"\\u002fpdf_info\",\"\\u002fdist_methology\",\"\\u002fpdf_info\",\"\\u002ftheme_info\",\"\\u002ftheme_info\",\"\\u002fpdf_info\",\"\\u002fdist_methology\",\"\\u002fpdf_info\",\"\\u002ftheme_info\",\"\\u002ftheme_info\",\"\\u002fpdf_info\",\"\\u002fdist_methology\",\"\\u002ftheme_info\",\"\\u002fpdf_info\",\"\\u002ftheme_info\",\"\\u002fpdf_info\",\"\\u002ftheme_info\",\"\\u002fdist_methology\",\"\\u002fpdf_info\",\"\\u002ftheme_info\",\"\\u002ftheme_info\",\"\\u002ftheme_info\",\"\\u002fpdf_info\",\"\\u002fdist_methology\",\"\\u002fpdf_info\",\"\\u002ftheme_info\",\"\\u002fpdf_info\",\"\\u002ftheme_info\",\"\\u002fpdf_info\",\"\\u002ftheme_info\",\"\\u002fpdf_info\",\"\\u002ftheme_info\",\"\\u002fpdf_info\",\"\\u002ftheme_info\",\"\\u002fpdf_info\",\"\\u002ftheme_info\",\"\\u002ftheme_info\",\"\\u002ftheme_info\",\"\\u002fpdf_info\",\"\\u002fdist_methology\",\"\\u002fpdf_info\",\"\\u002ftheme_info\",\"\\u002ftheme_info\",\"\\u002fpdf_info\",\"\\u002ftheme_info\",\"\\u002ftheme_info\",\"\\u002fpdf_info\",\"\\u002fstrategy\",\"\\u002fstrategy\",\"\\u002fpdf_info\",\"\\u002ftheme_info\",\"\\u002ftheme_info\",\"\\u002ftheme_info\",\"\\u002fpdf_info\",\"\\u002fdist_methology\",\"\\u002fpdf_info\",\"\\u002ftheme_info\",\"\\u002fpdf_info\",\"\\u002fdist_methology\",\"\\u002fpdf_info\",\"\\u002fdist_methology\",\"\\u002fpdf_info\",\"\\u002ftheme_info\",\"\\u002fpdf_info\",\"\\u002fstrategy\",\"\\u002fstrategy\",\"\\u002fclick_invest\",\"\\u002fclick_invest\",\"\\u002ftheme_info\",\"\\u002fpdf_info\",\"\\u002ftheme_info\",\"\\u002ftheme_info\",\"\\u002fpdf_info\",\"\\u002ftheme_info\",\"\\u002ftheme_info\",\"\\u002ftheme_info\",\"\\u002fpdf_info\",\"\\u002ftheme_info\",\"\\u002fpdf_info\",\"\\u002fstrategy\",\"\\u002fstrategy\",\"\\u002ftheme_info\",\"\\u002ftheme_info\",\"\\u002fpdf_info\",\"\\u002fstrategy\",\"\\u002fstrategy\",\"\\u002fpdf_info\",\"\\u002ftheme_info\",\"\\u002fpdf_info\",\"\\u002fstrategy\",\"\\u002fpdf_info\",\"\\u002ftheme_info\",\"\\u002ftheme_info\",\"\\u002ftheme_info\",\"\\u002fpdf_info\",\"\\u002fdist_methology\",\"\\u002fpdf_info\",\"\\u002fstrategy\",\"\\u002fstrategy\",\"\\u002fclick_invest\",\"\\u002fclick_invest\",\"\\u002ftheme_info\",\"\\u002fpdf_info\",\"\\u002ftheme_info\",\"\\u002fpdf_info\",\"\\u002ftheme_info\",\"\\u002fpdf_info\",\"\\u002ftheme_info\",\"\\u002ftheme_info\",\"\\u002fpdf_info\",\"\\u002fdist_methology\",\"\\u002fpdf_info\",\"\\u002fstrategy\",\"\\u002fstrategy\",\"\\u002fpdf_info\",\"\\u002ftheme_info\",\"\\u002ftheme_info\",\"\\u002ftheme_info\",\"\\u002ftheme_info\",\"\\u002ftheme_info\",\"\\u002ftheme_info\",\"\\u002fpdf_info\",\"\\u002fstrategy\",\"\\u002fstrategy\",\"\\u002fclick_invest\",\"\\u002fclick_invest\",\"\\u002ftheme_info\",\"\\u002fpdf_info\",\"\\u002fdist_methology\",\"\\u002ftheme_info\",\"\\u002ftheme_info\",\"\\u002fpdf_info\",\"\\u002fstrategy\",\"\\u002fstrategy\",\"\\u002fclick_invest\",\"\\u002fclick_invest\",\"\\u002ftheme_info\",\"\\u002fpdf_info\",\"\\u002fdist_methology\",\"\\u002ftheme_info\",\"\\u002fpdf_info\",\"\\u002fdist_methology\",\"\\u002fpdf_info\",\"\\u002fdist_methology\",\"\\u002fpdf_info\",\"\\u002fpdf_info\",\"\\u002fdist_methology\",\"\\u002fpdf_info\",\"\\u002fdist_methology\",\"\\u002fpdf_info\",\"\\u002ftheme_info\",\"\\u002fstrategy\",\"\\u002fclick_invest\",\"\\u002ftheme_info\",\"\\u002fpdf_info\",\"\\u002fstrategy\",\"\\u002fstrategy\",\"\\u002fclick_invest\",\"\\u002fclick_invest\",\"\\u002fpdf_info\",\"\\u002fpdf_info\",\"\\u002ftheme_info\",\"\\u002fpdf_info\",\"\\u002ftheme_info\",\"\\u002ftheme_info\",\"\\u002fpdf_info\",\"\\u002fdist_methology\",\"\\u002fpdf_info\",\"\\u002ftheme_info\",\"\\u002fpdf_info\",\"\\u002fdist_methology\",\"\\u002ftheme_info\",\"\\u002fpdf_info\",\"\\u002fstrategy\",\"\\u002fstrategy\",\"\\u002fclick_invest\",\"\\u002fclick_invest\",\"\\u002fclick_invest\",\"\\u002fclick_invest\",\"\\u002ftheme_info\",\"\\u002ftheme_info\",\"\\u002fpdf_info\",\"\\u002ftheme_info\",\"\\u002fpdf_info\",\"\\u002ftheme_info\",\"\\u002ftheme_info\",\"\\u002fpdf_info\",\"\\u002ftheme_info\",\"\\u002fpdf_info\",\"\\u002fdist_methology\",\"\\u002fpdf_info\",\"\\u002fstrategy\",\"\\u002fstrategy\",\"\\u002fclick_invest\",\"\\u002fclick_invest\",\"\\u002ftheme_info\",\"\\u002fpdf_info\",\"\\u002ftheme_info\",\"\\u002fpdf_info\",\"\\u002fstrategy\",\"\\u002fstrategy\",\"\\u002fclick_invest\",\"\\u002fclick_invest\",\"\\u002fpdf_info\",\"\\u002ftheme_info\",\"\\u002ftheme_info\",\"\\u002fpdf_info\",\"\\u002fdist_methology\",\"\\u002fpdf_info\",\"\\u002fstrategy\",\"\\u002fstrategy\",\"\\u002fclick_invest\",\"\\u002fclick_invest\",\"\\u002ftheme_info\",\"\\u002fpdf_info\",\"\\u002ftheme_info\",\"\\u002fpdf_info\",\"\\u002ftheme_info\",\"\\u002fpdf_info\",\"\\u002ftheme_info\",\"\\u002fpdf_info\",\"\\u002ftheme_info\",\"\\u002fpdf_info\",\"\\u002ftheme_info\",\"\\u002fpdf_info\",\"\\u002ftheme_info\",\"\\u002fpdf_info\",\"\\u002fdist_methology\",\"\\u002ftheme_info\",\"\\u002fpdf_info\",\"\\u002fpdf_info\",\"\\u002fstrategy\",\"\\u002fstrategy\",\"\\u002fclick_invest\",\"\\u002fclick_invest\",\"\\u002fdist_methology\",\"\\u002fclick_invest\",\"\\u002ftheme_info\",\"\\u002fpdf_info\",\"\\u002ftheme_info\",\"\\u002fpdf_info\",\"\\u002ftheme_info\",\"\\u002ftheme_info\",\"\\u002fpdf_info\",\"\\u002fstrategy\",\"\\u002fstrategy\",\"\\u002fclick_invest\",\"\\u002fclick_invest\",\"\\u002fclick_invest\",\"\\u002ftheme_info\",\"\\u002ftheme_info\",\"\\u002fpdf_info\",\"\\u002ftheme_info\",\"\\u002ftheme_info\",\"\\u002ftheme_info\",\"\\u002fpdf_info\",\"\\u002fstrategy\",\"\\u002fstrategy\",\"\\u002fstrategy\",\"\\u002fclick_invest\",\"\\u002fclick_invest\",\"\\u002ftheme_info\",\"\\u002fpdf_info\",\"\\u002fstrategy\",\"\\u002fstrategy\",\"\\u002fclick_invest\",\"\\u002fclick_invest\",\"\\u002ftheme_info\",\"\\u002fpdf_info\",\"\\u002ftheme_info\",\"\\u002fpdf_info\",\"\\u002fstrategy\",\"\\u002fstrategy\",\"\\u002fstrategy\",\"\\u002fclick_invest\",\"\\u002fclick_invest\",\"\\u002fpdf_info\",\"\\u002ftheme_info\",\"\\u002fpdf_info\",\"\\u002fstrategy\",\"\\u002fclick_invest\",\"\\u002fpdf_info\",\"\\u002ftheme_info\",\"\\u002fpdf_info\",\"\\u002fdist_methology\",\"\\u002fpdf_info\",\"\\u002fstrategy\",\"\\u002fstrategy\",\"\\u002fclick_invest\",\"\\u002fclick_invest\",\"\\u002ftheme_info\",\"\\u002ftheme_info\",\"\\u002fpdf_info\",\"\\u002fstrategy\",\"\\u002fstrategy\",\"\\u002fclick_invest\",\"\\u002fclick_invest\",\"\\u002ftheme_info\",\"\\u002fpdf_info\",\"\\u002fstrategy\",\"\\u002fclick_invest\",\"\\u002ftheme_info\",\"\\u002ftheme_info\",\"\\u002fpdf_info\",\"\\u002fdist_methology\",\"\\u002fpdf_info\",\"\\u002fdist_methology\",\"\\u002fpdf_info\",\"\\u002ftheme_info\",\"\\u002fpdf_info\",\"\\u002fdist_methology\",\"\\u002fpdf_info\",\"\\u002ftheme_info\",\"\\u002fpdf_info\",\"\\u002fdist_methology\",\"\\u002fpdf_info\",\"\\u002ftheme_info\",\"\\u002fpdf_info\",\"\\u002ftheme_info\",\"\\u002ftheme_info\",\"\\u002fpdf_info\",\"\\u002ftheme_info\",\"\\u002fpdf_info\",\"\\u002ftheme_info\",\"\\u002ftheme_info\",\"\\u002fpdf_info\",\"\\u002fdist_methology\",\"\\u002fpdf_info\",\"\\u002ftheme_info\",\"\\u002fpdf_info\",\"\\u002fdist_methology\",\"\\u002fpdf_info\",\"\\u002ftheme_info\",\"\\u002ftheme_info\",\"\\u002ftheme_info\",\"\\u002fpdf_info\",\"\\u002ftheme_info\",\"\\u002ftheme_info\",\"\\u002fpdf_info\",\"\\u002ftheme_info\",\"\\u002ftheme_info\",\"\\u002ftheme_info\",\"\\u002fpdf_info\",\"\\u002fdist_methology\",\"\\u002ftheme_info\",\"\\u002fpdf_info\",\"\\u002fstrategy\",\"\\u002fstrategy\",\"\\u002ftheme_info\",\"\\u002ftheme_info\",\"\\u002ftheme_info\",\"\\u002fpdf_info\",\"\\u002fpdf_info\",\"\\u002fstrategy\",\"\\u002fclick_invest\",\"\\u002fclick_invest\",\"\\u002fstrategy\",\"\\u002fstrategy\",\"\\u002fclick_invest\",\"\\u002fclick_invest\",\"\\u002ftheme_info\",\"\\u002fpdf_info\",\"\\u002fdist_methology\",\"\\u002fpdf_info\",\"\\u002fstrategy\",\"\\u002fstrategy\",\"\\u002fclick_invest\",\"\\u002fclick_invest\",\"\\u002fpdf_info\",\"\\u002ftheme_info\",\"\\u002ftheme_info\",\"\\u002fpdf_info\",\"\\u002fdist_methology\",\"\\u002fpdf_info\",\"\\u002fstrategy\",\"\\u002fstrategy\",\"\\u002ftheme_info\",\"\\u002fpdf_info\",\"\\u002fdist_methology\",\"\\u002fpdf_info\",\"\\u002fstrategy\",\"\\u002fstrategy\",\"\\u002fpdf_info\",\"\\u002ftheme_info\",\"\\u002ftheme_info\",\"\\u002ftheme_info\",\"\\u002fpdf_info\",\"\\u002fstrategy\",\"\\u002fstrategy\",\"\\u002fclick_invest\",\"\\u002fclick_invest\",\"\\u002ftheme_info\",\"\\u002ftheme_info\",\"\\u002fpdf_info\",\"\\u002fstrategy\",\"\\u002fstrategy\",\"\\u002fclick_invest\",\"\\u002fclick_invest\",\"\\u002fpdf_info\",\"\\u002fstrategy\",\"\\u002fclick_invest\",\"\\u002fpdf_info\",\"\\u002ftheme_info\",\"\\u002fpdf_info\",\"\\u002fstrategy\",\"\\u002fclick_invest\",\"\\u002ftheme_info\",\"\\u002ftheme_info\",\"\\u002ftheme_info\",\"\\u002ftheme_info\",\"\\u002ftheme_info\",\"\\u002fpdf_info\",\"\\u002ftheme_info\",\"\\u002ftheme_info\",\"\\u002fpdf_info\",\"\\u002ftheme_info\",\"\\u002fpdf_info\",\"\\u002ftheme_info\",\"\\u002fpdf_info\",\"\\u002ftheme_info\",\"\\u002fpdf_info\",\"\\u002ftheme_info\",\"\\u002fpdf_info\",\"\\u002ftheme_info\",\"\\u002fpdf_info\",\"\\u002ftheme_info\",\"\\u002fpdf_info\",\"\\u002fstrategy\",\"\\u002fstrategy\",\"\\u002fpdf_info\",\"\\u002ftheme_info\",\"\\u002fpdf_info\",\"\\u002ftheme_info\",\"\\u002ftheme_info\",\"\\u002fpdf_info\",\"\\u002ftheme_info\",\"\\u002fpdf_info\",\"\\u002ftheme_info\",\"\\u002fpdf_info\",\"\\u002ftheme_info\",\"\\u002ftheme_info\",\"\\u002fpdf_info\",\"\\u002ftheme_info\",\"\\u002fpdf_info\",\"\\u002ftheme_info\",\"\\u002fpdf_info\",\"\\u002fstrategy\",\"\\u002fstrategy\",\"\\u002fpdf_info\",\"\\u002ftheme_info\",\"\\u002ftheme_info\",\"\\u002fpdf_info\",\"\\u002ftheme_info\",\"\\u002fpdf_info\",\"\\u002ftheme_info\",\"\\u002fpdf_info\",\"\\u002ftheme_info\",\"\\u002fpdf_info\",\"\\u002ftheme_info\",\"\\u002ftheme_info\",\"\\u002fpdf_info\",\"\\u002fstrategy\",\"\\u002fstrategy\",\"\\u002fclick_invest\",\"\\u002fclick_invest\",\"\\u002ftheme_info\",\"\\u002ftheme_info\",\"\\u002fpdf_info\",\"\\u002fdist_methology\",\"\\u002ftheme_info\",\"\\u002fpdf_info\",\"\\u002fdist_methology\",\"\\u002ftheme_info\",\"\\u002fpdf_info\",\"\\u002fdist_methology\",\"\\u002ftheme_info\",\"\\u002fpdf_info\",\"\\u002ftheme_info\",\"\\u002fpdf_info\",\"\\u002fdist_methology\",\"\\u002fpdf_info\",\"\\u002ftheme_info\",\"\\u002fpdf_info\",\"\\u002ftheme_info\",\"\\u002ftheme_info\",\"\\u002fpdf_info\",\"\\u002ftheme_info\",\"\\u002fpdf_info\",\"\\u002fpdf_info\",\"\\u002ftheme_info\",\"\\u002fpdf_info\",\"\\u002fdist_methology\",\"\\u002fpdf_info\",\"\\u002fstrategy\",\"\\u002fstrategy\",\"\\u002fclick_invest\",\"\\u002fclick_invest\",\"\\u002ftheme_info\",\"\\u002fpdf_info\",\"\\u002ftheme_info\",\"\\u002fpdf_info\",\"\\u002ftheme_info\",\"\\u002fpdf_info\",\"\\u002ftheme_info\",\"\\u002ftheme_info\",\"\\u002fpdf_info\",\"\\u002ftheme_info\",\"\\u002fpdf_info\",\"\\u002ftheme_info\",\"\\u002ftheme_info\",\"\\u002fpdf_info\",\"\\u002ftheme_info\",\"\\u002fpdf_info\",\"\\u002ftheme_info\",\"\\u002fpdf_info\",\"\\u002fdist_methology\",\"\\u002fpdf_info\",\"\\u002fstrategy\",\"\\u002fstrategy\",\"\\u002fclick_invest\",\"\\u002fclick_invest\",\"\\u002fpdf_info\",\"\\u002ftheme_info\",\"\\u002fpdf_info\",\"\\u002ftheme_info\",\"\\u002fpdf_info\",\"\\u002ftheme_info\",\"\\u002fpdf_info\",\"\\u002ftheme_info\",\"\\u002ftheme_info\",\"\\u002fpdf_info\",\"\\u002ftheme_info\",\"\\u002fpdf_info\",\"\\u002fdist_methology\",\"\\u002fpdf_info\",\"\\u002fstrategy\",\"\\u002fstrategy\",\"\\u002fpdf_info\",\"\\u002ftheme_info\",\"\\u002ftheme_info\",\"\\u002fpdf_info\",\"\\u002ftheme_info\",\"\\u002fpdf_info\",\"\\u002ftheme_info\",\"\\u002fpdf_info\",\"\\u002fdist_methology\",\"\\u002fpdf_info\",\"\\u002fdist_methology\",\"\\u002fpdf_info\",\"\\u002ftheme_info\",\"\\u002fpdf_info\",\"\\u002fstrategy\",\"\\u002fstrategy\",\"\\u002fclick_invest\",\"\\u002fclick_invest\",\"\\u002ftheme_info\",\"\\u002ftheme_info\",\"\\u002fpdf_info\",\"\\u002fdist_methology\",\"\\u002fpdf_info\",\"\\u002ftheme_info\",\"\\u002fpdf_info\",\"\\u002ftheme_info\",\"\\u002fpdf_info\",\"\\u002ftheme_info\",\"\\u002ftheme_info\",\"\\u002fpdf_info\",\"\\u002fdist_methology\",\"\\u002fpdf_info\",\"\\u002fstrategy\",\"\\u002fstrategy\",\"\\u002fclick_invest\",\"\\u002fclick_invest\",\"\\u002ftheme_info\",\"\\u002fpdf_info\",\"\\u002fdist_methology\",\"\\u002ftheme_info\",\"\\u002fpdf_info\",\"\\u002ftheme_info\",\"\\u002ftheme_info\",\"\\u002fpdf_info\",\"\\u002fstrategy\",\"\\u002fstrategy\",\"\\u002fclick_invest\",\"\\u002fclick_invest\",\"\\u002ftheme_info\",\"\\u002fpdf_info\",\"\\u002fdist_methology\",\"\\u002ftheme_info\",\"\\u002fpdf_info\",\"\\u002fdist_methology\",\"\\u002fpdf_info\",\"\\u002ftheme_info\",\"\\u002fpdf_info\",\"\\u002fdist_methology\",\"\\u002fpdf_info\",\"\\u002ftheme_info\",\"\\u002fpdf_info\",\"\\u002fstrategy\",\"\\u002fstrategy\",\"\\u002fpdf_info\",\"\\u002fdist_methology\",\"\\u002ftheme_info\",\"\\u002fpdf_info\",\"\\u002fdist_methology\",\"\\u002fpdf_info\",\"\\u002ftheme_info\",\"\\u002fpdf_info\",\"\\u002ftheme_info\",\"\\u002fpdf_info\",\"\\u002ftheme_info\",\"\\u002fpdf_info\",\"\\u002ftheme_info\",\"\\u002fpdf_info\",\"\\u002ftheme_info\",\"\\u002fpdf_info\",\"\\u002ftheme_info\",\"\\u002fpdf_info\",\"\\u002ftheme_info\",\"\\u002fpdf_info\",\"\\u002ftheme_info\",\"\\u002fpdf_info\",\"\\u002ftheme_info\",\"\\u002fpdf_info\",\"\\u002ftheme_info\",\"\\u002fpdf_info\",\"\\u002ftheme_info\",\"\\u002fpdf_info\",\"\\u002ftheme_info\",\"\\u002fpdf_info\",\"\\u002ftheme_info\",\"\\u002ftheme_info\",\"\\u002fpdf_info\",\"\\u002ftheme_info\",\"\\u002fpdf_info\",\"\\u002ftheme_info\",\"\\u002fpdf_info\",\"\\u002fstrategy\",\"\\u002fstrategy\",\"\\u002ftheme_info\",\"\\u002fpdf_info\",\"\\u002fdist_methology\",\"\\u002fpdf_info\",\"\\u002fdist_methology\",\"\\u002fpdf_info\",\"\\u002fstrategy\",\"\\u002fstrategy\",\"\\u002ftheme_info\",\"\\u002fpdf_info\",\"\\u002fdist_methology\",\"\\u002fpdf_info\",\"\\u002fdist_methology\",\"\\u002fpdf_info\",\"\\u002ftheme_info\",\"\\u002fpdf_info\",\"\\u002fdist_methology\",\"\\u002fpdf_info\",\"\\u002ftheme_info\",\"\\u002ftheme_info\",\"\\u002ftheme_info\",\"\\u002fpdf_info\",\"\\u002fstrategy\",\"\\u002fstrategy\",\"\\u002fclick_invest\",\"\\u002fclick_invest\",\"\\u002fclick_invest\",\"\\u002ftheme_info\",\"\\u002fpdf_info\",\"\\u002ftheme_info\",\"\\u002ftheme_info\",\"\\u002fpdf_info\",\"\\u002ftheme_info\",\"\\u002ftheme_info\",\"\\u002ftheme_info\",\"\\u002fpdf_info\",\"\\u002ftheme_info\",\"\\u002fpdf_info\",\"\\u002fpdf_info\",\"\\u002fpdf_info\",\"\\u002fstrategy\",\"\\u002fstrategy\",\"\\u002fpdf_info\",\"\\u002fdist_methology\",\"\\u002ftheme_info\",\"\\u002fpdf_info\",\"\\u002fstrategy\",\"\\u002fstrategy\",\"\\u002fpdf_info\",\"\\u002ftheme_info\",\"\\u002fpdf_info\",\"\\u002fstrategy\",\"\\u002ftheme_info\",\"\\u002fpdf_info\",\"\\u002ftheme_info\",\"\\u002fpdf_info\",\"\\u002fdist_methology\",\"\\u002fpdf_info\",\"\\u002ftheme_info\",\"\\u002ftheme_info\",\"\\u002ftheme_info\",\"\\u002fpdf_info\",\"\\u002ftheme_info\",\"\\u002fpdf_info\",\"\\u002fstrategy\",\"\\u002fstrategy\",\"\\u002ftheme_info\",\"\\u002ftheme_info\",\"\\u002ftheme_info\",\"\\u002ftheme_info\",\"\\u002fpdf_info\",\"\\u002fstrategy\",\"\\u002fstrategy\",\"\\u002fclick_invest\",\"\\u002fclick_invest\",\"\\u002ftheme_info\",\"\\u002fpdf_info\",\"\\u002ftheme_info\",\"\\u002ftheme_info\",\"\\u002fpdf_info\",\"\\u002fpdf_info\",\"\\u002fdist_methology\",\"\\u002fdist_methology\",\"\\u002fpdf_info\",\"\\u002ftheme_info\",\"\\u002fpdf_info\",\"\\u002fstrategy\",\"\\u002fstrategy\",\"\\u002fclick_invest\",\"\\u002fclick_invest\",\"\\u002fpdf_info\",\"\\u002fpdf_info\",\"\\u002fdist_methology\",\"\\u002fstrategy\",\"\\u002fclick_invest\",\"\\u002fpdf_info\",\"\\u002fdist_methology\",\"\\u002ftheme_info\",\"\\u002ftheme_info\",\"\\u002ftheme_info\",\"\\u002fpdf_info\",\"\\u002ftheme_info\",\"\\u002ftheme_info\",\"\\u002ftheme_info\",\"\\u002ftheme_info\",\"\\u002ftheme_info\",\"\\u002ftheme_info\",\"\\u002ftheme_info\",\"\\u002ftheme_info\",\"\\u002fpdf_info\",\"\\u002fpdf_info\",\"\\u002fpdf_info\",\"\\u002ftheme_info\",\"\\u002fstrategy\",\"\\u002fstrategy\",\"\\u002fpdf_info\",\"\\u002fdist_methology\",\"\\u002ftheme_info\",\"\\u002fpdf_info\",\"\\u002ftheme_info\",\"\\u002fpdf_info\",\"\\u002ftheme_info\",\"\\u002fpdf_info\",\"\\u002ftheme_info\",\"\\u002fpdf_info\",\"\\u002ftheme_info\",\"\\u002ftheme_info\",\"\\u002fpdf_info\",\"\\u002ftheme_info\",\"\\u002ftheme_info\",\"\\u002ftheme_info\",\"\\u002fpdf_info\",\"\\u002fdist_methology\",\"\\u002fpdf_info\",\"\\u002fdist_methology\",\"\\u002ftheme_info\",\"\\u002fpdf_info\",\"\\u002fdist_methology\",\"\\u002fpdf_info\",\"\\u002fpdf_info\",\"\\u002ftheme_info\",\"\\u002fstrategy\",\"\\u002fstrategy\",\"\\u002fpdf_info\",\"\\u002ftheme_info\",\"\\u002fclick_invest\",\"\\u002fclick_invest\",\"\\u002fpdf_info\",\"\\u002fdist_methology\",\"\\u002ftheme_info\",\"\\u002fpdf_info\",\"\\u002fdist_methology\",\"\\u002fpdf_info\",\"\\u002ftheme_info\",\"\\u002fpdf_info\",\"\\u002ftheme_info\",\"\\u002ftheme_info\",\"\\u002fpdf_info\",\"\\u002ftheme_info\",\"\\u002fpdf_info\",\"\\u002fdist_methology\",\"\\u002fpdf_info\",\"\\u002fdist_methology\",\"\\u002ftheme_info\",\"\\u002fpdf_info\",\"\\u002ftheme_info\",\"\\u002fpdf_info\",\"\\u002fdist_methology\",\"\\u002fpdf_info\",\"\\u002ftheme_info\",\"\\u002ftheme_info\",\"\\u002fpdf_info\",\"\\u002ftheme_info\",\"\\u002fpdf_info\",\"\\u002fdist_methology\",\"\\u002ftheme_info\",\"\\u002fpdf_info\",\"\\u002fpdf_info\",\"\\u002ftheme_info\",\"\\u002fstrategy\",\"\\u002fstrategy\",\"\\u002fclick_invest\",\"\\u002fclick_invest\",\"\\u002ftheme_info\",\"\\u002fpdf_info\",\"\\u002fstrategy\",\"\\u002fstrategy\",\"\\u002fclick_invest\",\"\\u002fclick_invest\",\"\\u002ftheme_info\",\"\\u002fpdf_info\",\"\\u002ftheme_info\",\"\\u002fpdf_info\",\"\\u002fstrategy\",\"\\u002fstrategy\",\"\\u002fstrategy\",\"\\u002fclick_invest\",\"\\u002fclick_invest\",\"\\u002ftheme_info\",\"\\u002fpdf_info\",\"\\u002fdist_methology\",\"\\u002fpdf_info\",\"\\u002ftheme_info\",\"\\u002fpdf_info\",\"\\u002ftheme_info\",\"\\u002ftheme_info\",\"\\u002fpdf_info\",\"\\u002fdist_methology\",\"\\u002fpdf_info\",\"\\u002ftheme_info\",\"\\u002fpdf_info\",\"\\u002fpdf_info\",\"\\u002fdist_methology\",\"\\u002fstrategy\",\"\\u002fstrategy\",\"\\u002fpdf_info\",\"\\u002fpdf_info\",\"\\u002ftheme_info\",\"\\u002ftheme_info\",\"\\u002fpdf_info\",\"\\u002fpdf_info\",\"\\u002fstrategy\",\"\\u002ftheme_info\",\"\\u002fpdf_info\",\"\\u002ftheme_info\",\"\\u002ftheme_info\",\"\\u002ftheme_info\",\"\\u002fpdf_info\",\"\\u002ftheme_info\",\"\\u002ftheme_info\",\"\\u002ftheme_info\",\"\\u002ftheme_info\",\"\\u002ftheme_info\",\"\\u002fpdf_info\",\"\\u002ftheme_info\",\"\\u002fpdf_info\",\"\\u002fstrategy\",\"\\u002fstrategy\",\"\\u002fclick_invest\",\"\\u002fclick_invest\",\"\\u002fdist_methology\",\"\\u002fpdf_info\",\"\\u002fstrategy\",\"\\u002fclick_invest\",\"\\u002fclick_invest\",\"\\u002ftheme_info\",\"\\u002ftheme_info\",\"\\u002ftheme_info\",\"\\u002ftheme_info\",\"\\u002fpdf_info\",\"\\u002ftheme_info\",\"\\u002fpdf_info\",\"\\u002ftheme_info\",\"\\u002fstrategy\",\"\\u002fstrategy\",\"\\u002fdist_methology\",\"\\u002fpdf_info\",\"\\u002fpdf_info\",\"\\u002fstrategy\",\"\\u002fstrategy\",\"\\u002fclick_invest\",\"\\u002fclick_invest\",\"\\u002ftheme_info\",\"\\u002fpdf_info\",\"\\u002fstrategy\",\"\\u002fpdf_info\",\"\\u002fpdf_info\",\"\\u002fstrategy\",\"\\u002fclick_invest\",\"\\u002fpdf_info\",\"\\u002ftheme_info\",\"\\u002fpdf_info\",\"\\u002fdist_methology\",\"\\u002fpdf_info\",\"\\u002ftheme_info\",\"\\u002fpdf_info\",\"\\u002fpdf_info\",\"\\u002fstrategy\",\"\\u002fstrategy\",\"\\u002fclick_invest\",\"\\u002fclick_invest\",\"\\u002fstrategy\",\"\\u002fpdf_info\",\"\\u002fdist_methology\",\"\\u002fstrategy\",\"\\u002fclick_invest\",\"\\u002fpdf_info\",\"\\u002ftheme_info\",\"\\u002fpdf_info\",\"\\u002ftheme_info\",\"\\u002fpdf_info\",\"\\u002ftheme_info\",\"\\u002fpdf_info\",\"\\u002fdist_methology\",\"\\u002ftheme_info\",\"\\u002ftheme_info\",\"\\u002fpdf_info\",\"\\u002ftheme_info\",\"\\u002fpdf_info\",\"\\u002fstrategy\",\"\\u002fstrategy\",\"\\u002fclick_invest\",\"\\u002fstrategy\",\"\\u002fclick_invest\",\"\\u002fpdf_info\",\"\\u002ftheme_info\",\"\\u002fpdf_info\",\"\\u002ftheme_info\",\"\\u002ftheme_info\",\"\\u002ftheme_info\",\"\\u002fpdf_info\",\"\\u002fstrategy\",\"\\u002fstrategy\",\"\\u002ftheme_info\",\"\\u002fpdf_info\",\"\\u002fdist_methology\",\"\\u002fpdf_info\",\"\\u002fstrategy\",\"\\u002fstrategy\",\"\\u002fclick_invest\",\"\\u002fclick_invest\",\"\\u002ftheme_info\",\"\\u002fpdf_info\",\"\\u002ftheme_info\",\"\\u002ftheme_info\",\"\\u002ftheme_info\",\"\\u002fpdf_info\",\"\\u002fdist_methology\",\"\\u002fpdf_info\",\"\\u002fdist_methology\",\"\\u002fpdf_info\",\"\\u002fstrategy\",\"\\u002fstrategy\",\"\\u002fclick_invest\",\"\\u002fclick_invest\",\"\\u002ftheme_info\",\"\\u002fpdf_info\",\"\\u002ftheme_info\",\"\\u002fpdf_info\",\"\\u002ftheme_info\",\"\\u002fpdf_info\",\"\\u002ftheme_info\",\"\\u002fpdf_info\",\"\\u002ftheme_info\",\"\\u002fpdf_info\",\"\\u002fdist_methology\",\"\\u002fpdf_info\",\"\\u002fstrategy\",\"\\u002fstrategy\",\"\\u002fclick_invest\",\"\\u002fclick_invest\",\"\\u002ftheme_info\",\"\\u002ftheme_info\",\"\\u002fpdf_info\",\"\\u002fdist_methology\",\"\\u002fpdf_info\",\"\\u002ftheme_info\",\"\\u002fpdf_info\",\"\\u002fdist_methology\",\"\\u002ftheme_info\",\"\\u002fpdf_info\",\"\\u002fstrategy\",\"\\u002fstrategy\",\"\\u002ftheme_info\",\"\\u002ftheme_info\",\"\\u002fpdf_info\",\"\\u002fpdf_info\",\"\\u002ftheme_info\",\"\\u002ftheme_info\",\"\\u002fpdf_info\",\"\\u002fdist_methology\",\"\\u002fpdf_info\",\"\\u002fstrategy\",\"\\u002fstrategy\",\"\\u002fclick_invest\",\"\\u002fclick_invest\",\"\\u002ftheme_info\",\"\\u002fpdf_info\",\"\\u002ftheme_info\",\"\\u002ftheme_info\",\"\\u002ftheme_info\",\"\\u002ftheme_info\",\"\\u002ftheme_info\",\"\\u002fpdf_info\",\"\\u002ftheme_info\",\"\\u002fpdf_info\",\"\\u002ftheme_info\",\"\\u002ftheme_info\",\"\\u002fpdf_info\",\"\\u002fstrategy\",\"\\u002fstrategy\",\"\\u002fstrategy\",\"\\u002fclick_invest\",\"\\u002fclick_invest\",\"\\u002ftheme_info\",\"\\u002fpdf_info\",\"\\u002fstrategy\",\"\\u002fstrategy\",\"\\u002ftheme_info\",\"\\u002ftheme_info\",\"\\u002ftheme_info\",\"\\u002fpdf_info\",\"\\u002ftheme_info\",\"\\u002fpdf_info\",\"\\u002fstrategy\",\"\\u002fstrategy\",\"\\u002fclick_invest\",\"\\u002fclick_invest\",\"\\u002ftheme_info\",\"\\u002ftheme_info\",\"\\u002fpdf_info\",\"\\u002ftheme_info\",\"\\u002fpdf_info\",\"\\u002ftheme_info\",\"\\u002fpdf_info\",\"\\u002fstrategy\",\"\\u002fstrategy\",\"\\u002fclick_invest\",\"\\u002fclick_invest\",\"\\u002fpdf_info\",\"\\u002ftheme_info\",\"\\u002ftheme_info\",\"\\u002fpdf_info\",\"\\u002fstrategy\",\"\\u002fstrategy\",\"\\u002ftheme_info\",\"\\u002fclick_invest\",\"\\u002fclick_invest\",\"\\u002fpdf_info\",\"\\u002fstrategy\",\"\\u002fstrategy\",\"\\u002fpdf_info\",\"\\u002ftheme_info\",\"\\u002ftheme_info\",\"\\u002fpdf_info\",\"\\u002ftheme_info\",\"\\u002ftheme_info\",\"\\u002fpdf_info\",\"\\u002fstrategy\",\"\\u002fpdf_info\",\"\\u002ftheme_info\",\"\\u002ftheme_info\",\"\\u002fpdf_info\",\"\\u002ftheme_info\",\"\\u002ftheme_info\",\"\\u002ftheme_info\",\"\\u002ftheme_info\",\"\\u002fpdf_info\",\"\\u002fstrategy\",\"\\u002fstrategy\",\"\\u002fclick_invest\",\"\\u002fclick_invest\",\"\\u002ftheme_info\",\"\\u002ftheme_info\",\"\\u002fpdf_info\",\"\\u002ftheme_info\",\"\\u002fpdf_info\",\"\\u002fstrategy\",\"\\u002fstrategy\",\"\\u002fclick_invest\",\"\\u002fclick_invest\",\"\\u002ftheme_info\",\"\\u002fpdf_info\",\"\\u002fstrategy\",\"\\u002fstrategy\",\"\\u002fclick_invest\",\"\\u002fclick_invest\",\"\\u002fpdf_info\",\"\\u002fdist_methology\",\"\\u002fpdf_info\",\"\\u002fdist_methology\",\"\\u002fpdf_info\",\"\\u002ftheme_info\",\"\\u002fpdf_info\",\"\\u002ftheme_info\",\"\\u002fpdf_info\",\"\\u002fstrategy\",\"\\u002fclick_invest\",\"\\u002ftheme_info\",\"\\u002ftheme_info\",\"\\u002ftheme_info\",\"\\u002ftheme_info\",\"\\u002ftheme_info\",\"\\u002fpdf_info\",\"\\u002fstrategy\",\"\\u002fstrategy\",\"\\u002fclick_invest\",\"\\u002fclick_invest\",\"\\u002ftheme_info\",\"\\u002fpdf_info\",\"\\u002fstrategy\",\"\\u002fstrategy\",\"\\u002fclick_invest\",\"\\u002fclick_invest\",\"\\u002fpdf_info\",\"\\u002ftheme_info\",\"\\u002ftheme_info\",\"\\u002fpdf_info\",\"\\u002fstrategy\",\"\\u002fstrategy\",\"\\u002fclick_invest\",\"\\u002fclick_invest\",\"\\u002fpdf_info\",\"\\u002ftheme_info\",\"\\u002ftheme_info\",\"\\u002fpdf_info\",\"\\u002fdist_methology\",\"\\u002fpdf_info\",\"\\u002ftheme_info\",\"\\u002fpdf_info\",\"\\u002ftheme_info\",\"\\u002fpdf_info\",\"\\u002ftheme_info\",\"\\u002fpdf_info\",\"\\u002ftheme_info\",\"\\u002fdist_methology\",\"\\u002fpdf_info\",\"\\u002ftheme_info\",\"\\u002ftheme_info\",\"\\u002ftheme_info\",\"\\u002fpdf_info\",\"\\u002ftheme_info\",\"\\u002fpdf_info\",\"\\u002fstrategy\",\"\\u002fstrategy\",\"\\u002fclick_invest\",\"\\u002fclick_invest\",\"\\u002fpdf_info\",\"\\u002fstrategy\",\"\\u002fclick_invest\",\"\\u002ftheme_info\",\"\\u002fpdf_info\",\"\\u002fdist_methology\",\"\\u002fpdf_info\",\"\\u002ftheme_info\",\"\\u002ftheme_info\",\"\\u002fpdf_info\",\"\\u002fstrategy\",\"\\u002fstrategy\",\"\\u002ftheme_info\",\"\\u002fpdf_info\",\"\\u002fstrategy\",\"\\u002fstrategy\",\"\\u002fclick_invest\",\"\\u002fclick_invest\",\"\\u002ftheme_info\",\"\\u002fpdf_info\",\"\\u002fdist_methology\",\"\\u002fpdf_info\",\"\\u002ftheme_info\",\"\\u002ftheme_info\",\"\\u002fpdf_info\",\"\\u002ftheme_info\",\"\\u002ftheme_info\",\"\\u002fpdf_info\",\"\\u002fdist_methology\",\"\\u002fpdf_info\",\"\\u002fdist_methology\",\"\\u002fpdf_info\",\"\\u002ftheme_info\",\"\\u002ftheme_info\",\"\\u002fpdf_info\",\"\\u002ftheme_info\",\"\\u002fpdf_info\",\"\\u002ftheme_info\",\"\\u002fpdf_info\",\"\\u002ftheme_info\",\"\\u002ftheme_info\",\"\\u002fpdf_info\",\"\\u002fdist_methology\",\"\\u002fpdf_info\",\"\\u002fstrategy\",\"\\u002fstrategy\",\"\\u002fclick_invest\",\"\\u002fclick_invest\",\"\\u002fpdf_info\",\"\\u002fdist_methology\",\"\\u002fpdf_info\",\"\\u002fdist_methology\",\"\\u002ftheme_info\",\"\\u002fpdf_info\",\"\\u002ftheme_info\",\"\\u002fpdf_info\",\"\\u002ftheme_info\",\"\\u002fpdf_info\",\"\\u002fstrategy\",\"\\u002fstrategy\",\"\\u002fclick_invest\",\"\\u002fclick_invest\",\"\\u002fpdf_info\",\"\\u002ftheme_info\",\"\\u002ftheme_info\",\"\\u002ftheme_info\",\"\\u002fpdf_info\",\"\\u002ftheme_info\",\"\\u002fpdf_info\",\"\\u002ftheme_info\",\"\\u002ftheme_info\",\"\\u002fpdf_info\",\"\\u002fstrategy\",\"\\u002fstrategy\",\"\\u002fclick_invest\",\"\\u002fclick_invest\",\"\\u002ftheme_info\",\"\\u002fpdf_info\",\"\\u002fdist_methology\",\"\\u002fpdf_info\",\"\\u002fstrategy\",\"\\u002fstrategy\",\"\\u002fclick_invest\",\"\\u002fclick_invest\",\"\\u002ftheme_info\",\"\\u002fpdf_info\",\"\\u002fstrategy\",\"\\u002fstrategy\",\"\\u002fclick_invest\",\"\\u002fclick_invest\",\"\\u002ftheme_info\",\"\\u002fpdf_info\",\"\\u002ftheme_info\",\"\\u002fpdf_info\",\"\\u002fdist_methology\",\"\\u002fpdf_info\",\"\\u002fstrategy\",\"\\u002fstrategy\",\"\\u002ftheme_info\",\"\\u002ftheme_info\",\"\\u002ftheme_info\",\"\\u002fpdf_info\",\"\\u002ftheme_info\",\"\\u002ftheme_info\",\"\\u002fpdf_info\",\"\\u002fstrategy\",\"\\u002fstrategy\",\"\\u002fclick_invest\",\"\\u002fclick_invest\",\"\\u002fpdf_info\",\"\\u002ftheme_info\",\"\\u002ftheme_info\",\"\\u002ftheme_info\",\"\\u002fpdf_info\",\"\\u002fdist_methology\",\"\\u002ftheme_info\",\"\\u002fpdf_info\",\"\\u002fstrategy\",\"\\u002fstrategy\",\"\\u002fclick_invest\",\"\\u002fclick_invest\",\"\\u002fpdf_info\",\"\\u002ftheme_info\",\"\\u002ftheme_info\",\"\\u002ftheme_info\",\"\\u002fpdf_info\",\"\\u002fstrategy\",\"\\u002fstrategy\",\"\\u002ftheme_info\",\"\\u002ftheme_info\",\"\\u002ftheme_info\",\"\\u002fpdf_info\",\"\\u002fdist_methology\",\"\\u002fpdf_info\",\"\\u002ftheme_info\",\"\\u002ftheme_info\",\"\\u002ftheme_info\",\"\\u002ftheme_info\",\"\\u002fpdf_info\",\"\\u002ftheme_info\",\"\\u002fpdf_info\",\"\\u002ftheme_info\",\"\\u002fpdf_info\",\"\\u002fdist_methology\",\"\\u002fpdf_info\",\"\\u002fstrategy\",\"\\u002fstrategy\",\"\\u002fpdf_info\",\"\\u002fdist_methology\",\"\\u002fpdf_info\",\"\\u002ftheme_info\",\"\\u002fpdf_info\",\"\\u002fstrategy\",\"\\u002ftheme_info\",\"\\u002fpdf_info\",\"\\u002fstk_filtering\",\"\\u002fcommon_issues\",\"\\u002fstk_filtering\",\"\\u002fcommon_issues\",\"\\u002fstk_filtering\",\"\\u002fcommon_issues\",\"\\u002fstk_filtering\",\"\\u002fcommon_issues\",\"\\u002fstk_filtering\",\"\\u002fcommon_issues\",\"\\u002fstk_filtering\",\"\\u002fcommon_issues\",\"\\u002fstk_filtering\",\"\\u002fcommon_issues\",\"\\u002fstk_filtering\",\"\\u002fcommon_issues\",\"\\u002fstk_filtering\",\"\\u002fcommon_issues\",\"\\u002fstk_filtering\",\"\\u002fcommon_issues\",\"\\u002fstk_filtering\",\"\\u002fcommon_issues\",\"\\u002fstk_filtering\",\"\\u002fstk_filtering\",\"\\u002fstk_filtering\",\"\\u002fcommon_issues\",\"\\u002fstk_filtering\",\"\\u002fcommon_issues\",\"\\u002fstk_filtering\",\"\\u002fcommon_issues\",\"\\u002fstk_filtering\",\"\\u002fcommon_issues\",\"\\u002fstk_filtering\",\"\\u002fcommon_issues\",\"\\u002fstk_filtering\",\"\\u002fcommon_issues\",\"\\u002fstk_filtering\",\"\\u002fcommon_issues\",\"\\u002fstk_filtering\",\"\\u002fcommon_issues\",\"\\u002fstk_filtering\",\"\\u002fcommon_issues\",\"\\u002fstk_filtering\",\"\\u002fcommon_issues\",\"\\u002fstk_filtering\",\"\\u002fcommon_issues\",\"\\u002fstk_filtering\",\"\\u002fcommon_issues\",\"\\u002fstk_filtering\",\"\\u002fcommon_issues\",\"\\u002fstk_filtering\",\"\\u002fcommon_issues\",\"\\u002fstk_filtering\",\"\\u002fcommon_issues\",\"\\u002fstk_filtering\",\"\\u002fcommon_issues\",\"\\u002fstk_filtering\",\"\\u002fcommon_issues\",\"\\u002fstk_filtering\",\"\\u002fcommon_issues\",\"\\u002fstk_filtering\",\"\\u002fcommon_issues\",\"\\u002fstk_filtering\",\"\\u002fcommon_issues\",\"\\u002fstk_filtering\",\"\\u002fcommon_issues\",\"\\u002fstk_filtering\",\"\\u002fcommon_issues\",\"\\u002fstk_filtering\",\"\\u002fcommon_issues\",\"\\u002fstk_filtering\",\"\\u002fcommon_issues\",\"\\u002fstk_filtering\",\"\\u002fcommon_issues\",\"\\u002fstk_filtering\",\"\\u002fcommon_issues\",\"\\u002fstk_filtering\",\"\\u002fcommon_issues\",\"\\u002fstk_filtering\",\"\\u002fcommon_issues\",\"\\u002fstk_filtering\",\"\\u002fcommon_issues\",\"\\u002fstk_filtering\",\"\\u002fcommon_issues\",\"\\u002fstk_filtering\",\"\\u002fcommon_issues\",\"\\u002fstk_filtering\",\"\\u002fcommon_issues\",\"\\u002fstk_filtering\",\"\\u002fcommon_issues\",\"\\u002fstk_filtering\",\"\\u002fstk_filtering\",\"\\u002fcommon_issues\",\"\\u002fstk_filtering\",\"\\u002fcommon_issues\",\"\\u002fstk_filtering\",\"\\u002fcommon_issues\",\"\\u002fstk_filtering\",\"\\u002fcommon_issues\",\"\\u002fstk_filtering\",\"\\u002fcommon_issues\",\"\\u002fstk_filtering\",\"\\u002fcommon_issues\",\"\\u002fstk_filtering\",\"\\u002fcommon_issues\",\"\\u002fstk_filtering\",\"\\u002fcommon_issues\",\"\\u002fstk_filtering\",\"\\u002fcommon_issues\",\"\\u002fstk_filtering\",\"\\u002fcommon_issues\",\"\\u002fstk_filtering\",\"\\u002fcommon_issues\",\"\\u002fstk_filtering\",\"\\u002fcommon_issues\",\"\\u002fstk_filtering\",\"\\u002fcommon_issues\",\"\\u002fstk_filtering\",\"\\u002fcommon_issues\",\"\\u002fstk_filtering\",\"\\u002fcommon_issues\",\"\\u002fstk_filtering\",\"\\u002fcommon_issues\",\"\\u002fstk_filtering\",\"\\u002fcommon_issues\",\"\\u002fstk_filtering\",\"\\u002fcommon_issues\",\"\\u002fstk_filtering\",\"\\u002fcommon_issues\",\"\\u002fstk_filtering\",\"\\u002fcommon_issues\",\"\\u002fstk_filtering\",\"\\u002fcommon_issues\",\"\\u002fstk_filtering\",\"\\u002fcommon_issues\",\"\\u002fstk_filtering\",\"\\u002fcommon_issues\",\"\\u002fstk_filtering\",\"\\u002fcommon_issues\",\"\\u002fstk_filtering\",\"\\u002fcommon_issues\",\"\\u002fstk_filtering\",\"\\u002fcommon_issues\",\"\\u002fstk_filtering\",\"\\u002fcommon_issues\",\"\\u002fstk_filtering\",\"\\u002fcommon_issues\",\"\\u002fstk_filtering\",\"\\u002fcommon_issues\",\"\\u002fstk_filtering\",\"\\u002fcommon_issues\",\"\\u002fstk_filtering\",\"\\u002fcommon_issues\",\"\\u002fstk_filtering\",\"\\u002fcommon_issues\",\"\\u002fstk_filtering\",\"\\u002fcommon_issues\",\"\\u002fstk_filtering\",\"\\u002fcommon_issues\",\"\\u002fstk_filtering\",\"\\u002fcommon_issues\",\"\\u002fstk_filtering\",\"\\u002fcommon_issues\",\"\\u002fstk_filtering\",\"\\u002fcommon_issues\",\"\\u002fstk_filtering\",\"\\u002fcommon_issues\",\"\\u002fstk_filtering\",\"\\u002fcommon_issues\",\"\\u002fstk_filtering\",\"\\u002fcommon_issues\",\"\\u002fstk_filtering\",\"\\u002fcommon_issues\",\"\\u002fstk_filtering\",\"\\u002fcommon_issues\",\"\\u002fstk_filtering\",\"\\u002fcommon_issues\",\"\\u002fstk_filtering\",\"\\u002fcommon_issues\",\"\\u002fstk_filtering\",\"\\u002fcommon_issues\",\"\\u002fdocs\",\"\\u002fopenapi.json\",\"\\u002fstk_filtering\",\"\\u002fcommon_issues\",\"\\u002fstk_filtering\",\"\\u002fcommon_issues\",\"\\u002fstk_filtering\",\"\\u002fcommon_issues\",\"\\u002fstk_filtering\",\"\\u002fcommon_issues\",\"\\u002fstk_filtering\",\"\\u002fcommon_issues\",\"\\u002fstk_filtering\",\"\\u002fcommon_issues\",\"\\u002fstk_filtering\",\"\\u002fcommon_issues\",\"\\u002fstk_filtering\",\"\\u002fcommon_issues\",\"\\u002fstk_filtering\",\"\\u002fcommon_issues\",\"\\u002fstk_filtering\",\"\\u002fcommon_issues\",\"\\u002fstk_filtering\",\"\\u002fcommon_issues\",\"\\u002fstk_filtering\",\"\\u002fcommon_issues\",\"\\u002fstk_filtering\",\"\\u002fcommon_issues\",\"\\u002fstk_filtering\",\"\\u002fcommon_issues\",\"\\u002fstk_filtering\",\"\\u002fcommon_issues\",\"\\u002fstk_filtering\",\"\\u002fstk_filtering\",\"\\u002fcommon_issues\",\"\\u002fstk_filtering\",\"\\u002fcommon_issues\",\"\\u002fstk_filtering\",\"\\u002fcommon_issues\",\"\\u002fstk_filtering\",\"\\u002fcommon_issues\",\"\\u002fstk_filtering\",\"\\u002fcommon_issues\",\"\\u002fstk_filtering\",\"\\u002fcommon_issues\",\"\\u002fstk_filtering\",\"\\u002fcommon_issues\",\"\\u002fstk_filtering\",\"\\u002fcommon_issues\",\"\\u002fstk_filtering\",\"\\u002fcommon_issues\",\"\\u002fstk_filtering\",\"\\u002fcommon_issues\",\"\\u002fstk_filtering\",\"\\u002fcommon_issues\",\"\\u002fstk_filtering\",\"\\u002fcommon_issues\",\"\\u002fstk_filtering\",\"\\u002fcommon_issues\",\"\\u002fstk_filtering\",\"\\u002fcommon_issues\",\"\\u002fstk_filtering\",\"\\u002fcommon_issues\",\"\\u002fstk_filtering\",\"\\u002fcommon_issues\",\"\\u002fstk_filtering\",\"\\u002fcommon_issues\",\"\\u002fstk_filtering\",\"\\u002fcommon_issues\",\"\\u002fstk_filtering\",\"\\u002fcommon_issues\",\"\\u002fstk_filtering\",\"\\u002fcommon_issues\",\"\\u002fstk_filtering\",\"\\u002fcommon_issues\",\"\\u002fstk_filtering\",\"\\u002fcommon_issues\",\"\\u002fstk_filtering\",\"\\u002fcommon_issues\",\"\\u002fstk_filtering\",\"\\u002fcommon_issues\",\"\\u002fstk_filtering\",\"\\u002fcommon_issues\",\"\\u002fstk_filtering\",\"\\u002fcommon_issues\",\"\\u002fstk_filtering\",\"\\u002fcommon_issues\",\"\\u002fstk_filtering\",\"\\u002fcommon_issues\",\"\\u002fstk_filtering\",\"\\u002fcommon_issues\",\"\\u002fstk_filtering\",\"\\u002fcommon_issues\",\"\\u002fstk_filtering\",\"\\u002fcommon_issues\",\"\\u002fstk_filtering\",\"\\u002fcommon_issues\",\"\\u002fstk_filtering\",\"\\u002fcommon_issues\",\"\\u002fstk_filtering\",\"\\u002fcommon_issues\",\"\\u002fstk_filtering\",\"\\u002fcommon_issues\",\"\\u002fstk_filtering\",\"\\u002fcommon_issues\",\"\\u002fstk_filtering\",\"\\u002fcommon_issues\",\"\\u002fstk_filtering\",\"\\u002fcommon_issues\",\"\\u002fstk_filtering\",\"\\u002fcommon_issues\",\"\\u002fstk_filtering\",\"\\u002fcommon_issues\",\"\\u002fstk_filtering\",\"\\u002fcommon_issues\",\"\\u002fstk_filtering\",\"\\u002fcommon_issues\",\"\\u002fstk_filtering\",\"\\u002fcommon_issues\",\"\\u002fstk_filtering\",\"\\u002fcommon_issues\",\"\\u002fstk_filtering\",\"\\u002fcommon_issues\",\"\\u002fstk_filtering\",\"\\u002fcommon_issues\",\"\\u002fstk_filtering\",\"\\u002fcommon_issues\",\"\\u002fstk_filtering\",\"\\u002fcommon_issues\",\"\\u002fstk_filtering\",\"\\u002fcommon_issues\",\"\\u002fstk_filtering\",\"\\u002fcommon_issues\",\"\\u002fstk_filtering\",\"\\u002fcommon_issues\",\"\\u002fstk_filtering\",\"\\u002fcommon_issues\",\"\\u002fstk_filtering\",\"\\u002fcommon_issues\",\"\\u002fstk_filtering\",\"\\u002fcommon_issues\",\"\\u002fstk_filtering\",\"\\u002fcommon_issues\",\"\\u002fstk_filtering\",\"\\u002fcommon_issues\",\"\\u002fstk_filtering\",\"\\u002fcommon_issues\",\"\\u002fstk_filtering\",\"\\u002fcommon_issues\",\"\\u002fstk_filtering\",\"\\u002fcommon_issues\",\"\\u002fstk_filtering\",\"\\u002fcommon_issues\",\"\\u002fstk_filtering\",\"\\u002fcommon_issues\",\"\\u002fstk_filtering\",\"\\u002fcommon_issues\",\"\\u002fstk_filtering\",\"\\u002fcommon_issues\",\"\\u002fstk_filtering\",\"\\u002fcommon_issues\",\"\\u002fstk_filtering\",\"\\u002fcommon_issues\",\"\\u002fstk_filtering\",\"\\u002fcommon_issues\",\"\\u002fstk_filtering\",\"\\u002fcommon_issues\",\"\\u002fstk_filtering\",\"\\u002fcommon_issues\",\"\\u002fstk_filtering\",\"\\u002fcommon_issues\",\"\\u002fstk_filtering\",\"\\u002fcommon_issues\",\"\\u002fstk_filtering\",\"\\u002fcommon_issues\",\"\\u002fstk_filtering\",\"\\u002fcommon_issues\",\"\\u002fstk_filtering\",\"\\u002fcommon_issues\",\"\\u002fstk_filtering\",\"\\u002fcommon_issues\",\"\\u002fstk_filtering\",\"\\u002fcommon_issues\",\"\\u002fstk_filtering\",\"\\u002fcommon_issues\",\"\\u002fstk_filtering\",\"\\u002fcommon_issues\",\"\\u002fstk_filtering\",\"\\u002fcommon_issues\",\"\\u002fstk_filtering\",\"\\u002fcommon_issues\",\"\\u002fstk_filtering\",\"\\u002fcommon_issues\",\"\\u002fstk_filtering\",\"\\u002fcommon_issues\",\"\\u002fstk_filtering\",\"\\u002fcommon_issues\",\"\\u002fstk_filtering\",\"\\u002fcommon_issues\",\"\\u002fstk_filtering\",\"\\u002fcommon_issues\",\"\\u002fstk_filtering\",\"\\u002fcommon_issues\",\"\\u002fstk_filtering\",\"\\u002fcommon_issues\",\"\\u002fstk_filtering\",\"\\u002fcommon_issues\",\"\\u002fstk_filtering\",\"\\u002fcommon_issues\",\"\\u002fstk_filtering\",\"\\u002fcommon_issues\",\"\\u002fstk_filtering\",\"\\u002fcommon_issues\",\"\\u002fstk_filtering\",\"\\u002fcommon_issues\",\"\\u002fstk_filtering\",\"\\u002fcommon_issues\",\"\\u002fstk_filtering\",\"\\u002fcommon_issues\",\"\\u002fstk_filtering\",\"\\u002fcommon_issues\",\"\\u002fstk_filtering\",\"\\u002fcommon_issues\",\"\\u002fstk_filtering\",\"\\u002fcommon_issues\",\"\\u002fstk_filtering\",\"\\u002fcommon_issues\",\"\\u002fstk_filtering\",\"\\u002fcommon_issues\",\"\\u002fstk_filtering\",\"\\u002fcommon_issues\",\"\\u002fstk_filtering\",\"\\u002fstk_filtering\",\"\\u002fcommon_issues\",\"\\u002fstk_filtering\",\"\\u002fcommon_issues\",\"\\u002fstk_filtering\",\"\\u002fcommon_issues\",\"\\u002fstk_filtering\",\"\\u002fcommon_issues\",\"\\u002fstk_filtering\",\"\\u002fcommon_issues\",\"\\u002fstk_filtering\",\"\\u002fcommon_issues\",\"\\u002fstk_filtering\",\"\\u002fcommon_issues\",\"\\u002fstk_filtering\",\"\\u002fcommon_issues\",\"\\u002fstk_filtering\",\"\\u002fcommon_issues\",\"\\u002fstk_filtering\",\"\\u002fcommon_issues\",\"\\u002fstk_filtering\",\"\\u002fcommon_issues\",\"\\u002fstk_filtering\",\"\\u002fcommon_issues\",\"\\u002fstk_filtering\",\"\\u002fcommon_issues\",\"\\u002fstk_filtering\",\"\\u002fcommon_issues\",\"\\u002fstk_filtering\",\"\\u002fcommon_issues\",\"\\u002fstk_filtering\",\"\\u002fcommon_issues\",\"\\u002fstk_filtering\",\"\\u002fcommon_issues\",\"\\u002fstk_filtering\",\"\\u002fcommon_issues\",\"\\u002fstk_filtering\",\"\\u002fcommon_issues\",\"\\u002fstk_filtering\",\"\\u002fcommon_issues\",\"\\u002fstk_filtering\",\"\\u002fcommon_issues\",\"\\u002fstk_filtering\",\"\\u002fcommon_issues\",\"\\u002fstk_filtering\",\"\\u002fcommon_issues\",\"\\u002fstk_filtering\",\"\\u002fcommon_issues\",\"\\u002fstk_filtering\",\"\\u002fcommon_issues\",\"\\u002fstk_filtering\",\"\\u002fcommon_issues\",\"\\u002fstk_filtering\",\"\\u002fcommon_issues\",\"\\u002fstk_filtering\",\"\\u002fcommon_issues\",\"\\u002fstk_filtering\",\"\\u002fcommon_issues\",\"\\u002fstk_filtering\",\"\\u002fcommon_issues\",\"\\u002fstk_filtering\",\"\\u002fcommon_issues\",\"\\u002fstk_filtering\",\"\\u002fcommon_issues\",\"\\u002fstk_filtering\",\"\\u002fcommon_issues\",\"\\u002fstk_filtering\",\"\\u002fcommon_issues\",\"\\u002fstk_filtering\",\"\\u002fcommon_issues\",\"\\u002fstk_filtering\",\"\\u002fcommon_issues\",\"\\u002fstk_filtering\",\"\\u002fcommon_issues\",\"\\u002fstk_filtering\",\"\\u002fcommon_issues\",\"\\u002fstk_filtering\",\"\\u002fcommon_issues\",\"\\u002fstk_filtering\",\"\\u002fcommon_issues\",\"\\u002fstk_filtering\",\"\\u002fcommon_issues\",\"\\u002fstk_filtering\",\"\\u002fcommon_issues\",\"\\u002fstk_filtering\",\"\\u002fcommon_issues\",\"\\u002fstk_filtering\",\"\\u002fcommon_issues\",\"\\u002fstk_filtering\",\"\\u002fcommon_issues\",\"\\u002fstk_filtering\",\"\\u002fcommon_issues\",\"\\u002fstk_filtering\",\"\\u002fcommon_issues\",\"\\u002fstk_filtering\",\"\\u002fcommon_issues\",\"\\u002fstk_filtering\",\"\\u002fcommon_issues\",\"\\u002fstk_filtering\",\"\\u002fcommon_issues\",\"\\u002fstk_filtering\",\"\\u002fcommon_issues\",\"\\u002fstk_filtering\",\"\\u002fcommon_issues\",\"\\u002fstk_filtering\",\"\\u002fcommon_issues\",\"\\u002fstk_filtering\",\"\\u002fcommon_issues\",\"\\u002fstk_filtering\",\"\\u002fcommon_issues\",\"\\u002fstk_filtering\",\"\\u002fcommon_issues\",\"\\u002fstk_filtering\",\"\\u002fcommon_issues\",\"\\u002fstk_filtering\",\"\\u002fcommon_issues\",\"\\u002fstk_filtering\",\"\\u002fcommon_issues\",\"\\u002fstk_filtering\",\"\\u002fcommon_issues\",\"\\u002fstk_filtering\",\"\\u002fcommon_issues\",\"\\u002fstk_filtering\",\"\\u002fcommon_issues\",\"\\u002fstk_filtering\",\"\\u002fcommon_issues\",\"\\u002fstk_filtering\",\"\\u002fcommon_issues\",\"\\u002fstk_filtering\",\"\\u002fcommon_issues\",\"\\u002fstk_filtering\",\"\\u002fcommon_issues\",\"\\u002fstk_filtering\",\"\\u002fcommon_issues\",\"\\u002fstk_filtering\",\"\\u002fcommon_issues\",\"\\u002fstk_filtering\",\"\\u002fcommon_issues\",\"\\u002fstk_filtering\",\"\\u002fcommon_issues\",\"\\u002fstk_filtering\",\"\\u002fcommon_issues\",\"\\u002fstk_filtering\",\"\\u002fcommon_issues\",\"\\u002fstk_filtering\",\"\\u002fcommon_issues\",\"\\u002fstk_filtering\",\"\\u002fcommon_issues\",\"\\u002fstk_filtering\",\"\\u002fcommon_issues\",\"\\u002fstk_filtering\",\"\\u002fcommon_issues\",\"\\u002fstk_filtering\",\"\\u002fcommon_issues\",\"\\u002fstk_filtering\",\"\\u002fcommon_issues\",\"\\u002fstk_filtering\",\"\\u002fcommon_issues\",\"\\u002fstk_filtering\",\"\\u002fcommon_issues\",\"\\u002fstk_filtering\",\"\\u002fcommon_issues\",\"\\u002fstk_filtering\",\"\\u002fcommon_issues\",\"\\u002fstk_filtering\",\"\\u002fcommon_issues\",\"\\u002fstk_filtering\",\"\\u002fcommon_issues\",\"\\u002fstk_filtering\",\"\\u002fcommon_issues\",\"\\u002fstk_filtering\",\"\\u002fcommon_issues\",\"\\u002fstk_filtering\",\"\\u002fcommon_issues\",\"\\u002fstk_filtering\",\"\\u002fcommon_issues\",\"\\u002fstk_filtering\",\"\\u002fcommon_issues\",\"\\u002fstk_filtering\",\"\\u002fcommon_issues\",\"\\u002fstk_filtering\",\"\\u002fcommon_issues\",\"\\u002fstk_filtering\",\"\\u002fcommon_issues\",\"\\u002fstk_filtering\",\"\\u002fcommon_issues\",\"\\u002fstk_filtering\",\"\\u002fcommon_issues\",\"\\u002fstk_filtering\",\"\\u002fcommon_issues\",\"\\u002fstk_filtering\",\"\\u002fcommon_issues\",\"\\u002fstk_filtering\",\"\\u002fcommon_issues\",\"\\u002fstk_filtering\",\"\\u002fcommon_issues\",\"\\u002fstk_filtering\",\"\\u002fcommon_issues\",\"\\u002fstk_filtering\",\"\\u002fcommon_issues\",\"\\u002fstk_filtering\",\"\\u002fcommon_issues\",\"\\u002fstk_filtering\",\"\\u002fcommon_issues\",\"\\u002fstk_filtering\",\"\\u002fcommon_issues\",\"\\u002fstk_filtering\",\"\\u002fcommon_issues\",\"\\u002fstk_filtering\",\"\\u002fcommon_issues\",\"\\u002fstk_filtering\",\"\\u002fcommon_issues\",\"\\u002fstk_filtering\",\"\\u002fcommon_issues\",\"\\u002fstk_filtering\",\"\\u002fcommon_issues\",\"\\u002fstk_filtering\",\"\\u002fcommon_issues\",\"\\u002fstk_filtering\",\"\\u002fcommon_issues\",\"\\u002fstk_filtering\",\"\\u002fcommon_issues\",\"\\u002fstk_filtering\",\"\\u002fcommon_issues\",\"\\u002fstk_filtering\",\"\\u002fcommon_issues\",\"\\u002fstk_filtering\",\"\\u002fcommon_issues\",\"\\u002fstk_filtering\",\"\\u002fcommon_issues\",\"\\u002fstk_filtering\",\"\\u002fcommon_issues\",\"\\u002fstk_filtering\",\"\\u002fcommon_issues\",\"\\u002fstk_filtering\",\"\\u002fcommon_issues\",\"\\u002fstk_filtering\",\"\\u002fcommon_issues\",\"\\u002fstk_filtering\",\"\\u002fcommon_issues\",\"\\u002fstk_filtering\",\"\\u002fcommon_issues\",\"\\u002fstk_filtering\",\"\\u002fcommon_issues\",\"\\u002fstk_filtering\",\"\\u002fcommon_issues\",\"\\u002fstk_filtering\",\"\\u002fcommon_issues\",\"\\u002fstk_filtering\",\"\\u002fcommon_issues\",\"\\u002fstk_filtering\",\"\\u002fcommon_issues\",\"\\u002fstk_filtering\",\"\\u002fcommon_issues\",\"\\u002fstk_filtering\",\"\\u002fcommon_issues\",\"\\u002fstk_filtering\",\"\\u002fcommon_issues\",\"\\u002fstk_filtering\",\"\\u002fcommon_issues\",\"\\u002fstk_filtering\",\"\\u002fcommon_issues\",\"\\u002fstk_filtering\",\"\\u002fcommon_issues\",\"\\u002fstk_filtering\",\"\\u002fcommon_issues\",\"\\u002fstk_filtering\",\"\\u002fcommon_issues\",\"\\u002fstk_filtering\",\"\\u002fcommon_issues\",\"\\u002fstk_filtering\",\"\\u002fcommon_issues\",\"\\u002fstk_filtering\",\"\\u002fcommon_issues\",\"\\u002fstk_filtering\",\"\\u002fcommon_issues\",\"\\u002fstk_filtering\",\"\\u002fcommon_issues\",\"\\u002fstk_filtering\",\"\\u002fcommon_issues\",\"\\u002fstk_filtering\",\"\\u002fcommon_issues\",\"\\u002fstk_filtering\",\"\\u002fcommon_issues\",\"\\u002fstk_filtering\",\"\\u002fcommon_issues\",\"\\u002fstk_filtering\",\"\\u002fcommon_issues\",\"\\u002fstk_filtering\",\"\\u002fcommon_issues\",\"\\u002fstk_filtering\",\"\\u002fcommon_issues\",\"\\u002fstk_filtering\",\"\\u002fcommon_issues\",\"\\u002fstk_filtering\",\"\\u002fcommon_issues\",\"\\u002fstk_filtering\",\"\\u002fcommon_issues\",\"\\u002fstk_filtering\",\"\\u002fcommon_issues\",\"\\u002fstk_filtering\",\"\\u002fcommon_issues\",\"\\u002fstk_filtering\",\"\\u002fcommon_issues\",\"\\u002fstk_filtering\",\"\\u002fcommon_issues\",\"\\u002fstk_filtering\",\"\\u002fcommon_issues\",\"\\u002fstk_filtering\",\"\\u002fcommon_issues\",\"\\u002fstk_filtering\",\"\\u002fcommon_issues\",\"\\u002fstk_filtering\",\"\\u002fcommon_issues\",\"\\u002fstk_filtering\",\"\\u002fcommon_issues\",\"\\u002fstk_filtering\",\"\\u002fcommon_issues\",\"\\u002fstk_filtering\",\"\\u002fcommon_issues\",\"\\u002fstk_filtering\",\"\\u002fcommon_issues\",\"\\u002fstk_filtering\",\"\\u002fcommon_issues\",\"\\u002fstk_filtering\",\"\\u002fcommon_issues\",\"\\u002fstk_filtering\",\"\\u002fcommon_issues\",\"\\u002fstk_filtering\",\"\\u002fcommon_issues\",\"\\u002fstk_filtering\",\"\\u002fcommon_issues\",\"\\u002fstk_filtering\",\"\\u002fcommon_issues\",\"\\u002fstk_filtering\",\"\\u002fcommon_issues\",\"\\u002fstk_filtering\",\"\\u002fcommon_issues\",\"\\u002fstk_filtering\",\"\\u002fcommon_issues\",\"\\u002fstk_filtering\",\"\\u002fcommon_issues\",\"\\u002fstk_filtering\",\"\\u002fcommon_issues\",\"\\u002fstk_filtering\",\"\\u002fcommon_issues\",\"\\u002fstk_filtering\",\"\\u002fcommon_issues\",\"\\u002fstk_filtering\",\"\\u002fcommon_issues\",\"\\u002fstk_filtering\",\"\\u002fcommon_issues\",\"\\u002fstk_filtering\",\"\\u002fcommon_issues\",\"\\u002fstk_filtering\",\"\\u002fcommon_issues\",\"\\u002fstk_filtering\",\"\\u002fcommon_issues\",\"\\u002fstk_filtering\",\"\\u002fcommon_issues\",\"\\u002fstk_filtering\",\"\\u002fcommon_issues\",\"\\u002fstk_filtering\",\"\\u002fcommon_issues\",\"\\u002fstk_filtering\",\"\\u002fcommon_issues\",\"\\u002fstk_filtering\",\"\\u002fcommon_issues\",\"\\u002fstk_filtering\",\"\\u002fcommon_issues\",\"\\u002fstk_filtering\",\"\\u002fcommon_issues\",\"\\u002fstk_filtering\",\"\\u002fcommon_issues\",\"\\u002fstk_filtering\",\"\\u002fcommon_issues\",\"\\u002fstk_filtering\",\"\\u002fcommon_issues\",\"\\u002fstk_filtering\",\"\\u002fcommon_issues\",\"\\u002fstk_filtering\",\"\\u002fcommon_issues\",\"\\u002fstk_filtering\",\"\\u002fcommon_issues\",\"\\u002fstk_filtering\",\"\\u002fcommon_issues\",\"\\u002fstk_filtering\",\"\\u002fcommon_issues\",\"\\u002fstk_filtering\",\"\\u002fcommon_issues\",\"\\u002fstk_filtering\",\"\\u002fcommon_issues\",\"\\u002fstk_filtering\",\"\\u002fcommon_issues\",\"\\u002fstk_filtering\",\"\\u002fcommon_issues\",\"\\u002fstk_filtering\",\"\\u002fcommon_issues\",\"\\u002fstk_filtering\",\"\\u002fcommon_issues\",\"\\u002fstk_filtering\",\"\\u002fcommon_issues\",\"\\u002fstk_filtering\",\"\\u002fcommon_issues\",\"\\u002fstk_filtering\",\"\\u002fcommon_issues\",\"\\u002fstk_filtering\",\"\\u002fcommon_issues\",\"\\u002fstk_filtering\",\"\\u002fcommon_issues\"],\"legendgroup\":\"\",\"name\":\"\",\"showlegend\":true,\"type\":\"pie\"}],                        {\"template\":{\"data\":{\"histogram2dcontour\":[{\"type\":\"histogram2dcontour\",\"colorbar\":{\"outlinewidth\":0,\"ticks\":\"\"},\"colorscale\":[[0.0,\"#0d0887\"],[0.1111111111111111,\"#46039f\"],[0.2222222222222222,\"#7201a8\"],[0.3333333333333333,\"#9c179e\"],[0.4444444444444444,\"#bd3786\"],[0.5555555555555556,\"#d8576b\"],[0.6666666666666666,\"#ed7953\"],[0.7777777777777778,\"#fb9f3a\"],[0.8888888888888888,\"#fdca26\"],[1.0,\"#f0f921\"]]}],\"choropleth\":[{\"type\":\"choropleth\",\"colorbar\":{\"outlinewidth\":0,\"ticks\":\"\"}}],\"histogram2d\":[{\"type\":\"histogram2d\",\"colorbar\":{\"outlinewidth\":0,\"ticks\":\"\"},\"colorscale\":[[0.0,\"#0d0887\"],[0.1111111111111111,\"#46039f\"],[0.2222222222222222,\"#7201a8\"],[0.3333333333333333,\"#9c179e\"],[0.4444444444444444,\"#bd3786\"],[0.5555555555555556,\"#d8576b\"],[0.6666666666666666,\"#ed7953\"],[0.7777777777777778,\"#fb9f3a\"],[0.8888888888888888,\"#fdca26\"],[1.0,\"#f0f921\"]]}],\"heatmap\":[{\"type\":\"heatmap\",\"colorbar\":{\"outlinewidth\":0,\"ticks\":\"\"},\"colorscale\":[[0.0,\"#0d0887\"],[0.1111111111111111,\"#46039f\"],[0.2222222222222222,\"#7201a8\"],[0.3333333333333333,\"#9c179e\"],[0.4444444444444444,\"#bd3786\"],[0.5555555555555556,\"#d8576b\"],[0.6666666666666666,\"#ed7953\"],[0.7777777777777778,\"#fb9f3a\"],[0.8888888888888888,\"#fdca26\"],[1.0,\"#f0f921\"]]}],\"heatmapgl\":[{\"type\":\"heatmapgl\",\"colorbar\":{\"outlinewidth\":0,\"ticks\":\"\"},\"colorscale\":[[0.0,\"#0d0887\"],[0.1111111111111111,\"#46039f\"],[0.2222222222222222,\"#7201a8\"],[0.3333333333333333,\"#9c179e\"],[0.4444444444444444,\"#bd3786\"],[0.5555555555555556,\"#d8576b\"],[0.6666666666666666,\"#ed7953\"],[0.7777777777777778,\"#fb9f3a\"],[0.8888888888888888,\"#fdca26\"],[1.0,\"#f0f921\"]]}],\"contourcarpet\":[{\"type\":\"contourcarpet\",\"colorbar\":{\"outlinewidth\":0,\"ticks\":\"\"}}],\"contour\":[{\"type\":\"contour\",\"colorbar\":{\"outlinewidth\":0,\"ticks\":\"\"},\"colorscale\":[[0.0,\"#0d0887\"],[0.1111111111111111,\"#46039f\"],[0.2222222222222222,\"#7201a8\"],[0.3333333333333333,\"#9c179e\"],[0.4444444444444444,\"#bd3786\"],[0.5555555555555556,\"#d8576b\"],[0.6666666666666666,\"#ed7953\"],[0.7777777777777778,\"#fb9f3a\"],[0.8888888888888888,\"#fdca26\"],[1.0,\"#f0f921\"]]}],\"surface\":[{\"type\":\"surface\",\"colorbar\":{\"outlinewidth\":0,\"ticks\":\"\"},\"colorscale\":[[0.0,\"#0d0887\"],[0.1111111111111111,\"#46039f\"],[0.2222222222222222,\"#7201a8\"],[0.3333333333333333,\"#9c179e\"],[0.4444444444444444,\"#bd3786\"],[0.5555555555555556,\"#d8576b\"],[0.6666666666666666,\"#ed7953\"],[0.7777777777777778,\"#fb9f3a\"],[0.8888888888888888,\"#fdca26\"],[1.0,\"#f0f921\"]]}],\"mesh3d\":[{\"type\":\"mesh3d\",\"colorbar\":{\"outlinewidth\":0,\"ticks\":\"\"}}],\"scatter\":[{\"fillpattern\":{\"fillmode\":\"overlay\",\"size\":10,\"solidity\":0.2},\"type\":\"scatter\"}],\"parcoords\":[{\"type\":\"parcoords\",\"line\":{\"colorbar\":{\"outlinewidth\":0,\"ticks\":\"\"}}}],\"scatterpolargl\":[{\"type\":\"scatterpolargl\",\"marker\":{\"colorbar\":{\"outlinewidth\":0,\"ticks\":\"\"}}}],\"bar\":[{\"error_x\":{\"color\":\"#2a3f5f\"},\"error_y\":{\"color\":\"#2a3f5f\"},\"marker\":{\"line\":{\"color\":\"#E5ECF6\",\"width\":0.5},\"pattern\":{\"fillmode\":\"overlay\",\"size\":10,\"solidity\":0.2}},\"type\":\"bar\"}],\"scattergeo\":[{\"type\":\"scattergeo\",\"marker\":{\"colorbar\":{\"outlinewidth\":0,\"ticks\":\"\"}}}],\"scatterpolar\":[{\"type\":\"scatterpolar\",\"marker\":{\"colorbar\":{\"outlinewidth\":0,\"ticks\":\"\"}}}],\"histogram\":[{\"marker\":{\"pattern\":{\"fillmode\":\"overlay\",\"size\":10,\"solidity\":0.2}},\"type\":\"histogram\"}],\"scattergl\":[{\"type\":\"scattergl\",\"marker\":{\"colorbar\":{\"outlinewidth\":0,\"ticks\":\"\"}}}],\"scatter3d\":[{\"type\":\"scatter3d\",\"line\":{\"colorbar\":{\"outlinewidth\":0,\"ticks\":\"\"}},\"marker\":{\"colorbar\":{\"outlinewidth\":0,\"ticks\":\"\"}}}],\"scattermapbox\":[{\"type\":\"scattermapbox\",\"marker\":{\"colorbar\":{\"outlinewidth\":0,\"ticks\":\"\"}}}],\"scatterternary\":[{\"type\":\"scatterternary\",\"marker\":{\"colorbar\":{\"outlinewidth\":0,\"ticks\":\"\"}}}],\"scattercarpet\":[{\"type\":\"scattercarpet\",\"marker\":{\"colorbar\":{\"outlinewidth\":0,\"ticks\":\"\"}}}],\"carpet\":[{\"aaxis\":{\"endlinecolor\":\"#2a3f5f\",\"gridcolor\":\"white\",\"linecolor\":\"white\",\"minorgridcolor\":\"white\",\"startlinecolor\":\"#2a3f5f\"},\"baxis\":{\"endlinecolor\":\"#2a3f5f\",\"gridcolor\":\"white\",\"linecolor\":\"white\",\"minorgridcolor\":\"white\",\"startlinecolor\":\"#2a3f5f\"},\"type\":\"carpet\"}],\"table\":[{\"cells\":{\"fill\":{\"color\":\"#EBF0F8\"},\"line\":{\"color\":\"white\"}},\"header\":{\"fill\":{\"color\":\"#C8D4E3\"},\"line\":{\"color\":\"white\"}},\"type\":\"table\"}],\"barpolar\":[{\"marker\":{\"line\":{\"color\":\"#E5ECF6\",\"width\":0.5},\"pattern\":{\"fillmode\":\"overlay\",\"size\":10,\"solidity\":0.2}},\"type\":\"barpolar\"}],\"pie\":[{\"automargin\":true,\"type\":\"pie\"}]},\"layout\":{\"autotypenumbers\":\"strict\",\"colorway\":[\"#636efa\",\"#EF553B\",\"#00cc96\",\"#ab63fa\",\"#FFA15A\",\"#19d3f3\",\"#FF6692\",\"#B6E880\",\"#FF97FF\",\"#FECB52\"],\"font\":{\"color\":\"#2a3f5f\"},\"hovermode\":\"closest\",\"hoverlabel\":{\"align\":\"left\"},\"paper_bgcolor\":\"white\",\"plot_bgcolor\":\"#E5ECF6\",\"polar\":{\"bgcolor\":\"#E5ECF6\",\"angularaxis\":{\"gridcolor\":\"white\",\"linecolor\":\"white\",\"ticks\":\"\"},\"radialaxis\":{\"gridcolor\":\"white\",\"linecolor\":\"white\",\"ticks\":\"\"}},\"ternary\":{\"bgcolor\":\"#E5ECF6\",\"aaxis\":{\"gridcolor\":\"white\",\"linecolor\":\"white\",\"ticks\":\"\"},\"baxis\":{\"gridcolor\":\"white\",\"linecolor\":\"white\",\"ticks\":\"\"},\"caxis\":{\"gridcolor\":\"white\",\"linecolor\":\"white\",\"ticks\":\"\"}},\"coloraxis\":{\"colorbar\":{\"outlinewidth\":0,\"ticks\":\"\"}},\"colorscale\":{\"sequential\":[[0.0,\"#0d0887\"],[0.1111111111111111,\"#46039f\"],[0.2222222222222222,\"#7201a8\"],[0.3333333333333333,\"#9c179e\"],[0.4444444444444444,\"#bd3786\"],[0.5555555555555556,\"#d8576b\"],[0.6666666666666666,\"#ed7953\"],[0.7777777777777778,\"#fb9f3a\"],[0.8888888888888888,\"#fdca26\"],[1.0,\"#f0f921\"]],\"sequentialminus\":[[0.0,\"#0d0887\"],[0.1111111111111111,\"#46039f\"],[0.2222222222222222,\"#7201a8\"],[0.3333333333333333,\"#9c179e\"],[0.4444444444444444,\"#bd3786\"],[0.5555555555555556,\"#d8576b\"],[0.6666666666666666,\"#ed7953\"],[0.7777777777777778,\"#fb9f3a\"],[0.8888888888888888,\"#fdca26\"],[1.0,\"#f0f921\"]],\"diverging\":[[0,\"#8e0152\"],[0.1,\"#c51b7d\"],[0.2,\"#de77ae\"],[0.3,\"#f1b6da\"],[0.4,\"#fde0ef\"],[0.5,\"#f7f7f7\"],[0.6,\"#e6f5d0\"],[0.7,\"#b8e186\"],[0.8,\"#7fbc41\"],[0.9,\"#4d9221\"],[1,\"#276419\"]]},\"xaxis\":{\"gridcolor\":\"white\",\"linecolor\":\"white\",\"ticks\":\"\",\"title\":{\"standoff\":15},\"zerolinecolor\":\"white\",\"automargin\":true,\"zerolinewidth\":2},\"yaxis\":{\"gridcolor\":\"white\",\"linecolor\":\"white\",\"ticks\":\"\",\"title\":{\"standoff\":15},\"zerolinecolor\":\"white\",\"automargin\":true,\"zerolinewidth\":2},\"scene\":{\"xaxis\":{\"backgroundcolor\":\"#E5ECF6\",\"gridcolor\":\"white\",\"linecolor\":\"white\",\"showbackground\":true,\"ticks\":\"\",\"zerolinecolor\":\"white\",\"gridwidth\":2},\"yaxis\":{\"backgroundcolor\":\"#E5ECF6\",\"gridcolor\":\"white\",\"linecolor\":\"white\",\"showbackground\":true,\"ticks\":\"\",\"zerolinecolor\":\"white\",\"gridwidth\":2},\"zaxis\":{\"backgroundcolor\":\"#E5ECF6\",\"gridcolor\":\"white\",\"linecolor\":\"white\",\"showbackground\":true,\"ticks\":\"\",\"zerolinecolor\":\"white\",\"gridwidth\":2}},\"shapedefaults\":{\"line\":{\"color\":\"#2a3f5f\"}},\"annotationdefaults\":{\"arrowcolor\":\"#2a3f5f\",\"arrowhead\":0,\"arrowwidth\":1},\"geo\":{\"bgcolor\":\"white\",\"landcolor\":\"#E5ECF6\",\"subunitcolor\":\"white\",\"showland\":true,\"showlakes\":true,\"lakecolor\":\"white\"},\"title\":{\"x\":0.05},\"mapbox\":{\"style\":\"light\"}}},\"legend\":{\"tracegroupgap\":0},\"title\":{\"text\":\"총 클릭수 : 4064, 투자하기 클릭수: 283\"}},                        {\"responsive\": true}                    ).then(function(){\n",
       "                            \n",
       "var gd = document.getElementById('9f846cee-f0e2-4068-b733-af95be8e2dcd');\n",
       "var x = new MutationObserver(function (mutations, observer) {{\n",
       "        var display = window.getComputedStyle(gd).display;\n",
       "        if (!display || display === 'none') {{\n",
       "            console.log([gd, 'removed!']);\n",
       "            Plotly.purge(gd);\n",
       "            observer.disconnect();\n",
       "        }}\n",
       "}});\n",
       "\n",
       "// Listen for the removal of the full notebook cells\n",
       "var notebookContainer = gd.closest('#notebook-container');\n",
       "if (notebookContainer) {{\n",
       "    x.observe(notebookContainer, {childList: true});\n",
       "}}\n",
       "\n",
       "// Listen for the clearing of the current output cell\n",
       "var outputEl = gd.closest('.output');\n",
       "if (outputEl) {{\n",
       "    x.observe(outputEl, {childList: true});\n",
       "}}\n",
       "\n",
       "                        })                };                });            </script>        </div>"
      ]
     },
     "metadata": {},
     "output_type": "display_data"
    }
   ],
   "source": [
    "import plotly.express as px\n",
    "\n",
    "fig = px.pie(log_df, names=\"simple_req\", title=f\"총 클릭수 : {log_df.shape[0]}, 투자하기 클릭수: {log_df[log_df['simple_req'].str.contains('click')].shape[0] }\")\n",
    "\n",
    "fig.show()"
   ]
  },
  {
   "cell_type": "code",
   "execution_count": 102,
   "metadata": {},
   "outputs": [],
   "source": [
    "ips = []\n",
    "is_invest = []\n",
    "is_info = []\n",
    "\n",
    "for ip, df in log_df.groupby('ip'):\n",
    "    \n",
    "    ips.append(ip)\n",
    "    \n",
    "    if \"/click_invest\" in df.simple_req.to_list():\n",
    "        is_invest.append(True)\n",
    "    else:\n",
    "        is_invest.append(False)\n",
    "        \n",
    "    if \"/dist_methology\" in df.simple_req.to_list():\n",
    "        is_info.append(True)\n",
    "    else:\n",
    "        is_info.append(False)"
   ]
  },
  {
   "cell_type": "markdown",
   "metadata": {},
   "source": [
    "### 02 정보제공 페이지와 \"투자히기\" 클릭률 상관관계 분석"
   ]
  },
  {
   "cell_type": "code",
   "execution_count": 103,
   "metadata": {},
   "outputs": [],
   "source": [
    "my_df = pd.DataFrame()\n",
    "\n",
    "my_df[\"ip\"] = ips\n",
    "\n",
    "my_df[\"is_invest\"] = is_invest\n",
    "\n",
    "my_df[\"is_info\"] = is_info"
   ]
  },
  {
   "cell_type": "code",
   "execution_count": 125,
   "metadata": {},
   "outputs": [
    {
     "data": {
      "text/plain": [
       "PearsonRResult(statistic=0.19463723362819071, pvalue=9.48964426372075e-05)"
      ]
     },
     "execution_count": 125,
     "metadata": {},
     "output_type": "execute_result"
    }
   ],
   "source": [
    "from scipy.stats import pearsonr\n",
    "\n",
    "pearsonr(my_df.is_info, my_df.is_invest)"
   ]
  },
  {
   "cell_type": "markdown",
   "metadata": {},
   "source": [
    "- p-value가 0.05 이하이므로 \"[대립가설] 두 변수간의 양의 상관관계(0.2)가 존재한다.\"를 채택할 수 있습니다."
   ]
  },
  {
   "cell_type": "code",
   "execution_count": 131,
   "metadata": {},
   "outputs": [
    {
     "data": {
      "application/vnd.plotly.v1+json": {
       "config": {
        "plotlyServerURL": "https://plot.ly"
       },
       "data": [
        {
         "domain": {
          "x": [
           0,
           1
          ],
          "y": [
           0,
           1
          ]
         },
         "hovertemplate": "is_invest=%{label}<extra></extra>",
         "labels": [
          true,
          false,
          false,
          true,
          true,
          false,
          true,
          true,
          false,
          true,
          false,
          false,
          true,
          false,
          false,
          false,
          false,
          true,
          false,
          false,
          true,
          false,
          false,
          true,
          false,
          false,
          true,
          false,
          false,
          false,
          false,
          false,
          true,
          true,
          false,
          false,
          false,
          false,
          true,
          true,
          false,
          false,
          false,
          true,
          true,
          false,
          false,
          false,
          false,
          true,
          false,
          true,
          false,
          true,
          true,
          false,
          false,
          false,
          true,
          true,
          true,
          false,
          false,
          false,
          false,
          false,
          true,
          true,
          false,
          true,
          true,
          true,
          true,
          true,
          false,
          false,
          false,
          false,
          false,
          false,
          true,
          false,
          false,
          true,
          true,
          false,
          true,
          false,
          false,
          false,
          false,
          true,
          true,
          true,
          false,
          false,
          false,
          true,
          false,
          false,
          false,
          true,
          false,
          false,
          true,
          false,
          false,
          false,
          false,
          true,
          true,
          false,
          false,
          false,
          true,
          false,
          false,
          false,
          true,
          false,
          false,
          true,
          false,
          false,
          true,
          false,
          false,
          true,
          true,
          true
         ],
         "legendgroup": "",
         "name": "",
         "showlegend": true,
         "type": "pie"
        }
       ],
       "layout": {
        "legend": {
         "tracegroupgap": 0
        },
        "template": {
         "data": {
          "bar": [
           {
            "error_x": {
             "color": "#2a3f5f"
            },
            "error_y": {
             "color": "#2a3f5f"
            },
            "marker": {
             "line": {
              "color": "#E5ECF6",
              "width": 0.5
             },
             "pattern": {
              "fillmode": "overlay",
              "size": 10,
              "solidity": 0.2
             }
            },
            "type": "bar"
           }
          ],
          "barpolar": [
           {
            "marker": {
             "line": {
              "color": "#E5ECF6",
              "width": 0.5
             },
             "pattern": {
              "fillmode": "overlay",
              "size": 10,
              "solidity": 0.2
             }
            },
            "type": "barpolar"
           }
          ],
          "carpet": [
           {
            "aaxis": {
             "endlinecolor": "#2a3f5f",
             "gridcolor": "white",
             "linecolor": "white",
             "minorgridcolor": "white",
             "startlinecolor": "#2a3f5f"
            },
            "baxis": {
             "endlinecolor": "#2a3f5f",
             "gridcolor": "white",
             "linecolor": "white",
             "minorgridcolor": "white",
             "startlinecolor": "#2a3f5f"
            },
            "type": "carpet"
           }
          ],
          "choropleth": [
           {
            "colorbar": {
             "outlinewidth": 0,
             "ticks": ""
            },
            "type": "choropleth"
           }
          ],
          "contour": [
           {
            "colorbar": {
             "outlinewidth": 0,
             "ticks": ""
            },
            "colorscale": [
             [
              0,
              "#0d0887"
             ],
             [
              0.1111111111111111,
              "#46039f"
             ],
             [
              0.2222222222222222,
              "#7201a8"
             ],
             [
              0.3333333333333333,
              "#9c179e"
             ],
             [
              0.4444444444444444,
              "#bd3786"
             ],
             [
              0.5555555555555556,
              "#d8576b"
             ],
             [
              0.6666666666666666,
              "#ed7953"
             ],
             [
              0.7777777777777778,
              "#fb9f3a"
             ],
             [
              0.8888888888888888,
              "#fdca26"
             ],
             [
              1,
              "#f0f921"
             ]
            ],
            "type": "contour"
           }
          ],
          "contourcarpet": [
           {
            "colorbar": {
             "outlinewidth": 0,
             "ticks": ""
            },
            "type": "contourcarpet"
           }
          ],
          "heatmap": [
           {
            "colorbar": {
             "outlinewidth": 0,
             "ticks": ""
            },
            "colorscale": [
             [
              0,
              "#0d0887"
             ],
             [
              0.1111111111111111,
              "#46039f"
             ],
             [
              0.2222222222222222,
              "#7201a8"
             ],
             [
              0.3333333333333333,
              "#9c179e"
             ],
             [
              0.4444444444444444,
              "#bd3786"
             ],
             [
              0.5555555555555556,
              "#d8576b"
             ],
             [
              0.6666666666666666,
              "#ed7953"
             ],
             [
              0.7777777777777778,
              "#fb9f3a"
             ],
             [
              0.8888888888888888,
              "#fdca26"
             ],
             [
              1,
              "#f0f921"
             ]
            ],
            "type": "heatmap"
           }
          ],
          "heatmapgl": [
           {
            "colorbar": {
             "outlinewidth": 0,
             "ticks": ""
            },
            "colorscale": [
             [
              0,
              "#0d0887"
             ],
             [
              0.1111111111111111,
              "#46039f"
             ],
             [
              0.2222222222222222,
              "#7201a8"
             ],
             [
              0.3333333333333333,
              "#9c179e"
             ],
             [
              0.4444444444444444,
              "#bd3786"
             ],
             [
              0.5555555555555556,
              "#d8576b"
             ],
             [
              0.6666666666666666,
              "#ed7953"
             ],
             [
              0.7777777777777778,
              "#fb9f3a"
             ],
             [
              0.8888888888888888,
              "#fdca26"
             ],
             [
              1,
              "#f0f921"
             ]
            ],
            "type": "heatmapgl"
           }
          ],
          "histogram": [
           {
            "marker": {
             "pattern": {
              "fillmode": "overlay",
              "size": 10,
              "solidity": 0.2
             }
            },
            "type": "histogram"
           }
          ],
          "histogram2d": [
           {
            "colorbar": {
             "outlinewidth": 0,
             "ticks": ""
            },
            "colorscale": [
             [
              0,
              "#0d0887"
             ],
             [
              0.1111111111111111,
              "#46039f"
             ],
             [
              0.2222222222222222,
              "#7201a8"
             ],
             [
              0.3333333333333333,
              "#9c179e"
             ],
             [
              0.4444444444444444,
              "#bd3786"
             ],
             [
              0.5555555555555556,
              "#d8576b"
             ],
             [
              0.6666666666666666,
              "#ed7953"
             ],
             [
              0.7777777777777778,
              "#fb9f3a"
             ],
             [
              0.8888888888888888,
              "#fdca26"
             ],
             [
              1,
              "#f0f921"
             ]
            ],
            "type": "histogram2d"
           }
          ],
          "histogram2dcontour": [
           {
            "colorbar": {
             "outlinewidth": 0,
             "ticks": ""
            },
            "colorscale": [
             [
              0,
              "#0d0887"
             ],
             [
              0.1111111111111111,
              "#46039f"
             ],
             [
              0.2222222222222222,
              "#7201a8"
             ],
             [
              0.3333333333333333,
              "#9c179e"
             ],
             [
              0.4444444444444444,
              "#bd3786"
             ],
             [
              0.5555555555555556,
              "#d8576b"
             ],
             [
              0.6666666666666666,
              "#ed7953"
             ],
             [
              0.7777777777777778,
              "#fb9f3a"
             ],
             [
              0.8888888888888888,
              "#fdca26"
             ],
             [
              1,
              "#f0f921"
             ]
            ],
            "type": "histogram2dcontour"
           }
          ],
          "mesh3d": [
           {
            "colorbar": {
             "outlinewidth": 0,
             "ticks": ""
            },
            "type": "mesh3d"
           }
          ],
          "parcoords": [
           {
            "line": {
             "colorbar": {
              "outlinewidth": 0,
              "ticks": ""
             }
            },
            "type": "parcoords"
           }
          ],
          "pie": [
           {
            "automargin": true,
            "type": "pie"
           }
          ],
          "scatter": [
           {
            "fillpattern": {
             "fillmode": "overlay",
             "size": 10,
             "solidity": 0.2
            },
            "type": "scatter"
           }
          ],
          "scatter3d": [
           {
            "line": {
             "colorbar": {
              "outlinewidth": 0,
              "ticks": ""
             }
            },
            "marker": {
             "colorbar": {
              "outlinewidth": 0,
              "ticks": ""
             }
            },
            "type": "scatter3d"
           }
          ],
          "scattercarpet": [
           {
            "marker": {
             "colorbar": {
              "outlinewidth": 0,
              "ticks": ""
             }
            },
            "type": "scattercarpet"
           }
          ],
          "scattergeo": [
           {
            "marker": {
             "colorbar": {
              "outlinewidth": 0,
              "ticks": ""
             }
            },
            "type": "scattergeo"
           }
          ],
          "scattergl": [
           {
            "marker": {
             "colorbar": {
              "outlinewidth": 0,
              "ticks": ""
             }
            },
            "type": "scattergl"
           }
          ],
          "scattermapbox": [
           {
            "marker": {
             "colorbar": {
              "outlinewidth": 0,
              "ticks": ""
             }
            },
            "type": "scattermapbox"
           }
          ],
          "scatterpolar": [
           {
            "marker": {
             "colorbar": {
              "outlinewidth": 0,
              "ticks": ""
             }
            },
            "type": "scatterpolar"
           }
          ],
          "scatterpolargl": [
           {
            "marker": {
             "colorbar": {
              "outlinewidth": 0,
              "ticks": ""
             }
            },
            "type": "scatterpolargl"
           }
          ],
          "scatterternary": [
           {
            "marker": {
             "colorbar": {
              "outlinewidth": 0,
              "ticks": ""
             }
            },
            "type": "scatterternary"
           }
          ],
          "surface": [
           {
            "colorbar": {
             "outlinewidth": 0,
             "ticks": ""
            },
            "colorscale": [
             [
              0,
              "#0d0887"
             ],
             [
              0.1111111111111111,
              "#46039f"
             ],
             [
              0.2222222222222222,
              "#7201a8"
             ],
             [
              0.3333333333333333,
              "#9c179e"
             ],
             [
              0.4444444444444444,
              "#bd3786"
             ],
             [
              0.5555555555555556,
              "#d8576b"
             ],
             [
              0.6666666666666666,
              "#ed7953"
             ],
             [
              0.7777777777777778,
              "#fb9f3a"
             ],
             [
              0.8888888888888888,
              "#fdca26"
             ],
             [
              1,
              "#f0f921"
             ]
            ],
            "type": "surface"
           }
          ],
          "table": [
           {
            "cells": {
             "fill": {
              "color": "#EBF0F8"
             },
             "line": {
              "color": "white"
             }
            },
            "header": {
             "fill": {
              "color": "#C8D4E3"
             },
             "line": {
              "color": "white"
             }
            },
            "type": "table"
           }
          ]
         },
         "layout": {
          "annotationdefaults": {
           "arrowcolor": "#2a3f5f",
           "arrowhead": 0,
           "arrowwidth": 1
          },
          "autotypenumbers": "strict",
          "coloraxis": {
           "colorbar": {
            "outlinewidth": 0,
            "ticks": ""
           }
          },
          "colorscale": {
           "diverging": [
            [
             0,
             "#8e0152"
            ],
            [
             0.1,
             "#c51b7d"
            ],
            [
             0.2,
             "#de77ae"
            ],
            [
             0.3,
             "#f1b6da"
            ],
            [
             0.4,
             "#fde0ef"
            ],
            [
             0.5,
             "#f7f7f7"
            ],
            [
             0.6,
             "#e6f5d0"
            ],
            [
             0.7,
             "#b8e186"
            ],
            [
             0.8,
             "#7fbc41"
            ],
            [
             0.9,
             "#4d9221"
            ],
            [
             1,
             "#276419"
            ]
           ],
           "sequential": [
            [
             0,
             "#0d0887"
            ],
            [
             0.1111111111111111,
             "#46039f"
            ],
            [
             0.2222222222222222,
             "#7201a8"
            ],
            [
             0.3333333333333333,
             "#9c179e"
            ],
            [
             0.4444444444444444,
             "#bd3786"
            ],
            [
             0.5555555555555556,
             "#d8576b"
            ],
            [
             0.6666666666666666,
             "#ed7953"
            ],
            [
             0.7777777777777778,
             "#fb9f3a"
            ],
            [
             0.8888888888888888,
             "#fdca26"
            ],
            [
             1,
             "#f0f921"
            ]
           ],
           "sequentialminus": [
            [
             0,
             "#0d0887"
            ],
            [
             0.1111111111111111,
             "#46039f"
            ],
            [
             0.2222222222222222,
             "#7201a8"
            ],
            [
             0.3333333333333333,
             "#9c179e"
            ],
            [
             0.4444444444444444,
             "#bd3786"
            ],
            [
             0.5555555555555556,
             "#d8576b"
            ],
            [
             0.6666666666666666,
             "#ed7953"
            ],
            [
             0.7777777777777778,
             "#fb9f3a"
            ],
            [
             0.8888888888888888,
             "#fdca26"
            ],
            [
             1,
             "#f0f921"
            ]
           ]
          },
          "colorway": [
           "#636efa",
           "#EF553B",
           "#00cc96",
           "#ab63fa",
           "#FFA15A",
           "#19d3f3",
           "#FF6692",
           "#B6E880",
           "#FF97FF",
           "#FECB52"
          ],
          "font": {
           "color": "#2a3f5f"
          },
          "geo": {
           "bgcolor": "white",
           "lakecolor": "white",
           "landcolor": "#E5ECF6",
           "showlakes": true,
           "showland": true,
           "subunitcolor": "white"
          },
          "hoverlabel": {
           "align": "left"
          },
          "hovermode": "closest",
          "mapbox": {
           "style": "light"
          },
          "paper_bgcolor": "white",
          "plot_bgcolor": "#E5ECF6",
          "polar": {
           "angularaxis": {
            "gridcolor": "white",
            "linecolor": "white",
            "ticks": ""
           },
           "bgcolor": "#E5ECF6",
           "radialaxis": {
            "gridcolor": "white",
            "linecolor": "white",
            "ticks": ""
           }
          },
          "scene": {
           "xaxis": {
            "backgroundcolor": "#E5ECF6",
            "gridcolor": "white",
            "gridwidth": 2,
            "linecolor": "white",
            "showbackground": true,
            "ticks": "",
            "zerolinecolor": "white"
           },
           "yaxis": {
            "backgroundcolor": "#E5ECF6",
            "gridcolor": "white",
            "gridwidth": 2,
            "linecolor": "white",
            "showbackground": true,
            "ticks": "",
            "zerolinecolor": "white"
           },
           "zaxis": {
            "backgroundcolor": "#E5ECF6",
            "gridcolor": "white",
            "gridwidth": 2,
            "linecolor": "white",
            "showbackground": true,
            "ticks": "",
            "zerolinecolor": "white"
           }
          },
          "shapedefaults": {
           "line": {
            "color": "#2a3f5f"
           }
          },
          "ternary": {
           "aaxis": {
            "gridcolor": "white",
            "linecolor": "white",
            "ticks": ""
           },
           "baxis": {
            "gridcolor": "white",
            "linecolor": "white",
            "ticks": ""
           },
           "bgcolor": "#E5ECF6",
           "caxis": {
            "gridcolor": "white",
            "linecolor": "white",
            "ticks": ""
           }
          },
          "title": {
           "x": 0.05
          },
          "xaxis": {
           "automargin": true,
           "gridcolor": "white",
           "linecolor": "white",
           "ticks": "",
           "title": {
            "standoff": 15
           },
           "zerolinecolor": "white",
           "zerolinewidth": 2
          },
          "yaxis": {
           "automargin": true,
           "gridcolor": "white",
           "linecolor": "white",
           "ticks": "",
           "title": {
            "standoff": 15
           },
           "zerolinecolor": "white",
           "zerolinewidth": 2
          }
         }
        },
        "title": {
         "text": "정보제공 페이지를 누른 사람들의 '투자하기' 클릭률"
        }
       }
      },
      "text/html": [
       "<div>                            <div id=\"059267c6-2555-4bdf-bdcd-05215d60af7c\" class=\"plotly-graph-div\" style=\"height:525px; width:100%;\"></div>            <script type=\"text/javascript\">                require([\"plotly\"], function(Plotly) {                    window.PLOTLYENV=window.PLOTLYENV || {};                                    if (document.getElementById(\"059267c6-2555-4bdf-bdcd-05215d60af7c\")) {                    Plotly.newPlot(                        \"059267c6-2555-4bdf-bdcd-05215d60af7c\",                        [{\"domain\":{\"x\":[0.0,1.0],\"y\":[0.0,1.0]},\"hovertemplate\":\"is_invest=%{label}\\u003cextra\\u003e\\u003c\\u002fextra\\u003e\",\"labels\":[true,false,false,true,true,false,true,true,false,true,false,false,true,false,false,false,false,true,false,false,true,false,false,true,false,false,true,false,false,false,false,false,true,true,false,false,false,false,true,true,false,false,false,true,true,false,false,false,false,true,false,true,false,true,true,false,false,false,true,true,true,false,false,false,false,false,true,true,false,true,true,true,true,true,false,false,false,false,false,false,true,false,false,true,true,false,true,false,false,false,false,true,true,true,false,false,false,true,false,false,false,true,false,false,true,false,false,false,false,true,true,false,false,false,true,false,false,false,true,false,false,true,false,false,true,false,false,true,true,true],\"legendgroup\":\"\",\"name\":\"\",\"showlegend\":true,\"type\":\"pie\"}],                        {\"template\":{\"data\":{\"histogram2dcontour\":[{\"type\":\"histogram2dcontour\",\"colorbar\":{\"outlinewidth\":0,\"ticks\":\"\"},\"colorscale\":[[0.0,\"#0d0887\"],[0.1111111111111111,\"#46039f\"],[0.2222222222222222,\"#7201a8\"],[0.3333333333333333,\"#9c179e\"],[0.4444444444444444,\"#bd3786\"],[0.5555555555555556,\"#d8576b\"],[0.6666666666666666,\"#ed7953\"],[0.7777777777777778,\"#fb9f3a\"],[0.8888888888888888,\"#fdca26\"],[1.0,\"#f0f921\"]]}],\"choropleth\":[{\"type\":\"choropleth\",\"colorbar\":{\"outlinewidth\":0,\"ticks\":\"\"}}],\"histogram2d\":[{\"type\":\"histogram2d\",\"colorbar\":{\"outlinewidth\":0,\"ticks\":\"\"},\"colorscale\":[[0.0,\"#0d0887\"],[0.1111111111111111,\"#46039f\"],[0.2222222222222222,\"#7201a8\"],[0.3333333333333333,\"#9c179e\"],[0.4444444444444444,\"#bd3786\"],[0.5555555555555556,\"#d8576b\"],[0.6666666666666666,\"#ed7953\"],[0.7777777777777778,\"#fb9f3a\"],[0.8888888888888888,\"#fdca26\"],[1.0,\"#f0f921\"]]}],\"heatmap\":[{\"type\":\"heatmap\",\"colorbar\":{\"outlinewidth\":0,\"ticks\":\"\"},\"colorscale\":[[0.0,\"#0d0887\"],[0.1111111111111111,\"#46039f\"],[0.2222222222222222,\"#7201a8\"],[0.3333333333333333,\"#9c179e\"],[0.4444444444444444,\"#bd3786\"],[0.5555555555555556,\"#d8576b\"],[0.6666666666666666,\"#ed7953\"],[0.7777777777777778,\"#fb9f3a\"],[0.8888888888888888,\"#fdca26\"],[1.0,\"#f0f921\"]]}],\"heatmapgl\":[{\"type\":\"heatmapgl\",\"colorbar\":{\"outlinewidth\":0,\"ticks\":\"\"},\"colorscale\":[[0.0,\"#0d0887\"],[0.1111111111111111,\"#46039f\"],[0.2222222222222222,\"#7201a8\"],[0.3333333333333333,\"#9c179e\"],[0.4444444444444444,\"#bd3786\"],[0.5555555555555556,\"#d8576b\"],[0.6666666666666666,\"#ed7953\"],[0.7777777777777778,\"#fb9f3a\"],[0.8888888888888888,\"#fdca26\"],[1.0,\"#f0f921\"]]}],\"contourcarpet\":[{\"type\":\"contourcarpet\",\"colorbar\":{\"outlinewidth\":0,\"ticks\":\"\"}}],\"contour\":[{\"type\":\"contour\",\"colorbar\":{\"outlinewidth\":0,\"ticks\":\"\"},\"colorscale\":[[0.0,\"#0d0887\"],[0.1111111111111111,\"#46039f\"],[0.2222222222222222,\"#7201a8\"],[0.3333333333333333,\"#9c179e\"],[0.4444444444444444,\"#bd3786\"],[0.5555555555555556,\"#d8576b\"],[0.6666666666666666,\"#ed7953\"],[0.7777777777777778,\"#fb9f3a\"],[0.8888888888888888,\"#fdca26\"],[1.0,\"#f0f921\"]]}],\"surface\":[{\"type\":\"surface\",\"colorbar\":{\"outlinewidth\":0,\"ticks\":\"\"},\"colorscale\":[[0.0,\"#0d0887\"],[0.1111111111111111,\"#46039f\"],[0.2222222222222222,\"#7201a8\"],[0.3333333333333333,\"#9c179e\"],[0.4444444444444444,\"#bd3786\"],[0.5555555555555556,\"#d8576b\"],[0.6666666666666666,\"#ed7953\"],[0.7777777777777778,\"#fb9f3a\"],[0.8888888888888888,\"#fdca26\"],[1.0,\"#f0f921\"]]}],\"mesh3d\":[{\"type\":\"mesh3d\",\"colorbar\":{\"outlinewidth\":0,\"ticks\":\"\"}}],\"scatter\":[{\"fillpattern\":{\"fillmode\":\"overlay\",\"size\":10,\"solidity\":0.2},\"type\":\"scatter\"}],\"parcoords\":[{\"type\":\"parcoords\",\"line\":{\"colorbar\":{\"outlinewidth\":0,\"ticks\":\"\"}}}],\"scatterpolargl\":[{\"type\":\"scatterpolargl\",\"marker\":{\"colorbar\":{\"outlinewidth\":0,\"ticks\":\"\"}}}],\"bar\":[{\"error_x\":{\"color\":\"#2a3f5f\"},\"error_y\":{\"color\":\"#2a3f5f\"},\"marker\":{\"line\":{\"color\":\"#E5ECF6\",\"width\":0.5},\"pattern\":{\"fillmode\":\"overlay\",\"size\":10,\"solidity\":0.2}},\"type\":\"bar\"}],\"scattergeo\":[{\"type\":\"scattergeo\",\"marker\":{\"colorbar\":{\"outlinewidth\":0,\"ticks\":\"\"}}}],\"scatterpolar\":[{\"type\":\"scatterpolar\",\"marker\":{\"colorbar\":{\"outlinewidth\":0,\"ticks\":\"\"}}}],\"histogram\":[{\"marker\":{\"pattern\":{\"fillmode\":\"overlay\",\"size\":10,\"solidity\":0.2}},\"type\":\"histogram\"}],\"scattergl\":[{\"type\":\"scattergl\",\"marker\":{\"colorbar\":{\"outlinewidth\":0,\"ticks\":\"\"}}}],\"scatter3d\":[{\"type\":\"scatter3d\",\"line\":{\"colorbar\":{\"outlinewidth\":0,\"ticks\":\"\"}},\"marker\":{\"colorbar\":{\"outlinewidth\":0,\"ticks\":\"\"}}}],\"scattermapbox\":[{\"type\":\"scattermapbox\",\"marker\":{\"colorbar\":{\"outlinewidth\":0,\"ticks\":\"\"}}}],\"scatterternary\":[{\"type\":\"scatterternary\",\"marker\":{\"colorbar\":{\"outlinewidth\":0,\"ticks\":\"\"}}}],\"scattercarpet\":[{\"type\":\"scattercarpet\",\"marker\":{\"colorbar\":{\"outlinewidth\":0,\"ticks\":\"\"}}}],\"carpet\":[{\"aaxis\":{\"endlinecolor\":\"#2a3f5f\",\"gridcolor\":\"white\",\"linecolor\":\"white\",\"minorgridcolor\":\"white\",\"startlinecolor\":\"#2a3f5f\"},\"baxis\":{\"endlinecolor\":\"#2a3f5f\",\"gridcolor\":\"white\",\"linecolor\":\"white\",\"minorgridcolor\":\"white\",\"startlinecolor\":\"#2a3f5f\"},\"type\":\"carpet\"}],\"table\":[{\"cells\":{\"fill\":{\"color\":\"#EBF0F8\"},\"line\":{\"color\":\"white\"}},\"header\":{\"fill\":{\"color\":\"#C8D4E3\"},\"line\":{\"color\":\"white\"}},\"type\":\"table\"}],\"barpolar\":[{\"marker\":{\"line\":{\"color\":\"#E5ECF6\",\"width\":0.5},\"pattern\":{\"fillmode\":\"overlay\",\"size\":10,\"solidity\":0.2}},\"type\":\"barpolar\"}],\"pie\":[{\"automargin\":true,\"type\":\"pie\"}]},\"layout\":{\"autotypenumbers\":\"strict\",\"colorway\":[\"#636efa\",\"#EF553B\",\"#00cc96\",\"#ab63fa\",\"#FFA15A\",\"#19d3f3\",\"#FF6692\",\"#B6E880\",\"#FF97FF\",\"#FECB52\"],\"font\":{\"color\":\"#2a3f5f\"},\"hovermode\":\"closest\",\"hoverlabel\":{\"align\":\"left\"},\"paper_bgcolor\":\"white\",\"plot_bgcolor\":\"#E5ECF6\",\"polar\":{\"bgcolor\":\"#E5ECF6\",\"angularaxis\":{\"gridcolor\":\"white\",\"linecolor\":\"white\",\"ticks\":\"\"},\"radialaxis\":{\"gridcolor\":\"white\",\"linecolor\":\"white\",\"ticks\":\"\"}},\"ternary\":{\"bgcolor\":\"#E5ECF6\",\"aaxis\":{\"gridcolor\":\"white\",\"linecolor\":\"white\",\"ticks\":\"\"},\"baxis\":{\"gridcolor\":\"white\",\"linecolor\":\"white\",\"ticks\":\"\"},\"caxis\":{\"gridcolor\":\"white\",\"linecolor\":\"white\",\"ticks\":\"\"}},\"coloraxis\":{\"colorbar\":{\"outlinewidth\":0,\"ticks\":\"\"}},\"colorscale\":{\"sequential\":[[0.0,\"#0d0887\"],[0.1111111111111111,\"#46039f\"],[0.2222222222222222,\"#7201a8\"],[0.3333333333333333,\"#9c179e\"],[0.4444444444444444,\"#bd3786\"],[0.5555555555555556,\"#d8576b\"],[0.6666666666666666,\"#ed7953\"],[0.7777777777777778,\"#fb9f3a\"],[0.8888888888888888,\"#fdca26\"],[1.0,\"#f0f921\"]],\"sequentialminus\":[[0.0,\"#0d0887\"],[0.1111111111111111,\"#46039f\"],[0.2222222222222222,\"#7201a8\"],[0.3333333333333333,\"#9c179e\"],[0.4444444444444444,\"#bd3786\"],[0.5555555555555556,\"#d8576b\"],[0.6666666666666666,\"#ed7953\"],[0.7777777777777778,\"#fb9f3a\"],[0.8888888888888888,\"#fdca26\"],[1.0,\"#f0f921\"]],\"diverging\":[[0,\"#8e0152\"],[0.1,\"#c51b7d\"],[0.2,\"#de77ae\"],[0.3,\"#f1b6da\"],[0.4,\"#fde0ef\"],[0.5,\"#f7f7f7\"],[0.6,\"#e6f5d0\"],[0.7,\"#b8e186\"],[0.8,\"#7fbc41\"],[0.9,\"#4d9221\"],[1,\"#276419\"]]},\"xaxis\":{\"gridcolor\":\"white\",\"linecolor\":\"white\",\"ticks\":\"\",\"title\":{\"standoff\":15},\"zerolinecolor\":\"white\",\"automargin\":true,\"zerolinewidth\":2},\"yaxis\":{\"gridcolor\":\"white\",\"linecolor\":\"white\",\"ticks\":\"\",\"title\":{\"standoff\":15},\"zerolinecolor\":\"white\",\"automargin\":true,\"zerolinewidth\":2},\"scene\":{\"xaxis\":{\"backgroundcolor\":\"#E5ECF6\",\"gridcolor\":\"white\",\"linecolor\":\"white\",\"showbackground\":true,\"ticks\":\"\",\"zerolinecolor\":\"white\",\"gridwidth\":2},\"yaxis\":{\"backgroundcolor\":\"#E5ECF6\",\"gridcolor\":\"white\",\"linecolor\":\"white\",\"showbackground\":true,\"ticks\":\"\",\"zerolinecolor\":\"white\",\"gridwidth\":2},\"zaxis\":{\"backgroundcolor\":\"#E5ECF6\",\"gridcolor\":\"white\",\"linecolor\":\"white\",\"showbackground\":true,\"ticks\":\"\",\"zerolinecolor\":\"white\",\"gridwidth\":2}},\"shapedefaults\":{\"line\":{\"color\":\"#2a3f5f\"}},\"annotationdefaults\":{\"arrowcolor\":\"#2a3f5f\",\"arrowhead\":0,\"arrowwidth\":1},\"geo\":{\"bgcolor\":\"white\",\"landcolor\":\"#E5ECF6\",\"subunitcolor\":\"white\",\"showland\":true,\"showlakes\":true,\"lakecolor\":\"white\"},\"title\":{\"x\":0.05},\"mapbox\":{\"style\":\"light\"}}},\"legend\":{\"tracegroupgap\":0},\"title\":{\"text\":\"정보제공 페이지를 누른 사람들의 '투자하기' 클릭률\"}},                        {\"responsive\": true}                    ).then(function(){\n",
       "                            \n",
       "var gd = document.getElementById('059267c6-2555-4bdf-bdcd-05215d60af7c');\n",
       "var x = new MutationObserver(function (mutations, observer) {{\n",
       "        var display = window.getComputedStyle(gd).display;\n",
       "        if (!display || display === 'none') {{\n",
       "            console.log([gd, 'removed!']);\n",
       "            Plotly.purge(gd);\n",
       "            observer.disconnect();\n",
       "        }}\n",
       "}});\n",
       "\n",
       "// Listen for the removal of the full notebook cells\n",
       "var notebookContainer = gd.closest('#notebook-container');\n",
       "if (notebookContainer) {{\n",
       "    x.observe(notebookContainer, {childList: true});\n",
       "}}\n",
       "\n",
       "// Listen for the clearing of the current output cell\n",
       "var outputEl = gd.closest('.output');\n",
       "if (outputEl) {{\n",
       "    x.observe(outputEl, {childList: true});\n",
       "}}\n",
       "\n",
       "                        })                };                });            </script>        </div>"
      ]
     },
     "metadata": {},
     "output_type": "display_data"
    }
   ],
   "source": [
    "info_click = my_df[my_df['is_info']]\n",
    "\n",
    "fig = px.pie(info_click, names=\"is_invest\", title=\"정보제공 페이지를 누른 사람들의 '투자하기' 클릭률\")\n",
    "\n",
    "fig.show()"
   ]
  },
  {
   "cell_type": "code",
   "execution_count": 132,
   "metadata": {},
   "outputs": [
    {
     "data": {
      "application/vnd.plotly.v1+json": {
       "config": {
        "plotlyServerURL": "https://plot.ly"
       },
       "data": [
        {
         "domain": {
          "x": [
           0,
           1
          ],
          "y": [
           0,
           1
          ]
         },
         "hovertemplate": "is_invest=%{label}<extra></extra>",
         "labels": [
          false,
          false,
          false,
          false,
          false,
          false,
          false,
          false,
          false,
          false,
          false,
          false,
          true,
          false,
          false,
          false,
          false,
          false,
          true,
          false,
          false,
          false,
          false,
          false,
          true,
          false,
          true,
          false,
          false,
          false,
          true,
          false,
          false,
          false,
          true,
          false,
          false,
          true,
          true,
          true,
          false,
          false,
          true,
          false,
          false,
          false,
          false,
          false,
          false,
          false,
          true,
          false,
          true,
          false,
          false,
          false,
          true,
          false,
          false,
          false,
          false,
          false,
          false,
          false,
          false,
          false,
          false,
          false,
          false,
          false,
          false,
          true,
          false,
          true,
          false,
          false,
          true,
          false,
          true,
          false,
          false,
          true,
          false,
          false,
          false,
          true,
          false,
          false,
          true,
          false,
          false,
          false,
          false,
          false,
          false,
          false,
          false,
          false,
          false,
          false,
          false,
          false,
          true,
          false,
          false,
          false,
          false,
          false,
          false,
          true,
          false,
          false,
          false,
          false,
          true,
          false,
          false,
          false,
          false,
          false,
          false,
          true,
          false,
          false,
          false,
          false,
          true,
          true,
          true,
          false,
          false,
          false,
          true,
          false,
          true,
          false,
          false,
          false,
          false,
          false,
          false,
          false,
          true,
          false,
          false,
          false,
          true,
          false,
          false,
          false,
          true,
          false,
          false,
          false,
          false,
          false,
          false,
          false,
          false,
          false,
          false,
          false,
          false,
          true,
          true,
          true,
          true,
          false,
          true,
          false,
          false,
          true,
          false,
          false,
          false,
          false,
          false,
          false,
          false,
          false,
          false,
          false,
          true,
          true,
          false,
          false,
          false,
          false,
          false,
          true,
          true,
          false,
          false,
          false,
          false,
          false,
          true,
          false,
          true,
          false,
          true,
          false,
          false,
          false,
          false,
          true,
          true,
          false,
          false,
          false,
          false,
          false,
          false,
          false,
          false,
          true,
          false,
          false,
          false,
          false,
          false,
          false,
          true,
          false,
          false,
          false,
          false,
          false,
          false,
          false,
          false,
          false,
          true,
          false,
          false,
          false,
          false,
          false,
          false,
          false,
          false,
          false,
          false,
          false,
          false,
          false,
          false,
          false,
          false,
          false,
          true,
          false,
          false,
          false,
          true,
          false,
          false,
          true,
          false,
          false,
          false,
          false,
          false,
          false,
          false,
          false,
          true
         ],
         "legendgroup": "",
         "name": "",
         "showlegend": true,
         "type": "pie"
        }
       ],
       "layout": {
        "legend": {
         "tracegroupgap": 0
        },
        "template": {
         "data": {
          "bar": [
           {
            "error_x": {
             "color": "#2a3f5f"
            },
            "error_y": {
             "color": "#2a3f5f"
            },
            "marker": {
             "line": {
              "color": "#E5ECF6",
              "width": 0.5
             },
             "pattern": {
              "fillmode": "overlay",
              "size": 10,
              "solidity": 0.2
             }
            },
            "type": "bar"
           }
          ],
          "barpolar": [
           {
            "marker": {
             "line": {
              "color": "#E5ECF6",
              "width": 0.5
             },
             "pattern": {
              "fillmode": "overlay",
              "size": 10,
              "solidity": 0.2
             }
            },
            "type": "barpolar"
           }
          ],
          "carpet": [
           {
            "aaxis": {
             "endlinecolor": "#2a3f5f",
             "gridcolor": "white",
             "linecolor": "white",
             "minorgridcolor": "white",
             "startlinecolor": "#2a3f5f"
            },
            "baxis": {
             "endlinecolor": "#2a3f5f",
             "gridcolor": "white",
             "linecolor": "white",
             "minorgridcolor": "white",
             "startlinecolor": "#2a3f5f"
            },
            "type": "carpet"
           }
          ],
          "choropleth": [
           {
            "colorbar": {
             "outlinewidth": 0,
             "ticks": ""
            },
            "type": "choropleth"
           }
          ],
          "contour": [
           {
            "colorbar": {
             "outlinewidth": 0,
             "ticks": ""
            },
            "colorscale": [
             [
              0,
              "#0d0887"
             ],
             [
              0.1111111111111111,
              "#46039f"
             ],
             [
              0.2222222222222222,
              "#7201a8"
             ],
             [
              0.3333333333333333,
              "#9c179e"
             ],
             [
              0.4444444444444444,
              "#bd3786"
             ],
             [
              0.5555555555555556,
              "#d8576b"
             ],
             [
              0.6666666666666666,
              "#ed7953"
             ],
             [
              0.7777777777777778,
              "#fb9f3a"
             ],
             [
              0.8888888888888888,
              "#fdca26"
             ],
             [
              1,
              "#f0f921"
             ]
            ],
            "type": "contour"
           }
          ],
          "contourcarpet": [
           {
            "colorbar": {
             "outlinewidth": 0,
             "ticks": ""
            },
            "type": "contourcarpet"
           }
          ],
          "heatmap": [
           {
            "colorbar": {
             "outlinewidth": 0,
             "ticks": ""
            },
            "colorscale": [
             [
              0,
              "#0d0887"
             ],
             [
              0.1111111111111111,
              "#46039f"
             ],
             [
              0.2222222222222222,
              "#7201a8"
             ],
             [
              0.3333333333333333,
              "#9c179e"
             ],
             [
              0.4444444444444444,
              "#bd3786"
             ],
             [
              0.5555555555555556,
              "#d8576b"
             ],
             [
              0.6666666666666666,
              "#ed7953"
             ],
             [
              0.7777777777777778,
              "#fb9f3a"
             ],
             [
              0.8888888888888888,
              "#fdca26"
             ],
             [
              1,
              "#f0f921"
             ]
            ],
            "type": "heatmap"
           }
          ],
          "heatmapgl": [
           {
            "colorbar": {
             "outlinewidth": 0,
             "ticks": ""
            },
            "colorscale": [
             [
              0,
              "#0d0887"
             ],
             [
              0.1111111111111111,
              "#46039f"
             ],
             [
              0.2222222222222222,
              "#7201a8"
             ],
             [
              0.3333333333333333,
              "#9c179e"
             ],
             [
              0.4444444444444444,
              "#bd3786"
             ],
             [
              0.5555555555555556,
              "#d8576b"
             ],
             [
              0.6666666666666666,
              "#ed7953"
             ],
             [
              0.7777777777777778,
              "#fb9f3a"
             ],
             [
              0.8888888888888888,
              "#fdca26"
             ],
             [
              1,
              "#f0f921"
             ]
            ],
            "type": "heatmapgl"
           }
          ],
          "histogram": [
           {
            "marker": {
             "pattern": {
              "fillmode": "overlay",
              "size": 10,
              "solidity": 0.2
             }
            },
            "type": "histogram"
           }
          ],
          "histogram2d": [
           {
            "colorbar": {
             "outlinewidth": 0,
             "ticks": ""
            },
            "colorscale": [
             [
              0,
              "#0d0887"
             ],
             [
              0.1111111111111111,
              "#46039f"
             ],
             [
              0.2222222222222222,
              "#7201a8"
             ],
             [
              0.3333333333333333,
              "#9c179e"
             ],
             [
              0.4444444444444444,
              "#bd3786"
             ],
             [
              0.5555555555555556,
              "#d8576b"
             ],
             [
              0.6666666666666666,
              "#ed7953"
             ],
             [
              0.7777777777777778,
              "#fb9f3a"
             ],
             [
              0.8888888888888888,
              "#fdca26"
             ],
             [
              1,
              "#f0f921"
             ]
            ],
            "type": "histogram2d"
           }
          ],
          "histogram2dcontour": [
           {
            "colorbar": {
             "outlinewidth": 0,
             "ticks": ""
            },
            "colorscale": [
             [
              0,
              "#0d0887"
             ],
             [
              0.1111111111111111,
              "#46039f"
             ],
             [
              0.2222222222222222,
              "#7201a8"
             ],
             [
              0.3333333333333333,
              "#9c179e"
             ],
             [
              0.4444444444444444,
              "#bd3786"
             ],
             [
              0.5555555555555556,
              "#d8576b"
             ],
             [
              0.6666666666666666,
              "#ed7953"
             ],
             [
              0.7777777777777778,
              "#fb9f3a"
             ],
             [
              0.8888888888888888,
              "#fdca26"
             ],
             [
              1,
              "#f0f921"
             ]
            ],
            "type": "histogram2dcontour"
           }
          ],
          "mesh3d": [
           {
            "colorbar": {
             "outlinewidth": 0,
             "ticks": ""
            },
            "type": "mesh3d"
           }
          ],
          "parcoords": [
           {
            "line": {
             "colorbar": {
              "outlinewidth": 0,
              "ticks": ""
             }
            },
            "type": "parcoords"
           }
          ],
          "pie": [
           {
            "automargin": true,
            "type": "pie"
           }
          ],
          "scatter": [
           {
            "fillpattern": {
             "fillmode": "overlay",
             "size": 10,
             "solidity": 0.2
            },
            "type": "scatter"
           }
          ],
          "scatter3d": [
           {
            "line": {
             "colorbar": {
              "outlinewidth": 0,
              "ticks": ""
             }
            },
            "marker": {
             "colorbar": {
              "outlinewidth": 0,
              "ticks": ""
             }
            },
            "type": "scatter3d"
           }
          ],
          "scattercarpet": [
           {
            "marker": {
             "colorbar": {
              "outlinewidth": 0,
              "ticks": ""
             }
            },
            "type": "scattercarpet"
           }
          ],
          "scattergeo": [
           {
            "marker": {
             "colorbar": {
              "outlinewidth": 0,
              "ticks": ""
             }
            },
            "type": "scattergeo"
           }
          ],
          "scattergl": [
           {
            "marker": {
             "colorbar": {
              "outlinewidth": 0,
              "ticks": ""
             }
            },
            "type": "scattergl"
           }
          ],
          "scattermapbox": [
           {
            "marker": {
             "colorbar": {
              "outlinewidth": 0,
              "ticks": ""
             }
            },
            "type": "scattermapbox"
           }
          ],
          "scatterpolar": [
           {
            "marker": {
             "colorbar": {
              "outlinewidth": 0,
              "ticks": ""
             }
            },
            "type": "scatterpolar"
           }
          ],
          "scatterpolargl": [
           {
            "marker": {
             "colorbar": {
              "outlinewidth": 0,
              "ticks": ""
             }
            },
            "type": "scatterpolargl"
           }
          ],
          "scatterternary": [
           {
            "marker": {
             "colorbar": {
              "outlinewidth": 0,
              "ticks": ""
             }
            },
            "type": "scatterternary"
           }
          ],
          "surface": [
           {
            "colorbar": {
             "outlinewidth": 0,
             "ticks": ""
            },
            "colorscale": [
             [
              0,
              "#0d0887"
             ],
             [
              0.1111111111111111,
              "#46039f"
             ],
             [
              0.2222222222222222,
              "#7201a8"
             ],
             [
              0.3333333333333333,
              "#9c179e"
             ],
             [
              0.4444444444444444,
              "#bd3786"
             ],
             [
              0.5555555555555556,
              "#d8576b"
             ],
             [
              0.6666666666666666,
              "#ed7953"
             ],
             [
              0.7777777777777778,
              "#fb9f3a"
             ],
             [
              0.8888888888888888,
              "#fdca26"
             ],
             [
              1,
              "#f0f921"
             ]
            ],
            "type": "surface"
           }
          ],
          "table": [
           {
            "cells": {
             "fill": {
              "color": "#EBF0F8"
             },
             "line": {
              "color": "white"
             }
            },
            "header": {
             "fill": {
              "color": "#C8D4E3"
             },
             "line": {
              "color": "white"
             }
            },
            "type": "table"
           }
          ]
         },
         "layout": {
          "annotationdefaults": {
           "arrowcolor": "#2a3f5f",
           "arrowhead": 0,
           "arrowwidth": 1
          },
          "autotypenumbers": "strict",
          "coloraxis": {
           "colorbar": {
            "outlinewidth": 0,
            "ticks": ""
           }
          },
          "colorscale": {
           "diverging": [
            [
             0,
             "#8e0152"
            ],
            [
             0.1,
             "#c51b7d"
            ],
            [
             0.2,
             "#de77ae"
            ],
            [
             0.3,
             "#f1b6da"
            ],
            [
             0.4,
             "#fde0ef"
            ],
            [
             0.5,
             "#f7f7f7"
            ],
            [
             0.6,
             "#e6f5d0"
            ],
            [
             0.7,
             "#b8e186"
            ],
            [
             0.8,
             "#7fbc41"
            ],
            [
             0.9,
             "#4d9221"
            ],
            [
             1,
             "#276419"
            ]
           ],
           "sequential": [
            [
             0,
             "#0d0887"
            ],
            [
             0.1111111111111111,
             "#46039f"
            ],
            [
             0.2222222222222222,
             "#7201a8"
            ],
            [
             0.3333333333333333,
             "#9c179e"
            ],
            [
             0.4444444444444444,
             "#bd3786"
            ],
            [
             0.5555555555555556,
             "#d8576b"
            ],
            [
             0.6666666666666666,
             "#ed7953"
            ],
            [
             0.7777777777777778,
             "#fb9f3a"
            ],
            [
             0.8888888888888888,
             "#fdca26"
            ],
            [
             1,
             "#f0f921"
            ]
           ],
           "sequentialminus": [
            [
             0,
             "#0d0887"
            ],
            [
             0.1111111111111111,
             "#46039f"
            ],
            [
             0.2222222222222222,
             "#7201a8"
            ],
            [
             0.3333333333333333,
             "#9c179e"
            ],
            [
             0.4444444444444444,
             "#bd3786"
            ],
            [
             0.5555555555555556,
             "#d8576b"
            ],
            [
             0.6666666666666666,
             "#ed7953"
            ],
            [
             0.7777777777777778,
             "#fb9f3a"
            ],
            [
             0.8888888888888888,
             "#fdca26"
            ],
            [
             1,
             "#f0f921"
            ]
           ]
          },
          "colorway": [
           "#636efa",
           "#EF553B",
           "#00cc96",
           "#ab63fa",
           "#FFA15A",
           "#19d3f3",
           "#FF6692",
           "#B6E880",
           "#FF97FF",
           "#FECB52"
          ],
          "font": {
           "color": "#2a3f5f"
          },
          "geo": {
           "bgcolor": "white",
           "lakecolor": "white",
           "landcolor": "#E5ECF6",
           "showlakes": true,
           "showland": true,
           "subunitcolor": "white"
          },
          "hoverlabel": {
           "align": "left"
          },
          "hovermode": "closest",
          "mapbox": {
           "style": "light"
          },
          "paper_bgcolor": "white",
          "plot_bgcolor": "#E5ECF6",
          "polar": {
           "angularaxis": {
            "gridcolor": "white",
            "linecolor": "white",
            "ticks": ""
           },
           "bgcolor": "#E5ECF6",
           "radialaxis": {
            "gridcolor": "white",
            "linecolor": "white",
            "ticks": ""
           }
          },
          "scene": {
           "xaxis": {
            "backgroundcolor": "#E5ECF6",
            "gridcolor": "white",
            "gridwidth": 2,
            "linecolor": "white",
            "showbackground": true,
            "ticks": "",
            "zerolinecolor": "white"
           },
           "yaxis": {
            "backgroundcolor": "#E5ECF6",
            "gridcolor": "white",
            "gridwidth": 2,
            "linecolor": "white",
            "showbackground": true,
            "ticks": "",
            "zerolinecolor": "white"
           },
           "zaxis": {
            "backgroundcolor": "#E5ECF6",
            "gridcolor": "white",
            "gridwidth": 2,
            "linecolor": "white",
            "showbackground": true,
            "ticks": "",
            "zerolinecolor": "white"
           }
          },
          "shapedefaults": {
           "line": {
            "color": "#2a3f5f"
           }
          },
          "ternary": {
           "aaxis": {
            "gridcolor": "white",
            "linecolor": "white",
            "ticks": ""
           },
           "baxis": {
            "gridcolor": "white",
            "linecolor": "white",
            "ticks": ""
           },
           "bgcolor": "#E5ECF6",
           "caxis": {
            "gridcolor": "white",
            "linecolor": "white",
            "ticks": ""
           }
          },
          "title": {
           "x": 0.05
          },
          "xaxis": {
           "automargin": true,
           "gridcolor": "white",
           "linecolor": "white",
           "ticks": "",
           "title": {
            "standoff": 15
           },
           "zerolinecolor": "white",
           "zerolinewidth": 2
          },
          "yaxis": {
           "automargin": true,
           "gridcolor": "white",
           "linecolor": "white",
           "ticks": "",
           "title": {
            "standoff": 15
           },
           "zerolinecolor": "white",
           "zerolinewidth": 2
          }
         }
        },
        "title": {
         "text": "정보제공 페이지를 누르지 않은 사람들의 '투자하기' 클릭률"
        }
       }
      },
      "text/html": [
       "<div>                            <div id=\"467e3f70-c16f-4934-9d41-d87ce160d87c\" class=\"plotly-graph-div\" style=\"height:525px; width:100%;\"></div>            <script type=\"text/javascript\">                require([\"plotly\"], function(Plotly) {                    window.PLOTLYENV=window.PLOTLYENV || {};                                    if (document.getElementById(\"467e3f70-c16f-4934-9d41-d87ce160d87c\")) {                    Plotly.newPlot(                        \"467e3f70-c16f-4934-9d41-d87ce160d87c\",                        [{\"domain\":{\"x\":[0.0,1.0],\"y\":[0.0,1.0]},\"hovertemplate\":\"is_invest=%{label}\\u003cextra\\u003e\\u003c\\u002fextra\\u003e\",\"labels\":[false,false,false,false,false,false,false,false,false,false,false,false,true,false,false,false,false,false,true,false,false,false,false,false,true,false,true,false,false,false,true,false,false,false,true,false,false,true,true,true,false,false,true,false,false,false,false,false,false,false,true,false,true,false,false,false,true,false,false,false,false,false,false,false,false,false,false,false,false,false,false,true,false,true,false,false,true,false,true,false,false,true,false,false,false,true,false,false,true,false,false,false,false,false,false,false,false,false,false,false,false,false,true,false,false,false,false,false,false,true,false,false,false,false,true,false,false,false,false,false,false,true,false,false,false,false,true,true,true,false,false,false,true,false,true,false,false,false,false,false,false,false,true,false,false,false,true,false,false,false,true,false,false,false,false,false,false,false,false,false,false,false,false,true,true,true,true,false,true,false,false,true,false,false,false,false,false,false,false,false,false,false,true,true,false,false,false,false,false,true,true,false,false,false,false,false,true,false,true,false,true,false,false,false,false,true,true,false,false,false,false,false,false,false,false,true,false,false,false,false,false,false,true,false,false,false,false,false,false,false,false,false,true,false,false,false,false,false,false,false,false,false,false,false,false,false,false,false,false,false,true,false,false,false,true,false,false,true,false,false,false,false,false,false,false,false,true],\"legendgroup\":\"\",\"name\":\"\",\"showlegend\":true,\"type\":\"pie\"}],                        {\"template\":{\"data\":{\"histogram2dcontour\":[{\"type\":\"histogram2dcontour\",\"colorbar\":{\"outlinewidth\":0,\"ticks\":\"\"},\"colorscale\":[[0.0,\"#0d0887\"],[0.1111111111111111,\"#46039f\"],[0.2222222222222222,\"#7201a8\"],[0.3333333333333333,\"#9c179e\"],[0.4444444444444444,\"#bd3786\"],[0.5555555555555556,\"#d8576b\"],[0.6666666666666666,\"#ed7953\"],[0.7777777777777778,\"#fb9f3a\"],[0.8888888888888888,\"#fdca26\"],[1.0,\"#f0f921\"]]}],\"choropleth\":[{\"type\":\"choropleth\",\"colorbar\":{\"outlinewidth\":0,\"ticks\":\"\"}}],\"histogram2d\":[{\"type\":\"histogram2d\",\"colorbar\":{\"outlinewidth\":0,\"ticks\":\"\"},\"colorscale\":[[0.0,\"#0d0887\"],[0.1111111111111111,\"#46039f\"],[0.2222222222222222,\"#7201a8\"],[0.3333333333333333,\"#9c179e\"],[0.4444444444444444,\"#bd3786\"],[0.5555555555555556,\"#d8576b\"],[0.6666666666666666,\"#ed7953\"],[0.7777777777777778,\"#fb9f3a\"],[0.8888888888888888,\"#fdca26\"],[1.0,\"#f0f921\"]]}],\"heatmap\":[{\"type\":\"heatmap\",\"colorbar\":{\"outlinewidth\":0,\"ticks\":\"\"},\"colorscale\":[[0.0,\"#0d0887\"],[0.1111111111111111,\"#46039f\"],[0.2222222222222222,\"#7201a8\"],[0.3333333333333333,\"#9c179e\"],[0.4444444444444444,\"#bd3786\"],[0.5555555555555556,\"#d8576b\"],[0.6666666666666666,\"#ed7953\"],[0.7777777777777778,\"#fb9f3a\"],[0.8888888888888888,\"#fdca26\"],[1.0,\"#f0f921\"]]}],\"heatmapgl\":[{\"type\":\"heatmapgl\",\"colorbar\":{\"outlinewidth\":0,\"ticks\":\"\"},\"colorscale\":[[0.0,\"#0d0887\"],[0.1111111111111111,\"#46039f\"],[0.2222222222222222,\"#7201a8\"],[0.3333333333333333,\"#9c179e\"],[0.4444444444444444,\"#bd3786\"],[0.5555555555555556,\"#d8576b\"],[0.6666666666666666,\"#ed7953\"],[0.7777777777777778,\"#fb9f3a\"],[0.8888888888888888,\"#fdca26\"],[1.0,\"#f0f921\"]]}],\"contourcarpet\":[{\"type\":\"contourcarpet\",\"colorbar\":{\"outlinewidth\":0,\"ticks\":\"\"}}],\"contour\":[{\"type\":\"contour\",\"colorbar\":{\"outlinewidth\":0,\"ticks\":\"\"},\"colorscale\":[[0.0,\"#0d0887\"],[0.1111111111111111,\"#46039f\"],[0.2222222222222222,\"#7201a8\"],[0.3333333333333333,\"#9c179e\"],[0.4444444444444444,\"#bd3786\"],[0.5555555555555556,\"#d8576b\"],[0.6666666666666666,\"#ed7953\"],[0.7777777777777778,\"#fb9f3a\"],[0.8888888888888888,\"#fdca26\"],[1.0,\"#f0f921\"]]}],\"surface\":[{\"type\":\"surface\",\"colorbar\":{\"outlinewidth\":0,\"ticks\":\"\"},\"colorscale\":[[0.0,\"#0d0887\"],[0.1111111111111111,\"#46039f\"],[0.2222222222222222,\"#7201a8\"],[0.3333333333333333,\"#9c179e\"],[0.4444444444444444,\"#bd3786\"],[0.5555555555555556,\"#d8576b\"],[0.6666666666666666,\"#ed7953\"],[0.7777777777777778,\"#fb9f3a\"],[0.8888888888888888,\"#fdca26\"],[1.0,\"#f0f921\"]]}],\"mesh3d\":[{\"type\":\"mesh3d\",\"colorbar\":{\"outlinewidth\":0,\"ticks\":\"\"}}],\"scatter\":[{\"fillpattern\":{\"fillmode\":\"overlay\",\"size\":10,\"solidity\":0.2},\"type\":\"scatter\"}],\"parcoords\":[{\"type\":\"parcoords\",\"line\":{\"colorbar\":{\"outlinewidth\":0,\"ticks\":\"\"}}}],\"scatterpolargl\":[{\"type\":\"scatterpolargl\",\"marker\":{\"colorbar\":{\"outlinewidth\":0,\"ticks\":\"\"}}}],\"bar\":[{\"error_x\":{\"color\":\"#2a3f5f\"},\"error_y\":{\"color\":\"#2a3f5f\"},\"marker\":{\"line\":{\"color\":\"#E5ECF6\",\"width\":0.5},\"pattern\":{\"fillmode\":\"overlay\",\"size\":10,\"solidity\":0.2}},\"type\":\"bar\"}],\"scattergeo\":[{\"type\":\"scattergeo\",\"marker\":{\"colorbar\":{\"outlinewidth\":0,\"ticks\":\"\"}}}],\"scatterpolar\":[{\"type\":\"scatterpolar\",\"marker\":{\"colorbar\":{\"outlinewidth\":0,\"ticks\":\"\"}}}],\"histogram\":[{\"marker\":{\"pattern\":{\"fillmode\":\"overlay\",\"size\":10,\"solidity\":0.2}},\"type\":\"histogram\"}],\"scattergl\":[{\"type\":\"scattergl\",\"marker\":{\"colorbar\":{\"outlinewidth\":0,\"ticks\":\"\"}}}],\"scatter3d\":[{\"type\":\"scatter3d\",\"line\":{\"colorbar\":{\"outlinewidth\":0,\"ticks\":\"\"}},\"marker\":{\"colorbar\":{\"outlinewidth\":0,\"ticks\":\"\"}}}],\"scattermapbox\":[{\"type\":\"scattermapbox\",\"marker\":{\"colorbar\":{\"outlinewidth\":0,\"ticks\":\"\"}}}],\"scatterternary\":[{\"type\":\"scatterternary\",\"marker\":{\"colorbar\":{\"outlinewidth\":0,\"ticks\":\"\"}}}],\"scattercarpet\":[{\"type\":\"scattercarpet\",\"marker\":{\"colorbar\":{\"outlinewidth\":0,\"ticks\":\"\"}}}],\"carpet\":[{\"aaxis\":{\"endlinecolor\":\"#2a3f5f\",\"gridcolor\":\"white\",\"linecolor\":\"white\",\"minorgridcolor\":\"white\",\"startlinecolor\":\"#2a3f5f\"},\"baxis\":{\"endlinecolor\":\"#2a3f5f\",\"gridcolor\":\"white\",\"linecolor\":\"white\",\"minorgridcolor\":\"white\",\"startlinecolor\":\"#2a3f5f\"},\"type\":\"carpet\"}],\"table\":[{\"cells\":{\"fill\":{\"color\":\"#EBF0F8\"},\"line\":{\"color\":\"white\"}},\"header\":{\"fill\":{\"color\":\"#C8D4E3\"},\"line\":{\"color\":\"white\"}},\"type\":\"table\"}],\"barpolar\":[{\"marker\":{\"line\":{\"color\":\"#E5ECF6\",\"width\":0.5},\"pattern\":{\"fillmode\":\"overlay\",\"size\":10,\"solidity\":0.2}},\"type\":\"barpolar\"}],\"pie\":[{\"automargin\":true,\"type\":\"pie\"}]},\"layout\":{\"autotypenumbers\":\"strict\",\"colorway\":[\"#636efa\",\"#EF553B\",\"#00cc96\",\"#ab63fa\",\"#FFA15A\",\"#19d3f3\",\"#FF6692\",\"#B6E880\",\"#FF97FF\",\"#FECB52\"],\"font\":{\"color\":\"#2a3f5f\"},\"hovermode\":\"closest\",\"hoverlabel\":{\"align\":\"left\"},\"paper_bgcolor\":\"white\",\"plot_bgcolor\":\"#E5ECF6\",\"polar\":{\"bgcolor\":\"#E5ECF6\",\"angularaxis\":{\"gridcolor\":\"white\",\"linecolor\":\"white\",\"ticks\":\"\"},\"radialaxis\":{\"gridcolor\":\"white\",\"linecolor\":\"white\",\"ticks\":\"\"}},\"ternary\":{\"bgcolor\":\"#E5ECF6\",\"aaxis\":{\"gridcolor\":\"white\",\"linecolor\":\"white\",\"ticks\":\"\"},\"baxis\":{\"gridcolor\":\"white\",\"linecolor\":\"white\",\"ticks\":\"\"},\"caxis\":{\"gridcolor\":\"white\",\"linecolor\":\"white\",\"ticks\":\"\"}},\"coloraxis\":{\"colorbar\":{\"outlinewidth\":0,\"ticks\":\"\"}},\"colorscale\":{\"sequential\":[[0.0,\"#0d0887\"],[0.1111111111111111,\"#46039f\"],[0.2222222222222222,\"#7201a8\"],[0.3333333333333333,\"#9c179e\"],[0.4444444444444444,\"#bd3786\"],[0.5555555555555556,\"#d8576b\"],[0.6666666666666666,\"#ed7953\"],[0.7777777777777778,\"#fb9f3a\"],[0.8888888888888888,\"#fdca26\"],[1.0,\"#f0f921\"]],\"sequentialminus\":[[0.0,\"#0d0887\"],[0.1111111111111111,\"#46039f\"],[0.2222222222222222,\"#7201a8\"],[0.3333333333333333,\"#9c179e\"],[0.4444444444444444,\"#bd3786\"],[0.5555555555555556,\"#d8576b\"],[0.6666666666666666,\"#ed7953\"],[0.7777777777777778,\"#fb9f3a\"],[0.8888888888888888,\"#fdca26\"],[1.0,\"#f0f921\"]],\"diverging\":[[0,\"#8e0152\"],[0.1,\"#c51b7d\"],[0.2,\"#de77ae\"],[0.3,\"#f1b6da\"],[0.4,\"#fde0ef\"],[0.5,\"#f7f7f7\"],[0.6,\"#e6f5d0\"],[0.7,\"#b8e186\"],[0.8,\"#7fbc41\"],[0.9,\"#4d9221\"],[1,\"#276419\"]]},\"xaxis\":{\"gridcolor\":\"white\",\"linecolor\":\"white\",\"ticks\":\"\",\"title\":{\"standoff\":15},\"zerolinecolor\":\"white\",\"automargin\":true,\"zerolinewidth\":2},\"yaxis\":{\"gridcolor\":\"white\",\"linecolor\":\"white\",\"ticks\":\"\",\"title\":{\"standoff\":15},\"zerolinecolor\":\"white\",\"automargin\":true,\"zerolinewidth\":2},\"scene\":{\"xaxis\":{\"backgroundcolor\":\"#E5ECF6\",\"gridcolor\":\"white\",\"linecolor\":\"white\",\"showbackground\":true,\"ticks\":\"\",\"zerolinecolor\":\"white\",\"gridwidth\":2},\"yaxis\":{\"backgroundcolor\":\"#E5ECF6\",\"gridcolor\":\"white\",\"linecolor\":\"white\",\"showbackground\":true,\"ticks\":\"\",\"zerolinecolor\":\"white\",\"gridwidth\":2},\"zaxis\":{\"backgroundcolor\":\"#E5ECF6\",\"gridcolor\":\"white\",\"linecolor\":\"white\",\"showbackground\":true,\"ticks\":\"\",\"zerolinecolor\":\"white\",\"gridwidth\":2}},\"shapedefaults\":{\"line\":{\"color\":\"#2a3f5f\"}},\"annotationdefaults\":{\"arrowcolor\":\"#2a3f5f\",\"arrowhead\":0,\"arrowwidth\":1},\"geo\":{\"bgcolor\":\"white\",\"landcolor\":\"#E5ECF6\",\"subunitcolor\":\"white\",\"showland\":true,\"showlakes\":true,\"lakecolor\":\"white\"},\"title\":{\"x\":0.05},\"mapbox\":{\"style\":\"light\"}}},\"legend\":{\"tracegroupgap\":0},\"title\":{\"text\":\"정보제공 페이지를 누르지 않은 사람들의 '투자하기' 클릭률\"}},                        {\"responsive\": true}                    ).then(function(){\n",
       "                            \n",
       "var gd = document.getElementById('467e3f70-c16f-4934-9d41-d87ce160d87c');\n",
       "var x = new MutationObserver(function (mutations, observer) {{\n",
       "        var display = window.getComputedStyle(gd).display;\n",
       "        if (!display || display === 'none') {{\n",
       "            console.log([gd, 'removed!']);\n",
       "            Plotly.purge(gd);\n",
       "            observer.disconnect();\n",
       "        }}\n",
       "}});\n",
       "\n",
       "// Listen for the removal of the full notebook cells\n",
       "var notebookContainer = gd.closest('#notebook-container');\n",
       "if (notebookContainer) {{\n",
       "    x.observe(notebookContainer, {childList: true});\n",
       "}}\n",
       "\n",
       "// Listen for the clearing of the current output cell\n",
       "var outputEl = gd.closest('.output');\n",
       "if (outputEl) {{\n",
       "    x.observe(outputEl, {childList: true});\n",
       "}}\n",
       "\n",
       "                        })                };                });            </script>        </div>"
      ]
     },
     "metadata": {},
     "output_type": "display_data"
    }
   ],
   "source": [
    "not_info_click = my_df[~my_df['is_info']]\n",
    "\n",
    "fig = px.pie(not_info_click, names=\"is_invest\", title=\"정보제공 페이지를 누르지 않은 사람들의 '투자하기' 클릭률\")\n",
    "\n",
    "fig.show()"
   ]
  },
  {
   "cell_type": "code",
   "execution_count": 149,
   "metadata": {},
   "outputs": [
    {
     "data": {
      "application/vnd.plotly.v1+json": {
       "config": {
        "plotlyServerURL": "https://plot.ly"
       },
       "data": [
        {
         "hovertemplate": "variable=is_info<br>index=%{x}<br>value=%{y}<extra></extra>",
         "legendgroup": "is_info",
         "marker": {
          "color": "#f58220",
          "symbol": "circle"
         },
         "mode": "markers",
         "name": "is_info",
         "orientation": "v",
         "showlegend": true,
         "type": "scatter",
         "x": [
          0,
          1,
          2,
          3,
          4,
          5,
          6,
          7,
          8,
          9,
          10,
          11,
          12,
          13,
          14,
          15,
          16,
          17,
          18,
          19,
          20,
          21,
          22,
          23,
          24,
          25,
          26,
          27,
          28,
          29,
          30,
          31,
          32,
          33,
          34,
          35,
          36,
          37,
          38,
          39,
          40,
          41,
          42,
          43,
          44,
          45,
          46,
          47,
          48,
          49,
          50,
          51,
          52,
          53,
          54,
          55,
          56,
          57,
          58,
          59,
          60,
          61,
          62,
          63,
          64,
          65,
          66,
          67,
          68,
          69,
          70,
          71,
          72,
          73,
          74,
          75,
          76,
          77,
          78,
          79,
          80,
          81,
          82,
          83,
          84,
          85,
          86,
          87,
          88,
          89,
          90,
          91,
          92,
          93,
          94,
          95,
          96,
          97,
          98,
          99,
          100,
          101,
          102,
          103,
          104,
          105,
          106,
          107,
          108,
          109,
          110,
          111,
          112,
          113,
          114,
          115,
          116,
          117,
          118,
          119,
          120,
          121,
          122,
          123,
          124,
          125,
          126,
          127,
          128,
          129,
          130,
          131,
          132,
          133,
          134,
          135,
          136,
          137,
          138,
          139,
          140,
          141,
          142,
          143,
          144,
          145,
          146,
          147,
          148,
          149,
          150,
          151,
          152,
          153,
          154,
          155,
          156,
          157,
          158,
          159,
          160,
          161,
          162,
          163,
          164,
          165,
          166,
          167,
          168,
          169,
          170,
          171,
          172,
          173,
          174,
          175,
          176,
          177,
          178,
          179,
          180,
          181,
          182,
          183,
          184,
          185,
          186,
          187,
          188,
          189,
          190,
          191,
          192,
          193,
          194,
          195,
          196,
          197,
          198,
          199,
          200,
          201,
          202,
          203,
          204,
          205,
          206,
          207,
          208,
          209,
          210,
          211,
          212,
          213,
          214,
          215,
          216,
          217,
          218,
          219,
          220,
          221,
          222,
          223,
          224,
          225,
          226,
          227,
          228,
          229,
          230,
          231,
          232,
          233,
          234,
          235,
          236,
          237,
          238,
          239,
          240,
          241,
          242,
          243,
          244,
          245,
          246,
          247,
          248,
          249,
          250,
          251,
          252,
          253,
          254,
          255,
          256,
          257,
          258,
          259,
          260,
          261,
          262,
          263,
          264,
          265,
          266,
          267,
          268,
          269,
          270,
          271,
          272,
          273,
          274,
          275,
          276,
          277,
          278,
          279,
          280,
          281,
          282,
          283,
          284,
          285,
          286,
          287,
          288,
          289,
          290,
          291,
          292,
          293,
          294,
          295,
          296,
          297,
          298,
          299,
          300,
          301,
          302,
          303,
          304,
          305,
          306,
          307,
          308,
          309,
          310,
          311,
          312,
          313,
          314,
          315,
          316,
          317,
          318,
          319,
          320,
          321,
          322,
          323,
          324,
          325,
          326,
          327,
          328,
          329,
          330,
          331,
          332,
          333,
          334,
          335,
          336,
          337,
          338,
          339,
          340,
          341,
          342,
          343,
          344,
          345,
          346,
          347,
          348,
          349,
          350,
          351,
          352,
          353,
          354,
          355,
          356,
          357,
          358,
          359,
          360,
          361,
          362,
          363,
          364,
          365,
          366,
          367,
          368,
          369,
          370,
          371,
          372,
          373,
          374,
          375,
          376,
          377,
          378,
          379,
          380,
          381,
          382,
          383,
          384,
          385,
          386,
          387,
          388,
          389,
          390,
          391,
          392,
          393,
          394,
          395,
          396
         ],
         "xaxis": "x",
         "y": [
          false,
          true,
          true,
          true,
          false,
          false,
          false,
          false,
          true,
          true,
          false,
          false,
          true,
          false,
          false,
          false,
          false,
          true,
          true,
          true,
          false,
          false,
          false,
          false,
          true,
          true,
          true,
          true,
          true,
          false,
          false,
          false,
          false,
          true,
          false,
          false,
          false,
          false,
          false,
          true,
          false,
          true,
          true,
          true,
          true,
          false,
          true,
          false,
          true,
          false,
          false,
          true,
          false,
          false,
          true,
          false,
          false,
          true,
          false,
          false,
          true,
          true,
          false,
          false,
          false,
          true,
          false,
          false,
          false,
          false,
          true,
          false,
          false,
          false,
          true,
          false,
          false,
          true,
          true,
          false,
          false,
          false,
          false,
          false,
          true,
          false,
          false,
          false,
          false,
          false,
          false,
          true,
          false,
          false,
          false,
          false,
          false,
          false,
          false,
          false,
          false,
          true,
          false,
          false,
          false,
          false,
          true,
          false,
          false,
          false,
          false,
          false,
          false,
          false,
          false,
          true,
          false,
          true,
          false,
          false,
          true,
          true,
          true,
          false,
          true,
          false,
          false,
          true,
          true,
          false,
          false,
          true,
          false,
          false,
          false,
          false,
          false,
          false,
          false,
          true,
          true,
          false,
          false,
          false,
          true,
          false,
          true,
          false,
          false,
          true,
          false,
          true,
          true,
          true,
          false,
          false,
          true,
          false,
          true,
          true,
          false,
          false,
          true,
          false,
          false,
          false,
          true,
          false,
          false,
          false,
          false,
          false,
          false,
          true,
          true,
          false,
          true,
          false,
          false,
          false,
          true,
          false,
          false,
          false,
          true,
          false,
          true,
          false,
          false,
          true,
          false,
          false,
          true,
          true,
          false,
          true,
          false,
          true,
          true,
          true,
          true,
          true,
          false,
          false,
          true,
          false,
          false,
          false,
          false,
          false,
          true,
          false,
          true,
          true,
          false,
          false,
          true,
          true,
          false,
          false,
          true,
          false,
          false,
          true,
          false,
          true,
          true,
          true,
          true,
          false,
          false,
          false,
          false,
          false,
          false,
          false,
          true,
          false,
          false,
          false,
          false,
          false,
          false,
          false,
          true,
          false,
          true,
          true,
          false,
          false,
          true,
          true,
          false,
          false,
          false,
          false,
          false,
          true,
          false,
          false,
          true,
          true,
          false,
          true,
          false,
          true,
          false,
          false,
          false,
          true,
          false,
          false,
          false,
          false,
          false,
          true,
          true,
          false,
          true,
          false,
          false,
          true,
          false,
          false,
          false,
          false,
          false,
          false,
          true,
          true,
          false,
          false,
          false,
          false,
          false,
          false,
          true,
          false,
          false,
          true,
          false,
          false,
          false,
          false,
          false,
          false,
          false,
          false,
          true,
          false,
          false,
          false,
          false,
          false,
          false,
          false,
          false,
          false,
          false,
          false,
          true,
          true,
          true,
          true,
          true,
          false,
          false,
          false,
          true,
          false,
          false,
          false,
          false,
          false,
          false,
          false,
          false,
          true,
          false,
          false,
          true,
          false,
          false,
          true,
          false,
          false,
          true,
          false,
          true,
          false,
          false,
          false,
          false,
          false,
          false,
          false,
          false,
          true,
          false,
          true,
          false,
          false,
          false,
          false,
          true,
          false,
          false,
          false,
          false,
          false,
          false,
          true,
          false,
          false,
          true,
          true,
          false,
          true,
          false,
          false,
          true,
          true,
          false,
          false,
          false,
          false,
          false,
          false,
          false,
          false,
          false,
          true,
          true,
          true,
          false,
          false,
          true
         ],
         "yaxis": "y"
        },
        {
         "hovertemplate": "variable=is_invest<br>index=%{x}<br>value=%{y}<extra></extra>",
         "legendgroup": "is_invest",
         "marker": {
          "color": "#a3a3a3",
          "symbol": "circle"
         },
         "mode": "markers",
         "name": "is_invest",
         "orientation": "v",
         "showlegend": true,
         "type": "scatter",
         "x": [
          0,
          1,
          2,
          3,
          4,
          5,
          6,
          7,
          8,
          9,
          10,
          11,
          12,
          13,
          14,
          15,
          16,
          17,
          18,
          19,
          20,
          21,
          22,
          23,
          24,
          25,
          26,
          27,
          28,
          29,
          30,
          31,
          32,
          33,
          34,
          35,
          36,
          37,
          38,
          39,
          40,
          41,
          42,
          43,
          44,
          45,
          46,
          47,
          48,
          49,
          50,
          51,
          52,
          53,
          54,
          55,
          56,
          57,
          58,
          59,
          60,
          61,
          62,
          63,
          64,
          65,
          66,
          67,
          68,
          69,
          70,
          71,
          72,
          73,
          74,
          75,
          76,
          77,
          78,
          79,
          80,
          81,
          82,
          83,
          84,
          85,
          86,
          87,
          88,
          89,
          90,
          91,
          92,
          93,
          94,
          95,
          96,
          97,
          98,
          99,
          100,
          101,
          102,
          103,
          104,
          105,
          106,
          107,
          108,
          109,
          110,
          111,
          112,
          113,
          114,
          115,
          116,
          117,
          118,
          119,
          120,
          121,
          122,
          123,
          124,
          125,
          126,
          127,
          128,
          129,
          130,
          131,
          132,
          133,
          134,
          135,
          136,
          137,
          138,
          139,
          140,
          141,
          142,
          143,
          144,
          145,
          146,
          147,
          148,
          149,
          150,
          151,
          152,
          153,
          154,
          155,
          156,
          157,
          158,
          159,
          160,
          161,
          162,
          163,
          164,
          165,
          166,
          167,
          168,
          169,
          170,
          171,
          172,
          173,
          174,
          175,
          176,
          177,
          178,
          179,
          180,
          181,
          182,
          183,
          184,
          185,
          186,
          187,
          188,
          189,
          190,
          191,
          192,
          193,
          194,
          195,
          196,
          197,
          198,
          199,
          200,
          201,
          202,
          203,
          204,
          205,
          206,
          207,
          208,
          209,
          210,
          211,
          212,
          213,
          214,
          215,
          216,
          217,
          218,
          219,
          220,
          221,
          222,
          223,
          224,
          225,
          226,
          227,
          228,
          229,
          230,
          231,
          232,
          233,
          234,
          235,
          236,
          237,
          238,
          239,
          240,
          241,
          242,
          243,
          244,
          245,
          246,
          247,
          248,
          249,
          250,
          251,
          252,
          253,
          254,
          255,
          256,
          257,
          258,
          259,
          260,
          261,
          262,
          263,
          264,
          265,
          266,
          267,
          268,
          269,
          270,
          271,
          272,
          273,
          274,
          275,
          276,
          277,
          278,
          279,
          280,
          281,
          282,
          283,
          284,
          285,
          286,
          287,
          288,
          289,
          290,
          291,
          292,
          293,
          294,
          295,
          296,
          297,
          298,
          299,
          300,
          301,
          302,
          303,
          304,
          305,
          306,
          307,
          308,
          309,
          310,
          311,
          312,
          313,
          314,
          315,
          316,
          317,
          318,
          319,
          320,
          321,
          322,
          323,
          324,
          325,
          326,
          327,
          328,
          329,
          330,
          331,
          332,
          333,
          334,
          335,
          336,
          337,
          338,
          339,
          340,
          341,
          342,
          343,
          344,
          345,
          346,
          347,
          348,
          349,
          350,
          351,
          352,
          353,
          354,
          355,
          356,
          357,
          358,
          359,
          360,
          361,
          362,
          363,
          364,
          365,
          366,
          367,
          368,
          369,
          370,
          371,
          372,
          373,
          374,
          375,
          376,
          377,
          378,
          379,
          380,
          381,
          382,
          383,
          384,
          385,
          386,
          387,
          388,
          389,
          390,
          391,
          392,
          393,
          394,
          395,
          396
         ],
         "xaxis": "x",
         "y": [
          false,
          true,
          false,
          false,
          false,
          false,
          false,
          false,
          true,
          true,
          false,
          false,
          false,
          false,
          false,
          false,
          false,
          true,
          true,
          false,
          false,
          true,
          false,
          false,
          true,
          false,
          false,
          true,
          false,
          false,
          false,
          false,
          true,
          false,
          false,
          false,
          false,
          false,
          false,
          false,
          true,
          false,
          true,
          false,
          false,
          false,
          true,
          true,
          false,
          false,
          false,
          false,
          false,
          true,
          true,
          false,
          false,
          false,
          false,
          true,
          false,
          true,
          false,
          false,
          true,
          false,
          true,
          true,
          false,
          false,
          false,
          true,
          false,
          false,
          false,
          false,
          false,
          false,
          false,
          false,
          false,
          false,
          true,
          false,
          true,
          true,
          false,
          false,
          false,
          true,
          false,
          true,
          false,
          false,
          false,
          false,
          false,
          false,
          false,
          false,
          false,
          false,
          false,
          false,
          false,
          false,
          false,
          true,
          false,
          true,
          false,
          false,
          true,
          false,
          true,
          false,
          false,
          false,
          false,
          true,
          true,
          true,
          false,
          false,
          false,
          false,
          false,
          false,
          true,
          true,
          false,
          true,
          false,
          true,
          false,
          false,
          false,
          false,
          false,
          false,
          false,
          false,
          false,
          false,
          false,
          false,
          false,
          false,
          false,
          true,
          false,
          false,
          true,
          false,
          false,
          true,
          true,
          false,
          true,
          false,
          false,
          false,
          false,
          false,
          false,
          false,
          false,
          true,
          false,
          false,
          false,
          false,
          true,
          true,
          true,
          false,
          true,
          false,
          false,
          false,
          false,
          false,
          false,
          true,
          false,
          false,
          false,
          false,
          false,
          false,
          false,
          true,
          false,
          true,
          true,
          true,
          true,
          false,
          true,
          true,
          true,
          true,
          false,
          false,
          true,
          false,
          true,
          false,
          true,
          false,
          false,
          false,
          false,
          false,
          false,
          false,
          false,
          false,
          false,
          false,
          false,
          false,
          true,
          true,
          false,
          false,
          false,
          true,
          true,
          false,
          false,
          true,
          false,
          false,
          false,
          true,
          false,
          false,
          false,
          false,
          false,
          false,
          false,
          false,
          true,
          false,
          false,
          false,
          false,
          false,
          false,
          false,
          false,
          false,
          true,
          true,
          true,
          true,
          true,
          false,
          true,
          true,
          true,
          false,
          false,
          false,
          false,
          true,
          false,
          false,
          false,
          false,
          false,
          false,
          false,
          true,
          false,
          false,
          false,
          false,
          false,
          false,
          false,
          true,
          true,
          false,
          false,
          false,
          true,
          false,
          false,
          false,
          true,
          true,
          false,
          false,
          false,
          false,
          false,
          true,
          false,
          true,
          false,
          true,
          false,
          true,
          false,
          false,
          false,
          false,
          false,
          true,
          true,
          false,
          false,
          false,
          false,
          false,
          false,
          false,
          false,
          false,
          false,
          true,
          true,
          false,
          true,
          false,
          false,
          false,
          false,
          false,
          false,
          false,
          true,
          false,
          false,
          false,
          false,
          false,
          false,
          false,
          false,
          true,
          false,
          false,
          false,
          false,
          false,
          true,
          false,
          false,
          false,
          false,
          false,
          false,
          false,
          false,
          false,
          true,
          false,
          false,
          false,
          false,
          false,
          false,
          false,
          false,
          false,
          false,
          true,
          false,
          false,
          false,
          true,
          false,
          false,
          false,
          true,
          false,
          true,
          false,
          false,
          true,
          false,
          false,
          false,
          false,
          false,
          false,
          false,
          false,
          true,
          true,
          false,
          true,
          true
         ],
         "yaxis": "y"
        }
       ],
       "layout": {
        "legend": {
         "title": {
          "text": "variable"
         },
         "tracegroupgap": 0
        },
        "template": {
         "data": {
          "bar": [
           {
            "error_x": {
             "color": "rgb(36,36,36)"
            },
            "error_y": {
             "color": "rgb(36,36,36)"
            },
            "marker": {
             "line": {
              "color": "white",
              "width": 0.5
             },
             "pattern": {
              "fillmode": "overlay",
              "size": 10,
              "solidity": 0.2
             }
            },
            "type": "bar"
           }
          ],
          "barpolar": [
           {
            "marker": {
             "line": {
              "color": "white",
              "width": 0.5
             },
             "pattern": {
              "fillmode": "overlay",
              "size": 10,
              "solidity": 0.2
             }
            },
            "type": "barpolar"
           }
          ],
          "carpet": [
           {
            "aaxis": {
             "endlinecolor": "rgb(36,36,36)",
             "gridcolor": "white",
             "linecolor": "white",
             "minorgridcolor": "white",
             "startlinecolor": "rgb(36,36,36)"
            },
            "baxis": {
             "endlinecolor": "rgb(36,36,36)",
             "gridcolor": "white",
             "linecolor": "white",
             "minorgridcolor": "white",
             "startlinecolor": "rgb(36,36,36)"
            },
            "type": "carpet"
           }
          ],
          "choropleth": [
           {
            "colorbar": {
             "outlinewidth": 1,
             "tickcolor": "rgb(36,36,36)",
             "ticks": "outside"
            },
            "type": "choropleth"
           }
          ],
          "contour": [
           {
            "colorbar": {
             "outlinewidth": 1,
             "tickcolor": "rgb(36,36,36)",
             "ticks": "outside"
            },
            "colorscale": [
             [
              0,
              "#440154"
             ],
             [
              0.1111111111111111,
              "#482878"
             ],
             [
              0.2222222222222222,
              "#3e4989"
             ],
             [
              0.3333333333333333,
              "#31688e"
             ],
             [
              0.4444444444444444,
              "#26828e"
             ],
             [
              0.5555555555555556,
              "#1f9e89"
             ],
             [
              0.6666666666666666,
              "#35b779"
             ],
             [
              0.7777777777777778,
              "#6ece58"
             ],
             [
              0.8888888888888888,
              "#b5de2b"
             ],
             [
              1,
              "#fde725"
             ]
            ],
            "type": "contour"
           }
          ],
          "contourcarpet": [
           {
            "colorbar": {
             "outlinewidth": 1,
             "tickcolor": "rgb(36,36,36)",
             "ticks": "outside"
            },
            "type": "contourcarpet"
           }
          ],
          "heatmap": [
           {
            "colorbar": {
             "outlinewidth": 1,
             "tickcolor": "rgb(36,36,36)",
             "ticks": "outside"
            },
            "colorscale": [
             [
              0,
              "#440154"
             ],
             [
              0.1111111111111111,
              "#482878"
             ],
             [
              0.2222222222222222,
              "#3e4989"
             ],
             [
              0.3333333333333333,
              "#31688e"
             ],
             [
              0.4444444444444444,
              "#26828e"
             ],
             [
              0.5555555555555556,
              "#1f9e89"
             ],
             [
              0.6666666666666666,
              "#35b779"
             ],
             [
              0.7777777777777778,
              "#6ece58"
             ],
             [
              0.8888888888888888,
              "#b5de2b"
             ],
             [
              1,
              "#fde725"
             ]
            ],
            "type": "heatmap"
           }
          ],
          "heatmapgl": [
           {
            "colorbar": {
             "outlinewidth": 1,
             "tickcolor": "rgb(36,36,36)",
             "ticks": "outside"
            },
            "colorscale": [
             [
              0,
              "#440154"
             ],
             [
              0.1111111111111111,
              "#482878"
             ],
             [
              0.2222222222222222,
              "#3e4989"
             ],
             [
              0.3333333333333333,
              "#31688e"
             ],
             [
              0.4444444444444444,
              "#26828e"
             ],
             [
              0.5555555555555556,
              "#1f9e89"
             ],
             [
              0.6666666666666666,
              "#35b779"
             ],
             [
              0.7777777777777778,
              "#6ece58"
             ],
             [
              0.8888888888888888,
              "#b5de2b"
             ],
             [
              1,
              "#fde725"
             ]
            ],
            "type": "heatmapgl"
           }
          ],
          "histogram": [
           {
            "marker": {
             "line": {
              "color": "white",
              "width": 0.6
             }
            },
            "type": "histogram"
           }
          ],
          "histogram2d": [
           {
            "colorbar": {
             "outlinewidth": 1,
             "tickcolor": "rgb(36,36,36)",
             "ticks": "outside"
            },
            "colorscale": [
             [
              0,
              "#440154"
             ],
             [
              0.1111111111111111,
              "#482878"
             ],
             [
              0.2222222222222222,
              "#3e4989"
             ],
             [
              0.3333333333333333,
              "#31688e"
             ],
             [
              0.4444444444444444,
              "#26828e"
             ],
             [
              0.5555555555555556,
              "#1f9e89"
             ],
             [
              0.6666666666666666,
              "#35b779"
             ],
             [
              0.7777777777777778,
              "#6ece58"
             ],
             [
              0.8888888888888888,
              "#b5de2b"
             ],
             [
              1,
              "#fde725"
             ]
            ],
            "type": "histogram2d"
           }
          ],
          "histogram2dcontour": [
           {
            "colorbar": {
             "outlinewidth": 1,
             "tickcolor": "rgb(36,36,36)",
             "ticks": "outside"
            },
            "colorscale": [
             [
              0,
              "#440154"
             ],
             [
              0.1111111111111111,
              "#482878"
             ],
             [
              0.2222222222222222,
              "#3e4989"
             ],
             [
              0.3333333333333333,
              "#31688e"
             ],
             [
              0.4444444444444444,
              "#26828e"
             ],
             [
              0.5555555555555556,
              "#1f9e89"
             ],
             [
              0.6666666666666666,
              "#35b779"
             ],
             [
              0.7777777777777778,
              "#6ece58"
             ],
             [
              0.8888888888888888,
              "#b5de2b"
             ],
             [
              1,
              "#fde725"
             ]
            ],
            "type": "histogram2dcontour"
           }
          ],
          "mesh3d": [
           {
            "colorbar": {
             "outlinewidth": 1,
             "tickcolor": "rgb(36,36,36)",
             "ticks": "outside"
            },
            "type": "mesh3d"
           }
          ],
          "parcoords": [
           {
            "line": {
             "colorbar": {
              "outlinewidth": 1,
              "tickcolor": "rgb(36,36,36)",
              "ticks": "outside"
             }
            },
            "type": "parcoords"
           }
          ],
          "pie": [
           {
            "automargin": true,
            "type": "pie"
           }
          ],
          "scatter": [
           {
            "fillpattern": {
             "fillmode": "overlay",
             "size": 10,
             "solidity": 0.2
            },
            "type": "scatter"
           }
          ],
          "scatter3d": [
           {
            "line": {
             "colorbar": {
              "outlinewidth": 1,
              "tickcolor": "rgb(36,36,36)",
              "ticks": "outside"
             }
            },
            "marker": {
             "colorbar": {
              "outlinewidth": 1,
              "tickcolor": "rgb(36,36,36)",
              "ticks": "outside"
             }
            },
            "type": "scatter3d"
           }
          ],
          "scattercarpet": [
           {
            "marker": {
             "colorbar": {
              "outlinewidth": 1,
              "tickcolor": "rgb(36,36,36)",
              "ticks": "outside"
             }
            },
            "type": "scattercarpet"
           }
          ],
          "scattergeo": [
           {
            "marker": {
             "colorbar": {
              "outlinewidth": 1,
              "tickcolor": "rgb(36,36,36)",
              "ticks": "outside"
             }
            },
            "type": "scattergeo"
           }
          ],
          "scattergl": [
           {
            "marker": {
             "colorbar": {
              "outlinewidth": 1,
              "tickcolor": "rgb(36,36,36)",
              "ticks": "outside"
             }
            },
            "type": "scattergl"
           }
          ],
          "scattermapbox": [
           {
            "marker": {
             "colorbar": {
              "outlinewidth": 1,
              "tickcolor": "rgb(36,36,36)",
              "ticks": "outside"
             }
            },
            "type": "scattermapbox"
           }
          ],
          "scatterpolar": [
           {
            "marker": {
             "colorbar": {
              "outlinewidth": 1,
              "tickcolor": "rgb(36,36,36)",
              "ticks": "outside"
             }
            },
            "type": "scatterpolar"
           }
          ],
          "scatterpolargl": [
           {
            "marker": {
             "colorbar": {
              "outlinewidth": 1,
              "tickcolor": "rgb(36,36,36)",
              "ticks": "outside"
             }
            },
            "type": "scatterpolargl"
           }
          ],
          "scatterternary": [
           {
            "marker": {
             "colorbar": {
              "outlinewidth": 1,
              "tickcolor": "rgb(36,36,36)",
              "ticks": "outside"
             }
            },
            "type": "scatterternary"
           }
          ],
          "surface": [
           {
            "colorbar": {
             "outlinewidth": 1,
             "tickcolor": "rgb(36,36,36)",
             "ticks": "outside"
            },
            "colorscale": [
             [
              0,
              "#440154"
             ],
             [
              0.1111111111111111,
              "#482878"
             ],
             [
              0.2222222222222222,
              "#3e4989"
             ],
             [
              0.3333333333333333,
              "#31688e"
             ],
             [
              0.4444444444444444,
              "#26828e"
             ],
             [
              0.5555555555555556,
              "#1f9e89"
             ],
             [
              0.6666666666666666,
              "#35b779"
             ],
             [
              0.7777777777777778,
              "#6ece58"
             ],
             [
              0.8888888888888888,
              "#b5de2b"
             ],
             [
              1,
              "#fde725"
             ]
            ],
            "type": "surface"
           }
          ],
          "table": [
           {
            "cells": {
             "fill": {
              "color": "rgb(237,237,237)"
             },
             "line": {
              "color": "white"
             }
            },
            "header": {
             "fill": {
              "color": "rgb(217,217,217)"
             },
             "line": {
              "color": "white"
             }
            },
            "type": "table"
           }
          ]
         },
         "layout": {
          "annotationdefaults": {
           "arrowhead": 0,
           "arrowwidth": 1
          },
          "autotypenumbers": "strict",
          "coloraxis": {
           "colorbar": {
            "outlinewidth": 1,
            "tickcolor": "rgb(36,36,36)",
            "ticks": "outside"
           }
          },
          "colorscale": {
           "diverging": [
            [
             0,
             "rgb(103,0,31)"
            ],
            [
             0.1,
             "rgb(178,24,43)"
            ],
            [
             0.2,
             "rgb(214,96,77)"
            ],
            [
             0.3,
             "rgb(244,165,130)"
            ],
            [
             0.4,
             "rgb(253,219,199)"
            ],
            [
             0.5,
             "rgb(247,247,247)"
            ],
            [
             0.6,
             "rgb(209,229,240)"
            ],
            [
             0.7,
             "rgb(146,197,222)"
            ],
            [
             0.8,
             "rgb(67,147,195)"
            ],
            [
             0.9,
             "rgb(33,102,172)"
            ],
            [
             1,
             "rgb(5,48,97)"
            ]
           ],
           "sequential": [
            [
             0,
             "#440154"
            ],
            [
             0.1111111111111111,
             "#482878"
            ],
            [
             0.2222222222222222,
             "#3e4989"
            ],
            [
             0.3333333333333333,
             "#31688e"
            ],
            [
             0.4444444444444444,
             "#26828e"
            ],
            [
             0.5555555555555556,
             "#1f9e89"
            ],
            [
             0.6666666666666666,
             "#35b779"
            ],
            [
             0.7777777777777778,
             "#6ece58"
            ],
            [
             0.8888888888888888,
             "#b5de2b"
            ],
            [
             1,
             "#fde725"
            ]
           ],
           "sequentialminus": [
            [
             0,
             "#440154"
            ],
            [
             0.1111111111111111,
             "#482878"
            ],
            [
             0.2222222222222222,
             "#3e4989"
            ],
            [
             0.3333333333333333,
             "#31688e"
            ],
            [
             0.4444444444444444,
             "#26828e"
            ],
            [
             0.5555555555555556,
             "#1f9e89"
            ],
            [
             0.6666666666666666,
             "#35b779"
            ],
            [
             0.7777777777777778,
             "#6ece58"
            ],
            [
             0.8888888888888888,
             "#b5de2b"
            ],
            [
             1,
             "#fde725"
            ]
           ]
          },
          "colorway": [
           "#1F77B4",
           "#FF7F0E",
           "#2CA02C",
           "#D62728",
           "#9467BD",
           "#8C564B",
           "#E377C2",
           "#7F7F7F",
           "#BCBD22",
           "#17BECF"
          ],
          "font": {
           "color": "rgb(36,36,36)"
          },
          "geo": {
           "bgcolor": "white",
           "lakecolor": "white",
           "landcolor": "white",
           "showlakes": true,
           "showland": true,
           "subunitcolor": "white"
          },
          "hoverlabel": {
           "align": "left"
          },
          "hovermode": "closest",
          "mapbox": {
           "style": "light"
          },
          "paper_bgcolor": "white",
          "plot_bgcolor": "white",
          "polar": {
           "angularaxis": {
            "gridcolor": "rgb(232,232,232)",
            "linecolor": "rgb(36,36,36)",
            "showgrid": false,
            "showline": true,
            "ticks": "outside"
           },
           "bgcolor": "white",
           "radialaxis": {
            "gridcolor": "rgb(232,232,232)",
            "linecolor": "rgb(36,36,36)",
            "showgrid": false,
            "showline": true,
            "ticks": "outside"
           }
          },
          "scene": {
           "xaxis": {
            "backgroundcolor": "white",
            "gridcolor": "rgb(232,232,232)",
            "gridwidth": 2,
            "linecolor": "rgb(36,36,36)",
            "showbackground": true,
            "showgrid": false,
            "showline": true,
            "ticks": "outside",
            "zeroline": false,
            "zerolinecolor": "rgb(36,36,36)"
           },
           "yaxis": {
            "backgroundcolor": "white",
            "gridcolor": "rgb(232,232,232)",
            "gridwidth": 2,
            "linecolor": "rgb(36,36,36)",
            "showbackground": true,
            "showgrid": false,
            "showline": true,
            "ticks": "outside",
            "zeroline": false,
            "zerolinecolor": "rgb(36,36,36)"
           },
           "zaxis": {
            "backgroundcolor": "white",
            "gridcolor": "rgb(232,232,232)",
            "gridwidth": 2,
            "linecolor": "rgb(36,36,36)",
            "showbackground": true,
            "showgrid": false,
            "showline": true,
            "ticks": "outside",
            "zeroline": false,
            "zerolinecolor": "rgb(36,36,36)"
           }
          },
          "shapedefaults": {
           "fillcolor": "black",
           "line": {
            "width": 0
           },
           "opacity": 0.3
          },
          "ternary": {
           "aaxis": {
            "gridcolor": "rgb(232,232,232)",
            "linecolor": "rgb(36,36,36)",
            "showgrid": false,
            "showline": true,
            "ticks": "outside"
           },
           "baxis": {
            "gridcolor": "rgb(232,232,232)",
            "linecolor": "rgb(36,36,36)",
            "showgrid": false,
            "showline": true,
            "ticks": "outside"
           },
           "bgcolor": "white",
           "caxis": {
            "gridcolor": "rgb(232,232,232)",
            "linecolor": "rgb(36,36,36)",
            "showgrid": false,
            "showline": true,
            "ticks": "outside"
           }
          },
          "title": {
           "x": 0.05
          },
          "xaxis": {
           "automargin": true,
           "gridcolor": "rgb(232,232,232)",
           "linecolor": "rgb(36,36,36)",
           "showgrid": false,
           "showline": true,
           "ticks": "outside",
           "title": {
            "standoff": 15
           },
           "zeroline": false,
           "zerolinecolor": "rgb(36,36,36)"
          },
          "yaxis": {
           "automargin": true,
           "gridcolor": "rgb(232,232,232)",
           "linecolor": "rgb(36,36,36)",
           "showgrid": false,
           "showline": true,
           "ticks": "outside",
           "title": {
            "standoff": 15
           },
           "zeroline": false,
           "zerolinecolor": "rgb(36,36,36)"
          }
         }
        },
        "title": {
         "text": "정보제공페이지 클릭 여부와 투자하기 클릭 여부 산점도"
        },
        "xaxis": {
         "anchor": "y",
         "domain": [
          0,
          1
         ],
         "title": {
          "text": "index"
         }
        },
        "yaxis": {
         "anchor": "x",
         "domain": [
          0,
          1
         ],
         "title": {
          "text": "value"
         }
        }
       }
      },
      "text/html": [
       "<div>                            <div id=\"acac58b2-e1c9-4423-9005-91f75070dc92\" class=\"plotly-graph-div\" style=\"height:525px; width:100%;\"></div>            <script type=\"text/javascript\">                require([\"plotly\"], function(Plotly) {                    window.PLOTLYENV=window.PLOTLYENV || {};                                    if (document.getElementById(\"acac58b2-e1c9-4423-9005-91f75070dc92\")) {                    Plotly.newPlot(                        \"acac58b2-e1c9-4423-9005-91f75070dc92\",                        [{\"hovertemplate\":\"variable=is_info\\u003cbr\\u003eindex=%{x}\\u003cbr\\u003evalue=%{y}\\u003cextra\\u003e\\u003c\\u002fextra\\u003e\",\"legendgroup\":\"is_info\",\"marker\":{\"color\":\"#f58220\",\"symbol\":\"circle\"},\"mode\":\"markers\",\"name\":\"is_info\",\"orientation\":\"v\",\"showlegend\":true,\"x\":[0,1,2,3,4,5,6,7,8,9,10,11,12,13,14,15,16,17,18,19,20,21,22,23,24,25,26,27,28,29,30,31,32,33,34,35,36,37,38,39,40,41,42,43,44,45,46,47,48,49,50,51,52,53,54,55,56,57,58,59,60,61,62,63,64,65,66,67,68,69,70,71,72,73,74,75,76,77,78,79,80,81,82,83,84,85,86,87,88,89,90,91,92,93,94,95,96,97,98,99,100,101,102,103,104,105,106,107,108,109,110,111,112,113,114,115,116,117,118,119,120,121,122,123,124,125,126,127,128,129,130,131,132,133,134,135,136,137,138,139,140,141,142,143,144,145,146,147,148,149,150,151,152,153,154,155,156,157,158,159,160,161,162,163,164,165,166,167,168,169,170,171,172,173,174,175,176,177,178,179,180,181,182,183,184,185,186,187,188,189,190,191,192,193,194,195,196,197,198,199,200,201,202,203,204,205,206,207,208,209,210,211,212,213,214,215,216,217,218,219,220,221,222,223,224,225,226,227,228,229,230,231,232,233,234,235,236,237,238,239,240,241,242,243,244,245,246,247,248,249,250,251,252,253,254,255,256,257,258,259,260,261,262,263,264,265,266,267,268,269,270,271,272,273,274,275,276,277,278,279,280,281,282,283,284,285,286,287,288,289,290,291,292,293,294,295,296,297,298,299,300,301,302,303,304,305,306,307,308,309,310,311,312,313,314,315,316,317,318,319,320,321,322,323,324,325,326,327,328,329,330,331,332,333,334,335,336,337,338,339,340,341,342,343,344,345,346,347,348,349,350,351,352,353,354,355,356,357,358,359,360,361,362,363,364,365,366,367,368,369,370,371,372,373,374,375,376,377,378,379,380,381,382,383,384,385,386,387,388,389,390,391,392,393,394,395,396],\"xaxis\":\"x\",\"y\":[false,true,true,true,false,false,false,false,true,true,false,false,true,false,false,false,false,true,true,true,false,false,false,false,true,true,true,true,true,false,false,false,false,true,false,false,false,false,false,true,false,true,true,true,true,false,true,false,true,false,false,true,false,false,true,false,false,true,false,false,true,true,false,false,false,true,false,false,false,false,true,false,false,false,true,false,false,true,true,false,false,false,false,false,true,false,false,false,false,false,false,true,false,false,false,false,false,false,false,false,false,true,false,false,false,false,true,false,false,false,false,false,false,false,false,true,false,true,false,false,true,true,true,false,true,false,false,true,true,false,false,true,false,false,false,false,false,false,false,true,true,false,false,false,true,false,true,false,false,true,false,true,true,true,false,false,true,false,true,true,false,false,true,false,false,false,true,false,false,false,false,false,false,true,true,false,true,false,false,false,true,false,false,false,true,false,true,false,false,true,false,false,true,true,false,true,false,true,true,true,true,true,false,false,true,false,false,false,false,false,true,false,true,true,false,false,true,true,false,false,true,false,false,true,false,true,true,true,true,false,false,false,false,false,false,false,true,false,false,false,false,false,false,false,true,false,true,true,false,false,true,true,false,false,false,false,false,true,false,false,true,true,false,true,false,true,false,false,false,true,false,false,false,false,false,true,true,false,true,false,false,true,false,false,false,false,false,false,true,true,false,false,false,false,false,false,true,false,false,true,false,false,false,false,false,false,false,false,true,false,false,false,false,false,false,false,false,false,false,false,true,true,true,true,true,false,false,false,true,false,false,false,false,false,false,false,false,true,false,false,true,false,false,true,false,false,true,false,true,false,false,false,false,false,false,false,false,true,false,true,false,false,false,false,true,false,false,false,false,false,false,true,false,false,true,true,false,true,false,false,true,true,false,false,false,false,false,false,false,false,false,true,true,true,false,false,true],\"yaxis\":\"y\",\"type\":\"scatter\"},{\"hovertemplate\":\"variable=is_invest\\u003cbr\\u003eindex=%{x}\\u003cbr\\u003evalue=%{y}\\u003cextra\\u003e\\u003c\\u002fextra\\u003e\",\"legendgroup\":\"is_invest\",\"marker\":{\"color\":\"#a3a3a3\",\"symbol\":\"circle\"},\"mode\":\"markers\",\"name\":\"is_invest\",\"orientation\":\"v\",\"showlegend\":true,\"x\":[0,1,2,3,4,5,6,7,8,9,10,11,12,13,14,15,16,17,18,19,20,21,22,23,24,25,26,27,28,29,30,31,32,33,34,35,36,37,38,39,40,41,42,43,44,45,46,47,48,49,50,51,52,53,54,55,56,57,58,59,60,61,62,63,64,65,66,67,68,69,70,71,72,73,74,75,76,77,78,79,80,81,82,83,84,85,86,87,88,89,90,91,92,93,94,95,96,97,98,99,100,101,102,103,104,105,106,107,108,109,110,111,112,113,114,115,116,117,118,119,120,121,122,123,124,125,126,127,128,129,130,131,132,133,134,135,136,137,138,139,140,141,142,143,144,145,146,147,148,149,150,151,152,153,154,155,156,157,158,159,160,161,162,163,164,165,166,167,168,169,170,171,172,173,174,175,176,177,178,179,180,181,182,183,184,185,186,187,188,189,190,191,192,193,194,195,196,197,198,199,200,201,202,203,204,205,206,207,208,209,210,211,212,213,214,215,216,217,218,219,220,221,222,223,224,225,226,227,228,229,230,231,232,233,234,235,236,237,238,239,240,241,242,243,244,245,246,247,248,249,250,251,252,253,254,255,256,257,258,259,260,261,262,263,264,265,266,267,268,269,270,271,272,273,274,275,276,277,278,279,280,281,282,283,284,285,286,287,288,289,290,291,292,293,294,295,296,297,298,299,300,301,302,303,304,305,306,307,308,309,310,311,312,313,314,315,316,317,318,319,320,321,322,323,324,325,326,327,328,329,330,331,332,333,334,335,336,337,338,339,340,341,342,343,344,345,346,347,348,349,350,351,352,353,354,355,356,357,358,359,360,361,362,363,364,365,366,367,368,369,370,371,372,373,374,375,376,377,378,379,380,381,382,383,384,385,386,387,388,389,390,391,392,393,394,395,396],\"xaxis\":\"x\",\"y\":[false,true,false,false,false,false,false,false,true,true,false,false,false,false,false,false,false,true,true,false,false,true,false,false,true,false,false,true,false,false,false,false,true,false,false,false,false,false,false,false,true,false,true,false,false,false,true,true,false,false,false,false,false,true,true,false,false,false,false,true,false,true,false,false,true,false,true,true,false,false,false,true,false,false,false,false,false,false,false,false,false,false,true,false,true,true,false,false,false,true,false,true,false,false,false,false,false,false,false,false,false,false,false,false,false,false,false,true,false,true,false,false,true,false,true,false,false,false,false,true,true,true,false,false,false,false,false,false,true,true,false,true,false,true,false,false,false,false,false,false,false,false,false,false,false,false,false,false,false,true,false,false,true,false,false,true,true,false,true,false,false,false,false,false,false,false,false,true,false,false,false,false,true,true,true,false,true,false,false,false,false,false,false,true,false,false,false,false,false,false,false,true,false,true,true,true,true,false,true,true,true,true,false,false,true,false,true,false,true,false,false,false,false,false,false,false,false,false,false,false,false,false,true,true,false,false,false,true,true,false,false,true,false,false,false,true,false,false,false,false,false,false,false,false,true,false,false,false,false,false,false,false,false,false,true,true,true,true,true,false,true,true,true,false,false,false,false,true,false,false,false,false,false,false,false,true,false,false,false,false,false,false,false,true,true,false,false,false,true,false,false,false,true,true,false,false,false,false,false,true,false,true,false,true,false,true,false,false,false,false,false,true,true,false,false,false,false,false,false,false,false,false,false,true,true,false,true,false,false,false,false,false,false,false,true,false,false,false,false,false,false,false,false,true,false,false,false,false,false,true,false,false,false,false,false,false,false,false,false,true,false,false,false,false,false,false,false,false,false,false,true,false,false,false,true,false,false,false,true,false,true,false,false,true,false,false,false,false,false,false,false,false,true,true,false,true,true],\"yaxis\":\"y\",\"type\":\"scatter\"}],                        {\"template\":{\"data\":{\"barpolar\":[{\"marker\":{\"line\":{\"color\":\"white\",\"width\":0.5},\"pattern\":{\"fillmode\":\"overlay\",\"size\":10,\"solidity\":0.2}},\"type\":\"barpolar\"}],\"bar\":[{\"error_x\":{\"color\":\"rgb(36,36,36)\"},\"error_y\":{\"color\":\"rgb(36,36,36)\"},\"marker\":{\"line\":{\"color\":\"white\",\"width\":0.5},\"pattern\":{\"fillmode\":\"overlay\",\"size\":10,\"solidity\":0.2}},\"type\":\"bar\"}],\"carpet\":[{\"aaxis\":{\"endlinecolor\":\"rgb(36,36,36)\",\"gridcolor\":\"white\",\"linecolor\":\"white\",\"minorgridcolor\":\"white\",\"startlinecolor\":\"rgb(36,36,36)\"},\"baxis\":{\"endlinecolor\":\"rgb(36,36,36)\",\"gridcolor\":\"white\",\"linecolor\":\"white\",\"minorgridcolor\":\"white\",\"startlinecolor\":\"rgb(36,36,36)\"},\"type\":\"carpet\"}],\"choropleth\":[{\"colorbar\":{\"outlinewidth\":1,\"tickcolor\":\"rgb(36,36,36)\",\"ticks\":\"outside\"},\"type\":\"choropleth\"}],\"contourcarpet\":[{\"colorbar\":{\"outlinewidth\":1,\"tickcolor\":\"rgb(36,36,36)\",\"ticks\":\"outside\"},\"type\":\"contourcarpet\"}],\"contour\":[{\"colorbar\":{\"outlinewidth\":1,\"tickcolor\":\"rgb(36,36,36)\",\"ticks\":\"outside\"},\"colorscale\":[[0.0,\"#440154\"],[0.1111111111111111,\"#482878\"],[0.2222222222222222,\"#3e4989\"],[0.3333333333333333,\"#31688e\"],[0.4444444444444444,\"#26828e\"],[0.5555555555555556,\"#1f9e89\"],[0.6666666666666666,\"#35b779\"],[0.7777777777777778,\"#6ece58\"],[0.8888888888888888,\"#b5de2b\"],[1.0,\"#fde725\"]],\"type\":\"contour\"}],\"heatmapgl\":[{\"colorbar\":{\"outlinewidth\":1,\"tickcolor\":\"rgb(36,36,36)\",\"ticks\":\"outside\"},\"colorscale\":[[0.0,\"#440154\"],[0.1111111111111111,\"#482878\"],[0.2222222222222222,\"#3e4989\"],[0.3333333333333333,\"#31688e\"],[0.4444444444444444,\"#26828e\"],[0.5555555555555556,\"#1f9e89\"],[0.6666666666666666,\"#35b779\"],[0.7777777777777778,\"#6ece58\"],[0.8888888888888888,\"#b5de2b\"],[1.0,\"#fde725\"]],\"type\":\"heatmapgl\"}],\"heatmap\":[{\"colorbar\":{\"outlinewidth\":1,\"tickcolor\":\"rgb(36,36,36)\",\"ticks\":\"outside\"},\"colorscale\":[[0.0,\"#440154\"],[0.1111111111111111,\"#482878\"],[0.2222222222222222,\"#3e4989\"],[0.3333333333333333,\"#31688e\"],[0.4444444444444444,\"#26828e\"],[0.5555555555555556,\"#1f9e89\"],[0.6666666666666666,\"#35b779\"],[0.7777777777777778,\"#6ece58\"],[0.8888888888888888,\"#b5de2b\"],[1.0,\"#fde725\"]],\"type\":\"heatmap\"}],\"histogram2dcontour\":[{\"colorbar\":{\"outlinewidth\":1,\"tickcolor\":\"rgb(36,36,36)\",\"ticks\":\"outside\"},\"colorscale\":[[0.0,\"#440154\"],[0.1111111111111111,\"#482878\"],[0.2222222222222222,\"#3e4989\"],[0.3333333333333333,\"#31688e\"],[0.4444444444444444,\"#26828e\"],[0.5555555555555556,\"#1f9e89\"],[0.6666666666666666,\"#35b779\"],[0.7777777777777778,\"#6ece58\"],[0.8888888888888888,\"#b5de2b\"],[1.0,\"#fde725\"]],\"type\":\"histogram2dcontour\"}],\"histogram2d\":[{\"colorbar\":{\"outlinewidth\":1,\"tickcolor\":\"rgb(36,36,36)\",\"ticks\":\"outside\"},\"colorscale\":[[0.0,\"#440154\"],[0.1111111111111111,\"#482878\"],[0.2222222222222222,\"#3e4989\"],[0.3333333333333333,\"#31688e\"],[0.4444444444444444,\"#26828e\"],[0.5555555555555556,\"#1f9e89\"],[0.6666666666666666,\"#35b779\"],[0.7777777777777778,\"#6ece58\"],[0.8888888888888888,\"#b5de2b\"],[1.0,\"#fde725\"]],\"type\":\"histogram2d\"}],\"histogram\":[{\"marker\":{\"line\":{\"color\":\"white\",\"width\":0.6}},\"type\":\"histogram\"}],\"mesh3d\":[{\"colorbar\":{\"outlinewidth\":1,\"tickcolor\":\"rgb(36,36,36)\",\"ticks\":\"outside\"},\"type\":\"mesh3d\"}],\"parcoords\":[{\"line\":{\"colorbar\":{\"outlinewidth\":1,\"tickcolor\":\"rgb(36,36,36)\",\"ticks\":\"outside\"}},\"type\":\"parcoords\"}],\"pie\":[{\"automargin\":true,\"type\":\"pie\"}],\"scatter3d\":[{\"line\":{\"colorbar\":{\"outlinewidth\":1,\"tickcolor\":\"rgb(36,36,36)\",\"ticks\":\"outside\"}},\"marker\":{\"colorbar\":{\"outlinewidth\":1,\"tickcolor\":\"rgb(36,36,36)\",\"ticks\":\"outside\"}},\"type\":\"scatter3d\"}],\"scattercarpet\":[{\"marker\":{\"colorbar\":{\"outlinewidth\":1,\"tickcolor\":\"rgb(36,36,36)\",\"ticks\":\"outside\"}},\"type\":\"scattercarpet\"}],\"scattergeo\":[{\"marker\":{\"colorbar\":{\"outlinewidth\":1,\"tickcolor\":\"rgb(36,36,36)\",\"ticks\":\"outside\"}},\"type\":\"scattergeo\"}],\"scattergl\":[{\"marker\":{\"colorbar\":{\"outlinewidth\":1,\"tickcolor\":\"rgb(36,36,36)\",\"ticks\":\"outside\"}},\"type\":\"scattergl\"}],\"scattermapbox\":[{\"marker\":{\"colorbar\":{\"outlinewidth\":1,\"tickcolor\":\"rgb(36,36,36)\",\"ticks\":\"outside\"}},\"type\":\"scattermapbox\"}],\"scatterpolargl\":[{\"marker\":{\"colorbar\":{\"outlinewidth\":1,\"tickcolor\":\"rgb(36,36,36)\",\"ticks\":\"outside\"}},\"type\":\"scatterpolargl\"}],\"scatterpolar\":[{\"marker\":{\"colorbar\":{\"outlinewidth\":1,\"tickcolor\":\"rgb(36,36,36)\",\"ticks\":\"outside\"}},\"type\":\"scatterpolar\"}],\"scatter\":[{\"fillpattern\":{\"fillmode\":\"overlay\",\"size\":10,\"solidity\":0.2},\"type\":\"scatter\"}],\"scatterternary\":[{\"marker\":{\"colorbar\":{\"outlinewidth\":1,\"tickcolor\":\"rgb(36,36,36)\",\"ticks\":\"outside\"}},\"type\":\"scatterternary\"}],\"surface\":[{\"colorbar\":{\"outlinewidth\":1,\"tickcolor\":\"rgb(36,36,36)\",\"ticks\":\"outside\"},\"colorscale\":[[0.0,\"#440154\"],[0.1111111111111111,\"#482878\"],[0.2222222222222222,\"#3e4989\"],[0.3333333333333333,\"#31688e\"],[0.4444444444444444,\"#26828e\"],[0.5555555555555556,\"#1f9e89\"],[0.6666666666666666,\"#35b779\"],[0.7777777777777778,\"#6ece58\"],[0.8888888888888888,\"#b5de2b\"],[1.0,\"#fde725\"]],\"type\":\"surface\"}],\"table\":[{\"cells\":{\"fill\":{\"color\":\"rgb(237,237,237)\"},\"line\":{\"color\":\"white\"}},\"header\":{\"fill\":{\"color\":\"rgb(217,217,217)\"},\"line\":{\"color\":\"white\"}},\"type\":\"table\"}]},\"layout\":{\"annotationdefaults\":{\"arrowhead\":0,\"arrowwidth\":1},\"autotypenumbers\":\"strict\",\"coloraxis\":{\"colorbar\":{\"outlinewidth\":1,\"tickcolor\":\"rgb(36,36,36)\",\"ticks\":\"outside\"}},\"colorscale\":{\"diverging\":[[0.0,\"rgb(103,0,31)\"],[0.1,\"rgb(178,24,43)\"],[0.2,\"rgb(214,96,77)\"],[0.3,\"rgb(244,165,130)\"],[0.4,\"rgb(253,219,199)\"],[0.5,\"rgb(247,247,247)\"],[0.6,\"rgb(209,229,240)\"],[0.7,\"rgb(146,197,222)\"],[0.8,\"rgb(67,147,195)\"],[0.9,\"rgb(33,102,172)\"],[1.0,\"rgb(5,48,97)\"]],\"sequential\":[[0.0,\"#440154\"],[0.1111111111111111,\"#482878\"],[0.2222222222222222,\"#3e4989\"],[0.3333333333333333,\"#31688e\"],[0.4444444444444444,\"#26828e\"],[0.5555555555555556,\"#1f9e89\"],[0.6666666666666666,\"#35b779\"],[0.7777777777777778,\"#6ece58\"],[0.8888888888888888,\"#b5de2b\"],[1.0,\"#fde725\"]],\"sequentialminus\":[[0.0,\"#440154\"],[0.1111111111111111,\"#482878\"],[0.2222222222222222,\"#3e4989\"],[0.3333333333333333,\"#31688e\"],[0.4444444444444444,\"#26828e\"],[0.5555555555555556,\"#1f9e89\"],[0.6666666666666666,\"#35b779\"],[0.7777777777777778,\"#6ece58\"],[0.8888888888888888,\"#b5de2b\"],[1.0,\"#fde725\"]]},\"colorway\":[\"#1F77B4\",\"#FF7F0E\",\"#2CA02C\",\"#D62728\",\"#9467BD\",\"#8C564B\",\"#E377C2\",\"#7F7F7F\",\"#BCBD22\",\"#17BECF\"],\"font\":{\"color\":\"rgb(36,36,36)\"},\"geo\":{\"bgcolor\":\"white\",\"lakecolor\":\"white\",\"landcolor\":\"white\",\"showlakes\":true,\"showland\":true,\"subunitcolor\":\"white\"},\"hoverlabel\":{\"align\":\"left\"},\"hovermode\":\"closest\",\"mapbox\":{\"style\":\"light\"},\"paper_bgcolor\":\"white\",\"plot_bgcolor\":\"white\",\"polar\":{\"angularaxis\":{\"gridcolor\":\"rgb(232,232,232)\",\"linecolor\":\"rgb(36,36,36)\",\"showgrid\":false,\"showline\":true,\"ticks\":\"outside\"},\"bgcolor\":\"white\",\"radialaxis\":{\"gridcolor\":\"rgb(232,232,232)\",\"linecolor\":\"rgb(36,36,36)\",\"showgrid\":false,\"showline\":true,\"ticks\":\"outside\"}},\"scene\":{\"xaxis\":{\"backgroundcolor\":\"white\",\"gridcolor\":\"rgb(232,232,232)\",\"gridwidth\":2,\"linecolor\":\"rgb(36,36,36)\",\"showbackground\":true,\"showgrid\":false,\"showline\":true,\"ticks\":\"outside\",\"zeroline\":false,\"zerolinecolor\":\"rgb(36,36,36)\"},\"yaxis\":{\"backgroundcolor\":\"white\",\"gridcolor\":\"rgb(232,232,232)\",\"gridwidth\":2,\"linecolor\":\"rgb(36,36,36)\",\"showbackground\":true,\"showgrid\":false,\"showline\":true,\"ticks\":\"outside\",\"zeroline\":false,\"zerolinecolor\":\"rgb(36,36,36)\"},\"zaxis\":{\"backgroundcolor\":\"white\",\"gridcolor\":\"rgb(232,232,232)\",\"gridwidth\":2,\"linecolor\":\"rgb(36,36,36)\",\"showbackground\":true,\"showgrid\":false,\"showline\":true,\"ticks\":\"outside\",\"zeroline\":false,\"zerolinecolor\":\"rgb(36,36,36)\"}},\"shapedefaults\":{\"fillcolor\":\"black\",\"line\":{\"width\":0},\"opacity\":0.3},\"ternary\":{\"aaxis\":{\"gridcolor\":\"rgb(232,232,232)\",\"linecolor\":\"rgb(36,36,36)\",\"showgrid\":false,\"showline\":true,\"ticks\":\"outside\"},\"baxis\":{\"gridcolor\":\"rgb(232,232,232)\",\"linecolor\":\"rgb(36,36,36)\",\"showgrid\":false,\"showline\":true,\"ticks\":\"outside\"},\"bgcolor\":\"white\",\"caxis\":{\"gridcolor\":\"rgb(232,232,232)\",\"linecolor\":\"rgb(36,36,36)\",\"showgrid\":false,\"showline\":true,\"ticks\":\"outside\"}},\"title\":{\"x\":0.05},\"xaxis\":{\"automargin\":true,\"gridcolor\":\"rgb(232,232,232)\",\"linecolor\":\"rgb(36,36,36)\",\"showgrid\":false,\"showline\":true,\"ticks\":\"outside\",\"title\":{\"standoff\":15},\"zeroline\":false,\"zerolinecolor\":\"rgb(36,36,36)\"},\"yaxis\":{\"automargin\":true,\"gridcolor\":\"rgb(232,232,232)\",\"linecolor\":\"rgb(36,36,36)\",\"showgrid\":false,\"showline\":true,\"ticks\":\"outside\",\"title\":{\"standoff\":15},\"zeroline\":false,\"zerolinecolor\":\"rgb(36,36,36)\"}}},\"xaxis\":{\"anchor\":\"y\",\"domain\":[0.0,1.0],\"title\":{\"text\":\"index\"}},\"yaxis\":{\"anchor\":\"x\",\"domain\":[0.0,1.0],\"title\":{\"text\":\"value\"}},\"legend\":{\"title\":{\"text\":\"variable\"},\"tracegroupgap\":0},\"title\":{\"text\":\"정보제공페이지 클릭 여부와 투자하기 클릭 여부 산점도\"}},                        {\"responsive\": true}                    ).then(function(){\n",
       "                            \n",
       "var gd = document.getElementById('acac58b2-e1c9-4423-9005-91f75070dc92');\n",
       "var x = new MutationObserver(function (mutations, observer) {{\n",
       "        var display = window.getComputedStyle(gd).display;\n",
       "        if (!display || display === 'none') {{\n",
       "            console.log([gd, 'removed!']);\n",
       "            Plotly.purge(gd);\n",
       "            observer.disconnect();\n",
       "        }}\n",
       "}});\n",
       "\n",
       "// Listen for the removal of the full notebook cells\n",
       "var notebookContainer = gd.closest('#notebook-container');\n",
       "if (notebookContainer) {{\n",
       "    x.observe(notebookContainer, {childList: true});\n",
       "}}\n",
       "\n",
       "// Listen for the clearing of the current output cell\n",
       "var outputEl = gd.closest('.output');\n",
       "if (outputEl) {{\n",
       "    x.observe(outputEl, {childList: true});\n",
       "}}\n",
       "\n",
       "                        })                };                });            </script>        </div>"
      ]
     },
     "metadata": {},
     "output_type": "display_data"
    }
   ],
   "source": [
    "fig = px.scatter(my_df[[\"is_info\", \"is_invest\"]],\n",
    "           template=\"simple_white\",\n",
    "           title=\"정보제공페이지 클릭 여부와 투자하기 클릭 여부 산점도\")\n",
    "\n",
    "fig.data[0]['marker']['color'] = \"#f58220\"\n",
    "fig.data[1]['marker']['color'] = \"#a3a3a3\"\n",
    "\n",
    "fig.show()"
   ]
  },
  {
   "cell_type": "code",
   "execution_count": 146,
   "metadata": {},
   "outputs": [
    {
     "data": {
      "text/plain": [
       "'#1F77B4'"
      ]
     },
     "execution_count": 146,
     "metadata": {},
     "output_type": "execute_result"
    }
   ],
   "source": []
  },
  {
   "cell_type": "code",
   "execution_count": null,
   "metadata": {},
   "outputs": [],
   "source": []
  }
 ],
 "metadata": {
  "kernelspec": {
   "display_name": "bt",
   "language": "python",
   "name": "python3"
  },
  "language_info": {
   "codemirror_mode": {
    "name": "ipython",
    "version": 3
   },
   "file_extension": ".py",
   "mimetype": "text/x-python",
   "name": "python",
   "nbconvert_exporter": "python",
   "pygments_lexer": "ipython3",
   "version": "3.10.12"
  },
  "orig_nbformat": 4
 },
 "nbformat": 4,
 "nbformat_minor": 2
}
